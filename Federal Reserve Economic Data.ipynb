{
 "cells": [
  {
   "cell_type": "markdown",
   "metadata": {},
   "source": [
    "### Federal Reserve Economic Data (FRED)\n",
    "\n",
    "The Federal Reserve Economic Data (FRED) is a repository curated by the Federal Reserve Bank of St. Louis. FRED provides access to over 765,000 economic data time series. <br><br>\n",
    "The purpose of this notebook is to show how, using Python to extract and analyse the data, FRED can be an invaluable source of economic data for research. I first explore U.S. Real Median Household Income by State, over the last 20 years. I then use FRED time series T10Y3M (10-Year Treasury Constant Maturity Minus 3-Month Treasury Constant Maturity) and T10Y2Y (10-Year Treasury Constant Maturity Minus 2-Year Treasury Constant Maturity) to  analyse the yield spread. Finally, using Catboost, I demonstate how FRED time series might be used to inform a model to forcast the direction of the movement of the S&P 500 over the next day."
   ]
  },
  {
   "cell_type": "code",
   "execution_count": 3,
   "metadata": {},
   "outputs": [],
   "source": [
    "# import required packages\n",
    "import pandas_datareader.data as web\n",
    "import datetime\n",
    "import matplotlib.pyplot as plt\n",
    "import pandas as pd\n",
    "import pandas_profiling as pp \n",
    "import datapungi_fed as dpf\n",
    "#import plotly.graph_objs as go\n",
    "import plotly\n",
    "import plotly.express as px\n",
    "from sklearn.model_selection import GridSearchCV\n",
    "from catboost import CatBoostRegressor\n",
    "from sklearn.model_selection import RepeatedKFold\n",
    "import plotly.graph_objects as go"
   ]
  },
  {
   "cell_type": "markdown",
   "metadata": {},
   "source": [
    "### Visualizing FRED geospatial data\n",
    "\n",
    "Data can be downloaded from FRED in a format suitable for displaying in a shapefile; this allows a FRED time series to be visualized on a map. Below I retrieve data for U.S. Real Median Household Income by State, covering the last 20 years and surface it on a choropleth map of the U.S.\n",
    "The chart is a plotly chart and as such you can zoom in/out and pan using the toolbox on the upper right (the toolbox becomes visible if you move the mouse to the upper right of the chart). Hovering the mouse over any of the states shows the household income for that state.\n",
    "\n",
    "I added a slider to the map, which allows you to see the data on a year to year basis, from 2000 to present. We can clearly see that the higher income states are in the North East and on the West coast, while there is a cluster of South Eastern states that consistenly have the lowest income. Analysing this data in detail could provide a wealth of insights; for instance, it is quite clear that Utah's medium household income has risen steadily over the last decade, from USD63,217 in 2011 to USD84,523 in 2019, this information may be important if you were considering investing in a business in Utah or buying property in Utah.\n",
    "\n",
    "Notes on the FRED Real Median Household Income time series<br>\n",
    "Source: U.S. Census Bureau  \n",
    "Release: Income and Poverty in the United States<br> \n",
    "Units:  CPI-U-RS Adjusted Dollars, Not Seasonally Adjusted<br>\n",
    "Frequency:  Annual<br>\n",
    "Household data are collected as of March<br>\n",
    "Estimation of Median Incomes."
   ]
  },
  {
   "cell_type": "code",
   "execution_count": 5,
   "metadata": {},
   "outputs": [
    {
     "data": {
      "text/html": [
       "        <script type=\"text/javascript\">\n",
       "        window.PlotlyConfig = {MathJaxConfig: 'local'};\n",
       "        if (window.MathJax) {MathJax.Hub.Config({SVG: {font: \"STIX-Web\"}});}\n",
       "        if (typeof require !== 'undefined') {\n",
       "        require.undef(\"plotly\");\n",
       "        requirejs.config({\n",
       "            paths: {\n",
       "                'plotly': ['https://cdn.plot.ly/plotly-latest.min']\n",
       "            }\n",
       "        });\n",
       "        require(['plotly'], function(Plotly) {\n",
       "            window._Plotly = Plotly;\n",
       "        });\n",
       "        }\n",
       "        </script>\n",
       "        "
      ]
     },
     "metadata": {},
     "output_type": "display_data"
    },
    {
     "data": {
      "application/vnd.plotly.v1+json": {
       "config": {
        "linkText": "Export to plot.ly",
        "plotlyServerURL": "https://plot.ly",
        "showLink": false
       },
       "data": [
        {
         "colorbar": {
          "title": {
           "text": "Household<br>Income"
          }
         },
         "colorscale": [
          [
           0,
           "rgb(158,1,66)"
          ],
          [
           0.1,
           "rgb(213,62,79)"
          ],
          [
           0.2,
           "rgb(244,109,67)"
          ],
          [
           0.3,
           "rgb(253,174,97)"
          ],
          [
           0.4,
           "rgb(254,224,139)"
          ],
          [
           0.5,
           "rgb(255,255,191)"
          ],
          [
           0.6,
           "rgb(230,245,152)"
          ],
          [
           0.7,
           "rgb(171,221,164)"
          ],
          [
           0.8,
           "rgb(102,194,165)"
          ],
          [
           0.9,
           "rgb(50,136,189)"
          ],
          [
           1,
           "rgb(94,79,162)"
          ]
         ],
         "hoverinfo": "text",
         "locationmode": "USA-states",
         "locations": [
          "AL",
          "AK",
          "AZ",
          "AR",
          "CA",
          "CO",
          "CT",
          "DE",
          "DC",
          "FL",
          "GA",
          "HI",
          "ID",
          "IL",
          "IN",
          "IA",
          "KS",
          "KY",
          "LA",
          "ME",
          "MD",
          "MA",
          "MI",
          "MN",
          "MS",
          "MO",
          "MT",
          "NE",
          "NV",
          "NH",
          "NJ",
          "NM",
          "NY",
          "NC",
          "ND",
          "OH",
          "OK",
          "OR",
          "PA",
          "RI",
          "SC",
          "SD",
          "TN",
          "TX",
          "UT",
          "VT",
          "VA",
          "WA",
          "WV",
          "WI",
          "WY"
         ],
         "text": [
          "State: Alabama                             <br>Household Income: $48,100",
          "State: Alaska                             <br>Household Income: $67,977",
          "State: Arizona                             <br>Household Income: $55,107",
          "State: Arkansas                             <br>Household Income: $45,343",
          "State: California                             <br>Household Income: $63,788",
          "State: Colorado                             <br>Household Income: $70,779",
          "State: Connecticut                             <br>Household Income: $77,554",
          "State: Delaware                             <br>Household Income: $64,882",
          "State: District of Columbia                             <br>Household Income: $66,896",
          "State: Florida                             <br>Household Income: $51,782",
          "State: Georgia                             <br>Household Income: $51,842",
          "State: Hawaii                             <br>Household Income: $69,964",
          "State: Idaho                             <br>Household Income: $55,288",
          "State: Illinois                             <br>Household Income: $59,610",
          "State: Indiana                             <br>Household Income: $54,218",
          "State: Iowa                             <br>Household Income: $57,598",
          "State: Kansas                             <br>Household Income: $54,118",
          "State: Kentucky                             <br>Household Income: $48,301",
          "State: Louisiana                             <br>Household Income: $46,181",
          "State: Maine                             <br>Household Income: $56,323",
          "State: Maryland                             <br>Household Income: $75,442",
          "State: Massachusetts                             <br>Household Income: $71,603",
          "State: Michigan                             <br>Household Income: $54,379",
          "State: Minnesota                             <br>Household Income: $61,482",
          "State: Mississippi                             <br>Household Income: $44,842",
          "State: Missouri                             <br>Household Income: $53,839",
          "State: Montana                             <br>Household Income: $48,508",
          "State: Nebraska                             <br>Household Income: $61,697",
          "State: Nevada                             <br>Household Income: $60,165",
          "State: New Hampshire                             <br>Household Income: $78,300",
          "State: New Jersey                             <br>Household Income: $73,993",
          "State: New Mexico                             <br>Household Income: $53,037",
          "State: New York                             <br>Household Income: $58,497",
          "State: North Carolina                             <br>Household Income: $51,504",
          "State: North Dakota                             <br>Household Income: $59,937",
          "State: Ohio                             <br>Household Income: $53,920",
          "State: Oklahoma                             <br>Household Income: $50,650",
          "State: Oregon                             <br>Household Income: $59,462",
          "State: Pennsylvania                             <br>Household Income: $56,773",
          "State: Rhode Island                             <br>Household Income: $60,662",
          "State: South Carolina                             <br>Household Income: $48,999",
          "State: South Dakota                             <br>Household Income: $53,293",
          "State: Tennessee                             <br>Household Income: $45,348",
          "State: Texas                             <br>Household Income: $55,542",
          "State: Utah                             <br>Household Income: $66,629",
          "State: Vermont                             <br>Household Income: $65,721",
          "State: Virginia                             <br>Household Income: $70,937",
          "State: Washington                             <br>Household Income: $65,997",
          "State: West Virginia                             <br>Household Income: $50,267",
          "State: Wisconsin                             <br>Household Income: $59,167",
          "State: Wyoming                             <br>Household Income: $61,341"
         ],
         "type": "choropleth",
         "z": [
          48100,
          67977,
          55107,
          45343,
          63788,
          70779,
          77554,
          64882,
          66896,
          51782,
          51842,
          69964,
          55288,
          59610,
          54218,
          57598,
          54118,
          48301,
          46181,
          56323,
          75442,
          71603,
          54379,
          61482,
          44842,
          53839,
          48508,
          61697,
          60165,
          78300,
          73993,
          53037,
          58497,
          51504,
          59937,
          53920,
          50650,
          59462,
          56773,
          60662,
          48999,
          53293,
          45348,
          55542,
          66629,
          65721,
          70937,
          65997,
          50267,
          59167,
          61341
         ],
         "zmax": 95572,
         "zmin": 35548
        },
        {
         "colorbar": {
          "title": {
           "text": "Household<br>Income"
          }
         },
         "colorscale": [
          [
           0,
           "rgb(158,1,66)"
          ],
          [
           0.1,
           "rgb(213,62,79)"
          ],
          [
           0.2,
           "rgb(244,109,67)"
          ],
          [
           0.3,
           "rgb(253,174,97)"
          ],
          [
           0.4,
           "rgb(254,224,139)"
          ],
          [
           0.5,
           "rgb(255,255,191)"
          ],
          [
           0.6,
           "rgb(230,245,152)"
          ],
          [
           0.7,
           "rgb(171,221,164)"
          ],
          [
           0.8,
           "rgb(102,194,165)"
          ],
          [
           0.9,
           "rgb(50,136,189)"
          ],
          [
           1,
           "rgb(94,79,162)"
          ]
         ],
         "hoverinfo": "text",
         "locationmode": "USA-states",
         "locations": [
          "AL",
          "AK",
          "AZ",
          "AR",
          "CA",
          "CO",
          "CT",
          "DE",
          "DC",
          "FL",
          "GA",
          "HI",
          "ID",
          "IL",
          "IN",
          "IA",
          "KS",
          "KY",
          "LA",
          "ME",
          "MD",
          "MA",
          "MI",
          "MN",
          "MS",
          "MO",
          "MT",
          "NE",
          "NV",
          "NH",
          "NJ",
          "NM",
          "NY",
          "NC",
          "ND",
          "OH",
          "OK",
          "OR",
          "PA",
          "RI",
          "SC",
          "SD",
          "TN",
          "TX",
          "UT",
          "VT",
          "VA",
          "WA",
          "WV",
          "WI",
          "WY"
         ],
         "text": [
          "State: Alabama                             <br>Household Income: $48,518",
          "State: Alaska                             <br>Household Income: $65,424",
          "State: Arizona                             <br>Household Income: $55,388",
          "State: Arkansas                             <br>Household Income: $47,051",
          "State: California                             <br>Household Income: $60,795",
          "State: Colorado                             <br>Household Income: $66,789",
          "State: Connecticut                             <br>Household Income: $74,520",
          "State: Delaware                             <br>Household Income: $62,268",
          "State: District of Columbia                             <br>Household Income: $62,941",
          "State: Florida                             <br>Household Income: $51,383",
          "State: Georgia                             <br>Household Income: $52,372",
          "State: Hawaii                             <br>Household Income: $67,265",
          "State: Idaho                             <br>Household Income: $54,064",
          "State: Illinois                             <br>Household Income: $57,685",
          "State: Indiana                             <br>Household Income: $50,631",
          "State: Iowa                             <br>Household Income: $57,209",
          "State: Kansas                             <br>Household Income: $52,570",
          "State: Kentucky                             <br>Household Income: $45,403",
          "State: Louisiana                             <br>Household Income: $46,317",
          "State: Maine                             <br>Household Income: $56,609",
          "State: Maryland                             <br>Household Income: $78,462",
          "State: Massachusetts                             <br>Household Income: $72,125",
          "State: Michigan                             <br>Household Income: $55,682",
          "State: Minnesota                             <br>Household Income: $65,868",
          "State: Mississippi                             <br>Household Income: $46,809",
          "State: Missouri                             <br>Household Income: $52,145",
          "State: Montana                             <br>Household Income: $45,883",
          "State: Nebraska                             <br>Household Income: $63,357",
          "State: Nevada                             <br>Household Income: $53,591",
          "State: New Hampshire                             <br>Household Income: $75,049",
          "State: New Jersey                             <br>Household Income: $71,014",
          "State: New Mexico                             <br>Household Income: $47,825",
          "State: New York                             <br>Household Income: $57,684",
          "State: North Carolina                             <br>Household Income: $51,498",
          "State: North Dakota                             <br>Household Income: $64,205",
          "State: Ohio                             <br>Household Income: $50,862",
          "State: Oklahoma                             <br>Household Income: $55,199",
          "State: Oregon                             <br>Household Income: $58,698",
          "State: Pennsylvania                             <br>Household Income: $56,857",
          "State: Rhode Island                             <br>Household Income: $55,858",
          "State: South Carolina                             <br>Household Income: $45,663",
          "State: South Dakota                             <br>Household Income: $53,796",
          "State: Tennessee                             <br>Household Income: $48,164",
          "State: Texas                             <br>Household Income: $55,874",
          "State: Utah                             <br>Household Income: $63,217",
          "State: Vermont                             <br>Household Income: $59,080",
          "State: Virginia                             <br>Household Income: $71,331",
          "State: Washington                             <br>Household Income: $64,763",
          "State: West Virginia                             <br>Household Income: $47,642",
          "State: Wisconsin                             <br>Household Income: $59,304",
          "State: Wyoming                             <br>Household Income: $62,096"
         ],
         "type": "choropleth",
         "z": [
          48518,
          65424,
          55388,
          47051,
          60795,
          66789,
          74520,
          62268,
          62941,
          51383,
          52372,
          67265,
          54064,
          57685,
          50631,
          57209,
          52570,
          45403,
          46317,
          56609,
          78462,
          72125,
          55682,
          65868,
          46809,
          52145,
          45883,
          63357,
          53591,
          75049,
          71014,
          47825,
          57684,
          51498,
          64205,
          50862,
          55199,
          58698,
          56857,
          55858,
          45663,
          53796,
          48164,
          55874,
          63217,
          59080,
          71331,
          64763,
          47642,
          59304,
          62096
         ],
         "zmax": 95572,
         "zmin": 35548
        },
        {
         "colorbar": {
          "title": {
           "text": "Household<br>Income"
          }
         },
         "colorscale": [
          [
           0,
           "rgb(158,1,66)"
          ],
          [
           0.1,
           "rgb(213,62,79)"
          ],
          [
           0.2,
           "rgb(244,109,67)"
          ],
          [
           0.3,
           "rgb(253,174,97)"
          ],
          [
           0.4,
           "rgb(254,224,139)"
          ],
          [
           0.5,
           "rgb(255,255,191)"
          ],
          [
           0.6,
           "rgb(230,245,152)"
          ],
          [
           0.7,
           "rgb(171,221,164)"
          ],
          [
           0.8,
           "rgb(102,194,165)"
          ],
          [
           0.9,
           "rgb(50,136,189)"
          ],
          [
           1,
           "rgb(94,79,162)"
          ]
         ],
         "hoverinfo": "text",
         "locationmode": "USA-states",
         "locations": [
          "AL",
          "AK",
          "AZ",
          "AR",
          "CA",
          "CO",
          "CT",
          "DE",
          "DC",
          "FL",
          "GA",
          "HI",
          "ID",
          "IL",
          "IN",
          "IA",
          "KS",
          "KY",
          "LA",
          "ME",
          "MD",
          "MA",
          "MI",
          "MN",
          "MS",
          "MO",
          "MT",
          "NE",
          "NV",
          "NH",
          "NJ",
          "NM",
          "NY",
          "NC",
          "ND",
          "OH",
          "OK",
          "OR",
          "PA",
          "RI",
          "SC",
          "SD",
          "TN",
          "TX",
          "UT",
          "VT",
          "VA",
          "WA",
          "WV",
          "WI",
          "WY"
         ],
         "text": [
          "State: Alabama                             <br>Household Income: $48,487",
          "State: Alaska                             <br>Household Income: $71,003",
          "State: Arizona                             <br>Household Income: $52,480",
          "State: Arkansas                             <br>Household Income: $43,527",
          "State: California                             <br>Household Income: $63,609",
          "State: Colorado                             <br>Household Income: $63,871",
          "State: Connecticut                             <br>Household Income: $71,671",
          "State: Delaware                             <br>Household Income: $54,631",
          "State: District of Columbia                             <br>Household Income: $72,786",
          "State: Florida                             <br>Household Income: $51,395",
          "State: Georgia                             <br>Household Income: $53,682",
          "State: Hawaii                             <br>Household Income: $62,765",
          "State: Idaho                             <br>Household Income: $53,460",
          "State: Illinois                             <br>Household Income: $57,717",
          "State: Indiana                             <br>Household Income: $51,492",
          "State: Iowa                             <br>Household Income: $59,618",
          "State: Kansas                             <br>Household Income: $55,781",
          "State: Kentucky                             <br>Household Income: $45,834",
          "State: Louisiana                             <br>Household Income: $43,601",
          "State: Maine                             <br>Household Income: $54,838",
          "State: Maryland                             <br>Household Income: $80,137",
          "State: Massachusetts                             <br>Household Income: $71,012",
          "State: Michigan                             <br>Household Income: $55,795",
          "State: Minnesota                             <br>Household Income: $68,936",
          "State: Mississippi                             <br>Household Income: $40,875",
          "State: Missouri                             <br>Household Income: $55,515",
          "State: Montana                             <br>Household Income: $50,298",
          "State: Nebraska                             <br>Household Income: $58,228",
          "State: Nevada                             <br>Household Income: $52,803",
          "State: New Hampshire                             <br>Household Income: $75,656",
          "State: New Jersey                             <br>Household Income: $74,399",
          "State: New Mexico                             <br>Household Income: $48,442",
          "State: New York                             <br>Household Income: $53,190",
          "State: North Carolina                             <br>Household Income: $46,355",
          "State: North Dakota                             <br>Household Income: $62,210",
          "State: Ohio                             <br>Household Income: $49,503",
          "State: Oklahoma                             <br>Household Income: $54,001",
          "State: Oregon                             <br>Household Income: $57,758",
          "State: Pennsylvania                             <br>Household Income: $57,902",
          "State: Rhode Island                             <br>Household Income: $62,544",
          "State: South Carolina                             <br>Household Income: $49,532",
          "State: South Dakota                             <br>Household Income: $55,125",
          "State: Tennessee                             <br>Household Income: $47,963",
          "State: Texas                             <br>Household Income: $57,926",
          "State: Utah                             <br>Household Income: $65,083",
          "State: Vermont                             <br>Household Income: $62,005",
          "State: Virginia                             <br>Household Income: $72,101",
          "State: Washington                             <br>Household Income: $69,373",
          "State: West Virginia                             <br>Household Income: $48,586",
          "State: Wisconsin                             <br>Household Income: $59,213",
          "State: Wyoming                             <br>Household Income: $64,158"
         ],
         "type": "choropleth",
         "z": [
          48487,
          71003,
          52480,
          43527,
          63609,
          63871,
          71671,
          54631,
          72786,
          51395,
          53682,
          62765,
          53460,
          57717,
          51492,
          59618,
          55781,
          45834,
          43601,
          54838,
          80137,
          71012,
          55795,
          68936,
          40875,
          55515,
          50298,
          58228,
          52803,
          75656,
          74399,
          48442,
          53190,
          46355,
          62210,
          49503,
          54001,
          57758,
          57902,
          62544,
          49532,
          55125,
          47963,
          57926,
          65083,
          62005,
          72101,
          69373,
          48586,
          59213,
          64158
         ],
         "zmax": 95572,
         "zmin": 35548
        },
        {
         "colorbar": {
          "title": {
           "text": "Household<br>Income"
          }
         },
         "colorscale": [
          [
           0,
           "rgb(158,1,66)"
          ],
          [
           0.1,
           "rgb(213,62,79)"
          ],
          [
           0.2,
           "rgb(244,109,67)"
          ],
          [
           0.3,
           "rgb(253,174,97)"
          ],
          [
           0.4,
           "rgb(254,224,139)"
          ],
          [
           0.5,
           "rgb(255,255,191)"
          ],
          [
           0.6,
           "rgb(230,245,152)"
          ],
          [
           0.7,
           "rgb(171,221,164)"
          ],
          [
           0.8,
           "rgb(102,194,165)"
          ],
          [
           0.9,
           "rgb(50,136,189)"
          ],
          [
           1,
           "rgb(94,79,162)"
          ]
         ],
         "hoverinfo": "text",
         "locationmode": "USA-states",
         "locations": [
          "AL",
          "AK",
          "AZ",
          "AR",
          "CA",
          "CO",
          "CT",
          "DE",
          "DC",
          "FL",
          "GA",
          "HI",
          "ID",
          "IL",
          "IN",
          "IA",
          "KS",
          "KY",
          "LA",
          "ME",
          "MD",
          "MA",
          "MI",
          "MN",
          "MS",
          "MO",
          "MT",
          "NE",
          "NV",
          "NH",
          "NJ",
          "NM",
          "NY",
          "NC",
          "ND",
          "OH",
          "OK",
          "OR",
          "PA",
          "RI",
          "SC",
          "SD",
          "TN",
          "TX",
          "UT",
          "VT",
          "VA",
          "WA",
          "WV",
          "WI",
          "WY"
         ],
         "text": [
          "State: Alabama                             <br>Household Income: $52,017",
          "State: Alaska                             <br>Household Income: $79,666",
          "State: Arizona                             <br>Household Income: $57,834",
          "State: Arkansas                             <br>Household Income: $43,285",
          "State: California                             <br>Household Income: $66,829",
          "State: Colorado                             <br>Household Income: $74,654",
          "State: Connecticut                             <br>Household Income: $76,170",
          "State: Delaware                             <br>Household Income: $59,461",
          "State: District of Columbia                             <br>Household Income: $66,019",
          "State: Florida                             <br>Household Income: $53,350",
          "State: Georgia                             <br>Household Income: $51,657",
          "State: Hawaii                             <br>Household Income: $70,612",
          "State: Idaho                             <br>Household Income: $53,278",
          "State: Illinois                             <br>Household Income: $59,291",
          "State: Indiana                             <br>Household Income: $54,364",
          "State: Iowa                             <br>Household Income: $66,128",
          "State: Kansas                             <br>Household Income: $52,567",
          "State: Kentucky                             <br>Household Income: $49,334",
          "State: Louisiana                             <br>Household Income: $51,034",
          "State: Maine                             <br>Household Income: $60,413",
          "State: Maryland                             <br>Household Income: $76,238",
          "State: Massachusetts                             <br>Household Income: $68,736",
          "State: Michigan                             <br>Household Income: $62,182",
          "State: Minnesota                             <br>Household Income: $70,709",
          "State: Mississippi                             <br>Household Income: $35,548",
          "State: Missouri                             <br>Household Income: $50,900",
          "State: Montana                             <br>Household Income: $47,490",
          "State: Nebraska                             <br>Household Income: $63,343",
          "State: Nevada                             <br>Household Income: $56,993",
          "State: New Hampshire                             <br>Household Income: $75,958",
          "State: New Jersey                             <br>Household Income: $70,083",
          "State: New Mexico                             <br>Household Income: $44,153",
          "State: New York                             <br>Household Income: $54,926",
          "State: North Carolina                             <br>Household Income: $50,937",
          "State: North Dakota                             <br>Household Income: $65,024",
          "State: Ohio                             <br>Household Income: $55,786",
          "State: Oklahoma                             <br>Household Income: $50,745",
          "State: Oregon                             <br>Household Income: $53,863",
          "State: Pennsylvania                             <br>Household Income: $60,631",
          "State: Rhode Island                             <br>Household Income: $61,914",
          "State: South Carolina                             <br>Household Income: $47,888",
          "State: South Dakota                             <br>Household Income: $58,715",
          "State: Tennessee                             <br>Household Income: $47,665",
          "State: Texas                             <br>Household Income: $56,509",
          "State: Utah                             <br>Household Income: $67,107",
          "State: Vermont                             <br>Household Income: $72,016",
          "State: Virginia                             <br>Household Income: $72,450",
          "State: Washington                             <br>Household Income: $70,268",
          "State: West Virginia                             <br>Household Income: $47,344",
          "State: Wisconsin                             <br>Household Income: $56,861",
          "State: Wyoming                             <br>Household Income: $74,136"
         ],
         "type": "choropleth",
         "z": [
          52017,
          79666,
          57834,
          43285,
          66829,
          74654,
          76170,
          59461,
          66019,
          53350,
          51657,
          70612,
          53278,
          59291,
          54364,
          66128,
          52567,
          49334,
          51034,
          60413,
          76238,
          68736,
          62182,
          70709,
          35548,
          50900,
          47490,
          63343,
          56993,
          75958,
          70083,
          44153,
          54926,
          50937,
          65024,
          55786,
          50745,
          53863,
          60631,
          61914,
          47888,
          58715,
          47665,
          56509,
          67107,
          72016,
          72450,
          70268,
          47344,
          56861,
          74136
         ],
         "zmax": 95572,
         "zmin": 35548
        },
        {
         "colorbar": {
          "title": {
           "text": "Household<br>Income"
          }
         },
         "colorscale": [
          [
           0,
           "rgb(158,1,66)"
          ],
          [
           0.1,
           "rgb(213,62,79)"
          ],
          [
           0.2,
           "rgb(244,109,67)"
          ],
          [
           0.3,
           "rgb(253,174,97)"
          ],
          [
           0.4,
           "rgb(254,224,139)"
          ],
          [
           0.5,
           "rgb(255,255,191)"
          ],
          [
           0.6,
           "rgb(230,245,152)"
          ],
          [
           0.7,
           "rgb(171,221,164)"
          ],
          [
           0.8,
           "rgb(102,194,165)"
          ],
          [
           0.9,
           "rgb(50,136,189)"
          ],
          [
           1,
           "rgb(94,79,162)"
          ]
         ],
         "hoverinfo": "text",
         "locationmode": "USA-states",
         "locations": [
          "AL",
          "AK",
          "AZ",
          "AR",
          "CA",
          "CO",
          "CT",
          "DE",
          "DC",
          "FL",
          "GA",
          "HI",
          "ID",
          "IL",
          "IN",
          "IA",
          "KS",
          "KY",
          "LA",
          "ME",
          "MD",
          "MA",
          "MI",
          "MN",
          "MS",
          "MO",
          "MT",
          "NE",
          "NV",
          "NH",
          "NJ",
          "NM",
          "NY",
          "NC",
          "ND",
          "OH",
          "OK",
          "OR",
          "PA",
          "RI",
          "SC",
          "SD",
          "TN",
          "TX",
          "UT",
          "VT",
          "VA",
          "WA",
          "WV",
          "WI",
          "WY"
         ],
         "text": [
          "State: Alabama                             <br>Household Income: $45,701",
          "State: Alaska                             <br>Household Income: $73,105",
          "State: Arizona                             <br>Household Income: $53,242",
          "State: Arkansas                             <br>Household Income: $48,559",
          "State: California                             <br>Household Income: $65,384",
          "State: Colorado                             <br>Household Income: $65,874",
          "State: Connecticut                             <br>Household Income: $75,842",
          "State: Delaware                             <br>Household Income: $62,179",
          "State: District of Columbia                             <br>Household Income: $73,805",
          "State: Florida                             <br>Household Income: $49,876",
          "State: Georgia                             <br>Household Income: $53,567",
          "State: Hawaii                             <br>Household Income: $76,990",
          "State: Idaho                             <br>Household Income: $57,765",
          "State: Illinois                             <br>Household Income: $59,362",
          "State: Indiana                             <br>Household Income: $51,951",
          "State: Iowa                             <br>Household Income: $62,491",
          "State: Kansas                             <br>Household Income: $57,771",
          "State: Kentucky                             <br>Household Income: $46,250",
          "State: Louisiana                             <br>Household Income: $45,839",
          "State: Maine                             <br>Household Income: $55,897",
          "State: Maryland                             <br>Household Income: $82,332",
          "State: Massachusetts                             <br>Household Income: $68,264",
          "State: Michigan                             <br>Household Income: $56,216",
          "State: Minnesota                             <br>Household Income: $72,688",
          "State: Mississippi                             <br>Household Income: $38,397",
          "State: Missouri                             <br>Household Income: $61,215",
          "State: Montana                             <br>Household Income: $55,239",
          "State: Nebraska                             <br>Household Income: $61,474",
          "State: Nevada                             <br>Household Income: $53,913",
          "State: New Hampshire                             <br>Household Income: $79,340",
          "State: New Jersey                             <br>Household Income: $70,525",
          "State: New Mexico                             <br>Household Income: $50,466",
          "State: New York                             <br>Household Income: $58,707",
          "State: North Carolina                             <br>Household Income: $50,572",
          "State: North Dakota                             <br>Household Income: $65,647",
          "State: Ohio                             <br>Household Income: $53,663",
          "State: Oklahoma                             <br>Household Income: $51,020",
          "State: Oregon                             <br>Household Income: $63,642",
          "State: Pennsylvania                             <br>Household Income: $59,640",
          "State: Rhode Island                             <br>Household Income: $63,380",
          "State: South Carolina                             <br>Household Income: $48,567",
          "State: South Dakota                             <br>Household Income: $57,348",
          "State: Tennessee                             <br>Household Income: $47,255",
          "State: Texas                             <br>Household Income: $58,237",
          "State: Utah                             <br>Household Income: $68,515",
          "State: Vermont                             <br>Household Income: $65,623",
          "State: Virginia                             <br>Household Income: $71,511",
          "State: Washington                             <br>Household Income: $63,850",
          "State: West Virginia                             <br>Household Income: $42,754",
          "State: Wisconsin                             <br>Household Income: $62,782",
          "State: Wyoming                             <br>Household Income: $60,199"
         ],
         "type": "choropleth",
         "z": [
          45701,
          73105,
          53242,
          48559,
          65384,
          65874,
          75842,
          62179,
          73805,
          49876,
          53567,
          76990,
          57765,
          59362,
          51951,
          62491,
          57771,
          46250,
          45839,
          55897,
          82332,
          68264,
          56216,
          72688,
          38397,
          61215,
          55239,
          61474,
          53913,
          79340,
          70525,
          50466,
          58707,
          50572,
          65647,
          53663,
          51020,
          63642,
          59640,
          63380,
          48567,
          57348,
          47255,
          58237,
          68515,
          65623,
          71511,
          63850,
          42754,
          62782,
          60199
         ],
         "zmax": 95572,
         "zmin": 35548
        },
        {
         "colorbar": {
          "title": {
           "text": "Household<br>Income"
          }
         },
         "colorscale": [
          [
           0,
           "rgb(158,1,66)"
          ],
          [
           0.1,
           "rgb(213,62,79)"
          ],
          [
           0.2,
           "rgb(244,109,67)"
          ],
          [
           0.3,
           "rgb(253,174,97)"
          ],
          [
           0.4,
           "rgb(254,224,139)"
          ],
          [
           0.5,
           "rgb(255,255,191)"
          ],
          [
           0.6,
           "rgb(230,245,152)"
          ],
          [
           0.7,
           "rgb(171,221,164)"
          ],
          [
           0.8,
           "rgb(102,194,165)"
          ],
          [
           0.9,
           "rgb(50,136,189)"
          ],
          [
           1,
           "rgb(94,79,162)"
          ]
         ],
         "hoverinfo": "text",
         "locationmode": "USA-states",
         "locations": [
          "AL",
          "AK",
          "AZ",
          "AR",
          "CA",
          "CO",
          "CT",
          "DE",
          "DC",
          "FL",
          "GA",
          "HI",
          "ID",
          "IL",
          "IN",
          "IA",
          "KS",
          "KY",
          "LA",
          "ME",
          "MD",
          "MA",
          "MI",
          "MN",
          "MS",
          "MO",
          "MT",
          "NE",
          "NV",
          "NH",
          "NJ",
          "NM",
          "NY",
          "NC",
          "ND",
          "OH",
          "OK",
          "OR",
          "PA",
          "RI",
          "SC",
          "SD",
          "TN",
          "TX",
          "UT",
          "VT",
          "VA",
          "WA",
          "WV",
          "WI",
          "WY"
         ],
         "text": [
          "State: Alabama                             <br>Household Income: $48,030",
          "State: Alaska                             <br>Household Income: $81,054",
          "State: Arizona                             <br>Household Income: $56,381",
          "State: Arkansas                             <br>Household Income: $46,184",
          "State: California                             <br>Household Income: $68,670",
          "State: Colorado                             <br>Household Income: $71,864",
          "State: Connecticut                             <br>Household Income: $78,655",
          "State: Delaware                             <br>Household Income: $62,325",
          "State: District of Columbia                             <br>Household Income: $75,614",
          "State: Florida                             <br>Household Income: $52,687",
          "State: Georgia                             <br>Household Income: $54,784",
          "State: Hawaii                             <br>Household Income: $69,617",
          "State: Idaho                             <br>Household Income: $55,708",
          "State: Illinois                             <br>Household Income: $65,192",
          "State: Indiana                             <br>Household Income: $56,095",
          "State: Iowa                             <br>Household Income: $65,669",
          "State: Kansas                             <br>Household Income: $59,205",
          "State: Kentucky                             <br>Household Income: $45,740",
          "State: Louisiana                             <br>Household Income: $49,555",
          "State: Maine                             <br>Household Income: $54,771",
          "State: Maryland                             <br>Household Income: $79,416",
          "State: Massachusetts                             <br>Household Income: $73,229",
          "State: Michigan                             <br>Household Income: $58,491",
          "State: Minnesota                             <br>Household Income: $74,167",
          "State: Mississippi                             <br>Household Income: $43,204",
          "State: Missouri                             <br>Household Income: $63,879",
          "State: Montana                             <br>Household Income: $55,461",
          "State: Nebraska                             <br>Household Income: $65,258",
          "State: Nevada                             <br>Household Income: $56,122",
          "State: New Hampshire                             <br>Household Income: $81,661",
          "State: New Jersey                             <br>Household Income: $73,764",
          "State: New Mexico                             <br>Household Income: $48,688",
          "State: New York                             <br>Household Income: $62,594",
          "State: North Carolina                             <br>Household Income: $54,815",
          "State: North Dakota                             <br>Household Income: $61,957",
          "State: Ohio                             <br>Household Income: $57,517",
          "State: Oklahoma                             <br>Household Income: $50,801",
          "State: Oregon                             <br>Household Income: $65,646",
          "State: Pennsylvania                             <br>Household Income: $65,166",
          "State: Rhode Island                             <br>Household Income: $60,107",
          "State: South Carolina                             <br>Household Income: $50,027",
          "State: South Dakota                             <br>Household Income: $59,421",
          "State: Tennessee                             <br>Household Income: $51,074",
          "State: Texas                             <br>Household Income: $60,940",
          "State: Utah                             <br>Household Income: $71,499",
          "State: Vermont                             <br>Household Income: $64,200",
          "State: Virginia                             <br>Household Income: $66,350",
          "State: Washington                             <br>Household Income: $72,562",
          "State: West Virginia                             <br>Household Income: $46,212",
          "State: Wisconsin                             <br>Household Income: $59,809",
          "State: Wyoming                             <br>Household Income: $65,745"
         ],
         "type": "choropleth",
         "z": [
          48030,
          81054,
          56381,
          46184,
          68670,
          71864,
          78655,
          62325,
          75614,
          52687,
          54784,
          69617,
          55708,
          65192,
          56095,
          65669,
          59205,
          45740,
          49555,
          54771,
          79416,
          73229,
          58491,
          74167,
          43204,
          63879,
          55461,
          65258,
          56122,
          81661,
          73764,
          48688,
          62594,
          54815,
          61957,
          57517,
          50801,
          65646,
          65166,
          60107,
          50027,
          59421,
          51074,
          60940,
          71499,
          64200,
          66350,
          72562,
          46212,
          59809,
          65745
         ],
         "zmax": 95572,
         "zmin": 35548
        },
        {
         "colorbar": {
          "title": {
           "text": "Household<br>Income"
          }
         },
         "colorscale": [
          [
           0,
           "rgb(158,1,66)"
          ],
          [
           0.1,
           "rgb(213,62,79)"
          ],
          [
           0.2,
           "rgb(244,109,67)"
          ],
          [
           0.3,
           "rgb(253,174,97)"
          ],
          [
           0.4,
           "rgb(254,224,139)"
          ],
          [
           0.5,
           "rgb(255,255,191)"
          ],
          [
           0.6,
           "rgb(230,245,152)"
          ],
          [
           0.7,
           "rgb(171,221,164)"
          ],
          [
           0.8,
           "rgb(102,194,165)"
          ],
          [
           0.9,
           "rgb(50,136,189)"
          ],
          [
           1,
           "rgb(94,79,162)"
          ]
         ],
         "hoverinfo": "text",
         "locationmode": "USA-states",
         "locations": [
          "AL",
          "AK",
          "AZ",
          "AR",
          "CA",
          "CO",
          "CT",
          "DE",
          "DC",
          "FL",
          "GA",
          "HI",
          "ID",
          "IL",
          "IN",
          "IA",
          "KS",
          "KY",
          "LA",
          "ME",
          "MD",
          "MA",
          "MI",
          "MN",
          "MS",
          "MO",
          "MT",
          "NE",
          "NV",
          "NH",
          "NJ",
          "NM",
          "NY",
          "NC",
          "ND",
          "OH",
          "OK",
          "OR",
          "PA",
          "RI",
          "SC",
          "SD",
          "TN",
          "TX",
          "UT",
          "VT",
          "VA",
          "WA",
          "WV",
          "WI",
          "WY"
         ],
         "text": [
          "State: Alabama                             <br>Household Income: $50,308",
          "State: Alaska                             <br>Household Income: $80,673",
          "State: Arizona                             <br>Household Income: $60,832",
          "State: Arkansas                             <br>Household Income: $48,908",
          "State: California                             <br>Household Income: $70,993",
          "State: Colorado                             <br>Household Income: $75,179",
          "State: Connecticut                             <br>Household Income: $80,886",
          "State: Delaware                             <br>Household Income: $61,840",
          "State: District of Columbia                             <br>Household Income: $75,622",
          "State: Florida                             <br>Household Income: $54,521",
          "State: Georgia                             <br>Household Income: $57,026",
          "State: Hawaii                             <br>Household Income: $76,848",
          "State: Idaho                             <br>Household Income: $60,261",
          "State: Illinois                             <br>Household Income: $65,398",
          "State: Indiana                             <br>Household Income: $59,761",
          "State: Iowa                             <br>Household Income: $62,957",
          "State: Kansas                             <br>Household Income: $60,523",
          "State: Kentucky                             <br>Household Income: $48,335",
          "State: Louisiana                             <br>Household Income: $44,954",
          "State: Maine                             <br>Household Income: $54,180",
          "State: Maryland                             <br>Household Income: $78,581",
          "State: Massachusetts                             <br>Household Income: $76,990",
          "State: Michigan                             <br>Household Income: $60,823",
          "State: Minnesota                             <br>Household Income: $74,808",
          "State: Mississippi                             <br>Household Income: $43,785",
          "State: Missouri                             <br>Household Income: $58,612",
          "State: Montana                             <br>Household Income: $60,806",
          "State: Nebraska                             <br>Household Income: $63,255",
          "State: Nevada                             <br>Household Income: $59,054",
          "State: New Hampshire                             <br>Household Income: $81,245",
          "State: New Jersey                             <br>Household Income: $72,943",
          "State: New Mexico                             <br>Household Income: $51,618",
          "State: New York                             <br>Household Income: $65,453",
          "State: North Carolina                             <br>Household Income: $57,278",
          "State: North Dakota                             <br>Household Income: $64,118",
          "State: Ohio                             <br>Household Income: $57,514",
          "State: Oklahoma                             <br>Household Income: $54,273",
          "State: Oregon                             <br>Household Income: $63,000",
          "State: Pennsylvania                             <br>Household Income: $64,965",
          "State: Rhode Island                             <br>Household Income: $65,550",
          "State: South Carolina                             <br>Household Income: $57,888",
          "State: South Dakota                             <br>Household Income: $61,205",
          "State: Tennessee                             <br>Household Income: $54,700",
          "State: Texas                             <br>Household Income: $61,947",
          "State: Utah                             <br>Household Income: $71,892",
          "State: Vermont                             <br>Household Income: $64,814",
          "State: Virginia                             <br>Household Income: $70,795",
          "State: Washington                             <br>Household Income: $74,906",
          "State: West Virginia                             <br>Household Income: $47,253",
          "State: Wisconsin                             <br>Household Income: $63,727",
          "State: Wyoming                             <br>Household Income: $61,609"
         ],
         "type": "choropleth",
         "z": [
          50308,
          80673,
          60832,
          48908,
          70993,
          75179,
          80886,
          61840,
          75622,
          54521,
          57026,
          76848,
          60261,
          65398,
          59761,
          62957,
          60523,
          48335,
          44954,
          54180,
          78581,
          76990,
          60823,
          74808,
          43785,
          58612,
          60806,
          63255,
          59054,
          81245,
          72943,
          51618,
          65453,
          57278,
          64118,
          57514,
          54273,
          63000,
          64965,
          65550,
          57888,
          61205,
          54700,
          61947,
          71892,
          64814,
          70795,
          74906,
          47253,
          63727,
          61609
         ],
         "zmax": 95572,
         "zmin": 35548
        },
        {
         "colorbar": {
          "title": {
           "text": "Household<br>Income"
          }
         },
         "colorscale": [
          [
           0,
           "rgb(158,1,66)"
          ],
          [
           0.1,
           "rgb(213,62,79)"
          ],
          [
           0.2,
           "rgb(244,109,67)"
          ],
          [
           0.3,
           "rgb(253,174,97)"
          ],
          [
           0.4,
           "rgb(254,224,139)"
          ],
          [
           0.5,
           "rgb(255,255,191)"
          ],
          [
           0.6,
           "rgb(230,245,152)"
          ],
          [
           0.7,
           "rgb(171,221,164)"
          ],
          [
           0.8,
           "rgb(102,194,165)"
          ],
          [
           0.9,
           "rgb(50,136,189)"
          ],
          [
           1,
           "rgb(94,79,162)"
          ]
         ],
         "hoverinfo": "text",
         "locationmode": "USA-states",
         "locations": [
          "AL",
          "AK",
          "AZ",
          "AR",
          "CA",
          "CO",
          "CT",
          "DE",
          "DC",
          "FL",
          "GA",
          "HI",
          "ID",
          "IL",
          "IN",
          "IA",
          "KS",
          "KY",
          "LA",
          "ME",
          "MD",
          "MA",
          "MI",
          "MN",
          "MS",
          "MO",
          "MT",
          "NE",
          "NV",
          "NH",
          "NJ",
          "NM",
          "NY",
          "NC",
          "ND",
          "OH",
          "OK",
          "OR",
          "PA",
          "RI",
          "SC",
          "SD",
          "TN",
          "TX",
          "UT",
          "VT",
          "VA",
          "WA",
          "WV",
          "WI",
          "WY"
         ],
         "text": [
          "State: Alabama                             <br>Household Income: $53,049",
          "State: Alaska                             <br>Household Income: $81,335",
          "State: Arizona                             <br>Household Income: $62,263",
          "State: Arkansas                             <br>Household Income: $51,887",
          "State: California                             <br>Household Income: $73,045",
          "State: Colorado                             <br>Household Income: $78,204",
          "State: Connecticut                             <br>Household Income: $77,494",
          "State: Delaware                             <br>Household Income: $67,750",
          "State: District of Columbia                             <br>Household Income: $84,772",
          "State: Florida                             <br>Household Income: $55,365",
          "State: Georgia                             <br>Household Income: $60,475",
          "State: Hawaii                             <br>Household Income: $76,759",
          "State: Idaho                             <br>Household Income: $62,052",
          "State: Illinois                             <br>Household Income: $68,801",
          "State: Indiana                             <br>Household Income: $61,290",
          "State: Iowa                             <br>Household Income: $66,192",
          "State: Kansas                             <br>Household Income: $59,343",
          "State: Kentucky                             <br>Household Income: $51,805",
          "State: Louisiana                             <br>Household Income: $45,436",
          "State: Maine                             <br>Household Income: $55,605",
          "State: Maryland                             <br>Household Income: $85,618",
          "State: Massachusetts                             <br>Household Income: $79,517",
          "State: Michigan                             <br>Household Income: $58,827",
          "State: Minnesota                             <br>Household Income: $72,979",
          "State: Mississippi                             <br>Household Income: $45,139",
          "State: Missouri                             <br>Household Income: $58,957",
          "State: Montana                             <br>Household Income: $59,872",
          "State: Nebraska                             <br>Household Income: $62,141",
          "State: Nevada                             <br>Household Income: $60,533",
          "State: New Hampshire                             <br>Household Income: $78,877",
          "State: New Jersey                             <br>Household Income: $74,299",
          "State: New Mexico                             <br>Household Income: $47,559",
          "State: New York                             <br>Household Income: $64,185",
          "State: North Carolina                             <br>Household Income: $51,674",
          "State: North Dakota                             <br>Household Income: $62,750",
          "State: Ohio                             <br>Household Income: $63,294",
          "State: Oklahoma                             <br>Household Income: $54,110",
          "State: Oregon                             <br>Household Income: $65,181",
          "State: Pennsylvania                             <br>Household Income: $63,916",
          "State: Rhode Island                             <br>Household Income: $68,209",
          "State: South Carolina                             <br>Household Income: $56,879",
          "State: South Dakota                             <br>Household Income: $59,358",
          "State: Tennessee                             <br>Household Income: $57,681",
          "State: Texas                             <br>Household Income: $62,672",
          "State: Utah                             <br>Household Income: $72,785",
          "State: Vermont                             <br>Household Income: $66,416",
          "State: Virginia                             <br>Household Income: $73,851",
          "State: Washington                             <br>Household Income: $74,612",
          "State: West Virginia                             <br>Household Income: $48,973",
          "State: Wisconsin                             <br>Household Income: $66,208",
          "State: Wyoming                             <br>Household Income: $62,092"
         ],
         "type": "choropleth",
         "z": [
          53049,
          81335,
          62263,
          51887,
          73045,
          78204,
          77494,
          67750,
          84772,
          55365,
          60475,
          76759,
          62052,
          68801,
          61290,
          66192,
          59343,
          51805,
          45436,
          55605,
          85618,
          79517,
          58827,
          72979,
          45139,
          58957,
          59872,
          62141,
          60533,
          78877,
          74299,
          47559,
          64185,
          51674,
          62750,
          63294,
          54110,
          65181,
          63916,
          68209,
          56879,
          59358,
          57681,
          62672,
          72785,
          66416,
          73851,
          74612,
          48973,
          66208,
          62092
         ],
         "zmax": 95572,
         "zmin": 35548
        },
        {
         "colorbar": {
          "title": {
           "text": "Household<br>Income"
          }
         },
         "colorscale": [
          [
           0,
           "rgb(158,1,66)"
          ],
          [
           0.1,
           "rgb(213,62,79)"
          ],
          [
           0.2,
           "rgb(244,109,67)"
          ],
          [
           0.3,
           "rgb(253,174,97)"
          ],
          [
           0.4,
           "rgb(254,224,139)"
          ],
          [
           0.5,
           "rgb(255,255,191)"
          ],
          [
           0.6,
           "rgb(230,245,152)"
          ],
          [
           0.7,
           "rgb(171,221,164)"
          ],
          [
           0.8,
           "rgb(102,194,165)"
          ],
          [
           0.9,
           "rgb(50,136,189)"
          ],
          [
           1,
           "rgb(94,79,162)"
          ]
         ],
         "hoverinfo": "text",
         "locationmode": "USA-states",
         "locations": [
          "AL",
          "AK",
          "AZ",
          "AR",
          "CA",
          "CO",
          "CT",
          "DE",
          "DC",
          "FL",
          "GA",
          "HI",
          "ID",
          "IL",
          "IN",
          "IA",
          "KS",
          "KY",
          "LA",
          "ME",
          "MD",
          "MA",
          "MI",
          "MN",
          "MS",
          "MO",
          "MT",
          "NE",
          "NV",
          "NH",
          "NJ",
          "NM",
          "NY",
          "NC",
          "ND",
          "OH",
          "OK",
          "OR",
          "PA",
          "RI",
          "SC",
          "SD",
          "TN",
          "TX",
          "UT",
          "VT",
          "VA",
          "WA",
          "WV",
          "WI",
          "WY"
         ],
         "text": [
          "State: Alabama                             <br>Household Income: $50,841",
          "State: Alaska                             <br>Household Income: $69,979",
          "State: Arizona                             <br>Household Income: $63,411",
          "State: Arkansas                             <br>Household Income: $50,683",
          "State: California                             <br>Household Income: $71,766",
          "State: Colorado                             <br>Household Income: $74,357",
          "State: Connecticut                             <br>Household Income: $74,131",
          "State: Delaware                             <br>Household Income: $66,190",
          "State: District of Columbia                             <br>Household Income: $87,304",
          "State: Florida                             <br>Household Income: $55,634",
          "State: Georgia                             <br>Household Income: $56,832",
          "State: Hawaii                             <br>Household Income: $81,559",
          "State: Idaho                             <br>Household Income: $59,792",
          "State: Illinois                             <br>Household Income: $71,416",
          "State: Indiana                             <br>Household Income: $60,977",
          "State: Iowa                             <br>Household Income: $69,963",
          "State: Kansas                             <br>Household Income: $65,096",
          "State: Kentucky                             <br>Household Income: $55,543",
          "State: Louisiana                             <br>Household Income: $50,878",
          "State: Maine                             <br>Household Income: $59,726",
          "State: Maryland                             <br>Household Income: $87,785",
          "State: Massachusetts                             <br>Household Income: $87,909",
          "State: Michigan                             <br>Household Income: $61,544",
          "State: Minnesota                             <br>Household Income: $73,118",
          "State: Mississippi                             <br>Household Income: $43,556",
          "State: Missouri                             <br>Household Income: $62,844",
          "State: Montana                             <br>Household Income: $58,724",
          "State: Nebraska                             <br>Household Income: $68,799",
          "State: Nevada                             <br>Household Income: $62,985",
          "State: New Hampshire                             <br>Household Income: $82,820",
          "State: New Jersey                             <br>Household Income: $75,520",
          "State: New Mexico                             <br>Household Income: $49,158",
          "State: New York                             <br>Household Income: $68,493",
          "State: North Carolina                             <br>Household Income: $54,336",
          "State: North Dakota                             <br>Household Income: $67,710",
          "State: Ohio                             <br>Household Income: $62,750",
          "State: Oklahoma                             <br>Household Income: $55,420",
          "State: Oregon                             <br>Household Income: $70,418",
          "State: Pennsylvania                             <br>Household Income: $65,693",
          "State: Rhode Island                             <br>Household Income: $63,394",
          "State: South Carolina                             <br>Household Income: $58,485",
          "State: South Dakota                             <br>Household Income: $60,540",
          "State: Tennessee                             <br>Household Income: $57,076",
          "State: Texas                             <br>Household Income: $60,868",
          "State: Utah                             <br>Household Income: $78,463",
          "State: Vermont                             <br>Household Income: $71,335",
          "State: Virginia                             <br>Household Income: $78,549",
          "State: Washington                             <br>Household Income: $81,170",
          "State: West Virginia                             <br>Household Income: $51,489",
          "State: Wisconsin                             <br>Household Income: $63,764",
          "State: Wyoming                             <br>Household Income: $63,672"
         ],
         "type": "choropleth",
         "z": [
          50841,
          69979,
          63411,
          50683,
          71766,
          74357,
          74131,
          66190,
          87304,
          55634,
          56832,
          81559,
          59792,
          71416,
          60977,
          69963,
          65096,
          55543,
          50878,
          59726,
          87785,
          87909,
          61544,
          73118,
          43556,
          62844,
          58724,
          68799,
          62985,
          82820,
          75520,
          49158,
          68493,
          54336,
          67710,
          62750,
          55420,
          70418,
          65693,
          63394,
          58485,
          60540,
          57076,
          60868,
          78463,
          71335,
          78549,
          81170,
          51489,
          63764,
          63672
         ],
         "zmax": 95572,
         "zmin": 35548
        },
        {
         "colorbar": {
          "title": {
           "text": "Household<br>Income"
          }
         },
         "colorscale": [
          [
           0,
           "rgb(158,1,66)"
          ],
          [
           0.1,
           "rgb(213,62,79)"
          ],
          [
           0.2,
           "rgb(244,109,67)"
          ],
          [
           0.3,
           "rgb(253,174,97)"
          ],
          [
           0.4,
           "rgb(254,224,139)"
          ],
          [
           0.5,
           "rgb(255,255,191)"
          ],
          [
           0.6,
           "rgb(230,245,152)"
          ],
          [
           0.7,
           "rgb(171,221,164)"
          ],
          [
           0.8,
           "rgb(102,194,165)"
          ],
          [
           0.9,
           "rgb(50,136,189)"
          ],
          [
           1,
           "rgb(94,79,162)"
          ]
         ],
         "hoverinfo": "text",
         "locationmode": "USA-states",
         "locations": [
          "AL",
          "AK",
          "AZ",
          "AR",
          "CA",
          "CO",
          "CT",
          "DE",
          "DC",
          "FL",
          "GA",
          "HI",
          "ID",
          "IL",
          "IN",
          "IA",
          "KS",
          "KY",
          "LA",
          "ME",
          "MD",
          "MA",
          "MI",
          "MN",
          "MS",
          "MO",
          "MT",
          "NE",
          "NV",
          "NH",
          "NJ",
          "NM",
          "NY",
          "NC",
          "ND",
          "OH",
          "OK",
          "OR",
          "PA",
          "RI",
          "SC",
          "SD",
          "TN",
          "TX",
          "UT",
          "VT",
          "VA",
          "WA",
          "WV",
          "WI",
          "WY"
         ],
         "text": [
          "State: Alabama                             <br>Household Income: $56,200",
          "State: Alaska                             <br>Household Income: $78,394",
          "State: Arizona                             <br>Household Income: $70,674",
          "State: Arkansas                             <br>Household Income: $54,539",
          "State: California                             <br>Household Income: $78,105",
          "State: Colorado                             <br>Household Income: $72,499",
          "State: Connecticut                             <br>Household Income: $87,291",
          "State: Delaware                             <br>Household Income: $74,194",
          "State: District of Columbia                             <br>Household Income: $93,111",
          "State: Florida                             <br>Household Income: $58,368",
          "State: Georgia                             <br>Household Income: $56,628",
          "State: Hawaii                             <br>Household Income: $88,006",
          "State: Idaho                             <br>Household Income: $65,988",
          "State: Illinois                             <br>Household Income: $74,399",
          "State: Indiana                             <br>Household Income: $66,693",
          "State: Iowa                             <br>Household Income: $66,054",
          "State: Kansas                             <br>Household Income: $73,151",
          "State: Kentucky                             <br>Household Income: $55,662",
          "State: Louisiana                             <br>Household Income: $51,707",
          "State: Maine                             <br>Household Income: $66,546",
          "State: Maryland                             <br>Household Income: $95,572",
          "State: Massachusetts                             <br>Household Income: $87,707",
          "State: Michigan                             <br>Household Income: $64,119",
          "State: Minnesota                             <br>Household Income: $81,426",
          "State: Mississippi                             <br>Household Income: $44,787",
          "State: Missouri                             <br>Household Income: $60,597",
          "State: Montana                             <br>Household Income: $60,195",
          "State: Nebraska                             <br>Household Income: $73,071",
          "State: Nevada                             <br>Household Income: $70,906",
          "State: New Hampshire                             <br>Household Income: $86,900",
          "State: New Jersey                             <br>Household Income: $87,726",
          "State: New Mexico                             <br>Household Income: $53,113",
          "State: New York                             <br>Household Income: $71,855",
          "State: North Carolina                             <br>Household Income: $61,159",
          "State: North Dakota                             <br>Household Income: $70,031",
          "State: Ohio                             <br>Household Income: $64,663",
          "State: Oklahoma                             <br>Household Income: $59,397",
          "State: Oregon                             <br>Household Income: $74,413",
          "State: Pennsylvania                             <br>Household Income: $70,582",
          "State: Rhode Island                             <br>Household Income: $70,151",
          "State: South Carolina                             <br>Household Income: $62,028",
          "State: South Dakota                             <br>Household Income: $64,255",
          "State: Tennessee                             <br>Household Income: $56,627",
          "State: Texas                             <br>Household Income: $67,444",
          "State: Utah                             <br>Household Income: $84,523",
          "State: Vermont                             <br>Household Income: $74,305",
          "State: Virginia                             <br>Household Income: $81,313",
          "State: Washington                             <br>Household Income: $82,454",
          "State: West Virginia                             <br>Household Income: $53,706",
          "State: Wisconsin                             <br>Household Income: $67,355",
          "State: Wyoming                             <br>Household Income: $65,134"
         ],
         "type": "choropleth",
         "z": [
          56200,
          78394,
          70674,
          54539,
          78105,
          72499,
          87291,
          74194,
          93111,
          58368,
          56628,
          88006,
          65988,
          74399,
          66693,
          66054,
          73151,
          55662,
          51707,
          66546,
          95572,
          87707,
          64119,
          81426,
          44787,
          60597,
          60195,
          73071,
          70906,
          86900,
          87726,
          53113,
          71855,
          61159,
          70031,
          64663,
          59397,
          74413,
          70582,
          70151,
          62028,
          64255,
          56627,
          67444,
          84523,
          74305,
          81313,
          82454,
          53706,
          67355,
          65134
         ],
         "zmax": 95572,
         "zmin": 35548
        }
       ],
       "layout": {
        "geo": {
         "projection": {
          "type": "albers usa"
         },
         "scope": "usa"
        },
        "sliders": [
         {
          "active": 9,
          "pad": {
           "t": 1
          },
          "steps": [
           {
            "args": [
             "visible",
             [
              true,
              false,
              false,
              false,
              false,
              false,
              false,
              false,
              false,
              false
             ]
            ],
            "label": "Year 2010",
            "method": "restyle"
           },
           {
            "args": [
             "visible",
             [
              false,
              true,
              false,
              false,
              false,
              false,
              false,
              false,
              false,
              false
             ]
            ],
            "label": "Year 2011",
            "method": "restyle"
           },
           {
            "args": [
             "visible",
             [
              false,
              false,
              true,
              false,
              false,
              false,
              false,
              false,
              false,
              false
             ]
            ],
            "label": "Year 2012",
            "method": "restyle"
           },
           {
            "args": [
             "visible",
             [
              false,
              false,
              false,
              true,
              false,
              false,
              false,
              false,
              false,
              false
             ]
            ],
            "label": "Year 2013",
            "method": "restyle"
           },
           {
            "args": [
             "visible",
             [
              false,
              false,
              false,
              false,
              true,
              false,
              false,
              false,
              false,
              false
             ]
            ],
            "label": "Year 2014",
            "method": "restyle"
           },
           {
            "args": [
             "visible",
             [
              false,
              false,
              false,
              false,
              false,
              true,
              false,
              false,
              false,
              false
             ]
            ],
            "label": "Year 2015",
            "method": "restyle"
           },
           {
            "args": [
             "visible",
             [
              false,
              false,
              false,
              false,
              false,
              false,
              true,
              false,
              false,
              false
             ]
            ],
            "label": "Year 2016",
            "method": "restyle"
           },
           {
            "args": [
             "visible",
             [
              false,
              false,
              false,
              false,
              false,
              false,
              false,
              true,
              false,
              false
             ]
            ],
            "label": "Year 2017",
            "method": "restyle"
           },
           {
            "args": [
             "visible",
             [
              false,
              false,
              false,
              false,
              false,
              false,
              false,
              false,
              true,
              false
             ]
            ],
            "label": "Year 2018",
            "method": "restyle"
           },
           {
            "args": [
             "visible",
             [
              false,
              false,
              false,
              false,
              false,
              false,
              false,
              false,
              false,
              true
             ]
            ],
            "label": "Year 2019",
            "method": "restyle"
           }
          ]
         }
        ],
        "template": {
         "data": {
          "bar": [
           {
            "error_x": {
             "color": "#2a3f5f"
            },
            "error_y": {
             "color": "#2a3f5f"
            },
            "marker": {
             "line": {
              "color": "#E5ECF6",
              "width": 0.5
             }
            },
            "type": "bar"
           }
          ],
          "barpolar": [
           {
            "marker": {
             "line": {
              "color": "#E5ECF6",
              "width": 0.5
             }
            },
            "type": "barpolar"
           }
          ],
          "carpet": [
           {
            "aaxis": {
             "endlinecolor": "#2a3f5f",
             "gridcolor": "white",
             "linecolor": "white",
             "minorgridcolor": "white",
             "startlinecolor": "#2a3f5f"
            },
            "baxis": {
             "endlinecolor": "#2a3f5f",
             "gridcolor": "white",
             "linecolor": "white",
             "minorgridcolor": "white",
             "startlinecolor": "#2a3f5f"
            },
            "type": "carpet"
           }
          ],
          "choropleth": [
           {
            "colorbar": {
             "outlinewidth": 0,
             "ticks": ""
            },
            "type": "choropleth"
           }
          ],
          "contour": [
           {
            "colorbar": {
             "outlinewidth": 0,
             "ticks": ""
            },
            "colorscale": [
             [
              0,
              "#0d0887"
             ],
             [
              0.1111111111111111,
              "#46039f"
             ],
             [
              0.2222222222222222,
              "#7201a8"
             ],
             [
              0.3333333333333333,
              "#9c179e"
             ],
             [
              0.4444444444444444,
              "#bd3786"
             ],
             [
              0.5555555555555556,
              "#d8576b"
             ],
             [
              0.6666666666666666,
              "#ed7953"
             ],
             [
              0.7777777777777778,
              "#fb9f3a"
             ],
             [
              0.8888888888888888,
              "#fdca26"
             ],
             [
              1,
              "#f0f921"
             ]
            ],
            "type": "contour"
           }
          ],
          "contourcarpet": [
           {
            "colorbar": {
             "outlinewidth": 0,
             "ticks": ""
            },
            "type": "contourcarpet"
           }
          ],
          "heatmap": [
           {
            "colorbar": {
             "outlinewidth": 0,
             "ticks": ""
            },
            "colorscale": [
             [
              0,
              "#0d0887"
             ],
             [
              0.1111111111111111,
              "#46039f"
             ],
             [
              0.2222222222222222,
              "#7201a8"
             ],
             [
              0.3333333333333333,
              "#9c179e"
             ],
             [
              0.4444444444444444,
              "#bd3786"
             ],
             [
              0.5555555555555556,
              "#d8576b"
             ],
             [
              0.6666666666666666,
              "#ed7953"
             ],
             [
              0.7777777777777778,
              "#fb9f3a"
             ],
             [
              0.8888888888888888,
              "#fdca26"
             ],
             [
              1,
              "#f0f921"
             ]
            ],
            "type": "heatmap"
           }
          ],
          "heatmapgl": [
           {
            "colorbar": {
             "outlinewidth": 0,
             "ticks": ""
            },
            "colorscale": [
             [
              0,
              "#0d0887"
             ],
             [
              0.1111111111111111,
              "#46039f"
             ],
             [
              0.2222222222222222,
              "#7201a8"
             ],
             [
              0.3333333333333333,
              "#9c179e"
             ],
             [
              0.4444444444444444,
              "#bd3786"
             ],
             [
              0.5555555555555556,
              "#d8576b"
             ],
             [
              0.6666666666666666,
              "#ed7953"
             ],
             [
              0.7777777777777778,
              "#fb9f3a"
             ],
             [
              0.8888888888888888,
              "#fdca26"
             ],
             [
              1,
              "#f0f921"
             ]
            ],
            "type": "heatmapgl"
           }
          ],
          "histogram": [
           {
            "marker": {
             "colorbar": {
              "outlinewidth": 0,
              "ticks": ""
             }
            },
            "type": "histogram"
           }
          ],
          "histogram2d": [
           {
            "colorbar": {
             "outlinewidth": 0,
             "ticks": ""
            },
            "colorscale": [
             [
              0,
              "#0d0887"
             ],
             [
              0.1111111111111111,
              "#46039f"
             ],
             [
              0.2222222222222222,
              "#7201a8"
             ],
             [
              0.3333333333333333,
              "#9c179e"
             ],
             [
              0.4444444444444444,
              "#bd3786"
             ],
             [
              0.5555555555555556,
              "#d8576b"
             ],
             [
              0.6666666666666666,
              "#ed7953"
             ],
             [
              0.7777777777777778,
              "#fb9f3a"
             ],
             [
              0.8888888888888888,
              "#fdca26"
             ],
             [
              1,
              "#f0f921"
             ]
            ],
            "type": "histogram2d"
           }
          ],
          "histogram2dcontour": [
           {
            "colorbar": {
             "outlinewidth": 0,
             "ticks": ""
            },
            "colorscale": [
             [
              0,
              "#0d0887"
             ],
             [
              0.1111111111111111,
              "#46039f"
             ],
             [
              0.2222222222222222,
              "#7201a8"
             ],
             [
              0.3333333333333333,
              "#9c179e"
             ],
             [
              0.4444444444444444,
              "#bd3786"
             ],
             [
              0.5555555555555556,
              "#d8576b"
             ],
             [
              0.6666666666666666,
              "#ed7953"
             ],
             [
              0.7777777777777778,
              "#fb9f3a"
             ],
             [
              0.8888888888888888,
              "#fdca26"
             ],
             [
              1,
              "#f0f921"
             ]
            ],
            "type": "histogram2dcontour"
           }
          ],
          "mesh3d": [
           {
            "colorbar": {
             "outlinewidth": 0,
             "ticks": ""
            },
            "type": "mesh3d"
           }
          ],
          "parcoords": [
           {
            "line": {
             "colorbar": {
              "outlinewidth": 0,
              "ticks": ""
             }
            },
            "type": "parcoords"
           }
          ],
          "pie": [
           {
            "automargin": true,
            "type": "pie"
           }
          ],
          "scatter": [
           {
            "marker": {
             "colorbar": {
              "outlinewidth": 0,
              "ticks": ""
             }
            },
            "type": "scatter"
           }
          ],
          "scatter3d": [
           {
            "line": {
             "colorbar": {
              "outlinewidth": 0,
              "ticks": ""
             }
            },
            "marker": {
             "colorbar": {
              "outlinewidth": 0,
              "ticks": ""
             }
            },
            "type": "scatter3d"
           }
          ],
          "scattercarpet": [
           {
            "marker": {
             "colorbar": {
              "outlinewidth": 0,
              "ticks": ""
             }
            },
            "type": "scattercarpet"
           }
          ],
          "scattergeo": [
           {
            "marker": {
             "colorbar": {
              "outlinewidth": 0,
              "ticks": ""
             }
            },
            "type": "scattergeo"
           }
          ],
          "scattergl": [
           {
            "marker": {
             "colorbar": {
              "outlinewidth": 0,
              "ticks": ""
             }
            },
            "type": "scattergl"
           }
          ],
          "scattermapbox": [
           {
            "marker": {
             "colorbar": {
              "outlinewidth": 0,
              "ticks": ""
             }
            },
            "type": "scattermapbox"
           }
          ],
          "scatterpolar": [
           {
            "marker": {
             "colorbar": {
              "outlinewidth": 0,
              "ticks": ""
             }
            },
            "type": "scatterpolar"
           }
          ],
          "scatterpolargl": [
           {
            "marker": {
             "colorbar": {
              "outlinewidth": 0,
              "ticks": ""
             }
            },
            "type": "scatterpolargl"
           }
          ],
          "scatterternary": [
           {
            "marker": {
             "colorbar": {
              "outlinewidth": 0,
              "ticks": ""
             }
            },
            "type": "scatterternary"
           }
          ],
          "surface": [
           {
            "colorbar": {
             "outlinewidth": 0,
             "ticks": ""
            },
            "colorscale": [
             [
              0,
              "#0d0887"
             ],
             [
              0.1111111111111111,
              "#46039f"
             ],
             [
              0.2222222222222222,
              "#7201a8"
             ],
             [
              0.3333333333333333,
              "#9c179e"
             ],
             [
              0.4444444444444444,
              "#bd3786"
             ],
             [
              0.5555555555555556,
              "#d8576b"
             ],
             [
              0.6666666666666666,
              "#ed7953"
             ],
             [
              0.7777777777777778,
              "#fb9f3a"
             ],
             [
              0.8888888888888888,
              "#fdca26"
             ],
             [
              1,
              "#f0f921"
             ]
            ],
            "type": "surface"
           }
          ],
          "table": [
           {
            "cells": {
             "fill": {
              "color": "#EBF0F8"
             },
             "line": {
              "color": "white"
             }
            },
            "header": {
             "fill": {
              "color": "#C8D4E3"
             },
             "line": {
              "color": "white"
             }
            },
            "type": "table"
           }
          ]
         },
         "layout": {
          "annotationdefaults": {
           "arrowcolor": "#2a3f5f",
           "arrowhead": 0,
           "arrowwidth": 1
          },
          "autotypenumbers": "strict",
          "coloraxis": {
           "colorbar": {
            "outlinewidth": 0,
            "ticks": ""
           }
          },
          "colorscale": {
           "diverging": [
            [
             0,
             "#8e0152"
            ],
            [
             0.1,
             "#c51b7d"
            ],
            [
             0.2,
             "#de77ae"
            ],
            [
             0.3,
             "#f1b6da"
            ],
            [
             0.4,
             "#fde0ef"
            ],
            [
             0.5,
             "#f7f7f7"
            ],
            [
             0.6,
             "#e6f5d0"
            ],
            [
             0.7,
             "#b8e186"
            ],
            [
             0.8,
             "#7fbc41"
            ],
            [
             0.9,
             "#4d9221"
            ],
            [
             1,
             "#276419"
            ]
           ],
           "sequential": [
            [
             0,
             "#0d0887"
            ],
            [
             0.1111111111111111,
             "#46039f"
            ],
            [
             0.2222222222222222,
             "#7201a8"
            ],
            [
             0.3333333333333333,
             "#9c179e"
            ],
            [
             0.4444444444444444,
             "#bd3786"
            ],
            [
             0.5555555555555556,
             "#d8576b"
            ],
            [
             0.6666666666666666,
             "#ed7953"
            ],
            [
             0.7777777777777778,
             "#fb9f3a"
            ],
            [
             0.8888888888888888,
             "#fdca26"
            ],
            [
             1,
             "#f0f921"
            ]
           ],
           "sequentialminus": [
            [
             0,
             "#0d0887"
            ],
            [
             0.1111111111111111,
             "#46039f"
            ],
            [
             0.2222222222222222,
             "#7201a8"
            ],
            [
             0.3333333333333333,
             "#9c179e"
            ],
            [
             0.4444444444444444,
             "#bd3786"
            ],
            [
             0.5555555555555556,
             "#d8576b"
            ],
            [
             0.6666666666666666,
             "#ed7953"
            ],
            [
             0.7777777777777778,
             "#fb9f3a"
            ],
            [
             0.8888888888888888,
             "#fdca26"
            ],
            [
             1,
             "#f0f921"
            ]
           ]
          },
          "colorway": [
           "#636efa",
           "#EF553B",
           "#00cc96",
           "#ab63fa",
           "#FFA15A",
           "#19d3f3",
           "#FF6692",
           "#B6E880",
           "#FF97FF",
           "#FECB52"
          ],
          "font": {
           "color": "#2a3f5f"
          },
          "geo": {
           "bgcolor": "white",
           "lakecolor": "white",
           "landcolor": "#E5ECF6",
           "showlakes": true,
           "showland": true,
           "subunitcolor": "white"
          },
          "hoverlabel": {
           "align": "left"
          },
          "hovermode": "closest",
          "mapbox": {
           "style": "light"
          },
          "paper_bgcolor": "white",
          "plot_bgcolor": "#E5ECF6",
          "polar": {
           "angularaxis": {
            "gridcolor": "white",
            "linecolor": "white",
            "ticks": ""
           },
           "bgcolor": "#E5ECF6",
           "radialaxis": {
            "gridcolor": "white",
            "linecolor": "white",
            "ticks": ""
           }
          },
          "scene": {
           "xaxis": {
            "backgroundcolor": "#E5ECF6",
            "gridcolor": "white",
            "gridwidth": 2,
            "linecolor": "white",
            "showbackground": true,
            "ticks": "",
            "zerolinecolor": "white"
           },
           "yaxis": {
            "backgroundcolor": "#E5ECF6",
            "gridcolor": "white",
            "gridwidth": 2,
            "linecolor": "white",
            "showbackground": true,
            "ticks": "",
            "zerolinecolor": "white"
           },
           "zaxis": {
            "backgroundcolor": "#E5ECF6",
            "gridcolor": "white",
            "gridwidth": 2,
            "linecolor": "white",
            "showbackground": true,
            "ticks": "",
            "zerolinecolor": "white"
           }
          },
          "shapedefaults": {
           "line": {
            "color": "#2a3f5f"
           }
          },
          "ternary": {
           "aaxis": {
            "gridcolor": "white",
            "linecolor": "white",
            "ticks": ""
           },
           "baxis": {
            "gridcolor": "white",
            "linecolor": "white",
            "ticks": ""
           },
           "bgcolor": "#E5ECF6",
           "caxis": {
            "gridcolor": "white",
            "linecolor": "white",
            "ticks": ""
           }
          },
          "title": {
           "x": 0.05
          },
          "xaxis": {
           "automargin": true,
           "gridcolor": "white",
           "linecolor": "white",
           "ticks": "",
           "title": {
            "standoff": 15
           },
           "zerolinecolor": "white",
           "zerolinewidth": 2
          },
          "yaxis": {
           "automargin": true,
           "gridcolor": "white",
           "linecolor": "white",
           "ticks": "",
           "title": {
            "standoff": 15
           },
           "zerolinecolor": "white",
           "zerolinewidth": 2
          }
         }
        },
        "title": {
         "text": "U.S. Real Median Household Income"
        }
       }
      },
      "text/html": [
       "<div>                            <div id=\"d792c142-c88a-48d0-8ecb-a4a9d80cd59f\" class=\"plotly-graph-div\" style=\"height:525px; width:100%;\"></div>            <script type=\"text/javascript\">                require([\"plotly\"], function(Plotly) {                    window.PLOTLYENV=window.PLOTLYENV || {};                                    if (document.getElementById(\"d792c142-c88a-48d0-8ecb-a4a9d80cd59f\")) {                    Plotly.newPlot(                        \"d792c142-c88a-48d0-8ecb-a4a9d80cd59f\",                        [{\"colorbar\": {\"title\": {\"text\": \"Household<br>Income\"}}, \"colorscale\": [[0.0, \"rgb(158,1,66)\"], [0.1, \"rgb(213,62,79)\"], [0.2, \"rgb(244,109,67)\"], [0.3, \"rgb(253,174,97)\"], [0.4, \"rgb(254,224,139)\"], [0.5, \"rgb(255,255,191)\"], [0.6, \"rgb(230,245,152)\"], [0.7, \"rgb(171,221,164)\"], [0.8, \"rgb(102,194,165)\"], [0.9, \"rgb(50,136,189)\"], [1.0, \"rgb(94,79,162)\"]], \"hoverinfo\": \"text\", \"locationmode\": \"USA-states\", \"locations\": [\"AL\", \"AK\", \"AZ\", \"AR\", \"CA\", \"CO\", \"CT\", \"DE\", \"DC\", \"FL\", \"GA\", \"HI\", \"ID\", \"IL\", \"IN\", \"IA\", \"KS\", \"KY\", \"LA\", \"ME\", \"MD\", \"MA\", \"MI\", \"MN\", \"MS\", \"MO\", \"MT\", \"NE\", \"NV\", \"NH\", \"NJ\", \"NM\", \"NY\", \"NC\", \"ND\", \"OH\", \"OK\", \"OR\", \"PA\", \"RI\", \"SC\", \"SD\", \"TN\", \"TX\", \"UT\", \"VT\", \"VA\", \"WA\", \"WV\", \"WI\", \"WY\"], \"text\": [\"State: Alabama                             <br>Household Income: $48,100\", \"State: Alaska                             <br>Household Income: $67,977\", \"State: Arizona                             <br>Household Income: $55,107\", \"State: Arkansas                             <br>Household Income: $45,343\", \"State: California                             <br>Household Income: $63,788\", \"State: Colorado                             <br>Household Income: $70,779\", \"State: Connecticut                             <br>Household Income: $77,554\", \"State: Delaware                             <br>Household Income: $64,882\", \"State: District of Columbia                             <br>Household Income: $66,896\", \"State: Florida                             <br>Household Income: $51,782\", \"State: Georgia                             <br>Household Income: $51,842\", \"State: Hawaii                             <br>Household Income: $69,964\", \"State: Idaho                             <br>Household Income: $55,288\", \"State: Illinois                             <br>Household Income: $59,610\", \"State: Indiana                             <br>Household Income: $54,218\", \"State: Iowa                             <br>Household Income: $57,598\", \"State: Kansas                             <br>Household Income: $54,118\", \"State: Kentucky                             <br>Household Income: $48,301\", \"State: Louisiana                             <br>Household Income: $46,181\", \"State: Maine                             <br>Household Income: $56,323\", \"State: Maryland                             <br>Household Income: $75,442\", \"State: Massachusetts                             <br>Household Income: $71,603\", \"State: Michigan                             <br>Household Income: $54,379\", \"State: Minnesota                             <br>Household Income: $61,482\", \"State: Mississippi                             <br>Household Income: $44,842\", \"State: Missouri                             <br>Household Income: $53,839\", \"State: Montana                             <br>Household Income: $48,508\", \"State: Nebraska                             <br>Household Income: $61,697\", \"State: Nevada                             <br>Household Income: $60,165\", \"State: New Hampshire                             <br>Household Income: $78,300\", \"State: New Jersey                             <br>Household Income: $73,993\", \"State: New Mexico                             <br>Household Income: $53,037\", \"State: New York                             <br>Household Income: $58,497\", \"State: North Carolina                             <br>Household Income: $51,504\", \"State: North Dakota                             <br>Household Income: $59,937\", \"State: Ohio                             <br>Household Income: $53,920\", \"State: Oklahoma                             <br>Household Income: $50,650\", \"State: Oregon                             <br>Household Income: $59,462\", \"State: Pennsylvania                             <br>Household Income: $56,773\", \"State: Rhode Island                             <br>Household Income: $60,662\", \"State: South Carolina                             <br>Household Income: $48,999\", \"State: South Dakota                             <br>Household Income: $53,293\", \"State: Tennessee                             <br>Household Income: $45,348\", \"State: Texas                             <br>Household Income: $55,542\", \"State: Utah                             <br>Household Income: $66,629\", \"State: Vermont                             <br>Household Income: $65,721\", \"State: Virginia                             <br>Household Income: $70,937\", \"State: Washington                             <br>Household Income: $65,997\", \"State: West Virginia                             <br>Household Income: $50,267\", \"State: Wisconsin                             <br>Household Income: $59,167\", \"State: Wyoming                             <br>Household Income: $61,341\"], \"type\": \"choropleth\", \"z\": [48100.0, 67977.0, 55107.0, 45343.0, 63788.0, 70779.0, 77554.0, 64882.0, 66896.0, 51782.0, 51842.0, 69964.0, 55288.0, 59610.0, 54218.0, 57598.0, 54118.0, 48301.0, 46181.0, 56323.0, 75442.0, 71603.0, 54379.0, 61482.0, 44842.0, 53839.0, 48508.0, 61697.0, 60165.0, 78300.0, 73993.0, 53037.0, 58497.0, 51504.0, 59937.0, 53920.0, 50650.0, 59462.0, 56773.0, 60662.0, 48999.0, 53293.0, 45348.0, 55542.0, 66629.0, 65721.0, 70937.0, 65997.0, 50267.0, 59167.0, 61341.0], \"zmax\": 95572, \"zmin\": 35548}, {\"colorbar\": {\"title\": {\"text\": \"Household<br>Income\"}}, \"colorscale\": [[0.0, \"rgb(158,1,66)\"], [0.1, \"rgb(213,62,79)\"], [0.2, \"rgb(244,109,67)\"], [0.3, \"rgb(253,174,97)\"], [0.4, \"rgb(254,224,139)\"], [0.5, \"rgb(255,255,191)\"], [0.6, \"rgb(230,245,152)\"], [0.7, \"rgb(171,221,164)\"], [0.8, \"rgb(102,194,165)\"], [0.9, \"rgb(50,136,189)\"], [1.0, \"rgb(94,79,162)\"]], \"hoverinfo\": \"text\", \"locationmode\": \"USA-states\", \"locations\": [\"AL\", \"AK\", \"AZ\", \"AR\", \"CA\", \"CO\", \"CT\", \"DE\", \"DC\", \"FL\", \"GA\", \"HI\", \"ID\", \"IL\", \"IN\", \"IA\", \"KS\", \"KY\", \"LA\", \"ME\", \"MD\", \"MA\", \"MI\", \"MN\", \"MS\", \"MO\", \"MT\", \"NE\", \"NV\", \"NH\", \"NJ\", \"NM\", \"NY\", \"NC\", \"ND\", \"OH\", \"OK\", \"OR\", \"PA\", \"RI\", \"SC\", \"SD\", \"TN\", \"TX\", \"UT\", \"VT\", \"VA\", \"WA\", \"WV\", \"WI\", \"WY\"], \"text\": [\"State: Alabama                             <br>Household Income: $48,518\", \"State: Alaska                             <br>Household Income: $65,424\", \"State: Arizona                             <br>Household Income: $55,388\", \"State: Arkansas                             <br>Household Income: $47,051\", \"State: California                             <br>Household Income: $60,795\", \"State: Colorado                             <br>Household Income: $66,789\", \"State: Connecticut                             <br>Household Income: $74,520\", \"State: Delaware                             <br>Household Income: $62,268\", \"State: District of Columbia                             <br>Household Income: $62,941\", \"State: Florida                             <br>Household Income: $51,383\", \"State: Georgia                             <br>Household Income: $52,372\", \"State: Hawaii                             <br>Household Income: $67,265\", \"State: Idaho                             <br>Household Income: $54,064\", \"State: Illinois                             <br>Household Income: $57,685\", \"State: Indiana                             <br>Household Income: $50,631\", \"State: Iowa                             <br>Household Income: $57,209\", \"State: Kansas                             <br>Household Income: $52,570\", \"State: Kentucky                             <br>Household Income: $45,403\", \"State: Louisiana                             <br>Household Income: $46,317\", \"State: Maine                             <br>Household Income: $56,609\", \"State: Maryland                             <br>Household Income: $78,462\", \"State: Massachusetts                             <br>Household Income: $72,125\", \"State: Michigan                             <br>Household Income: $55,682\", \"State: Minnesota                             <br>Household Income: $65,868\", \"State: Mississippi                             <br>Household Income: $46,809\", \"State: Missouri                             <br>Household Income: $52,145\", \"State: Montana                             <br>Household Income: $45,883\", \"State: Nebraska                             <br>Household Income: $63,357\", \"State: Nevada                             <br>Household Income: $53,591\", \"State: New Hampshire                             <br>Household Income: $75,049\", \"State: New Jersey                             <br>Household Income: $71,014\", \"State: New Mexico                             <br>Household Income: $47,825\", \"State: New York                             <br>Household Income: $57,684\", \"State: North Carolina                             <br>Household Income: $51,498\", \"State: North Dakota                             <br>Household Income: $64,205\", \"State: Ohio                             <br>Household Income: $50,862\", \"State: Oklahoma                             <br>Household Income: $55,199\", \"State: Oregon                             <br>Household Income: $58,698\", \"State: Pennsylvania                             <br>Household Income: $56,857\", \"State: Rhode Island                             <br>Household Income: $55,858\", \"State: South Carolina                             <br>Household Income: $45,663\", \"State: South Dakota                             <br>Household Income: $53,796\", \"State: Tennessee                             <br>Household Income: $48,164\", \"State: Texas                             <br>Household Income: $55,874\", \"State: Utah                             <br>Household Income: $63,217\", \"State: Vermont                             <br>Household Income: $59,080\", \"State: Virginia                             <br>Household Income: $71,331\", \"State: Washington                             <br>Household Income: $64,763\", \"State: West Virginia                             <br>Household Income: $47,642\", \"State: Wisconsin                             <br>Household Income: $59,304\", \"State: Wyoming                             <br>Household Income: $62,096\"], \"type\": \"choropleth\", \"z\": [48518.0, 65424.0, 55388.0, 47051.0, 60795.0, 66789.0, 74520.0, 62268.0, 62941.0, 51383.0, 52372.0, 67265.0, 54064.0, 57685.0, 50631.0, 57209.0, 52570.0, 45403.0, 46317.0, 56609.0, 78462.0, 72125.0, 55682.0, 65868.0, 46809.0, 52145.0, 45883.0, 63357.0, 53591.0, 75049.0, 71014.0, 47825.0, 57684.0, 51498.0, 64205.0, 50862.0, 55199.0, 58698.0, 56857.0, 55858.0, 45663.0, 53796.0, 48164.0, 55874.0, 63217.0, 59080.0, 71331.0, 64763.0, 47642.0, 59304.0, 62096.0], \"zmax\": 95572, \"zmin\": 35548}, {\"colorbar\": {\"title\": {\"text\": \"Household<br>Income\"}}, \"colorscale\": [[0.0, \"rgb(158,1,66)\"], [0.1, \"rgb(213,62,79)\"], [0.2, \"rgb(244,109,67)\"], [0.3, \"rgb(253,174,97)\"], [0.4, \"rgb(254,224,139)\"], [0.5, \"rgb(255,255,191)\"], [0.6, \"rgb(230,245,152)\"], [0.7, \"rgb(171,221,164)\"], [0.8, \"rgb(102,194,165)\"], [0.9, \"rgb(50,136,189)\"], [1.0, \"rgb(94,79,162)\"]], \"hoverinfo\": \"text\", \"locationmode\": \"USA-states\", \"locations\": [\"AL\", \"AK\", \"AZ\", \"AR\", \"CA\", \"CO\", \"CT\", \"DE\", \"DC\", \"FL\", \"GA\", \"HI\", \"ID\", \"IL\", \"IN\", \"IA\", \"KS\", \"KY\", \"LA\", \"ME\", \"MD\", \"MA\", \"MI\", \"MN\", \"MS\", \"MO\", \"MT\", \"NE\", \"NV\", \"NH\", \"NJ\", \"NM\", \"NY\", \"NC\", \"ND\", \"OH\", \"OK\", \"OR\", \"PA\", \"RI\", \"SC\", \"SD\", \"TN\", \"TX\", \"UT\", \"VT\", \"VA\", \"WA\", \"WV\", \"WI\", \"WY\"], \"text\": [\"State: Alabama                             <br>Household Income: $48,487\", \"State: Alaska                             <br>Household Income: $71,003\", \"State: Arizona                             <br>Household Income: $52,480\", \"State: Arkansas                             <br>Household Income: $43,527\", \"State: California                             <br>Household Income: $63,609\", \"State: Colorado                             <br>Household Income: $63,871\", \"State: Connecticut                             <br>Household Income: $71,671\", \"State: Delaware                             <br>Household Income: $54,631\", \"State: District of Columbia                             <br>Household Income: $72,786\", \"State: Florida                             <br>Household Income: $51,395\", \"State: Georgia                             <br>Household Income: $53,682\", \"State: Hawaii                             <br>Household Income: $62,765\", \"State: Idaho                             <br>Household Income: $53,460\", \"State: Illinois                             <br>Household Income: $57,717\", \"State: Indiana                             <br>Household Income: $51,492\", \"State: Iowa                             <br>Household Income: $59,618\", \"State: Kansas                             <br>Household Income: $55,781\", \"State: Kentucky                             <br>Household Income: $45,834\", \"State: Louisiana                             <br>Household Income: $43,601\", \"State: Maine                             <br>Household Income: $54,838\", \"State: Maryland                             <br>Household Income: $80,137\", \"State: Massachusetts                             <br>Household Income: $71,012\", \"State: Michigan                             <br>Household Income: $55,795\", \"State: Minnesota                             <br>Household Income: $68,936\", \"State: Mississippi                             <br>Household Income: $40,875\", \"State: Missouri                             <br>Household Income: $55,515\", \"State: Montana                             <br>Household Income: $50,298\", \"State: Nebraska                             <br>Household Income: $58,228\", \"State: Nevada                             <br>Household Income: $52,803\", \"State: New Hampshire                             <br>Household Income: $75,656\", \"State: New Jersey                             <br>Household Income: $74,399\", \"State: New Mexico                             <br>Household Income: $48,442\", \"State: New York                             <br>Household Income: $53,190\", \"State: North Carolina                             <br>Household Income: $46,355\", \"State: North Dakota                             <br>Household Income: $62,210\", \"State: Ohio                             <br>Household Income: $49,503\", \"State: Oklahoma                             <br>Household Income: $54,001\", \"State: Oregon                             <br>Household Income: $57,758\", \"State: Pennsylvania                             <br>Household Income: $57,902\", \"State: Rhode Island                             <br>Household Income: $62,544\", \"State: South Carolina                             <br>Household Income: $49,532\", \"State: South Dakota                             <br>Household Income: $55,125\", \"State: Tennessee                             <br>Household Income: $47,963\", \"State: Texas                             <br>Household Income: $57,926\", \"State: Utah                             <br>Household Income: $65,083\", \"State: Vermont                             <br>Household Income: $62,005\", \"State: Virginia                             <br>Household Income: $72,101\", \"State: Washington                             <br>Household Income: $69,373\", \"State: West Virginia                             <br>Household Income: $48,586\", \"State: Wisconsin                             <br>Household Income: $59,213\", \"State: Wyoming                             <br>Household Income: $64,158\"], \"type\": \"choropleth\", \"z\": [48487.0, 71003.0, 52480.0, 43527.0, 63609.0, 63871.0, 71671.0, 54631.0, 72786.0, 51395.0, 53682.0, 62765.0, 53460.0, 57717.0, 51492.0, 59618.0, 55781.0, 45834.0, 43601.0, 54838.0, 80137.0, 71012.0, 55795.0, 68936.0, 40875.0, 55515.0, 50298.0, 58228.0, 52803.0, 75656.0, 74399.0, 48442.0, 53190.0, 46355.0, 62210.0, 49503.0, 54001.0, 57758.0, 57902.0, 62544.0, 49532.0, 55125.0, 47963.0, 57926.0, 65083.0, 62005.0, 72101.0, 69373.0, 48586.0, 59213.0, 64158.0], \"zmax\": 95572, \"zmin\": 35548}, {\"colorbar\": {\"title\": {\"text\": \"Household<br>Income\"}}, \"colorscale\": [[0.0, \"rgb(158,1,66)\"], [0.1, \"rgb(213,62,79)\"], [0.2, \"rgb(244,109,67)\"], [0.3, \"rgb(253,174,97)\"], [0.4, \"rgb(254,224,139)\"], [0.5, \"rgb(255,255,191)\"], [0.6, \"rgb(230,245,152)\"], [0.7, \"rgb(171,221,164)\"], [0.8, \"rgb(102,194,165)\"], [0.9, \"rgb(50,136,189)\"], [1.0, \"rgb(94,79,162)\"]], \"hoverinfo\": \"text\", \"locationmode\": \"USA-states\", \"locations\": [\"AL\", \"AK\", \"AZ\", \"AR\", \"CA\", \"CO\", \"CT\", \"DE\", \"DC\", \"FL\", \"GA\", \"HI\", \"ID\", \"IL\", \"IN\", \"IA\", \"KS\", \"KY\", \"LA\", \"ME\", \"MD\", \"MA\", \"MI\", \"MN\", \"MS\", \"MO\", \"MT\", \"NE\", \"NV\", \"NH\", \"NJ\", \"NM\", \"NY\", \"NC\", \"ND\", \"OH\", \"OK\", \"OR\", \"PA\", \"RI\", \"SC\", \"SD\", \"TN\", \"TX\", \"UT\", \"VT\", \"VA\", \"WA\", \"WV\", \"WI\", \"WY\"], \"text\": [\"State: Alabama                             <br>Household Income: $52,017\", \"State: Alaska                             <br>Household Income: $79,666\", \"State: Arizona                             <br>Household Income: $57,834\", \"State: Arkansas                             <br>Household Income: $43,285\", \"State: California                             <br>Household Income: $66,829\", \"State: Colorado                             <br>Household Income: $74,654\", \"State: Connecticut                             <br>Household Income: $76,170\", \"State: Delaware                             <br>Household Income: $59,461\", \"State: District of Columbia                             <br>Household Income: $66,019\", \"State: Florida                             <br>Household Income: $53,350\", \"State: Georgia                             <br>Household Income: $51,657\", \"State: Hawaii                             <br>Household Income: $70,612\", \"State: Idaho                             <br>Household Income: $53,278\", \"State: Illinois                             <br>Household Income: $59,291\", \"State: Indiana                             <br>Household Income: $54,364\", \"State: Iowa                             <br>Household Income: $66,128\", \"State: Kansas                             <br>Household Income: $52,567\", \"State: Kentucky                             <br>Household Income: $49,334\", \"State: Louisiana                             <br>Household Income: $51,034\", \"State: Maine                             <br>Household Income: $60,413\", \"State: Maryland                             <br>Household Income: $76,238\", \"State: Massachusetts                             <br>Household Income: $68,736\", \"State: Michigan                             <br>Household Income: $62,182\", \"State: Minnesota                             <br>Household Income: $70,709\", \"State: Mississippi                             <br>Household Income: $35,548\", \"State: Missouri                             <br>Household Income: $50,900\", \"State: Montana                             <br>Household Income: $47,490\", \"State: Nebraska                             <br>Household Income: $63,343\", \"State: Nevada                             <br>Household Income: $56,993\", \"State: New Hampshire                             <br>Household Income: $75,958\", \"State: New Jersey                             <br>Household Income: $70,083\", \"State: New Mexico                             <br>Household Income: $44,153\", \"State: New York                             <br>Household Income: $54,926\", \"State: North Carolina                             <br>Household Income: $50,937\", \"State: North Dakota                             <br>Household Income: $65,024\", \"State: Ohio                             <br>Household Income: $55,786\", \"State: Oklahoma                             <br>Household Income: $50,745\", \"State: Oregon                             <br>Household Income: $53,863\", \"State: Pennsylvania                             <br>Household Income: $60,631\", \"State: Rhode Island                             <br>Household Income: $61,914\", \"State: South Carolina                             <br>Household Income: $47,888\", \"State: South Dakota                             <br>Household Income: $58,715\", \"State: Tennessee                             <br>Household Income: $47,665\", \"State: Texas                             <br>Household Income: $56,509\", \"State: Utah                             <br>Household Income: $67,107\", \"State: Vermont                             <br>Household Income: $72,016\", \"State: Virginia                             <br>Household Income: $72,450\", \"State: Washington                             <br>Household Income: $70,268\", \"State: West Virginia                             <br>Household Income: $47,344\", \"State: Wisconsin                             <br>Household Income: $56,861\", \"State: Wyoming                             <br>Household Income: $74,136\"], \"type\": \"choropleth\", \"z\": [52017.0, 79666.0, 57834.0, 43285.0, 66829.0, 74654.0, 76170.0, 59461.0, 66019.0, 53350.0, 51657.0, 70612.0, 53278.0, 59291.0, 54364.0, 66128.0, 52567.0, 49334.0, 51034.0, 60413.0, 76238.0, 68736.0, 62182.0, 70709.0, 35548.0, 50900.0, 47490.0, 63343.0, 56993.0, 75958.0, 70083.0, 44153.0, 54926.0, 50937.0, 65024.0, 55786.0, 50745.0, 53863.0, 60631.0, 61914.0, 47888.0, 58715.0, 47665.0, 56509.0, 67107.0, 72016.0, 72450.0, 70268.0, 47344.0, 56861.0, 74136.0], \"zmax\": 95572, \"zmin\": 35548}, {\"colorbar\": {\"title\": {\"text\": \"Household<br>Income\"}}, \"colorscale\": [[0.0, \"rgb(158,1,66)\"], [0.1, \"rgb(213,62,79)\"], [0.2, \"rgb(244,109,67)\"], [0.3, \"rgb(253,174,97)\"], [0.4, \"rgb(254,224,139)\"], [0.5, \"rgb(255,255,191)\"], [0.6, \"rgb(230,245,152)\"], [0.7, \"rgb(171,221,164)\"], [0.8, \"rgb(102,194,165)\"], [0.9, \"rgb(50,136,189)\"], [1.0, \"rgb(94,79,162)\"]], \"hoverinfo\": \"text\", \"locationmode\": \"USA-states\", \"locations\": [\"AL\", \"AK\", \"AZ\", \"AR\", \"CA\", \"CO\", \"CT\", \"DE\", \"DC\", \"FL\", \"GA\", \"HI\", \"ID\", \"IL\", \"IN\", \"IA\", \"KS\", \"KY\", \"LA\", \"ME\", \"MD\", \"MA\", \"MI\", \"MN\", \"MS\", \"MO\", \"MT\", \"NE\", \"NV\", \"NH\", \"NJ\", \"NM\", \"NY\", \"NC\", \"ND\", \"OH\", \"OK\", \"OR\", \"PA\", \"RI\", \"SC\", \"SD\", \"TN\", \"TX\", \"UT\", \"VT\", \"VA\", \"WA\", \"WV\", \"WI\", \"WY\"], \"text\": [\"State: Alabama                             <br>Household Income: $45,701\", \"State: Alaska                             <br>Household Income: $73,105\", \"State: Arizona                             <br>Household Income: $53,242\", \"State: Arkansas                             <br>Household Income: $48,559\", \"State: California                             <br>Household Income: $65,384\", \"State: Colorado                             <br>Household Income: $65,874\", \"State: Connecticut                             <br>Household Income: $75,842\", \"State: Delaware                             <br>Household Income: $62,179\", \"State: District of Columbia                             <br>Household Income: $73,805\", \"State: Florida                             <br>Household Income: $49,876\", \"State: Georgia                             <br>Household Income: $53,567\", \"State: Hawaii                             <br>Household Income: $76,990\", \"State: Idaho                             <br>Household Income: $57,765\", \"State: Illinois                             <br>Household Income: $59,362\", \"State: Indiana                             <br>Household Income: $51,951\", \"State: Iowa                             <br>Household Income: $62,491\", \"State: Kansas                             <br>Household Income: $57,771\", \"State: Kentucky                             <br>Household Income: $46,250\", \"State: Louisiana                             <br>Household Income: $45,839\", \"State: Maine                             <br>Household Income: $55,897\", \"State: Maryland                             <br>Household Income: $82,332\", \"State: Massachusetts                             <br>Household Income: $68,264\", \"State: Michigan                             <br>Household Income: $56,216\", \"State: Minnesota                             <br>Household Income: $72,688\", \"State: Mississippi                             <br>Household Income: $38,397\", \"State: Missouri                             <br>Household Income: $61,215\", \"State: Montana                             <br>Household Income: $55,239\", \"State: Nebraska                             <br>Household Income: $61,474\", \"State: Nevada                             <br>Household Income: $53,913\", \"State: New Hampshire                             <br>Household Income: $79,340\", \"State: New Jersey                             <br>Household Income: $70,525\", \"State: New Mexico                             <br>Household Income: $50,466\", \"State: New York                             <br>Household Income: $58,707\", \"State: North Carolina                             <br>Household Income: $50,572\", \"State: North Dakota                             <br>Household Income: $65,647\", \"State: Ohio                             <br>Household Income: $53,663\", \"State: Oklahoma                             <br>Household Income: $51,020\", \"State: Oregon                             <br>Household Income: $63,642\", \"State: Pennsylvania                             <br>Household Income: $59,640\", \"State: Rhode Island                             <br>Household Income: $63,380\", \"State: South Carolina                             <br>Household Income: $48,567\", \"State: South Dakota                             <br>Household Income: $57,348\", \"State: Tennessee                             <br>Household Income: $47,255\", \"State: Texas                             <br>Household Income: $58,237\", \"State: Utah                             <br>Household Income: $68,515\", \"State: Vermont                             <br>Household Income: $65,623\", \"State: Virginia                             <br>Household Income: $71,511\", \"State: Washington                             <br>Household Income: $63,850\", \"State: West Virginia                             <br>Household Income: $42,754\", \"State: Wisconsin                             <br>Household Income: $62,782\", \"State: Wyoming                             <br>Household Income: $60,199\"], \"type\": \"choropleth\", \"z\": [45701.0, 73105.0, 53242.0, 48559.0, 65384.0, 65874.0, 75842.0, 62179.0, 73805.0, 49876.0, 53567.0, 76990.0, 57765.0, 59362.0, 51951.0, 62491.0, 57771.0, 46250.0, 45839.0, 55897.0, 82332.0, 68264.0, 56216.0, 72688.0, 38397.0, 61215.0, 55239.0, 61474.0, 53913.0, 79340.0, 70525.0, 50466.0, 58707.0, 50572.0, 65647.0, 53663.0, 51020.0, 63642.0, 59640.0, 63380.0, 48567.0, 57348.0, 47255.0, 58237.0, 68515.0, 65623.0, 71511.0, 63850.0, 42754.0, 62782.0, 60199.0], \"zmax\": 95572, \"zmin\": 35548}, {\"colorbar\": {\"title\": {\"text\": \"Household<br>Income\"}}, \"colorscale\": [[0.0, \"rgb(158,1,66)\"], [0.1, \"rgb(213,62,79)\"], [0.2, \"rgb(244,109,67)\"], [0.3, \"rgb(253,174,97)\"], [0.4, \"rgb(254,224,139)\"], [0.5, \"rgb(255,255,191)\"], [0.6, \"rgb(230,245,152)\"], [0.7, \"rgb(171,221,164)\"], [0.8, \"rgb(102,194,165)\"], [0.9, \"rgb(50,136,189)\"], [1.0, \"rgb(94,79,162)\"]], \"hoverinfo\": \"text\", \"locationmode\": \"USA-states\", \"locations\": [\"AL\", \"AK\", \"AZ\", \"AR\", \"CA\", \"CO\", \"CT\", \"DE\", \"DC\", \"FL\", \"GA\", \"HI\", \"ID\", \"IL\", \"IN\", \"IA\", \"KS\", \"KY\", \"LA\", \"ME\", \"MD\", \"MA\", \"MI\", \"MN\", \"MS\", \"MO\", \"MT\", \"NE\", \"NV\", \"NH\", \"NJ\", \"NM\", \"NY\", \"NC\", \"ND\", \"OH\", \"OK\", \"OR\", \"PA\", \"RI\", \"SC\", \"SD\", \"TN\", \"TX\", \"UT\", \"VT\", \"VA\", \"WA\", \"WV\", \"WI\", \"WY\"], \"text\": [\"State: Alabama                             <br>Household Income: $48,030\", \"State: Alaska                             <br>Household Income: $81,054\", \"State: Arizona                             <br>Household Income: $56,381\", \"State: Arkansas                             <br>Household Income: $46,184\", \"State: California                             <br>Household Income: $68,670\", \"State: Colorado                             <br>Household Income: $71,864\", \"State: Connecticut                             <br>Household Income: $78,655\", \"State: Delaware                             <br>Household Income: $62,325\", \"State: District of Columbia                             <br>Household Income: $75,614\", \"State: Florida                             <br>Household Income: $52,687\", \"State: Georgia                             <br>Household Income: $54,784\", \"State: Hawaii                             <br>Household Income: $69,617\", \"State: Idaho                             <br>Household Income: $55,708\", \"State: Illinois                             <br>Household Income: $65,192\", \"State: Indiana                             <br>Household Income: $56,095\", \"State: Iowa                             <br>Household Income: $65,669\", \"State: Kansas                             <br>Household Income: $59,205\", \"State: Kentucky                             <br>Household Income: $45,740\", \"State: Louisiana                             <br>Household Income: $49,555\", \"State: Maine                             <br>Household Income: $54,771\", \"State: Maryland                             <br>Household Income: $79,416\", \"State: Massachusetts                             <br>Household Income: $73,229\", \"State: Michigan                             <br>Household Income: $58,491\", \"State: Minnesota                             <br>Household Income: $74,167\", \"State: Mississippi                             <br>Household Income: $43,204\", \"State: Missouri                             <br>Household Income: $63,879\", \"State: Montana                             <br>Household Income: $55,461\", \"State: Nebraska                             <br>Household Income: $65,258\", \"State: Nevada                             <br>Household Income: $56,122\", \"State: New Hampshire                             <br>Household Income: $81,661\", \"State: New Jersey                             <br>Household Income: $73,764\", \"State: New Mexico                             <br>Household Income: $48,688\", \"State: New York                             <br>Household Income: $62,594\", \"State: North Carolina                             <br>Household Income: $54,815\", \"State: North Dakota                             <br>Household Income: $61,957\", \"State: Ohio                             <br>Household Income: $57,517\", \"State: Oklahoma                             <br>Household Income: $50,801\", \"State: Oregon                             <br>Household Income: $65,646\", \"State: Pennsylvania                             <br>Household Income: $65,166\", \"State: Rhode Island                             <br>Household Income: $60,107\", \"State: South Carolina                             <br>Household Income: $50,027\", \"State: South Dakota                             <br>Household Income: $59,421\", \"State: Tennessee                             <br>Household Income: $51,074\", \"State: Texas                             <br>Household Income: $60,940\", \"State: Utah                             <br>Household Income: $71,499\", \"State: Vermont                             <br>Household Income: $64,200\", \"State: Virginia                             <br>Household Income: $66,350\", \"State: Washington                             <br>Household Income: $72,562\", \"State: West Virginia                             <br>Household Income: $46,212\", \"State: Wisconsin                             <br>Household Income: $59,809\", \"State: Wyoming                             <br>Household Income: $65,745\"], \"type\": \"choropleth\", \"z\": [48030.0, 81054.0, 56381.0, 46184.0, 68670.0, 71864.0, 78655.0, 62325.0, 75614.0, 52687.0, 54784.0, 69617.0, 55708.0, 65192.0, 56095.0, 65669.0, 59205.0, 45740.0, 49555.0, 54771.0, 79416.0, 73229.0, 58491.0, 74167.0, 43204.0, 63879.0, 55461.0, 65258.0, 56122.0, 81661.0, 73764.0, 48688.0, 62594.0, 54815.0, 61957.0, 57517.0, 50801.0, 65646.0, 65166.0, 60107.0, 50027.0, 59421.0, 51074.0, 60940.0, 71499.0, 64200.0, 66350.0, 72562.0, 46212.0, 59809.0, 65745.0], \"zmax\": 95572, \"zmin\": 35548}, {\"colorbar\": {\"title\": {\"text\": \"Household<br>Income\"}}, \"colorscale\": [[0.0, \"rgb(158,1,66)\"], [0.1, \"rgb(213,62,79)\"], [0.2, \"rgb(244,109,67)\"], [0.3, \"rgb(253,174,97)\"], [0.4, \"rgb(254,224,139)\"], [0.5, \"rgb(255,255,191)\"], [0.6, \"rgb(230,245,152)\"], [0.7, \"rgb(171,221,164)\"], [0.8, \"rgb(102,194,165)\"], [0.9, \"rgb(50,136,189)\"], [1.0, \"rgb(94,79,162)\"]], \"hoverinfo\": \"text\", \"locationmode\": \"USA-states\", \"locations\": [\"AL\", \"AK\", \"AZ\", \"AR\", \"CA\", \"CO\", \"CT\", \"DE\", \"DC\", \"FL\", \"GA\", \"HI\", \"ID\", \"IL\", \"IN\", \"IA\", \"KS\", \"KY\", \"LA\", \"ME\", \"MD\", \"MA\", \"MI\", \"MN\", \"MS\", \"MO\", \"MT\", \"NE\", \"NV\", \"NH\", \"NJ\", \"NM\", \"NY\", \"NC\", \"ND\", \"OH\", \"OK\", \"OR\", \"PA\", \"RI\", \"SC\", \"SD\", \"TN\", \"TX\", \"UT\", \"VT\", \"VA\", \"WA\", \"WV\", \"WI\", \"WY\"], \"text\": [\"State: Alabama                             <br>Household Income: $50,308\", \"State: Alaska                             <br>Household Income: $80,673\", \"State: Arizona                             <br>Household Income: $60,832\", \"State: Arkansas                             <br>Household Income: $48,908\", \"State: California                             <br>Household Income: $70,993\", \"State: Colorado                             <br>Household Income: $75,179\", \"State: Connecticut                             <br>Household Income: $80,886\", \"State: Delaware                             <br>Household Income: $61,840\", \"State: District of Columbia                             <br>Household Income: $75,622\", \"State: Florida                             <br>Household Income: $54,521\", \"State: Georgia                             <br>Household Income: $57,026\", \"State: Hawaii                             <br>Household Income: $76,848\", \"State: Idaho                             <br>Household Income: $60,261\", \"State: Illinois                             <br>Household Income: $65,398\", \"State: Indiana                             <br>Household Income: $59,761\", \"State: Iowa                             <br>Household Income: $62,957\", \"State: Kansas                             <br>Household Income: $60,523\", \"State: Kentucky                             <br>Household Income: $48,335\", \"State: Louisiana                             <br>Household Income: $44,954\", \"State: Maine                             <br>Household Income: $54,180\", \"State: Maryland                             <br>Household Income: $78,581\", \"State: Massachusetts                             <br>Household Income: $76,990\", \"State: Michigan                             <br>Household Income: $60,823\", \"State: Minnesota                             <br>Household Income: $74,808\", \"State: Mississippi                             <br>Household Income: $43,785\", \"State: Missouri                             <br>Household Income: $58,612\", \"State: Montana                             <br>Household Income: $60,806\", \"State: Nebraska                             <br>Household Income: $63,255\", \"State: Nevada                             <br>Household Income: $59,054\", \"State: New Hampshire                             <br>Household Income: $81,245\", \"State: New Jersey                             <br>Household Income: $72,943\", \"State: New Mexico                             <br>Household Income: $51,618\", \"State: New York                             <br>Household Income: $65,453\", \"State: North Carolina                             <br>Household Income: $57,278\", \"State: North Dakota                             <br>Household Income: $64,118\", \"State: Ohio                             <br>Household Income: $57,514\", \"State: Oklahoma                             <br>Household Income: $54,273\", \"State: Oregon                             <br>Household Income: $63,000\", \"State: Pennsylvania                             <br>Household Income: $64,965\", \"State: Rhode Island                             <br>Household Income: $65,550\", \"State: South Carolina                             <br>Household Income: $57,888\", \"State: South Dakota                             <br>Household Income: $61,205\", \"State: Tennessee                             <br>Household Income: $54,700\", \"State: Texas                             <br>Household Income: $61,947\", \"State: Utah                             <br>Household Income: $71,892\", \"State: Vermont                             <br>Household Income: $64,814\", \"State: Virginia                             <br>Household Income: $70,795\", \"State: Washington                             <br>Household Income: $74,906\", \"State: West Virginia                             <br>Household Income: $47,253\", \"State: Wisconsin                             <br>Household Income: $63,727\", \"State: Wyoming                             <br>Household Income: $61,609\"], \"type\": \"choropleth\", \"z\": [50308.0, 80673.0, 60832.0, 48908.0, 70993.0, 75179.0, 80886.0, 61840.0, 75622.0, 54521.0, 57026.0, 76848.0, 60261.0, 65398.0, 59761.0, 62957.0, 60523.0, 48335.0, 44954.0, 54180.0, 78581.0, 76990.0, 60823.0, 74808.0, 43785.0, 58612.0, 60806.0, 63255.0, 59054.0, 81245.0, 72943.0, 51618.0, 65453.0, 57278.0, 64118.0, 57514.0, 54273.0, 63000.0, 64965.0, 65550.0, 57888.0, 61205.0, 54700.0, 61947.0, 71892.0, 64814.0, 70795.0, 74906.0, 47253.0, 63727.0, 61609.0], \"zmax\": 95572, \"zmin\": 35548}, {\"colorbar\": {\"title\": {\"text\": \"Household<br>Income\"}}, \"colorscale\": [[0.0, \"rgb(158,1,66)\"], [0.1, \"rgb(213,62,79)\"], [0.2, \"rgb(244,109,67)\"], [0.3, \"rgb(253,174,97)\"], [0.4, \"rgb(254,224,139)\"], [0.5, \"rgb(255,255,191)\"], [0.6, \"rgb(230,245,152)\"], [0.7, \"rgb(171,221,164)\"], [0.8, \"rgb(102,194,165)\"], [0.9, \"rgb(50,136,189)\"], [1.0, \"rgb(94,79,162)\"]], \"hoverinfo\": \"text\", \"locationmode\": \"USA-states\", \"locations\": [\"AL\", \"AK\", \"AZ\", \"AR\", \"CA\", \"CO\", \"CT\", \"DE\", \"DC\", \"FL\", \"GA\", \"HI\", \"ID\", \"IL\", \"IN\", \"IA\", \"KS\", \"KY\", \"LA\", \"ME\", \"MD\", \"MA\", \"MI\", \"MN\", \"MS\", \"MO\", \"MT\", \"NE\", \"NV\", \"NH\", \"NJ\", \"NM\", \"NY\", \"NC\", \"ND\", \"OH\", \"OK\", \"OR\", \"PA\", \"RI\", \"SC\", \"SD\", \"TN\", \"TX\", \"UT\", \"VT\", \"VA\", \"WA\", \"WV\", \"WI\", \"WY\"], \"text\": [\"State: Alabama                             <br>Household Income: $53,049\", \"State: Alaska                             <br>Household Income: $81,335\", \"State: Arizona                             <br>Household Income: $62,263\", \"State: Arkansas                             <br>Household Income: $51,887\", \"State: California                             <br>Household Income: $73,045\", \"State: Colorado                             <br>Household Income: $78,204\", \"State: Connecticut                             <br>Household Income: $77,494\", \"State: Delaware                             <br>Household Income: $67,750\", \"State: District of Columbia                             <br>Household Income: $84,772\", \"State: Florida                             <br>Household Income: $55,365\", \"State: Georgia                             <br>Household Income: $60,475\", \"State: Hawaii                             <br>Household Income: $76,759\", \"State: Idaho                             <br>Household Income: $62,052\", \"State: Illinois                             <br>Household Income: $68,801\", \"State: Indiana                             <br>Household Income: $61,290\", \"State: Iowa                             <br>Household Income: $66,192\", \"State: Kansas                             <br>Household Income: $59,343\", \"State: Kentucky                             <br>Household Income: $51,805\", \"State: Louisiana                             <br>Household Income: $45,436\", \"State: Maine                             <br>Household Income: $55,605\", \"State: Maryland                             <br>Household Income: $85,618\", \"State: Massachusetts                             <br>Household Income: $79,517\", \"State: Michigan                             <br>Household Income: $58,827\", \"State: Minnesota                             <br>Household Income: $72,979\", \"State: Mississippi                             <br>Household Income: $45,139\", \"State: Missouri                             <br>Household Income: $58,957\", \"State: Montana                             <br>Household Income: $59,872\", \"State: Nebraska                             <br>Household Income: $62,141\", \"State: Nevada                             <br>Household Income: $60,533\", \"State: New Hampshire                             <br>Household Income: $78,877\", \"State: New Jersey                             <br>Household Income: $74,299\", \"State: New Mexico                             <br>Household Income: $47,559\", \"State: New York                             <br>Household Income: $64,185\", \"State: North Carolina                             <br>Household Income: $51,674\", \"State: North Dakota                             <br>Household Income: $62,750\", \"State: Ohio                             <br>Household Income: $63,294\", \"State: Oklahoma                             <br>Household Income: $54,110\", \"State: Oregon                             <br>Household Income: $65,181\", \"State: Pennsylvania                             <br>Household Income: $63,916\", \"State: Rhode Island                             <br>Household Income: $68,209\", \"State: South Carolina                             <br>Household Income: $56,879\", \"State: South Dakota                             <br>Household Income: $59,358\", \"State: Tennessee                             <br>Household Income: $57,681\", \"State: Texas                             <br>Household Income: $62,672\", \"State: Utah                             <br>Household Income: $72,785\", \"State: Vermont                             <br>Household Income: $66,416\", \"State: Virginia                             <br>Household Income: $73,851\", \"State: Washington                             <br>Household Income: $74,612\", \"State: West Virginia                             <br>Household Income: $48,973\", \"State: Wisconsin                             <br>Household Income: $66,208\", \"State: Wyoming                             <br>Household Income: $62,092\"], \"type\": \"choropleth\", \"z\": [53049.0, 81335.0, 62263.0, 51887.0, 73045.0, 78204.0, 77494.0, 67750.0, 84772.0, 55365.0, 60475.0, 76759.0, 62052.0, 68801.0, 61290.0, 66192.0, 59343.0, 51805.0, 45436.0, 55605.0, 85618.0, 79517.0, 58827.0, 72979.0, 45139.0, 58957.0, 59872.0, 62141.0, 60533.0, 78877.0, 74299.0, 47559.0, 64185.0, 51674.0, 62750.0, 63294.0, 54110.0, 65181.0, 63916.0, 68209.0, 56879.0, 59358.0, 57681.0, 62672.0, 72785.0, 66416.0, 73851.0, 74612.0, 48973.0, 66208.0, 62092.0], \"zmax\": 95572, \"zmin\": 35548}, {\"colorbar\": {\"title\": {\"text\": \"Household<br>Income\"}}, \"colorscale\": [[0.0, \"rgb(158,1,66)\"], [0.1, \"rgb(213,62,79)\"], [0.2, \"rgb(244,109,67)\"], [0.3, \"rgb(253,174,97)\"], [0.4, \"rgb(254,224,139)\"], [0.5, \"rgb(255,255,191)\"], [0.6, \"rgb(230,245,152)\"], [0.7, \"rgb(171,221,164)\"], [0.8, \"rgb(102,194,165)\"], [0.9, \"rgb(50,136,189)\"], [1.0, \"rgb(94,79,162)\"]], \"hoverinfo\": \"text\", \"locationmode\": \"USA-states\", \"locations\": [\"AL\", \"AK\", \"AZ\", \"AR\", \"CA\", \"CO\", \"CT\", \"DE\", \"DC\", \"FL\", \"GA\", \"HI\", \"ID\", \"IL\", \"IN\", \"IA\", \"KS\", \"KY\", \"LA\", \"ME\", \"MD\", \"MA\", \"MI\", \"MN\", \"MS\", \"MO\", \"MT\", \"NE\", \"NV\", \"NH\", \"NJ\", \"NM\", \"NY\", \"NC\", \"ND\", \"OH\", \"OK\", \"OR\", \"PA\", \"RI\", \"SC\", \"SD\", \"TN\", \"TX\", \"UT\", \"VT\", \"VA\", \"WA\", \"WV\", \"WI\", \"WY\"], \"text\": [\"State: Alabama                             <br>Household Income: $50,841\", \"State: Alaska                             <br>Household Income: $69,979\", \"State: Arizona                             <br>Household Income: $63,411\", \"State: Arkansas                             <br>Household Income: $50,683\", \"State: California                             <br>Household Income: $71,766\", \"State: Colorado                             <br>Household Income: $74,357\", \"State: Connecticut                             <br>Household Income: $74,131\", \"State: Delaware                             <br>Household Income: $66,190\", \"State: District of Columbia                             <br>Household Income: $87,304\", \"State: Florida                             <br>Household Income: $55,634\", \"State: Georgia                             <br>Household Income: $56,832\", \"State: Hawaii                             <br>Household Income: $81,559\", \"State: Idaho                             <br>Household Income: $59,792\", \"State: Illinois                             <br>Household Income: $71,416\", \"State: Indiana                             <br>Household Income: $60,977\", \"State: Iowa                             <br>Household Income: $69,963\", \"State: Kansas                             <br>Household Income: $65,096\", \"State: Kentucky                             <br>Household Income: $55,543\", \"State: Louisiana                             <br>Household Income: $50,878\", \"State: Maine                             <br>Household Income: $59,726\", \"State: Maryland                             <br>Household Income: $87,785\", \"State: Massachusetts                             <br>Household Income: $87,909\", \"State: Michigan                             <br>Household Income: $61,544\", \"State: Minnesota                             <br>Household Income: $73,118\", \"State: Mississippi                             <br>Household Income: $43,556\", \"State: Missouri                             <br>Household Income: $62,844\", \"State: Montana                             <br>Household Income: $58,724\", \"State: Nebraska                             <br>Household Income: $68,799\", \"State: Nevada                             <br>Household Income: $62,985\", \"State: New Hampshire                             <br>Household Income: $82,820\", \"State: New Jersey                             <br>Household Income: $75,520\", \"State: New Mexico                             <br>Household Income: $49,158\", \"State: New York                             <br>Household Income: $68,493\", \"State: North Carolina                             <br>Household Income: $54,336\", \"State: North Dakota                             <br>Household Income: $67,710\", \"State: Ohio                             <br>Household Income: $62,750\", \"State: Oklahoma                             <br>Household Income: $55,420\", \"State: Oregon                             <br>Household Income: $70,418\", \"State: Pennsylvania                             <br>Household Income: $65,693\", \"State: Rhode Island                             <br>Household Income: $63,394\", \"State: South Carolina                             <br>Household Income: $58,485\", \"State: South Dakota                             <br>Household Income: $60,540\", \"State: Tennessee                             <br>Household Income: $57,076\", \"State: Texas                             <br>Household Income: $60,868\", \"State: Utah                             <br>Household Income: $78,463\", \"State: Vermont                             <br>Household Income: $71,335\", \"State: Virginia                             <br>Household Income: $78,549\", \"State: Washington                             <br>Household Income: $81,170\", \"State: West Virginia                             <br>Household Income: $51,489\", \"State: Wisconsin                             <br>Household Income: $63,764\", \"State: Wyoming                             <br>Household Income: $63,672\"], \"type\": \"choropleth\", \"z\": [50841.0, 69979.0, 63411.0, 50683.0, 71766.0, 74357.0, 74131.0, 66190.0, 87304.0, 55634.0, 56832.0, 81559.0, 59792.0, 71416.0, 60977.0, 69963.0, 65096.0, 55543.0, 50878.0, 59726.0, 87785.0, 87909.0, 61544.0, 73118.0, 43556.0, 62844.0, 58724.0, 68799.0, 62985.0, 82820.0, 75520.0, 49158.0, 68493.0, 54336.0, 67710.0, 62750.0, 55420.0, 70418.0, 65693.0, 63394.0, 58485.0, 60540.0, 57076.0, 60868.0, 78463.0, 71335.0, 78549.0, 81170.0, 51489.0, 63764.0, 63672.0], \"zmax\": 95572, \"zmin\": 35548}, {\"colorbar\": {\"title\": {\"text\": \"Household<br>Income\"}}, \"colorscale\": [[0.0, \"rgb(158,1,66)\"], [0.1, \"rgb(213,62,79)\"], [0.2, \"rgb(244,109,67)\"], [0.3, \"rgb(253,174,97)\"], [0.4, \"rgb(254,224,139)\"], [0.5, \"rgb(255,255,191)\"], [0.6, \"rgb(230,245,152)\"], [0.7, \"rgb(171,221,164)\"], [0.8, \"rgb(102,194,165)\"], [0.9, \"rgb(50,136,189)\"], [1.0, \"rgb(94,79,162)\"]], \"hoverinfo\": \"text\", \"locationmode\": \"USA-states\", \"locations\": [\"AL\", \"AK\", \"AZ\", \"AR\", \"CA\", \"CO\", \"CT\", \"DE\", \"DC\", \"FL\", \"GA\", \"HI\", \"ID\", \"IL\", \"IN\", \"IA\", \"KS\", \"KY\", \"LA\", \"ME\", \"MD\", \"MA\", \"MI\", \"MN\", \"MS\", \"MO\", \"MT\", \"NE\", \"NV\", \"NH\", \"NJ\", \"NM\", \"NY\", \"NC\", \"ND\", \"OH\", \"OK\", \"OR\", \"PA\", \"RI\", \"SC\", \"SD\", \"TN\", \"TX\", \"UT\", \"VT\", \"VA\", \"WA\", \"WV\", \"WI\", \"WY\"], \"text\": [\"State: Alabama                             <br>Household Income: $56,200\", \"State: Alaska                             <br>Household Income: $78,394\", \"State: Arizona                             <br>Household Income: $70,674\", \"State: Arkansas                             <br>Household Income: $54,539\", \"State: California                             <br>Household Income: $78,105\", \"State: Colorado                             <br>Household Income: $72,499\", \"State: Connecticut                             <br>Household Income: $87,291\", \"State: Delaware                             <br>Household Income: $74,194\", \"State: District of Columbia                             <br>Household Income: $93,111\", \"State: Florida                             <br>Household Income: $58,368\", \"State: Georgia                             <br>Household Income: $56,628\", \"State: Hawaii                             <br>Household Income: $88,006\", \"State: Idaho                             <br>Household Income: $65,988\", \"State: Illinois                             <br>Household Income: $74,399\", \"State: Indiana                             <br>Household Income: $66,693\", \"State: Iowa                             <br>Household Income: $66,054\", \"State: Kansas                             <br>Household Income: $73,151\", \"State: Kentucky                             <br>Household Income: $55,662\", \"State: Louisiana                             <br>Household Income: $51,707\", \"State: Maine                             <br>Household Income: $66,546\", \"State: Maryland                             <br>Household Income: $95,572\", \"State: Massachusetts                             <br>Household Income: $87,707\", \"State: Michigan                             <br>Household Income: $64,119\", \"State: Minnesota                             <br>Household Income: $81,426\", \"State: Mississippi                             <br>Household Income: $44,787\", \"State: Missouri                             <br>Household Income: $60,597\", \"State: Montana                             <br>Household Income: $60,195\", \"State: Nebraska                             <br>Household Income: $73,071\", \"State: Nevada                             <br>Household Income: $70,906\", \"State: New Hampshire                             <br>Household Income: $86,900\", \"State: New Jersey                             <br>Household Income: $87,726\", \"State: New Mexico                             <br>Household Income: $53,113\", \"State: New York                             <br>Household Income: $71,855\", \"State: North Carolina                             <br>Household Income: $61,159\", \"State: North Dakota                             <br>Household Income: $70,031\", \"State: Ohio                             <br>Household Income: $64,663\", \"State: Oklahoma                             <br>Household Income: $59,397\", \"State: Oregon                             <br>Household Income: $74,413\", \"State: Pennsylvania                             <br>Household Income: $70,582\", \"State: Rhode Island                             <br>Household Income: $70,151\", \"State: South Carolina                             <br>Household Income: $62,028\", \"State: South Dakota                             <br>Household Income: $64,255\", \"State: Tennessee                             <br>Household Income: $56,627\", \"State: Texas                             <br>Household Income: $67,444\", \"State: Utah                             <br>Household Income: $84,523\", \"State: Vermont                             <br>Household Income: $74,305\", \"State: Virginia                             <br>Household Income: $81,313\", \"State: Washington                             <br>Household Income: $82,454\", \"State: West Virginia                             <br>Household Income: $53,706\", \"State: Wisconsin                             <br>Household Income: $67,355\", \"State: Wyoming                             <br>Household Income: $65,134\"], \"type\": \"choropleth\", \"z\": [56200.0, 78394.0, 70674.0, 54539.0, 78105.0, 72499.0, 87291.0, 74194.0, 93111.0, 58368.0, 56628.0, 88006.0, 65988.0, 74399.0, 66693.0, 66054.0, 73151.0, 55662.0, 51707.0, 66546.0, 95572.0, 87707.0, 64119.0, 81426.0, 44787.0, 60597.0, 60195.0, 73071.0, 70906.0, 86900.0, 87726.0, 53113.0, 71855.0, 61159.0, 70031.0, 64663.0, 59397.0, 74413.0, 70582.0, 70151.0, 62028.0, 64255.0, 56627.0, 67444.0, 84523.0, 74305.0, 81313.0, 82454.0, 53706.0, 67355.0, 65134.0], \"zmax\": 95572, \"zmin\": 35548}],                        {\"geo\": {\"projection\": {\"type\": \"albers usa\"}, \"scope\": \"usa\"}, \"sliders\": [{\"active\": 9, \"pad\": {\"t\": 1}, \"steps\": [{\"args\": [\"visible\", [true, false, false, false, false, false, false, false, false, false]], \"label\": \"Year 2010\", \"method\": \"restyle\"}, {\"args\": [\"visible\", [false, true, false, false, false, false, false, false, false, false]], \"label\": \"Year 2011\", \"method\": \"restyle\"}, {\"args\": [\"visible\", [false, false, true, false, false, false, false, false, false, false]], \"label\": \"Year 2012\", \"method\": \"restyle\"}, {\"args\": [\"visible\", [false, false, false, true, false, false, false, false, false, false]], \"label\": \"Year 2013\", \"method\": \"restyle\"}, {\"args\": [\"visible\", [false, false, false, false, true, false, false, false, false, false]], \"label\": \"Year 2014\", \"method\": \"restyle\"}, {\"args\": [\"visible\", [false, false, false, false, false, true, false, false, false, false]], \"label\": \"Year 2015\", \"method\": \"restyle\"}, {\"args\": [\"visible\", [false, false, false, false, false, false, true, false, false, false]], \"label\": \"Year 2016\", \"method\": \"restyle\"}, {\"args\": [\"visible\", [false, false, false, false, false, false, false, true, false, false]], \"label\": \"Year 2017\", \"method\": \"restyle\"}, {\"args\": [\"visible\", [false, false, false, false, false, false, false, false, true, false]], \"label\": \"Year 2018\", \"method\": \"restyle\"}, {\"args\": [\"visible\", [false, false, false, false, false, false, false, false, false, true]], \"label\": \"Year 2019\", \"method\": \"restyle\"}]}], \"template\": {\"data\": {\"bar\": [{\"error_x\": {\"color\": \"#2a3f5f\"}, \"error_y\": {\"color\": \"#2a3f5f\"}, \"marker\": {\"line\": {\"color\": \"#E5ECF6\", \"width\": 0.5}}, \"type\": \"bar\"}], \"barpolar\": [{\"marker\": {\"line\": {\"color\": \"#E5ECF6\", \"width\": 0.5}}, \"type\": \"barpolar\"}], \"carpet\": [{\"aaxis\": {\"endlinecolor\": \"#2a3f5f\", \"gridcolor\": \"white\", \"linecolor\": \"white\", \"minorgridcolor\": \"white\", \"startlinecolor\": \"#2a3f5f\"}, \"baxis\": {\"endlinecolor\": \"#2a3f5f\", \"gridcolor\": \"white\", \"linecolor\": \"white\", \"minorgridcolor\": \"white\", \"startlinecolor\": \"#2a3f5f\"}, \"type\": \"carpet\"}], \"choropleth\": [{\"colorbar\": {\"outlinewidth\": 0, \"ticks\": \"\"}, \"type\": \"choropleth\"}], \"contour\": [{\"colorbar\": {\"outlinewidth\": 0, \"ticks\": \"\"}, \"colorscale\": [[0.0, \"#0d0887\"], [0.1111111111111111, \"#46039f\"], [0.2222222222222222, \"#7201a8\"], [0.3333333333333333, \"#9c179e\"], [0.4444444444444444, \"#bd3786\"], [0.5555555555555556, \"#d8576b\"], [0.6666666666666666, \"#ed7953\"], [0.7777777777777778, \"#fb9f3a\"], [0.8888888888888888, \"#fdca26\"], [1.0, \"#f0f921\"]], \"type\": \"contour\"}], \"contourcarpet\": [{\"colorbar\": {\"outlinewidth\": 0, \"ticks\": \"\"}, \"type\": \"contourcarpet\"}], \"heatmap\": [{\"colorbar\": {\"outlinewidth\": 0, \"ticks\": \"\"}, \"colorscale\": [[0.0, \"#0d0887\"], [0.1111111111111111, \"#46039f\"], [0.2222222222222222, \"#7201a8\"], [0.3333333333333333, \"#9c179e\"], [0.4444444444444444, \"#bd3786\"], [0.5555555555555556, \"#d8576b\"], [0.6666666666666666, \"#ed7953\"], [0.7777777777777778, \"#fb9f3a\"], [0.8888888888888888, \"#fdca26\"], [1.0, \"#f0f921\"]], \"type\": \"heatmap\"}], \"heatmapgl\": [{\"colorbar\": {\"outlinewidth\": 0, \"ticks\": \"\"}, \"colorscale\": [[0.0, \"#0d0887\"], [0.1111111111111111, \"#46039f\"], [0.2222222222222222, \"#7201a8\"], [0.3333333333333333, \"#9c179e\"], [0.4444444444444444, \"#bd3786\"], [0.5555555555555556, \"#d8576b\"], [0.6666666666666666, \"#ed7953\"], [0.7777777777777778, \"#fb9f3a\"], [0.8888888888888888, \"#fdca26\"], [1.0, \"#f0f921\"]], \"type\": \"heatmapgl\"}], \"histogram\": [{\"marker\": {\"colorbar\": {\"outlinewidth\": 0, \"ticks\": \"\"}}, \"type\": \"histogram\"}], \"histogram2d\": [{\"colorbar\": {\"outlinewidth\": 0, \"ticks\": \"\"}, \"colorscale\": [[0.0, \"#0d0887\"], [0.1111111111111111, \"#46039f\"], [0.2222222222222222, \"#7201a8\"], [0.3333333333333333, \"#9c179e\"], [0.4444444444444444, \"#bd3786\"], [0.5555555555555556, \"#d8576b\"], [0.6666666666666666, \"#ed7953\"], [0.7777777777777778, \"#fb9f3a\"], [0.8888888888888888, \"#fdca26\"], [1.0, \"#f0f921\"]], \"type\": \"histogram2d\"}], \"histogram2dcontour\": [{\"colorbar\": {\"outlinewidth\": 0, \"ticks\": \"\"}, \"colorscale\": [[0.0, \"#0d0887\"], [0.1111111111111111, \"#46039f\"], [0.2222222222222222, \"#7201a8\"], [0.3333333333333333, \"#9c179e\"], [0.4444444444444444, \"#bd3786\"], [0.5555555555555556, \"#d8576b\"], [0.6666666666666666, \"#ed7953\"], [0.7777777777777778, \"#fb9f3a\"], [0.8888888888888888, \"#fdca26\"], [1.0, \"#f0f921\"]], \"type\": \"histogram2dcontour\"}], \"mesh3d\": [{\"colorbar\": {\"outlinewidth\": 0, \"ticks\": \"\"}, \"type\": \"mesh3d\"}], \"parcoords\": [{\"line\": {\"colorbar\": {\"outlinewidth\": 0, \"ticks\": \"\"}}, \"type\": \"parcoords\"}], \"pie\": [{\"automargin\": true, \"type\": \"pie\"}], \"scatter\": [{\"marker\": {\"colorbar\": {\"outlinewidth\": 0, \"ticks\": \"\"}}, \"type\": \"scatter\"}], \"scatter3d\": [{\"line\": {\"colorbar\": {\"outlinewidth\": 0, \"ticks\": \"\"}}, \"marker\": {\"colorbar\": {\"outlinewidth\": 0, \"ticks\": \"\"}}, \"type\": \"scatter3d\"}], \"scattercarpet\": [{\"marker\": {\"colorbar\": {\"outlinewidth\": 0, \"ticks\": \"\"}}, \"type\": \"scattercarpet\"}], \"scattergeo\": [{\"marker\": {\"colorbar\": {\"outlinewidth\": 0, \"ticks\": \"\"}}, \"type\": \"scattergeo\"}], \"scattergl\": [{\"marker\": {\"colorbar\": {\"outlinewidth\": 0, \"ticks\": \"\"}}, \"type\": \"scattergl\"}], \"scattermapbox\": [{\"marker\": {\"colorbar\": {\"outlinewidth\": 0, \"ticks\": \"\"}}, \"type\": \"scattermapbox\"}], \"scatterpolar\": [{\"marker\": {\"colorbar\": {\"outlinewidth\": 0, \"ticks\": \"\"}}, \"type\": \"scatterpolar\"}], \"scatterpolargl\": [{\"marker\": {\"colorbar\": {\"outlinewidth\": 0, \"ticks\": \"\"}}, \"type\": \"scatterpolargl\"}], \"scatterternary\": [{\"marker\": {\"colorbar\": {\"outlinewidth\": 0, \"ticks\": \"\"}}, \"type\": \"scatterternary\"}], \"surface\": [{\"colorbar\": {\"outlinewidth\": 0, \"ticks\": \"\"}, \"colorscale\": [[0.0, \"#0d0887\"], [0.1111111111111111, \"#46039f\"], [0.2222222222222222, \"#7201a8\"], [0.3333333333333333, \"#9c179e\"], [0.4444444444444444, \"#bd3786\"], [0.5555555555555556, \"#d8576b\"], [0.6666666666666666, \"#ed7953\"], [0.7777777777777778, \"#fb9f3a\"], [0.8888888888888888, \"#fdca26\"], [1.0, \"#f0f921\"]], \"type\": \"surface\"}], \"table\": [{\"cells\": {\"fill\": {\"color\": \"#EBF0F8\"}, \"line\": {\"color\": \"white\"}}, \"header\": {\"fill\": {\"color\": \"#C8D4E3\"}, \"line\": {\"color\": \"white\"}}, \"type\": \"table\"}]}, \"layout\": {\"annotationdefaults\": {\"arrowcolor\": \"#2a3f5f\", \"arrowhead\": 0, \"arrowwidth\": 1}, \"autotypenumbers\": \"strict\", \"coloraxis\": {\"colorbar\": {\"outlinewidth\": 0, \"ticks\": \"\"}}, \"colorscale\": {\"diverging\": [[0, \"#8e0152\"], [0.1, \"#c51b7d\"], [0.2, \"#de77ae\"], [0.3, \"#f1b6da\"], [0.4, \"#fde0ef\"], [0.5, \"#f7f7f7\"], [0.6, \"#e6f5d0\"], [0.7, \"#b8e186\"], [0.8, \"#7fbc41\"], [0.9, \"#4d9221\"], [1, \"#276419\"]], \"sequential\": [[0.0, \"#0d0887\"], [0.1111111111111111, \"#46039f\"], [0.2222222222222222, \"#7201a8\"], [0.3333333333333333, \"#9c179e\"], [0.4444444444444444, \"#bd3786\"], [0.5555555555555556, \"#d8576b\"], [0.6666666666666666, \"#ed7953\"], [0.7777777777777778, \"#fb9f3a\"], [0.8888888888888888, \"#fdca26\"], [1.0, \"#f0f921\"]], \"sequentialminus\": [[0.0, \"#0d0887\"], [0.1111111111111111, \"#46039f\"], [0.2222222222222222, \"#7201a8\"], [0.3333333333333333, \"#9c179e\"], [0.4444444444444444, \"#bd3786\"], [0.5555555555555556, \"#d8576b\"], [0.6666666666666666, \"#ed7953\"], [0.7777777777777778, \"#fb9f3a\"], [0.8888888888888888, \"#fdca26\"], [1.0, \"#f0f921\"]]}, \"colorway\": [\"#636efa\", \"#EF553B\", \"#00cc96\", \"#ab63fa\", \"#FFA15A\", \"#19d3f3\", \"#FF6692\", \"#B6E880\", \"#FF97FF\", \"#FECB52\"], \"font\": {\"color\": \"#2a3f5f\"}, \"geo\": {\"bgcolor\": \"white\", \"lakecolor\": \"white\", \"landcolor\": \"#E5ECF6\", \"showlakes\": true, \"showland\": true, \"subunitcolor\": \"white\"}, \"hoverlabel\": {\"align\": \"left\"}, \"hovermode\": \"closest\", \"mapbox\": {\"style\": \"light\"}, \"paper_bgcolor\": \"white\", \"plot_bgcolor\": \"#E5ECF6\", \"polar\": {\"angularaxis\": {\"gridcolor\": \"white\", \"linecolor\": \"white\", \"ticks\": \"\"}, \"bgcolor\": \"#E5ECF6\", \"radialaxis\": {\"gridcolor\": \"white\", \"linecolor\": \"white\", \"ticks\": \"\"}}, \"scene\": {\"xaxis\": {\"backgroundcolor\": \"#E5ECF6\", \"gridcolor\": \"white\", \"gridwidth\": 2, \"linecolor\": \"white\", \"showbackground\": true, \"ticks\": \"\", \"zerolinecolor\": \"white\"}, \"yaxis\": {\"backgroundcolor\": \"#E5ECF6\", \"gridcolor\": \"white\", \"gridwidth\": 2, \"linecolor\": \"white\", \"showbackground\": true, \"ticks\": \"\", \"zerolinecolor\": \"white\"}, \"zaxis\": {\"backgroundcolor\": \"#E5ECF6\", \"gridcolor\": \"white\", \"gridwidth\": 2, \"linecolor\": \"white\", \"showbackground\": true, \"ticks\": \"\", \"zerolinecolor\": \"white\"}}, \"shapedefaults\": {\"line\": {\"color\": \"#2a3f5f\"}}, \"ternary\": {\"aaxis\": {\"gridcolor\": \"white\", \"linecolor\": \"white\", \"ticks\": \"\"}, \"baxis\": {\"gridcolor\": \"white\", \"linecolor\": \"white\", \"ticks\": \"\"}, \"bgcolor\": \"#E5ECF6\", \"caxis\": {\"gridcolor\": \"white\", \"linecolor\": \"white\", \"ticks\": \"\"}}, \"title\": {\"x\": 0.05}, \"xaxis\": {\"automargin\": true, \"gridcolor\": \"white\", \"linecolor\": \"white\", \"ticks\": \"\", \"title\": {\"standoff\": 15}, \"zerolinecolor\": \"white\", \"zerolinewidth\": 2}, \"yaxis\": {\"automargin\": true, \"gridcolor\": \"white\", \"linecolor\": \"white\", \"ticks\": \"\", \"title\": {\"standoff\": 15}, \"zerolinecolor\": \"white\", \"zerolinewidth\": 2}}}, \"title\": {\"text\": \"U.S. Real Median Household Income\"}},                        {\"responsive\": true}                    ).then(function(){\n",
       "                            \n",
       "var gd = document.getElementById('d792c142-c88a-48d0-8ecb-a4a9d80cd59f');\n",
       "var x = new MutationObserver(function (mutations, observer) {{\n",
       "        var display = window.getComputedStyle(gd).display;\n",
       "        if (!display || display === 'none') {{\n",
       "            console.log([gd, 'removed!']);\n",
       "            Plotly.purge(gd);\n",
       "            observer.disconnect();\n",
       "        }}\n",
       "}});\n",
       "\n",
       "// Listen for the removal of the full notebook cells\n",
       "var notebookContainer = gd.closest('#notebook-container');\n",
       "if (notebookContainer) {{\n",
       "    x.observe(notebookContainer, {childList: true});\n",
       "}}\n",
       "\n",
       "// Listen for the clearing of the current output cell\n",
       "var outputEl = gd.closest('.output');\n",
       "if (outputEl) {{\n",
       "    x.observe(outputEl, {childList: true});\n",
       "}}\n",
       "\n",
       "                        })                };                });            </script>        </div>"
      ]
     },
     "metadata": {},
     "output_type": "display_data"
    }
   ],
   "source": [
    "plotly.offline.init_notebook_mode(connected=True)\n",
    "# api key.  note: I intend to delete this key so if you copy this code please request a free key from the FRED site so that \n",
    "# your code will not suddenly stop working unexpectedly. \n",
    "data = dpf.data('39a76a8c8154c31e8243a777ce48430b')\n",
    "\n",
    "# first year of geo data\n",
    "start_year = 2010\n",
    "start_date = datetime.datetime.strptime(str(start_year), '%Y')\n",
    "\n",
    "# Real Median Household Income\n",
    "df = data.geo(series_id='MEHOINUSALA672N',start_date=start_date.date())\n",
    "\n",
    "# plotly built in state choropleth expects a location of a two character state code\n",
    "df['State']  = df.series_id.apply(lambda x: x[8:10])\n",
    "\n",
    "df = df.astype('str')\n",
    "\n",
    "# all fields are of datatype object, want the value field to be numeric so that plotly colouring is continuous\n",
    "df['value'] = pd.to_numeric(df['value'])\n",
    "\n",
    "z_max = df['value'].max()\n",
    "z_min = df['value'].min()\n",
    "\n",
    "data_slider = []\n",
    "for year in df['_date'].unique():\n",
    "    df_segmented =  df[(df['_date']== year)]\n",
    "\n",
    "\n",
    "    data_each_yr = dict(\n",
    "                        type='choropleth',\n",
    "                        locations = df_segmented['State'],\n",
    "                        z=df_segmented['value'].astype(float),\n",
    "                        zmax = z_max, \n",
    "                        zmin = z_min, \n",
    "                        locationmode='USA-states',\n",
    "                        colorscale = 'spectral',\n",
    "                        text=df_segmented.apply(lambda row: \"State: {} \\\n",
    "                            <br>Household Income: ${:,}\" .format(row['region'],int(row['value'])), axis=1),  \n",
    "                        hoverinfo=\"text\",\n",
    "                        colorbar= {'title':'Household<br>Income'}\n",
    "                    )\n",
    "\n",
    "    data_slider.append(data_each_yr)\n",
    "       \n",
    "steps = []\n",
    "for i in range(len(data_slider)):\n",
    "    step = dict(method='restyle',\n",
    "                args=['visible', [False] * len(data_slider)],\n",
    "                label='Year {}'.format(i + start_year))\n",
    "    step['args'][1][i] = True\n",
    "    steps.append(step)\n",
    "\n",
    "\n",
    "sliders = [dict(active=len(steps) - 1, pad={\"t\": 1}, steps=steps)]\n",
    "\n",
    "layout = dict(title ='U.S. Real Median Household Income', \n",
    "                geo=dict(scope='usa',projection={'type': 'albers usa'}),\n",
    "                sliders=sliders)\n",
    "\n",
    "fig = go.Figure(\n",
    "    data=data_slider,\n",
    "    layout=layout\n",
    ")\n",
    "\n",
    "#fig.show()\n",
    "plotly.offline.iplot(fig)"
   ]
  },
  {
   "cell_type": "code",
   "execution_count": 6,
   "metadata": {},
   "outputs": [
    {
     "data": {
      "text/html": [
       "        <script type=\"text/javascript\">\n",
       "        window.PlotlyConfig = {MathJaxConfig: 'local'};\n",
       "        if (window.MathJax) {MathJax.Hub.Config({SVG: {font: \"STIX-Web\"}});}\n",
       "        if (typeof require !== 'undefined') {\n",
       "        require.undef(\"plotly\");\n",
       "        requirejs.config({\n",
       "            paths: {\n",
       "                'plotly': ['https://cdn.plot.ly/plotly-latest.min']\n",
       "            }\n",
       "        });\n",
       "        require(['plotly'], function(Plotly) {\n",
       "            window._Plotly = Plotly;\n",
       "        });\n",
       "        }\n",
       "        </script>\n",
       "        "
      ]
     },
     "metadata": {},
     "output_type": "display_data"
    },
    {
     "data": {
      "application/vnd.plotly.v1+json": {
       "config": {
        "linkText": "Export to plot.ly",
        "plotlyServerURL": "https://plot.ly",
        "showLink": false
       },
       "data": [
        {
         "colorbar": {
          "title": {
           "text": "Household<br>Income"
          }
         },
         "colorscale": [
          [
           0,
           "rgb(158,1,66)"
          ],
          [
           0.1,
           "rgb(213,62,79)"
          ],
          [
           0.2,
           "rgb(244,109,67)"
          ],
          [
           0.3,
           "rgb(253,174,97)"
          ],
          [
           0.4,
           "rgb(254,224,139)"
          ],
          [
           0.5,
           "rgb(255,255,191)"
          ],
          [
           0.6,
           "rgb(230,245,152)"
          ],
          [
           0.7,
           "rgb(171,221,164)"
          ],
          [
           0.8,
           "rgb(102,194,165)"
          ],
          [
           0.9,
           "rgb(50,136,189)"
          ],
          [
           1,
           "rgb(94,79,162)"
          ]
         ],
         "hoverinfo": "text",
         "locationmode": "USA-states",
         "locations": [
          "AL",
          "AK",
          "AZ",
          "AR",
          "CA",
          "CO",
          "CT",
          "DE",
          "DC",
          "FL",
          "GA",
          "HI",
          "ID",
          "IL",
          "IN",
          "IA",
          "KS",
          "KY",
          "LA",
          "ME",
          "MD",
          "MA",
          "MI",
          "MN",
          "MS",
          "MO",
          "MT",
          "NE",
          "NV",
          "NH",
          "NJ",
          "NM",
          "NY",
          "NC",
          "ND",
          "OH",
          "OK",
          "OR",
          "PA",
          "RI",
          "SC",
          "SD",
          "TN",
          "TX",
          "UT",
          "VT",
          "VA",
          "WA",
          "WV",
          "WI",
          "WY"
         ],
         "text": [
          "State: Alabama                             <br>Household Income: $48,100",
          "State: Alaska                             <br>Household Income: $67,977",
          "State: Arizona                             <br>Household Income: $55,107",
          "State: Arkansas                             <br>Household Income: $45,343",
          "State: California                             <br>Household Income: $63,788",
          "State: Colorado                             <br>Household Income: $70,779",
          "State: Connecticut                             <br>Household Income: $77,554",
          "State: Delaware                             <br>Household Income: $64,882",
          "State: District of Columbia                             <br>Household Income: $66,896",
          "State: Florida                             <br>Household Income: $51,782",
          "State: Georgia                             <br>Household Income: $51,842",
          "State: Hawaii                             <br>Household Income: $69,964",
          "State: Idaho                             <br>Household Income: $55,288",
          "State: Illinois                             <br>Household Income: $59,610",
          "State: Indiana                             <br>Household Income: $54,218",
          "State: Iowa                             <br>Household Income: $57,598",
          "State: Kansas                             <br>Household Income: $54,118",
          "State: Kentucky                             <br>Household Income: $48,301",
          "State: Louisiana                             <br>Household Income: $46,181",
          "State: Maine                             <br>Household Income: $56,323",
          "State: Maryland                             <br>Household Income: $75,442",
          "State: Massachusetts                             <br>Household Income: $71,603",
          "State: Michigan                             <br>Household Income: $54,379",
          "State: Minnesota                             <br>Household Income: $61,482",
          "State: Mississippi                             <br>Household Income: $44,842",
          "State: Missouri                             <br>Household Income: $53,839",
          "State: Montana                             <br>Household Income: $48,508",
          "State: Nebraska                             <br>Household Income: $61,697",
          "State: Nevada                             <br>Household Income: $60,165",
          "State: New Hampshire                             <br>Household Income: $78,300",
          "State: New Jersey                             <br>Household Income: $73,993",
          "State: New Mexico                             <br>Household Income: $53,037",
          "State: New York                             <br>Household Income: $58,497",
          "State: North Carolina                             <br>Household Income: $51,504",
          "State: North Dakota                             <br>Household Income: $59,937",
          "State: Ohio                             <br>Household Income: $53,920",
          "State: Oklahoma                             <br>Household Income: $50,650",
          "State: Oregon                             <br>Household Income: $59,462",
          "State: Pennsylvania                             <br>Household Income: $56,773",
          "State: Rhode Island                             <br>Household Income: $60,662",
          "State: South Carolina                             <br>Household Income: $48,999",
          "State: South Dakota                             <br>Household Income: $53,293",
          "State: Tennessee                             <br>Household Income: $45,348",
          "State: Texas                             <br>Household Income: $55,542",
          "State: Utah                             <br>Household Income: $66,629",
          "State: Vermont                             <br>Household Income: $65,721",
          "State: Virginia                             <br>Household Income: $70,937",
          "State: Washington                             <br>Household Income: $65,997",
          "State: West Virginia                             <br>Household Income: $50,267",
          "State: Wisconsin                             <br>Household Income: $59,167",
          "State: Wyoming                             <br>Household Income: $61,341"
         ],
         "type": "choropleth",
         "z": [
          48100,
          67977,
          55107,
          45343,
          63788,
          70779,
          77554,
          64882,
          66896,
          51782,
          51842,
          69964,
          55288,
          59610,
          54218,
          57598,
          54118,
          48301,
          46181,
          56323,
          75442,
          71603,
          54379,
          61482,
          44842,
          53839,
          48508,
          61697,
          60165,
          78300,
          73993,
          53037,
          58497,
          51504,
          59937,
          53920,
          50650,
          59462,
          56773,
          60662,
          48999,
          53293,
          45348,
          55542,
          66629,
          65721,
          70937,
          65997,
          50267,
          59167,
          61341
         ],
         "zmax": 95572,
         "zmin": 35548
        },
        {
         "colorbar": {
          "title": {
           "text": "Household<br>Income"
          }
         },
         "colorscale": [
          [
           0,
           "rgb(158,1,66)"
          ],
          [
           0.1,
           "rgb(213,62,79)"
          ],
          [
           0.2,
           "rgb(244,109,67)"
          ],
          [
           0.3,
           "rgb(253,174,97)"
          ],
          [
           0.4,
           "rgb(254,224,139)"
          ],
          [
           0.5,
           "rgb(255,255,191)"
          ],
          [
           0.6,
           "rgb(230,245,152)"
          ],
          [
           0.7,
           "rgb(171,221,164)"
          ],
          [
           0.8,
           "rgb(102,194,165)"
          ],
          [
           0.9,
           "rgb(50,136,189)"
          ],
          [
           1,
           "rgb(94,79,162)"
          ]
         ],
         "hoverinfo": "text",
         "locationmode": "USA-states",
         "locations": [
          "AL",
          "AK",
          "AZ",
          "AR",
          "CA",
          "CO",
          "CT",
          "DE",
          "DC",
          "FL",
          "GA",
          "HI",
          "ID",
          "IL",
          "IN",
          "IA",
          "KS",
          "KY",
          "LA",
          "ME",
          "MD",
          "MA",
          "MI",
          "MN",
          "MS",
          "MO",
          "MT",
          "NE",
          "NV",
          "NH",
          "NJ",
          "NM",
          "NY",
          "NC",
          "ND",
          "OH",
          "OK",
          "OR",
          "PA",
          "RI",
          "SC",
          "SD",
          "TN",
          "TX",
          "UT",
          "VT",
          "VA",
          "WA",
          "WV",
          "WI",
          "WY"
         ],
         "text": [
          "State: Alabama                             <br>Household Income: $48,518",
          "State: Alaska                             <br>Household Income: $65,424",
          "State: Arizona                             <br>Household Income: $55,388",
          "State: Arkansas                             <br>Household Income: $47,051",
          "State: California                             <br>Household Income: $60,795",
          "State: Colorado                             <br>Household Income: $66,789",
          "State: Connecticut                             <br>Household Income: $74,520",
          "State: Delaware                             <br>Household Income: $62,268",
          "State: District of Columbia                             <br>Household Income: $62,941",
          "State: Florida                             <br>Household Income: $51,383",
          "State: Georgia                             <br>Household Income: $52,372",
          "State: Hawaii                             <br>Household Income: $67,265",
          "State: Idaho                             <br>Household Income: $54,064",
          "State: Illinois                             <br>Household Income: $57,685",
          "State: Indiana                             <br>Household Income: $50,631",
          "State: Iowa                             <br>Household Income: $57,209",
          "State: Kansas                             <br>Household Income: $52,570",
          "State: Kentucky                             <br>Household Income: $45,403",
          "State: Louisiana                             <br>Household Income: $46,317",
          "State: Maine                             <br>Household Income: $56,609",
          "State: Maryland                             <br>Household Income: $78,462",
          "State: Massachusetts                             <br>Household Income: $72,125",
          "State: Michigan                             <br>Household Income: $55,682",
          "State: Minnesota                             <br>Household Income: $65,868",
          "State: Mississippi                             <br>Household Income: $46,809",
          "State: Missouri                             <br>Household Income: $52,145",
          "State: Montana                             <br>Household Income: $45,883",
          "State: Nebraska                             <br>Household Income: $63,357",
          "State: Nevada                             <br>Household Income: $53,591",
          "State: New Hampshire                             <br>Household Income: $75,049",
          "State: New Jersey                             <br>Household Income: $71,014",
          "State: New Mexico                             <br>Household Income: $47,825",
          "State: New York                             <br>Household Income: $57,684",
          "State: North Carolina                             <br>Household Income: $51,498",
          "State: North Dakota                             <br>Household Income: $64,205",
          "State: Ohio                             <br>Household Income: $50,862",
          "State: Oklahoma                             <br>Household Income: $55,199",
          "State: Oregon                             <br>Household Income: $58,698",
          "State: Pennsylvania                             <br>Household Income: $56,857",
          "State: Rhode Island                             <br>Household Income: $55,858",
          "State: South Carolina                             <br>Household Income: $45,663",
          "State: South Dakota                             <br>Household Income: $53,796",
          "State: Tennessee                             <br>Household Income: $48,164",
          "State: Texas                             <br>Household Income: $55,874",
          "State: Utah                             <br>Household Income: $63,217",
          "State: Vermont                             <br>Household Income: $59,080",
          "State: Virginia                             <br>Household Income: $71,331",
          "State: Washington                             <br>Household Income: $64,763",
          "State: West Virginia                             <br>Household Income: $47,642",
          "State: Wisconsin                             <br>Household Income: $59,304",
          "State: Wyoming                             <br>Household Income: $62,096"
         ],
         "type": "choropleth",
         "z": [
          48518,
          65424,
          55388,
          47051,
          60795,
          66789,
          74520,
          62268,
          62941,
          51383,
          52372,
          67265,
          54064,
          57685,
          50631,
          57209,
          52570,
          45403,
          46317,
          56609,
          78462,
          72125,
          55682,
          65868,
          46809,
          52145,
          45883,
          63357,
          53591,
          75049,
          71014,
          47825,
          57684,
          51498,
          64205,
          50862,
          55199,
          58698,
          56857,
          55858,
          45663,
          53796,
          48164,
          55874,
          63217,
          59080,
          71331,
          64763,
          47642,
          59304,
          62096
         ],
         "zmax": 95572,
         "zmin": 35548
        },
        {
         "colorbar": {
          "title": {
           "text": "Household<br>Income"
          }
         },
         "colorscale": [
          [
           0,
           "rgb(158,1,66)"
          ],
          [
           0.1,
           "rgb(213,62,79)"
          ],
          [
           0.2,
           "rgb(244,109,67)"
          ],
          [
           0.3,
           "rgb(253,174,97)"
          ],
          [
           0.4,
           "rgb(254,224,139)"
          ],
          [
           0.5,
           "rgb(255,255,191)"
          ],
          [
           0.6,
           "rgb(230,245,152)"
          ],
          [
           0.7,
           "rgb(171,221,164)"
          ],
          [
           0.8,
           "rgb(102,194,165)"
          ],
          [
           0.9,
           "rgb(50,136,189)"
          ],
          [
           1,
           "rgb(94,79,162)"
          ]
         ],
         "hoverinfo": "text",
         "locationmode": "USA-states",
         "locations": [
          "AL",
          "AK",
          "AZ",
          "AR",
          "CA",
          "CO",
          "CT",
          "DE",
          "DC",
          "FL",
          "GA",
          "HI",
          "ID",
          "IL",
          "IN",
          "IA",
          "KS",
          "KY",
          "LA",
          "ME",
          "MD",
          "MA",
          "MI",
          "MN",
          "MS",
          "MO",
          "MT",
          "NE",
          "NV",
          "NH",
          "NJ",
          "NM",
          "NY",
          "NC",
          "ND",
          "OH",
          "OK",
          "OR",
          "PA",
          "RI",
          "SC",
          "SD",
          "TN",
          "TX",
          "UT",
          "VT",
          "VA",
          "WA",
          "WV",
          "WI",
          "WY"
         ],
         "text": [
          "State: Alabama                             <br>Household Income: $48,487",
          "State: Alaska                             <br>Household Income: $71,003",
          "State: Arizona                             <br>Household Income: $52,480",
          "State: Arkansas                             <br>Household Income: $43,527",
          "State: California                             <br>Household Income: $63,609",
          "State: Colorado                             <br>Household Income: $63,871",
          "State: Connecticut                             <br>Household Income: $71,671",
          "State: Delaware                             <br>Household Income: $54,631",
          "State: District of Columbia                             <br>Household Income: $72,786",
          "State: Florida                             <br>Household Income: $51,395",
          "State: Georgia                             <br>Household Income: $53,682",
          "State: Hawaii                             <br>Household Income: $62,765",
          "State: Idaho                             <br>Household Income: $53,460",
          "State: Illinois                             <br>Household Income: $57,717",
          "State: Indiana                             <br>Household Income: $51,492",
          "State: Iowa                             <br>Household Income: $59,618",
          "State: Kansas                             <br>Household Income: $55,781",
          "State: Kentucky                             <br>Household Income: $45,834",
          "State: Louisiana                             <br>Household Income: $43,601",
          "State: Maine                             <br>Household Income: $54,838",
          "State: Maryland                             <br>Household Income: $80,137",
          "State: Massachusetts                             <br>Household Income: $71,012",
          "State: Michigan                             <br>Household Income: $55,795",
          "State: Minnesota                             <br>Household Income: $68,936",
          "State: Mississippi                             <br>Household Income: $40,875",
          "State: Missouri                             <br>Household Income: $55,515",
          "State: Montana                             <br>Household Income: $50,298",
          "State: Nebraska                             <br>Household Income: $58,228",
          "State: Nevada                             <br>Household Income: $52,803",
          "State: New Hampshire                             <br>Household Income: $75,656",
          "State: New Jersey                             <br>Household Income: $74,399",
          "State: New Mexico                             <br>Household Income: $48,442",
          "State: New York                             <br>Household Income: $53,190",
          "State: North Carolina                             <br>Household Income: $46,355",
          "State: North Dakota                             <br>Household Income: $62,210",
          "State: Ohio                             <br>Household Income: $49,503",
          "State: Oklahoma                             <br>Household Income: $54,001",
          "State: Oregon                             <br>Household Income: $57,758",
          "State: Pennsylvania                             <br>Household Income: $57,902",
          "State: Rhode Island                             <br>Household Income: $62,544",
          "State: South Carolina                             <br>Household Income: $49,532",
          "State: South Dakota                             <br>Household Income: $55,125",
          "State: Tennessee                             <br>Household Income: $47,963",
          "State: Texas                             <br>Household Income: $57,926",
          "State: Utah                             <br>Household Income: $65,083",
          "State: Vermont                             <br>Household Income: $62,005",
          "State: Virginia                             <br>Household Income: $72,101",
          "State: Washington                             <br>Household Income: $69,373",
          "State: West Virginia                             <br>Household Income: $48,586",
          "State: Wisconsin                             <br>Household Income: $59,213",
          "State: Wyoming                             <br>Household Income: $64,158"
         ],
         "type": "choropleth",
         "z": [
          48487,
          71003,
          52480,
          43527,
          63609,
          63871,
          71671,
          54631,
          72786,
          51395,
          53682,
          62765,
          53460,
          57717,
          51492,
          59618,
          55781,
          45834,
          43601,
          54838,
          80137,
          71012,
          55795,
          68936,
          40875,
          55515,
          50298,
          58228,
          52803,
          75656,
          74399,
          48442,
          53190,
          46355,
          62210,
          49503,
          54001,
          57758,
          57902,
          62544,
          49532,
          55125,
          47963,
          57926,
          65083,
          62005,
          72101,
          69373,
          48586,
          59213,
          64158
         ],
         "zmax": 95572,
         "zmin": 35548
        },
        {
         "colorbar": {
          "title": {
           "text": "Household<br>Income"
          }
         },
         "colorscale": [
          [
           0,
           "rgb(158,1,66)"
          ],
          [
           0.1,
           "rgb(213,62,79)"
          ],
          [
           0.2,
           "rgb(244,109,67)"
          ],
          [
           0.3,
           "rgb(253,174,97)"
          ],
          [
           0.4,
           "rgb(254,224,139)"
          ],
          [
           0.5,
           "rgb(255,255,191)"
          ],
          [
           0.6,
           "rgb(230,245,152)"
          ],
          [
           0.7,
           "rgb(171,221,164)"
          ],
          [
           0.8,
           "rgb(102,194,165)"
          ],
          [
           0.9,
           "rgb(50,136,189)"
          ],
          [
           1,
           "rgb(94,79,162)"
          ]
         ],
         "hoverinfo": "text",
         "locationmode": "USA-states",
         "locations": [
          "AL",
          "AK",
          "AZ",
          "AR",
          "CA",
          "CO",
          "CT",
          "DE",
          "DC",
          "FL",
          "GA",
          "HI",
          "ID",
          "IL",
          "IN",
          "IA",
          "KS",
          "KY",
          "LA",
          "ME",
          "MD",
          "MA",
          "MI",
          "MN",
          "MS",
          "MO",
          "MT",
          "NE",
          "NV",
          "NH",
          "NJ",
          "NM",
          "NY",
          "NC",
          "ND",
          "OH",
          "OK",
          "OR",
          "PA",
          "RI",
          "SC",
          "SD",
          "TN",
          "TX",
          "UT",
          "VT",
          "VA",
          "WA",
          "WV",
          "WI",
          "WY"
         ],
         "text": [
          "State: Alabama                             <br>Household Income: $52,017",
          "State: Alaska                             <br>Household Income: $79,666",
          "State: Arizona                             <br>Household Income: $57,834",
          "State: Arkansas                             <br>Household Income: $43,285",
          "State: California                             <br>Household Income: $66,829",
          "State: Colorado                             <br>Household Income: $74,654",
          "State: Connecticut                             <br>Household Income: $76,170",
          "State: Delaware                             <br>Household Income: $59,461",
          "State: District of Columbia                             <br>Household Income: $66,019",
          "State: Florida                             <br>Household Income: $53,350",
          "State: Georgia                             <br>Household Income: $51,657",
          "State: Hawaii                             <br>Household Income: $70,612",
          "State: Idaho                             <br>Household Income: $53,278",
          "State: Illinois                             <br>Household Income: $59,291",
          "State: Indiana                             <br>Household Income: $54,364",
          "State: Iowa                             <br>Household Income: $66,128",
          "State: Kansas                             <br>Household Income: $52,567",
          "State: Kentucky                             <br>Household Income: $49,334",
          "State: Louisiana                             <br>Household Income: $51,034",
          "State: Maine                             <br>Household Income: $60,413",
          "State: Maryland                             <br>Household Income: $76,238",
          "State: Massachusetts                             <br>Household Income: $68,736",
          "State: Michigan                             <br>Household Income: $62,182",
          "State: Minnesota                             <br>Household Income: $70,709",
          "State: Mississippi                             <br>Household Income: $35,548",
          "State: Missouri                             <br>Household Income: $50,900",
          "State: Montana                             <br>Household Income: $47,490",
          "State: Nebraska                             <br>Household Income: $63,343",
          "State: Nevada                             <br>Household Income: $56,993",
          "State: New Hampshire                             <br>Household Income: $75,958",
          "State: New Jersey                             <br>Household Income: $70,083",
          "State: New Mexico                             <br>Household Income: $44,153",
          "State: New York                             <br>Household Income: $54,926",
          "State: North Carolina                             <br>Household Income: $50,937",
          "State: North Dakota                             <br>Household Income: $65,024",
          "State: Ohio                             <br>Household Income: $55,786",
          "State: Oklahoma                             <br>Household Income: $50,745",
          "State: Oregon                             <br>Household Income: $53,863",
          "State: Pennsylvania                             <br>Household Income: $60,631",
          "State: Rhode Island                             <br>Household Income: $61,914",
          "State: South Carolina                             <br>Household Income: $47,888",
          "State: South Dakota                             <br>Household Income: $58,715",
          "State: Tennessee                             <br>Household Income: $47,665",
          "State: Texas                             <br>Household Income: $56,509",
          "State: Utah                             <br>Household Income: $67,107",
          "State: Vermont                             <br>Household Income: $72,016",
          "State: Virginia                             <br>Household Income: $72,450",
          "State: Washington                             <br>Household Income: $70,268",
          "State: West Virginia                             <br>Household Income: $47,344",
          "State: Wisconsin                             <br>Household Income: $56,861",
          "State: Wyoming                             <br>Household Income: $74,136"
         ],
         "type": "choropleth",
         "z": [
          52017,
          79666,
          57834,
          43285,
          66829,
          74654,
          76170,
          59461,
          66019,
          53350,
          51657,
          70612,
          53278,
          59291,
          54364,
          66128,
          52567,
          49334,
          51034,
          60413,
          76238,
          68736,
          62182,
          70709,
          35548,
          50900,
          47490,
          63343,
          56993,
          75958,
          70083,
          44153,
          54926,
          50937,
          65024,
          55786,
          50745,
          53863,
          60631,
          61914,
          47888,
          58715,
          47665,
          56509,
          67107,
          72016,
          72450,
          70268,
          47344,
          56861,
          74136
         ],
         "zmax": 95572,
         "zmin": 35548
        },
        {
         "colorbar": {
          "title": {
           "text": "Household<br>Income"
          }
         },
         "colorscale": [
          [
           0,
           "rgb(158,1,66)"
          ],
          [
           0.1,
           "rgb(213,62,79)"
          ],
          [
           0.2,
           "rgb(244,109,67)"
          ],
          [
           0.3,
           "rgb(253,174,97)"
          ],
          [
           0.4,
           "rgb(254,224,139)"
          ],
          [
           0.5,
           "rgb(255,255,191)"
          ],
          [
           0.6,
           "rgb(230,245,152)"
          ],
          [
           0.7,
           "rgb(171,221,164)"
          ],
          [
           0.8,
           "rgb(102,194,165)"
          ],
          [
           0.9,
           "rgb(50,136,189)"
          ],
          [
           1,
           "rgb(94,79,162)"
          ]
         ],
         "hoverinfo": "text",
         "locationmode": "USA-states",
         "locations": [
          "AL",
          "AK",
          "AZ",
          "AR",
          "CA",
          "CO",
          "CT",
          "DE",
          "DC",
          "FL",
          "GA",
          "HI",
          "ID",
          "IL",
          "IN",
          "IA",
          "KS",
          "KY",
          "LA",
          "ME",
          "MD",
          "MA",
          "MI",
          "MN",
          "MS",
          "MO",
          "MT",
          "NE",
          "NV",
          "NH",
          "NJ",
          "NM",
          "NY",
          "NC",
          "ND",
          "OH",
          "OK",
          "OR",
          "PA",
          "RI",
          "SC",
          "SD",
          "TN",
          "TX",
          "UT",
          "VT",
          "VA",
          "WA",
          "WV",
          "WI",
          "WY"
         ],
         "text": [
          "State: Alabama                             <br>Household Income: $45,701",
          "State: Alaska                             <br>Household Income: $73,105",
          "State: Arizona                             <br>Household Income: $53,242",
          "State: Arkansas                             <br>Household Income: $48,559",
          "State: California                             <br>Household Income: $65,384",
          "State: Colorado                             <br>Household Income: $65,874",
          "State: Connecticut                             <br>Household Income: $75,842",
          "State: Delaware                             <br>Household Income: $62,179",
          "State: District of Columbia                             <br>Household Income: $73,805",
          "State: Florida                             <br>Household Income: $49,876",
          "State: Georgia                             <br>Household Income: $53,567",
          "State: Hawaii                             <br>Household Income: $76,990",
          "State: Idaho                             <br>Household Income: $57,765",
          "State: Illinois                             <br>Household Income: $59,362",
          "State: Indiana                             <br>Household Income: $51,951",
          "State: Iowa                             <br>Household Income: $62,491",
          "State: Kansas                             <br>Household Income: $57,771",
          "State: Kentucky                             <br>Household Income: $46,250",
          "State: Louisiana                             <br>Household Income: $45,839",
          "State: Maine                             <br>Household Income: $55,897",
          "State: Maryland                             <br>Household Income: $82,332",
          "State: Massachusetts                             <br>Household Income: $68,264",
          "State: Michigan                             <br>Household Income: $56,216",
          "State: Minnesota                             <br>Household Income: $72,688",
          "State: Mississippi                             <br>Household Income: $38,397",
          "State: Missouri                             <br>Household Income: $61,215",
          "State: Montana                             <br>Household Income: $55,239",
          "State: Nebraska                             <br>Household Income: $61,474",
          "State: Nevada                             <br>Household Income: $53,913",
          "State: New Hampshire                             <br>Household Income: $79,340",
          "State: New Jersey                             <br>Household Income: $70,525",
          "State: New Mexico                             <br>Household Income: $50,466",
          "State: New York                             <br>Household Income: $58,707",
          "State: North Carolina                             <br>Household Income: $50,572",
          "State: North Dakota                             <br>Household Income: $65,647",
          "State: Ohio                             <br>Household Income: $53,663",
          "State: Oklahoma                             <br>Household Income: $51,020",
          "State: Oregon                             <br>Household Income: $63,642",
          "State: Pennsylvania                             <br>Household Income: $59,640",
          "State: Rhode Island                             <br>Household Income: $63,380",
          "State: South Carolina                             <br>Household Income: $48,567",
          "State: South Dakota                             <br>Household Income: $57,348",
          "State: Tennessee                             <br>Household Income: $47,255",
          "State: Texas                             <br>Household Income: $58,237",
          "State: Utah                             <br>Household Income: $68,515",
          "State: Vermont                             <br>Household Income: $65,623",
          "State: Virginia                             <br>Household Income: $71,511",
          "State: Washington                             <br>Household Income: $63,850",
          "State: West Virginia                             <br>Household Income: $42,754",
          "State: Wisconsin                             <br>Household Income: $62,782",
          "State: Wyoming                             <br>Household Income: $60,199"
         ],
         "type": "choropleth",
         "z": [
          45701,
          73105,
          53242,
          48559,
          65384,
          65874,
          75842,
          62179,
          73805,
          49876,
          53567,
          76990,
          57765,
          59362,
          51951,
          62491,
          57771,
          46250,
          45839,
          55897,
          82332,
          68264,
          56216,
          72688,
          38397,
          61215,
          55239,
          61474,
          53913,
          79340,
          70525,
          50466,
          58707,
          50572,
          65647,
          53663,
          51020,
          63642,
          59640,
          63380,
          48567,
          57348,
          47255,
          58237,
          68515,
          65623,
          71511,
          63850,
          42754,
          62782,
          60199
         ],
         "zmax": 95572,
         "zmin": 35548
        },
        {
         "colorbar": {
          "title": {
           "text": "Household<br>Income"
          }
         },
         "colorscale": [
          [
           0,
           "rgb(158,1,66)"
          ],
          [
           0.1,
           "rgb(213,62,79)"
          ],
          [
           0.2,
           "rgb(244,109,67)"
          ],
          [
           0.3,
           "rgb(253,174,97)"
          ],
          [
           0.4,
           "rgb(254,224,139)"
          ],
          [
           0.5,
           "rgb(255,255,191)"
          ],
          [
           0.6,
           "rgb(230,245,152)"
          ],
          [
           0.7,
           "rgb(171,221,164)"
          ],
          [
           0.8,
           "rgb(102,194,165)"
          ],
          [
           0.9,
           "rgb(50,136,189)"
          ],
          [
           1,
           "rgb(94,79,162)"
          ]
         ],
         "hoverinfo": "text",
         "locationmode": "USA-states",
         "locations": [
          "AL",
          "AK",
          "AZ",
          "AR",
          "CA",
          "CO",
          "CT",
          "DE",
          "DC",
          "FL",
          "GA",
          "HI",
          "ID",
          "IL",
          "IN",
          "IA",
          "KS",
          "KY",
          "LA",
          "ME",
          "MD",
          "MA",
          "MI",
          "MN",
          "MS",
          "MO",
          "MT",
          "NE",
          "NV",
          "NH",
          "NJ",
          "NM",
          "NY",
          "NC",
          "ND",
          "OH",
          "OK",
          "OR",
          "PA",
          "RI",
          "SC",
          "SD",
          "TN",
          "TX",
          "UT",
          "VT",
          "VA",
          "WA",
          "WV",
          "WI",
          "WY"
         ],
         "text": [
          "State: Alabama                             <br>Household Income: $48,030",
          "State: Alaska                             <br>Household Income: $81,054",
          "State: Arizona                             <br>Household Income: $56,381",
          "State: Arkansas                             <br>Household Income: $46,184",
          "State: California                             <br>Household Income: $68,670",
          "State: Colorado                             <br>Household Income: $71,864",
          "State: Connecticut                             <br>Household Income: $78,655",
          "State: Delaware                             <br>Household Income: $62,325",
          "State: District of Columbia                             <br>Household Income: $75,614",
          "State: Florida                             <br>Household Income: $52,687",
          "State: Georgia                             <br>Household Income: $54,784",
          "State: Hawaii                             <br>Household Income: $69,617",
          "State: Idaho                             <br>Household Income: $55,708",
          "State: Illinois                             <br>Household Income: $65,192",
          "State: Indiana                             <br>Household Income: $56,095",
          "State: Iowa                             <br>Household Income: $65,669",
          "State: Kansas                             <br>Household Income: $59,205",
          "State: Kentucky                             <br>Household Income: $45,740",
          "State: Louisiana                             <br>Household Income: $49,555",
          "State: Maine                             <br>Household Income: $54,771",
          "State: Maryland                             <br>Household Income: $79,416",
          "State: Massachusetts                             <br>Household Income: $73,229",
          "State: Michigan                             <br>Household Income: $58,491",
          "State: Minnesota                             <br>Household Income: $74,167",
          "State: Mississippi                             <br>Household Income: $43,204",
          "State: Missouri                             <br>Household Income: $63,879",
          "State: Montana                             <br>Household Income: $55,461",
          "State: Nebraska                             <br>Household Income: $65,258",
          "State: Nevada                             <br>Household Income: $56,122",
          "State: New Hampshire                             <br>Household Income: $81,661",
          "State: New Jersey                             <br>Household Income: $73,764",
          "State: New Mexico                             <br>Household Income: $48,688",
          "State: New York                             <br>Household Income: $62,594",
          "State: North Carolina                             <br>Household Income: $54,815",
          "State: North Dakota                             <br>Household Income: $61,957",
          "State: Ohio                             <br>Household Income: $57,517",
          "State: Oklahoma                             <br>Household Income: $50,801",
          "State: Oregon                             <br>Household Income: $65,646",
          "State: Pennsylvania                             <br>Household Income: $65,166",
          "State: Rhode Island                             <br>Household Income: $60,107",
          "State: South Carolina                             <br>Household Income: $50,027",
          "State: South Dakota                             <br>Household Income: $59,421",
          "State: Tennessee                             <br>Household Income: $51,074",
          "State: Texas                             <br>Household Income: $60,940",
          "State: Utah                             <br>Household Income: $71,499",
          "State: Vermont                             <br>Household Income: $64,200",
          "State: Virginia                             <br>Household Income: $66,350",
          "State: Washington                             <br>Household Income: $72,562",
          "State: West Virginia                             <br>Household Income: $46,212",
          "State: Wisconsin                             <br>Household Income: $59,809",
          "State: Wyoming                             <br>Household Income: $65,745"
         ],
         "type": "choropleth",
         "z": [
          48030,
          81054,
          56381,
          46184,
          68670,
          71864,
          78655,
          62325,
          75614,
          52687,
          54784,
          69617,
          55708,
          65192,
          56095,
          65669,
          59205,
          45740,
          49555,
          54771,
          79416,
          73229,
          58491,
          74167,
          43204,
          63879,
          55461,
          65258,
          56122,
          81661,
          73764,
          48688,
          62594,
          54815,
          61957,
          57517,
          50801,
          65646,
          65166,
          60107,
          50027,
          59421,
          51074,
          60940,
          71499,
          64200,
          66350,
          72562,
          46212,
          59809,
          65745
         ],
         "zmax": 95572,
         "zmin": 35548
        },
        {
         "colorbar": {
          "title": {
           "text": "Household<br>Income"
          }
         },
         "colorscale": [
          [
           0,
           "rgb(158,1,66)"
          ],
          [
           0.1,
           "rgb(213,62,79)"
          ],
          [
           0.2,
           "rgb(244,109,67)"
          ],
          [
           0.3,
           "rgb(253,174,97)"
          ],
          [
           0.4,
           "rgb(254,224,139)"
          ],
          [
           0.5,
           "rgb(255,255,191)"
          ],
          [
           0.6,
           "rgb(230,245,152)"
          ],
          [
           0.7,
           "rgb(171,221,164)"
          ],
          [
           0.8,
           "rgb(102,194,165)"
          ],
          [
           0.9,
           "rgb(50,136,189)"
          ],
          [
           1,
           "rgb(94,79,162)"
          ]
         ],
         "hoverinfo": "text",
         "locationmode": "USA-states",
         "locations": [
          "AL",
          "AK",
          "AZ",
          "AR",
          "CA",
          "CO",
          "CT",
          "DE",
          "DC",
          "FL",
          "GA",
          "HI",
          "ID",
          "IL",
          "IN",
          "IA",
          "KS",
          "KY",
          "LA",
          "ME",
          "MD",
          "MA",
          "MI",
          "MN",
          "MS",
          "MO",
          "MT",
          "NE",
          "NV",
          "NH",
          "NJ",
          "NM",
          "NY",
          "NC",
          "ND",
          "OH",
          "OK",
          "OR",
          "PA",
          "RI",
          "SC",
          "SD",
          "TN",
          "TX",
          "UT",
          "VT",
          "VA",
          "WA",
          "WV",
          "WI",
          "WY"
         ],
         "text": [
          "State: Alabama                             <br>Household Income: $50,308",
          "State: Alaska                             <br>Household Income: $80,673",
          "State: Arizona                             <br>Household Income: $60,832",
          "State: Arkansas                             <br>Household Income: $48,908",
          "State: California                             <br>Household Income: $70,993",
          "State: Colorado                             <br>Household Income: $75,179",
          "State: Connecticut                             <br>Household Income: $80,886",
          "State: Delaware                             <br>Household Income: $61,840",
          "State: District of Columbia                             <br>Household Income: $75,622",
          "State: Florida                             <br>Household Income: $54,521",
          "State: Georgia                             <br>Household Income: $57,026",
          "State: Hawaii                             <br>Household Income: $76,848",
          "State: Idaho                             <br>Household Income: $60,261",
          "State: Illinois                             <br>Household Income: $65,398",
          "State: Indiana                             <br>Household Income: $59,761",
          "State: Iowa                             <br>Household Income: $62,957",
          "State: Kansas                             <br>Household Income: $60,523",
          "State: Kentucky                             <br>Household Income: $48,335",
          "State: Louisiana                             <br>Household Income: $44,954",
          "State: Maine                             <br>Household Income: $54,180",
          "State: Maryland                             <br>Household Income: $78,581",
          "State: Massachusetts                             <br>Household Income: $76,990",
          "State: Michigan                             <br>Household Income: $60,823",
          "State: Minnesota                             <br>Household Income: $74,808",
          "State: Mississippi                             <br>Household Income: $43,785",
          "State: Missouri                             <br>Household Income: $58,612",
          "State: Montana                             <br>Household Income: $60,806",
          "State: Nebraska                             <br>Household Income: $63,255",
          "State: Nevada                             <br>Household Income: $59,054",
          "State: New Hampshire                             <br>Household Income: $81,245",
          "State: New Jersey                             <br>Household Income: $72,943",
          "State: New Mexico                             <br>Household Income: $51,618",
          "State: New York                             <br>Household Income: $65,453",
          "State: North Carolina                             <br>Household Income: $57,278",
          "State: North Dakota                             <br>Household Income: $64,118",
          "State: Ohio                             <br>Household Income: $57,514",
          "State: Oklahoma                             <br>Household Income: $54,273",
          "State: Oregon                             <br>Household Income: $63,000",
          "State: Pennsylvania                             <br>Household Income: $64,965",
          "State: Rhode Island                             <br>Household Income: $65,550",
          "State: South Carolina                             <br>Household Income: $57,888",
          "State: South Dakota                             <br>Household Income: $61,205",
          "State: Tennessee                             <br>Household Income: $54,700",
          "State: Texas                             <br>Household Income: $61,947",
          "State: Utah                             <br>Household Income: $71,892",
          "State: Vermont                             <br>Household Income: $64,814",
          "State: Virginia                             <br>Household Income: $70,795",
          "State: Washington                             <br>Household Income: $74,906",
          "State: West Virginia                             <br>Household Income: $47,253",
          "State: Wisconsin                             <br>Household Income: $63,727",
          "State: Wyoming                             <br>Household Income: $61,609"
         ],
         "type": "choropleth",
         "z": [
          50308,
          80673,
          60832,
          48908,
          70993,
          75179,
          80886,
          61840,
          75622,
          54521,
          57026,
          76848,
          60261,
          65398,
          59761,
          62957,
          60523,
          48335,
          44954,
          54180,
          78581,
          76990,
          60823,
          74808,
          43785,
          58612,
          60806,
          63255,
          59054,
          81245,
          72943,
          51618,
          65453,
          57278,
          64118,
          57514,
          54273,
          63000,
          64965,
          65550,
          57888,
          61205,
          54700,
          61947,
          71892,
          64814,
          70795,
          74906,
          47253,
          63727,
          61609
         ],
         "zmax": 95572,
         "zmin": 35548
        },
        {
         "colorbar": {
          "title": {
           "text": "Household<br>Income"
          }
         },
         "colorscale": [
          [
           0,
           "rgb(158,1,66)"
          ],
          [
           0.1,
           "rgb(213,62,79)"
          ],
          [
           0.2,
           "rgb(244,109,67)"
          ],
          [
           0.3,
           "rgb(253,174,97)"
          ],
          [
           0.4,
           "rgb(254,224,139)"
          ],
          [
           0.5,
           "rgb(255,255,191)"
          ],
          [
           0.6,
           "rgb(230,245,152)"
          ],
          [
           0.7,
           "rgb(171,221,164)"
          ],
          [
           0.8,
           "rgb(102,194,165)"
          ],
          [
           0.9,
           "rgb(50,136,189)"
          ],
          [
           1,
           "rgb(94,79,162)"
          ]
         ],
         "hoverinfo": "text",
         "locationmode": "USA-states",
         "locations": [
          "AL",
          "AK",
          "AZ",
          "AR",
          "CA",
          "CO",
          "CT",
          "DE",
          "DC",
          "FL",
          "GA",
          "HI",
          "ID",
          "IL",
          "IN",
          "IA",
          "KS",
          "KY",
          "LA",
          "ME",
          "MD",
          "MA",
          "MI",
          "MN",
          "MS",
          "MO",
          "MT",
          "NE",
          "NV",
          "NH",
          "NJ",
          "NM",
          "NY",
          "NC",
          "ND",
          "OH",
          "OK",
          "OR",
          "PA",
          "RI",
          "SC",
          "SD",
          "TN",
          "TX",
          "UT",
          "VT",
          "VA",
          "WA",
          "WV",
          "WI",
          "WY"
         ],
         "text": [
          "State: Alabama                             <br>Household Income: $53,049",
          "State: Alaska                             <br>Household Income: $81,335",
          "State: Arizona                             <br>Household Income: $62,263",
          "State: Arkansas                             <br>Household Income: $51,887",
          "State: California                             <br>Household Income: $73,045",
          "State: Colorado                             <br>Household Income: $78,204",
          "State: Connecticut                             <br>Household Income: $77,494",
          "State: Delaware                             <br>Household Income: $67,750",
          "State: District of Columbia                             <br>Household Income: $84,772",
          "State: Florida                             <br>Household Income: $55,365",
          "State: Georgia                             <br>Household Income: $60,475",
          "State: Hawaii                             <br>Household Income: $76,759",
          "State: Idaho                             <br>Household Income: $62,052",
          "State: Illinois                             <br>Household Income: $68,801",
          "State: Indiana                             <br>Household Income: $61,290",
          "State: Iowa                             <br>Household Income: $66,192",
          "State: Kansas                             <br>Household Income: $59,343",
          "State: Kentucky                             <br>Household Income: $51,805",
          "State: Louisiana                             <br>Household Income: $45,436",
          "State: Maine                             <br>Household Income: $55,605",
          "State: Maryland                             <br>Household Income: $85,618",
          "State: Massachusetts                             <br>Household Income: $79,517",
          "State: Michigan                             <br>Household Income: $58,827",
          "State: Minnesota                             <br>Household Income: $72,979",
          "State: Mississippi                             <br>Household Income: $45,139",
          "State: Missouri                             <br>Household Income: $58,957",
          "State: Montana                             <br>Household Income: $59,872",
          "State: Nebraska                             <br>Household Income: $62,141",
          "State: Nevada                             <br>Household Income: $60,533",
          "State: New Hampshire                             <br>Household Income: $78,877",
          "State: New Jersey                             <br>Household Income: $74,299",
          "State: New Mexico                             <br>Household Income: $47,559",
          "State: New York                             <br>Household Income: $64,185",
          "State: North Carolina                             <br>Household Income: $51,674",
          "State: North Dakota                             <br>Household Income: $62,750",
          "State: Ohio                             <br>Household Income: $63,294",
          "State: Oklahoma                             <br>Household Income: $54,110",
          "State: Oregon                             <br>Household Income: $65,181",
          "State: Pennsylvania                             <br>Household Income: $63,916",
          "State: Rhode Island                             <br>Household Income: $68,209",
          "State: South Carolina                             <br>Household Income: $56,879",
          "State: South Dakota                             <br>Household Income: $59,358",
          "State: Tennessee                             <br>Household Income: $57,681",
          "State: Texas                             <br>Household Income: $62,672",
          "State: Utah                             <br>Household Income: $72,785",
          "State: Vermont                             <br>Household Income: $66,416",
          "State: Virginia                             <br>Household Income: $73,851",
          "State: Washington                             <br>Household Income: $74,612",
          "State: West Virginia                             <br>Household Income: $48,973",
          "State: Wisconsin                             <br>Household Income: $66,208",
          "State: Wyoming                             <br>Household Income: $62,092"
         ],
         "type": "choropleth",
         "z": [
          53049,
          81335,
          62263,
          51887,
          73045,
          78204,
          77494,
          67750,
          84772,
          55365,
          60475,
          76759,
          62052,
          68801,
          61290,
          66192,
          59343,
          51805,
          45436,
          55605,
          85618,
          79517,
          58827,
          72979,
          45139,
          58957,
          59872,
          62141,
          60533,
          78877,
          74299,
          47559,
          64185,
          51674,
          62750,
          63294,
          54110,
          65181,
          63916,
          68209,
          56879,
          59358,
          57681,
          62672,
          72785,
          66416,
          73851,
          74612,
          48973,
          66208,
          62092
         ],
         "zmax": 95572,
         "zmin": 35548
        },
        {
         "colorbar": {
          "title": {
           "text": "Household<br>Income"
          }
         },
         "colorscale": [
          [
           0,
           "rgb(158,1,66)"
          ],
          [
           0.1,
           "rgb(213,62,79)"
          ],
          [
           0.2,
           "rgb(244,109,67)"
          ],
          [
           0.3,
           "rgb(253,174,97)"
          ],
          [
           0.4,
           "rgb(254,224,139)"
          ],
          [
           0.5,
           "rgb(255,255,191)"
          ],
          [
           0.6,
           "rgb(230,245,152)"
          ],
          [
           0.7,
           "rgb(171,221,164)"
          ],
          [
           0.8,
           "rgb(102,194,165)"
          ],
          [
           0.9,
           "rgb(50,136,189)"
          ],
          [
           1,
           "rgb(94,79,162)"
          ]
         ],
         "hoverinfo": "text",
         "locationmode": "USA-states",
         "locations": [
          "AL",
          "AK",
          "AZ",
          "AR",
          "CA",
          "CO",
          "CT",
          "DE",
          "DC",
          "FL",
          "GA",
          "HI",
          "ID",
          "IL",
          "IN",
          "IA",
          "KS",
          "KY",
          "LA",
          "ME",
          "MD",
          "MA",
          "MI",
          "MN",
          "MS",
          "MO",
          "MT",
          "NE",
          "NV",
          "NH",
          "NJ",
          "NM",
          "NY",
          "NC",
          "ND",
          "OH",
          "OK",
          "OR",
          "PA",
          "RI",
          "SC",
          "SD",
          "TN",
          "TX",
          "UT",
          "VT",
          "VA",
          "WA",
          "WV",
          "WI",
          "WY"
         ],
         "text": [
          "State: Alabama                             <br>Household Income: $50,841",
          "State: Alaska                             <br>Household Income: $69,979",
          "State: Arizona                             <br>Household Income: $63,411",
          "State: Arkansas                             <br>Household Income: $50,683",
          "State: California                             <br>Household Income: $71,766",
          "State: Colorado                             <br>Household Income: $74,357",
          "State: Connecticut                             <br>Household Income: $74,131",
          "State: Delaware                             <br>Household Income: $66,190",
          "State: District of Columbia                             <br>Household Income: $87,304",
          "State: Florida                             <br>Household Income: $55,634",
          "State: Georgia                             <br>Household Income: $56,832",
          "State: Hawaii                             <br>Household Income: $81,559",
          "State: Idaho                             <br>Household Income: $59,792",
          "State: Illinois                             <br>Household Income: $71,416",
          "State: Indiana                             <br>Household Income: $60,977",
          "State: Iowa                             <br>Household Income: $69,963",
          "State: Kansas                             <br>Household Income: $65,096",
          "State: Kentucky                             <br>Household Income: $55,543",
          "State: Louisiana                             <br>Household Income: $50,878",
          "State: Maine                             <br>Household Income: $59,726",
          "State: Maryland                             <br>Household Income: $87,785",
          "State: Massachusetts                             <br>Household Income: $87,909",
          "State: Michigan                             <br>Household Income: $61,544",
          "State: Minnesota                             <br>Household Income: $73,118",
          "State: Mississippi                             <br>Household Income: $43,556",
          "State: Missouri                             <br>Household Income: $62,844",
          "State: Montana                             <br>Household Income: $58,724",
          "State: Nebraska                             <br>Household Income: $68,799",
          "State: Nevada                             <br>Household Income: $62,985",
          "State: New Hampshire                             <br>Household Income: $82,820",
          "State: New Jersey                             <br>Household Income: $75,520",
          "State: New Mexico                             <br>Household Income: $49,158",
          "State: New York                             <br>Household Income: $68,493",
          "State: North Carolina                             <br>Household Income: $54,336",
          "State: North Dakota                             <br>Household Income: $67,710",
          "State: Ohio                             <br>Household Income: $62,750",
          "State: Oklahoma                             <br>Household Income: $55,420",
          "State: Oregon                             <br>Household Income: $70,418",
          "State: Pennsylvania                             <br>Household Income: $65,693",
          "State: Rhode Island                             <br>Household Income: $63,394",
          "State: South Carolina                             <br>Household Income: $58,485",
          "State: South Dakota                             <br>Household Income: $60,540",
          "State: Tennessee                             <br>Household Income: $57,076",
          "State: Texas                             <br>Household Income: $60,868",
          "State: Utah                             <br>Household Income: $78,463",
          "State: Vermont                             <br>Household Income: $71,335",
          "State: Virginia                             <br>Household Income: $78,549",
          "State: Washington                             <br>Household Income: $81,170",
          "State: West Virginia                             <br>Household Income: $51,489",
          "State: Wisconsin                             <br>Household Income: $63,764",
          "State: Wyoming                             <br>Household Income: $63,672"
         ],
         "type": "choropleth",
         "z": [
          50841,
          69979,
          63411,
          50683,
          71766,
          74357,
          74131,
          66190,
          87304,
          55634,
          56832,
          81559,
          59792,
          71416,
          60977,
          69963,
          65096,
          55543,
          50878,
          59726,
          87785,
          87909,
          61544,
          73118,
          43556,
          62844,
          58724,
          68799,
          62985,
          82820,
          75520,
          49158,
          68493,
          54336,
          67710,
          62750,
          55420,
          70418,
          65693,
          63394,
          58485,
          60540,
          57076,
          60868,
          78463,
          71335,
          78549,
          81170,
          51489,
          63764,
          63672
         ],
         "zmax": 95572,
         "zmin": 35548
        },
        {
         "colorbar": {
          "title": {
           "text": "Household<br>Income"
          }
         },
         "colorscale": [
          [
           0,
           "rgb(158,1,66)"
          ],
          [
           0.1,
           "rgb(213,62,79)"
          ],
          [
           0.2,
           "rgb(244,109,67)"
          ],
          [
           0.3,
           "rgb(253,174,97)"
          ],
          [
           0.4,
           "rgb(254,224,139)"
          ],
          [
           0.5,
           "rgb(255,255,191)"
          ],
          [
           0.6,
           "rgb(230,245,152)"
          ],
          [
           0.7,
           "rgb(171,221,164)"
          ],
          [
           0.8,
           "rgb(102,194,165)"
          ],
          [
           0.9,
           "rgb(50,136,189)"
          ],
          [
           1,
           "rgb(94,79,162)"
          ]
         ],
         "hoverinfo": "text",
         "locationmode": "USA-states",
         "locations": [
          "AL",
          "AK",
          "AZ",
          "AR",
          "CA",
          "CO",
          "CT",
          "DE",
          "DC",
          "FL",
          "GA",
          "HI",
          "ID",
          "IL",
          "IN",
          "IA",
          "KS",
          "KY",
          "LA",
          "ME",
          "MD",
          "MA",
          "MI",
          "MN",
          "MS",
          "MO",
          "MT",
          "NE",
          "NV",
          "NH",
          "NJ",
          "NM",
          "NY",
          "NC",
          "ND",
          "OH",
          "OK",
          "OR",
          "PA",
          "RI",
          "SC",
          "SD",
          "TN",
          "TX",
          "UT",
          "VT",
          "VA",
          "WA",
          "WV",
          "WI",
          "WY"
         ],
         "text": [
          "State: Alabama                             <br>Household Income: $56,200",
          "State: Alaska                             <br>Household Income: $78,394",
          "State: Arizona                             <br>Household Income: $70,674",
          "State: Arkansas                             <br>Household Income: $54,539",
          "State: California                             <br>Household Income: $78,105",
          "State: Colorado                             <br>Household Income: $72,499",
          "State: Connecticut                             <br>Household Income: $87,291",
          "State: Delaware                             <br>Household Income: $74,194",
          "State: District of Columbia                             <br>Household Income: $93,111",
          "State: Florida                             <br>Household Income: $58,368",
          "State: Georgia                             <br>Household Income: $56,628",
          "State: Hawaii                             <br>Household Income: $88,006",
          "State: Idaho                             <br>Household Income: $65,988",
          "State: Illinois                             <br>Household Income: $74,399",
          "State: Indiana                             <br>Household Income: $66,693",
          "State: Iowa                             <br>Household Income: $66,054",
          "State: Kansas                             <br>Household Income: $73,151",
          "State: Kentucky                             <br>Household Income: $55,662",
          "State: Louisiana                             <br>Household Income: $51,707",
          "State: Maine                             <br>Household Income: $66,546",
          "State: Maryland                             <br>Household Income: $95,572",
          "State: Massachusetts                             <br>Household Income: $87,707",
          "State: Michigan                             <br>Household Income: $64,119",
          "State: Minnesota                             <br>Household Income: $81,426",
          "State: Mississippi                             <br>Household Income: $44,787",
          "State: Missouri                             <br>Household Income: $60,597",
          "State: Montana                             <br>Household Income: $60,195",
          "State: Nebraska                             <br>Household Income: $73,071",
          "State: Nevada                             <br>Household Income: $70,906",
          "State: New Hampshire                             <br>Household Income: $86,900",
          "State: New Jersey                             <br>Household Income: $87,726",
          "State: New Mexico                             <br>Household Income: $53,113",
          "State: New York                             <br>Household Income: $71,855",
          "State: North Carolina                             <br>Household Income: $61,159",
          "State: North Dakota                             <br>Household Income: $70,031",
          "State: Ohio                             <br>Household Income: $64,663",
          "State: Oklahoma                             <br>Household Income: $59,397",
          "State: Oregon                             <br>Household Income: $74,413",
          "State: Pennsylvania                             <br>Household Income: $70,582",
          "State: Rhode Island                             <br>Household Income: $70,151",
          "State: South Carolina                             <br>Household Income: $62,028",
          "State: South Dakota                             <br>Household Income: $64,255",
          "State: Tennessee                             <br>Household Income: $56,627",
          "State: Texas                             <br>Household Income: $67,444",
          "State: Utah                             <br>Household Income: $84,523",
          "State: Vermont                             <br>Household Income: $74,305",
          "State: Virginia                             <br>Household Income: $81,313",
          "State: Washington                             <br>Household Income: $82,454",
          "State: West Virginia                             <br>Household Income: $53,706",
          "State: Wisconsin                             <br>Household Income: $67,355",
          "State: Wyoming                             <br>Household Income: $65,134"
         ],
         "type": "choropleth",
         "z": [
          56200,
          78394,
          70674,
          54539,
          78105,
          72499,
          87291,
          74194,
          93111,
          58368,
          56628,
          88006,
          65988,
          74399,
          66693,
          66054,
          73151,
          55662,
          51707,
          66546,
          95572,
          87707,
          64119,
          81426,
          44787,
          60597,
          60195,
          73071,
          70906,
          86900,
          87726,
          53113,
          71855,
          61159,
          70031,
          64663,
          59397,
          74413,
          70582,
          70151,
          62028,
          64255,
          56627,
          67444,
          84523,
          74305,
          81313,
          82454,
          53706,
          67355,
          65134
         ],
         "zmax": 95572,
         "zmin": 35548
        }
       ],
       "layout": {
        "geo": {
         "projection": {
          "type": "albers usa"
         },
         "scope": "usa"
        },
        "sliders": [
         {
          "active": 9,
          "pad": {
           "t": 1
          },
          "steps": [
           {
            "args": [
             "visible",
             [
              true,
              false,
              false,
              false,
              false,
              false,
              false,
              false,
              false,
              false
             ]
            ],
            "label": "Year 2010",
            "method": "restyle"
           },
           {
            "args": [
             "visible",
             [
              false,
              true,
              false,
              false,
              false,
              false,
              false,
              false,
              false,
              false
             ]
            ],
            "label": "Year 2011",
            "method": "restyle"
           },
           {
            "args": [
             "visible",
             [
              false,
              false,
              true,
              false,
              false,
              false,
              false,
              false,
              false,
              false
             ]
            ],
            "label": "Year 2012",
            "method": "restyle"
           },
           {
            "args": [
             "visible",
             [
              false,
              false,
              false,
              true,
              false,
              false,
              false,
              false,
              false,
              false
             ]
            ],
            "label": "Year 2013",
            "method": "restyle"
           },
           {
            "args": [
             "visible",
             [
              false,
              false,
              false,
              false,
              true,
              false,
              false,
              false,
              false,
              false
             ]
            ],
            "label": "Year 2014",
            "method": "restyle"
           },
           {
            "args": [
             "visible",
             [
              false,
              false,
              false,
              false,
              false,
              true,
              false,
              false,
              false,
              false
             ]
            ],
            "label": "Year 2015",
            "method": "restyle"
           },
           {
            "args": [
             "visible",
             [
              false,
              false,
              false,
              false,
              false,
              false,
              true,
              false,
              false,
              false
             ]
            ],
            "label": "Year 2016",
            "method": "restyle"
           },
           {
            "args": [
             "visible",
             [
              false,
              false,
              false,
              false,
              false,
              false,
              false,
              true,
              false,
              false
             ]
            ],
            "label": "Year 2017",
            "method": "restyle"
           },
           {
            "args": [
             "visible",
             [
              false,
              false,
              false,
              false,
              false,
              false,
              false,
              false,
              true,
              false
             ]
            ],
            "label": "Year 2018",
            "method": "restyle"
           },
           {
            "args": [
             "visible",
             [
              false,
              false,
              false,
              false,
              false,
              false,
              false,
              false,
              false,
              true
             ]
            ],
            "label": "Year 2019",
            "method": "restyle"
           }
          ]
         }
        ],
        "template": {
         "data": {
          "bar": [
           {
            "error_x": {
             "color": "#2a3f5f"
            },
            "error_y": {
             "color": "#2a3f5f"
            },
            "marker": {
             "line": {
              "color": "#E5ECF6",
              "width": 0.5
             }
            },
            "type": "bar"
           }
          ],
          "barpolar": [
           {
            "marker": {
             "line": {
              "color": "#E5ECF6",
              "width": 0.5
             }
            },
            "type": "barpolar"
           }
          ],
          "carpet": [
           {
            "aaxis": {
             "endlinecolor": "#2a3f5f",
             "gridcolor": "white",
             "linecolor": "white",
             "minorgridcolor": "white",
             "startlinecolor": "#2a3f5f"
            },
            "baxis": {
             "endlinecolor": "#2a3f5f",
             "gridcolor": "white",
             "linecolor": "white",
             "minorgridcolor": "white",
             "startlinecolor": "#2a3f5f"
            },
            "type": "carpet"
           }
          ],
          "choropleth": [
           {
            "colorbar": {
             "outlinewidth": 0,
             "ticks": ""
            },
            "type": "choropleth"
           }
          ],
          "contour": [
           {
            "colorbar": {
             "outlinewidth": 0,
             "ticks": ""
            },
            "colorscale": [
             [
              0,
              "#0d0887"
             ],
             [
              0.1111111111111111,
              "#46039f"
             ],
             [
              0.2222222222222222,
              "#7201a8"
             ],
             [
              0.3333333333333333,
              "#9c179e"
             ],
             [
              0.4444444444444444,
              "#bd3786"
             ],
             [
              0.5555555555555556,
              "#d8576b"
             ],
             [
              0.6666666666666666,
              "#ed7953"
             ],
             [
              0.7777777777777778,
              "#fb9f3a"
             ],
             [
              0.8888888888888888,
              "#fdca26"
             ],
             [
              1,
              "#f0f921"
             ]
            ],
            "type": "contour"
           }
          ],
          "contourcarpet": [
           {
            "colorbar": {
             "outlinewidth": 0,
             "ticks": ""
            },
            "type": "contourcarpet"
           }
          ],
          "heatmap": [
           {
            "colorbar": {
             "outlinewidth": 0,
             "ticks": ""
            },
            "colorscale": [
             [
              0,
              "#0d0887"
             ],
             [
              0.1111111111111111,
              "#46039f"
             ],
             [
              0.2222222222222222,
              "#7201a8"
             ],
             [
              0.3333333333333333,
              "#9c179e"
             ],
             [
              0.4444444444444444,
              "#bd3786"
             ],
             [
              0.5555555555555556,
              "#d8576b"
             ],
             [
              0.6666666666666666,
              "#ed7953"
             ],
             [
              0.7777777777777778,
              "#fb9f3a"
             ],
             [
              0.8888888888888888,
              "#fdca26"
             ],
             [
              1,
              "#f0f921"
             ]
            ],
            "type": "heatmap"
           }
          ],
          "heatmapgl": [
           {
            "colorbar": {
             "outlinewidth": 0,
             "ticks": ""
            },
            "colorscale": [
             [
              0,
              "#0d0887"
             ],
             [
              0.1111111111111111,
              "#46039f"
             ],
             [
              0.2222222222222222,
              "#7201a8"
             ],
             [
              0.3333333333333333,
              "#9c179e"
             ],
             [
              0.4444444444444444,
              "#bd3786"
             ],
             [
              0.5555555555555556,
              "#d8576b"
             ],
             [
              0.6666666666666666,
              "#ed7953"
             ],
             [
              0.7777777777777778,
              "#fb9f3a"
             ],
             [
              0.8888888888888888,
              "#fdca26"
             ],
             [
              1,
              "#f0f921"
             ]
            ],
            "type": "heatmapgl"
           }
          ],
          "histogram": [
           {
            "marker": {
             "colorbar": {
              "outlinewidth": 0,
              "ticks": ""
             }
            },
            "type": "histogram"
           }
          ],
          "histogram2d": [
           {
            "colorbar": {
             "outlinewidth": 0,
             "ticks": ""
            },
            "colorscale": [
             [
              0,
              "#0d0887"
             ],
             [
              0.1111111111111111,
              "#46039f"
             ],
             [
              0.2222222222222222,
              "#7201a8"
             ],
             [
              0.3333333333333333,
              "#9c179e"
             ],
             [
              0.4444444444444444,
              "#bd3786"
             ],
             [
              0.5555555555555556,
              "#d8576b"
             ],
             [
              0.6666666666666666,
              "#ed7953"
             ],
             [
              0.7777777777777778,
              "#fb9f3a"
             ],
             [
              0.8888888888888888,
              "#fdca26"
             ],
             [
              1,
              "#f0f921"
             ]
            ],
            "type": "histogram2d"
           }
          ],
          "histogram2dcontour": [
           {
            "colorbar": {
             "outlinewidth": 0,
             "ticks": ""
            },
            "colorscale": [
             [
              0,
              "#0d0887"
             ],
             [
              0.1111111111111111,
              "#46039f"
             ],
             [
              0.2222222222222222,
              "#7201a8"
             ],
             [
              0.3333333333333333,
              "#9c179e"
             ],
             [
              0.4444444444444444,
              "#bd3786"
             ],
             [
              0.5555555555555556,
              "#d8576b"
             ],
             [
              0.6666666666666666,
              "#ed7953"
             ],
             [
              0.7777777777777778,
              "#fb9f3a"
             ],
             [
              0.8888888888888888,
              "#fdca26"
             ],
             [
              1,
              "#f0f921"
             ]
            ],
            "type": "histogram2dcontour"
           }
          ],
          "mesh3d": [
           {
            "colorbar": {
             "outlinewidth": 0,
             "ticks": ""
            },
            "type": "mesh3d"
           }
          ],
          "parcoords": [
           {
            "line": {
             "colorbar": {
              "outlinewidth": 0,
              "ticks": ""
             }
            },
            "type": "parcoords"
           }
          ],
          "pie": [
           {
            "automargin": true,
            "type": "pie"
           }
          ],
          "scatter": [
           {
            "marker": {
             "colorbar": {
              "outlinewidth": 0,
              "ticks": ""
             }
            },
            "type": "scatter"
           }
          ],
          "scatter3d": [
           {
            "line": {
             "colorbar": {
              "outlinewidth": 0,
              "ticks": ""
             }
            },
            "marker": {
             "colorbar": {
              "outlinewidth": 0,
              "ticks": ""
             }
            },
            "type": "scatter3d"
           }
          ],
          "scattercarpet": [
           {
            "marker": {
             "colorbar": {
              "outlinewidth": 0,
              "ticks": ""
             }
            },
            "type": "scattercarpet"
           }
          ],
          "scattergeo": [
           {
            "marker": {
             "colorbar": {
              "outlinewidth": 0,
              "ticks": ""
             }
            },
            "type": "scattergeo"
           }
          ],
          "scattergl": [
           {
            "marker": {
             "colorbar": {
              "outlinewidth": 0,
              "ticks": ""
             }
            },
            "type": "scattergl"
           }
          ],
          "scattermapbox": [
           {
            "marker": {
             "colorbar": {
              "outlinewidth": 0,
              "ticks": ""
             }
            },
            "type": "scattermapbox"
           }
          ],
          "scatterpolar": [
           {
            "marker": {
             "colorbar": {
              "outlinewidth": 0,
              "ticks": ""
             }
            },
            "type": "scatterpolar"
           }
          ],
          "scatterpolargl": [
           {
            "marker": {
             "colorbar": {
              "outlinewidth": 0,
              "ticks": ""
             }
            },
            "type": "scatterpolargl"
           }
          ],
          "scatterternary": [
           {
            "marker": {
             "colorbar": {
              "outlinewidth": 0,
              "ticks": ""
             }
            },
            "type": "scatterternary"
           }
          ],
          "surface": [
           {
            "colorbar": {
             "outlinewidth": 0,
             "ticks": ""
            },
            "colorscale": [
             [
              0,
              "#0d0887"
             ],
             [
              0.1111111111111111,
              "#46039f"
             ],
             [
              0.2222222222222222,
              "#7201a8"
             ],
             [
              0.3333333333333333,
              "#9c179e"
             ],
             [
              0.4444444444444444,
              "#bd3786"
             ],
             [
              0.5555555555555556,
              "#d8576b"
             ],
             [
              0.6666666666666666,
              "#ed7953"
             ],
             [
              0.7777777777777778,
              "#fb9f3a"
             ],
             [
              0.8888888888888888,
              "#fdca26"
             ],
             [
              1,
              "#f0f921"
             ]
            ],
            "type": "surface"
           }
          ],
          "table": [
           {
            "cells": {
             "fill": {
              "color": "#EBF0F8"
             },
             "line": {
              "color": "white"
             }
            },
            "header": {
             "fill": {
              "color": "#C8D4E3"
             },
             "line": {
              "color": "white"
             }
            },
            "type": "table"
           }
          ]
         },
         "layout": {
          "annotationdefaults": {
           "arrowcolor": "#2a3f5f",
           "arrowhead": 0,
           "arrowwidth": 1
          },
          "autotypenumbers": "strict",
          "coloraxis": {
           "colorbar": {
            "outlinewidth": 0,
            "ticks": ""
           }
          },
          "colorscale": {
           "diverging": [
            [
             0,
             "#8e0152"
            ],
            [
             0.1,
             "#c51b7d"
            ],
            [
             0.2,
             "#de77ae"
            ],
            [
             0.3,
             "#f1b6da"
            ],
            [
             0.4,
             "#fde0ef"
            ],
            [
             0.5,
             "#f7f7f7"
            ],
            [
             0.6,
             "#e6f5d0"
            ],
            [
             0.7,
             "#b8e186"
            ],
            [
             0.8,
             "#7fbc41"
            ],
            [
             0.9,
             "#4d9221"
            ],
            [
             1,
             "#276419"
            ]
           ],
           "sequential": [
            [
             0,
             "#0d0887"
            ],
            [
             0.1111111111111111,
             "#46039f"
            ],
            [
             0.2222222222222222,
             "#7201a8"
            ],
            [
             0.3333333333333333,
             "#9c179e"
            ],
            [
             0.4444444444444444,
             "#bd3786"
            ],
            [
             0.5555555555555556,
             "#d8576b"
            ],
            [
             0.6666666666666666,
             "#ed7953"
            ],
            [
             0.7777777777777778,
             "#fb9f3a"
            ],
            [
             0.8888888888888888,
             "#fdca26"
            ],
            [
             1,
             "#f0f921"
            ]
           ],
           "sequentialminus": [
            [
             0,
             "#0d0887"
            ],
            [
             0.1111111111111111,
             "#46039f"
            ],
            [
             0.2222222222222222,
             "#7201a8"
            ],
            [
             0.3333333333333333,
             "#9c179e"
            ],
            [
             0.4444444444444444,
             "#bd3786"
            ],
            [
             0.5555555555555556,
             "#d8576b"
            ],
            [
             0.6666666666666666,
             "#ed7953"
            ],
            [
             0.7777777777777778,
             "#fb9f3a"
            ],
            [
             0.8888888888888888,
             "#fdca26"
            ],
            [
             1,
             "#f0f921"
            ]
           ]
          },
          "colorway": [
           "#636efa",
           "#EF553B",
           "#00cc96",
           "#ab63fa",
           "#FFA15A",
           "#19d3f3",
           "#FF6692",
           "#B6E880",
           "#FF97FF",
           "#FECB52"
          ],
          "font": {
           "color": "#2a3f5f"
          },
          "geo": {
           "bgcolor": "white",
           "lakecolor": "white",
           "landcolor": "#E5ECF6",
           "showlakes": true,
           "showland": true,
           "subunitcolor": "white"
          },
          "hoverlabel": {
           "align": "left"
          },
          "hovermode": "closest",
          "mapbox": {
           "style": "light"
          },
          "paper_bgcolor": "white",
          "plot_bgcolor": "#E5ECF6",
          "polar": {
           "angularaxis": {
            "gridcolor": "white",
            "linecolor": "white",
            "ticks": ""
           },
           "bgcolor": "#E5ECF6",
           "radialaxis": {
            "gridcolor": "white",
            "linecolor": "white",
            "ticks": ""
           }
          },
          "scene": {
           "xaxis": {
            "backgroundcolor": "#E5ECF6",
            "gridcolor": "white",
            "gridwidth": 2,
            "linecolor": "white",
            "showbackground": true,
            "ticks": "",
            "zerolinecolor": "white"
           },
           "yaxis": {
            "backgroundcolor": "#E5ECF6",
            "gridcolor": "white",
            "gridwidth": 2,
            "linecolor": "white",
            "showbackground": true,
            "ticks": "",
            "zerolinecolor": "white"
           },
           "zaxis": {
            "backgroundcolor": "#E5ECF6",
            "gridcolor": "white",
            "gridwidth": 2,
            "linecolor": "white",
            "showbackground": true,
            "ticks": "",
            "zerolinecolor": "white"
           }
          },
          "shapedefaults": {
           "line": {
            "color": "#2a3f5f"
           }
          },
          "ternary": {
           "aaxis": {
            "gridcolor": "white",
            "linecolor": "white",
            "ticks": ""
           },
           "baxis": {
            "gridcolor": "white",
            "linecolor": "white",
            "ticks": ""
           },
           "bgcolor": "#E5ECF6",
           "caxis": {
            "gridcolor": "white",
            "linecolor": "white",
            "ticks": ""
           }
          },
          "title": {
           "x": 0.05
          },
          "xaxis": {
           "automargin": true,
           "gridcolor": "white",
           "linecolor": "white",
           "ticks": "",
           "title": {
            "standoff": 15
           },
           "zerolinecolor": "white",
           "zerolinewidth": 2
          },
          "yaxis": {
           "automargin": true,
           "gridcolor": "white",
           "linecolor": "white",
           "ticks": "",
           "title": {
            "standoff": 15
           },
           "zerolinecolor": "white",
           "zerolinewidth": 2
          }
         }
        },
        "title": {
         "text": "U.S. Real Median Household Income"
        }
       }
      }
     },
     "metadata": {},
     "output_type": "display_data"
    }
   ],
   "source": [
    "plotly.offline.init_notebook_mode(connected=True)\n",
    "import plotly.io as pio\n",
    "pio.renderers.default = 'jupyterlab'\n",
    "# api key.  note: I intend to delete this key so if you copy this code please request a free key from the FRED site so that \n",
    "# your code will not suddenly stop working unexpectedly. \n",
    "data = dpf.data('39a76a8c8154c31e8243a777ce48430b')\n",
    "\n",
    "# first year of geo data\n",
    "start_year = 2010\n",
    "start_date = datetime.datetime.strptime(str(start_year), '%Y')\n",
    "\n",
    "# Real Median Household Income\n",
    "df = data.geo(series_id='MEHOINUSALA672N',start_date=start_date.date())\n",
    "\n",
    "# plotly built in state choropleth expects a location of a two character state code\n",
    "df['State']  = df.series_id.apply(lambda x: x[8:10])\n",
    "\n",
    "df = df.astype('str')\n",
    "\n",
    "# all fields are of datatype object, want the value field to be numeric so that plotly colouring is continuous\n",
    "df['value'] = pd.to_numeric(df['value'])\n",
    "\n",
    "z_max = df['value'].max()\n",
    "z_min = df['value'].min()\n",
    "\n",
    "data_slider = []\n",
    "for year in df['_date'].unique():\n",
    "    df_segmented =  df[(df['_date']== year)]\n",
    "\n",
    "\n",
    "    data_each_yr = dict(\n",
    "                        type='choropleth',\n",
    "                        locations = df_segmented['State'],\n",
    "                        z=df_segmented['value'].astype(float),\n",
    "                        zmax = z_max, \n",
    "                        zmin = z_min, \n",
    "                        locationmode='USA-states',\n",
    "                        colorscale = 'spectral',\n",
    "                        text=df_segmented.apply(lambda row: \"State: {} \\\n",
    "                            <br>Household Income: ${:,}\" .format(row['region'],int(row['value'])), axis=1),  \n",
    "                        hoverinfo=\"text\",\n",
    "                        colorbar= {'title':'Household<br>Income'}\n",
    "                    )\n",
    "\n",
    "    data_slider.append(data_each_yr)\n",
    "       \n",
    "steps = []\n",
    "for i in range(len(data_slider)):\n",
    "    step = dict(method='restyle',\n",
    "                args=['visible', [False] * len(data_slider)],\n",
    "                label='Year {}'.format(i + start_year))\n",
    "    step['args'][1][i] = True\n",
    "    steps.append(step)\n",
    "\n",
    "\n",
    "sliders = [dict(active=len(steps) - 1, pad={\"t\": 1}, steps=steps)]\n",
    "\n",
    "layout = dict(title ='U.S. Real Median Household Income', \n",
    "                geo=dict(scope='usa',projection={'type': 'albers usa'}),\n",
    "                sliders=sliders)\n",
    "\n",
    "fig = go.Figure(\n",
    "    data=data_slider,\n",
    "    layout=layout\n",
    ")\n",
    "\n",
    "#fig.show()\n",
    "plotly.offline.iplot(fig)"
   ]
  },
  {
   "cell_type": "code",
   "execution_count": null,
   "metadata": {},
   "outputs": [],
   "source": [
    "plotly.offline.init_notebook_mode(connected=False)\n",
    "import plotly.io as pio\n",
    "pio.renderers.default = 'jupyterlab'\n",
    "\n",
    "# api key.  note: I intend to delete this key so if you copy this code please request a free key from the FRED site so that \n",
    "# your code will not suddenly stop working unexpectedly. \n",
    "data = dpf.data('39a76a8c8154c31e8243a777ce48430b')\n",
    "\n",
    "# first year of geo data\n",
    "start_year = 2010\n",
    "start_date = datetime.datetime.strptime(str(start_year), '%Y')\n",
    "\n",
    "# Real Median Household Income\n",
    "df = data.geo(series_id='MEHOINUSALA672N',start_date=start_date.date())\n",
    "\n",
    "# plotly built in state choropleth expects a location of a two character state code\n",
    "df['State']  = df.series_id.apply(lambda x: x[8:10])\n",
    "\n",
    "df = df.astype('str')\n",
    "\n",
    "# all fields are of datatype object, want the value field to be numeric so that plotly colouring is continuous\n",
    "df['value'] = pd.to_numeric(df['value'])\n",
    "\n",
    "z_max = df['value'].max()\n",
    "z_min = df['value'].min()\n",
    "\n",
    "data_slider = []\n",
    "for year in df['_date'].unique():\n",
    "    df_segmented =  df[(df['_date']== year)]\n",
    "\n",
    "\n",
    "    data_each_yr = dict(\n",
    "                        type='choropleth',\n",
    "                        locations = df_segmented['State'],\n",
    "                        z=df_segmented['value'].astype(float),\n",
    "                        zmax = z_max, \n",
    "                        zmin = z_min, \n",
    "                        locationmode='USA-states',\n",
    "                        colorscale = 'spectral',\n",
    "                        text=df_segmented.apply(lambda row: \"State: {} \\\n",
    "                            <br>Household Income: ${:,}\" .format(row['region'],int(row['value'])), axis=1),  \n",
    "                        hoverinfo=\"text\",\n",
    "                        colorbar= {'title':'Household<br>Income'}\n",
    "                    )\n",
    "\n",
    "    data_slider.append(data_each_yr)\n",
    "       \n",
    "steps = []\n",
    "for i in range(len(data_slider)):\n",
    "    step = dict(method='restyle',\n",
    "                args=['visible', [False] * len(data_slider)],\n",
    "                label='Year {}'.format(i + start_year))\n",
    "    step['args'][1][i] = True\n",
    "    steps.append(step)\n",
    "\n",
    "\n",
    "sliders = [dict(active=len(steps) - 1, pad={\"t\": 1}, steps=steps)]\n",
    "\n",
    "layout = dict(title ='U.S. Real Median Household Income', \n",
    "                geo=dict(scope='usa',projection={'type': 'albers usa'}),\n",
    "                sliders=sliders)\n",
    "\n",
    "fig = go.Figure(\n",
    "    data=data_slider,\n",
    "    layout=layout\n",
    ")\n",
    "\n",
    "#fig.show()\n",
    "plotly.offline.iplot(fig)"
   ]
  },
  {
   "cell_type": "code",
   "execution_count": null,
   "metadata": {},
   "outputs": [],
   "source": [
    "#!jupyter labextension install @jupyterlab/plotly-extension\n",
    "plotly.offline.init_notebook_mode(connected=True)\n",
    "import plotly.io as pio\n",
    "pio.renderers.default = 'jupyterlab'\n",
    "\n",
    "# api key.  note: I intend to delete this key so if you copy this code please request a free key from the FRED site so that \n",
    "# your code will not suddenly stop working unexpectedly. \n",
    "data = dpf.data('39a76a8c8154c31e8243a777ce48430b')\n",
    "\n",
    "# first year of geo data\n",
    "start_year = 2010\n",
    "start_date = datetime.datetime.strptime(str(start_year), '%Y')\n",
    "\n",
    "# Real Median Household Income\n",
    "df = data.geo(series_id='MEHOINUSALA672N',start_date=start_date.date())\n",
    "\n",
    "# plotly built in state choropleth expects a location of a two character state code\n",
    "df['State']  = df.series_id.apply(lambda x: x[8:10])\n",
    "\n",
    "df = df.astype('str')\n",
    "\n",
    "# all fields are of datatype object, want the value field to be numeric so that plotly colouring is continuous\n",
    "df['value'] = pd.to_numeric(df['value'])\n",
    "\n",
    "z_max = df['value'].max()\n",
    "z_min = df['value'].min()\n",
    "\n",
    "data_slider = []\n",
    "for year in df['_date'].unique():\n",
    "    df_segmented =  df[(df['_date']== year)]\n",
    "\n",
    "\n",
    "    data_each_yr = dict(\n",
    "                        type='choropleth',\n",
    "                        locations = df_segmented['State'],\n",
    "                        z=df_segmented['value'].astype(float),\n",
    "                        zmax = z_max, \n",
    "                        zmin = z_min, \n",
    "                        locationmode='USA-states',\n",
    "                        colorscale = 'spectral',\n",
    "                        text=df_segmented.apply(lambda row: \"State: {} \\\n",
    "                            <br>Household Income: ${:,}\" .format(row['region'],int(row['value'])), axis=1),  \n",
    "                        hoverinfo=\"text\",\n",
    "                        colorbar= {'title':'Household<br>Income'}\n",
    "                    )\n",
    "\n",
    "    data_slider.append(data_each_yr)\n",
    "       \n",
    "steps = []\n",
    "for i in range(len(data_slider)):\n",
    "    step = dict(method='restyle',\n",
    "                args=['visible', [False] * len(data_slider)],\n",
    "                label='Year {}'.format(i + start_year))\n",
    "    step['args'][1][i] = True\n",
    "    steps.append(step)\n",
    "\n",
    "\n",
    "sliders = [dict(active=len(steps) - 1, pad={\"t\": 1}, steps=steps)]\n",
    "\n",
    "layout = dict(title ='U.S. Real Median Household Income', \n",
    "                geo=dict(scope='usa',projection={'type': 'albers usa'}),\n",
    "                sliders=sliders)\n",
    "\n",
    "fig = go.Figure(\n",
    "    data=data_slider,\n",
    "    layout=layout\n",
    ")\n",
    "\n",
    "#fig.show()\n",
    "plotly.offline.iplot(fig)"
   ]
  },
  {
   "cell_type": "code",
   "execution_count": 4,
   "metadata": {},
   "outputs": [
    {
     "data": {
      "application/vnd.plotly.v1+json": {
       "config": {
        "plotlyServerURL": "https://plot.ly"
       },
       "data": [
        {
         "colorbar": {
          "title": {
           "text": "Household<br>Income"
          }
         },
         "colorscale": [
          [
           0,
           "rgb(158,1,66)"
          ],
          [
           0.1,
           "rgb(213,62,79)"
          ],
          [
           0.2,
           "rgb(244,109,67)"
          ],
          [
           0.3,
           "rgb(253,174,97)"
          ],
          [
           0.4,
           "rgb(254,224,139)"
          ],
          [
           0.5,
           "rgb(255,255,191)"
          ],
          [
           0.6,
           "rgb(230,245,152)"
          ],
          [
           0.7,
           "rgb(171,221,164)"
          ],
          [
           0.8,
           "rgb(102,194,165)"
          ],
          [
           0.9,
           "rgb(50,136,189)"
          ],
          [
           1,
           "rgb(94,79,162)"
          ]
         ],
         "hoverinfo": "text",
         "locationmode": "USA-states",
         "locations": [
          "AL",
          "AK",
          "AZ",
          "AR",
          "CA",
          "CO",
          "CT",
          "DE",
          "DC",
          "FL",
          "GA",
          "HI",
          "ID",
          "IL",
          "IN",
          "IA",
          "KS",
          "KY",
          "LA",
          "ME",
          "MD",
          "MA",
          "MI",
          "MN",
          "MS",
          "MO",
          "MT",
          "NE",
          "NV",
          "NH",
          "NJ",
          "NM",
          "NY",
          "NC",
          "ND",
          "OH",
          "OK",
          "OR",
          "PA",
          "RI",
          "SC",
          "SD",
          "TN",
          "TX",
          "UT",
          "VT",
          "VA",
          "WA",
          "WV",
          "WI",
          "WY"
         ],
         "text": [
          "State: Alabama                             <br>Household Income: $48,100",
          "State: Alaska                             <br>Household Income: $67,977",
          "State: Arizona                             <br>Household Income: $55,107",
          "State: Arkansas                             <br>Household Income: $45,343",
          "State: California                             <br>Household Income: $63,788",
          "State: Colorado                             <br>Household Income: $70,779",
          "State: Connecticut                             <br>Household Income: $77,554",
          "State: Delaware                             <br>Household Income: $64,882",
          "State: District of Columbia                             <br>Household Income: $66,896",
          "State: Florida                             <br>Household Income: $51,782",
          "State: Georgia                             <br>Household Income: $51,842",
          "State: Hawaii                             <br>Household Income: $69,964",
          "State: Idaho                             <br>Household Income: $55,288",
          "State: Illinois                             <br>Household Income: $59,610",
          "State: Indiana                             <br>Household Income: $54,218",
          "State: Iowa                             <br>Household Income: $57,598",
          "State: Kansas                             <br>Household Income: $54,118",
          "State: Kentucky                             <br>Household Income: $48,301",
          "State: Louisiana                             <br>Household Income: $46,181",
          "State: Maine                             <br>Household Income: $56,323",
          "State: Maryland                             <br>Household Income: $75,442",
          "State: Massachusetts                             <br>Household Income: $71,603",
          "State: Michigan                             <br>Household Income: $54,379",
          "State: Minnesota                             <br>Household Income: $61,482",
          "State: Mississippi                             <br>Household Income: $44,842",
          "State: Missouri                             <br>Household Income: $53,839",
          "State: Montana                             <br>Household Income: $48,508",
          "State: Nebraska                             <br>Household Income: $61,697",
          "State: Nevada                             <br>Household Income: $60,165",
          "State: New Hampshire                             <br>Household Income: $78,300",
          "State: New Jersey                             <br>Household Income: $73,993",
          "State: New Mexico                             <br>Household Income: $53,037",
          "State: New York                             <br>Household Income: $58,497",
          "State: North Carolina                             <br>Household Income: $51,504",
          "State: North Dakota                             <br>Household Income: $59,937",
          "State: Ohio                             <br>Household Income: $53,920",
          "State: Oklahoma                             <br>Household Income: $50,650",
          "State: Oregon                             <br>Household Income: $59,462",
          "State: Pennsylvania                             <br>Household Income: $56,773",
          "State: Rhode Island                             <br>Household Income: $60,662",
          "State: South Carolina                             <br>Household Income: $48,999",
          "State: South Dakota                             <br>Household Income: $53,293",
          "State: Tennessee                             <br>Household Income: $45,348",
          "State: Texas                             <br>Household Income: $55,542",
          "State: Utah                             <br>Household Income: $66,629",
          "State: Vermont                             <br>Household Income: $65,721",
          "State: Virginia                             <br>Household Income: $70,937",
          "State: Washington                             <br>Household Income: $65,997",
          "State: West Virginia                             <br>Household Income: $50,267",
          "State: Wisconsin                             <br>Household Income: $59,167",
          "State: Wyoming                             <br>Household Income: $61,341"
         ],
         "type": "choropleth",
         "z": [
          48100,
          67977,
          55107,
          45343,
          63788,
          70779,
          77554,
          64882,
          66896,
          51782,
          51842,
          69964,
          55288,
          59610,
          54218,
          57598,
          54118,
          48301,
          46181,
          56323,
          75442,
          71603,
          54379,
          61482,
          44842,
          53839,
          48508,
          61697,
          60165,
          78300,
          73993,
          53037,
          58497,
          51504,
          59937,
          53920,
          50650,
          59462,
          56773,
          60662,
          48999,
          53293,
          45348,
          55542,
          66629,
          65721,
          70937,
          65997,
          50267,
          59167,
          61341
         ],
         "zmax": 95572,
         "zmin": 35548
        },
        {
         "colorbar": {
          "title": {
           "text": "Household<br>Income"
          }
         },
         "colorscale": [
          [
           0,
           "rgb(158,1,66)"
          ],
          [
           0.1,
           "rgb(213,62,79)"
          ],
          [
           0.2,
           "rgb(244,109,67)"
          ],
          [
           0.3,
           "rgb(253,174,97)"
          ],
          [
           0.4,
           "rgb(254,224,139)"
          ],
          [
           0.5,
           "rgb(255,255,191)"
          ],
          [
           0.6,
           "rgb(230,245,152)"
          ],
          [
           0.7,
           "rgb(171,221,164)"
          ],
          [
           0.8,
           "rgb(102,194,165)"
          ],
          [
           0.9,
           "rgb(50,136,189)"
          ],
          [
           1,
           "rgb(94,79,162)"
          ]
         ],
         "hoverinfo": "text",
         "locationmode": "USA-states",
         "locations": [
          "AL",
          "AK",
          "AZ",
          "AR",
          "CA",
          "CO",
          "CT",
          "DE",
          "DC",
          "FL",
          "GA",
          "HI",
          "ID",
          "IL",
          "IN",
          "IA",
          "KS",
          "KY",
          "LA",
          "ME",
          "MD",
          "MA",
          "MI",
          "MN",
          "MS",
          "MO",
          "MT",
          "NE",
          "NV",
          "NH",
          "NJ",
          "NM",
          "NY",
          "NC",
          "ND",
          "OH",
          "OK",
          "OR",
          "PA",
          "RI",
          "SC",
          "SD",
          "TN",
          "TX",
          "UT",
          "VT",
          "VA",
          "WA",
          "WV",
          "WI",
          "WY"
         ],
         "text": [
          "State: Alabama                             <br>Household Income: $48,518",
          "State: Alaska                             <br>Household Income: $65,424",
          "State: Arizona                             <br>Household Income: $55,388",
          "State: Arkansas                             <br>Household Income: $47,051",
          "State: California                             <br>Household Income: $60,795",
          "State: Colorado                             <br>Household Income: $66,789",
          "State: Connecticut                             <br>Household Income: $74,520",
          "State: Delaware                             <br>Household Income: $62,268",
          "State: District of Columbia                             <br>Household Income: $62,941",
          "State: Florida                             <br>Household Income: $51,383",
          "State: Georgia                             <br>Household Income: $52,372",
          "State: Hawaii                             <br>Household Income: $67,265",
          "State: Idaho                             <br>Household Income: $54,064",
          "State: Illinois                             <br>Household Income: $57,685",
          "State: Indiana                             <br>Household Income: $50,631",
          "State: Iowa                             <br>Household Income: $57,209",
          "State: Kansas                             <br>Household Income: $52,570",
          "State: Kentucky                             <br>Household Income: $45,403",
          "State: Louisiana                             <br>Household Income: $46,317",
          "State: Maine                             <br>Household Income: $56,609",
          "State: Maryland                             <br>Household Income: $78,462",
          "State: Massachusetts                             <br>Household Income: $72,125",
          "State: Michigan                             <br>Household Income: $55,682",
          "State: Minnesota                             <br>Household Income: $65,868",
          "State: Mississippi                             <br>Household Income: $46,809",
          "State: Missouri                             <br>Household Income: $52,145",
          "State: Montana                             <br>Household Income: $45,883",
          "State: Nebraska                             <br>Household Income: $63,357",
          "State: Nevada                             <br>Household Income: $53,591",
          "State: New Hampshire                             <br>Household Income: $75,049",
          "State: New Jersey                             <br>Household Income: $71,014",
          "State: New Mexico                             <br>Household Income: $47,825",
          "State: New York                             <br>Household Income: $57,684",
          "State: North Carolina                             <br>Household Income: $51,498",
          "State: North Dakota                             <br>Household Income: $64,205",
          "State: Ohio                             <br>Household Income: $50,862",
          "State: Oklahoma                             <br>Household Income: $55,199",
          "State: Oregon                             <br>Household Income: $58,698",
          "State: Pennsylvania                             <br>Household Income: $56,857",
          "State: Rhode Island                             <br>Household Income: $55,858",
          "State: South Carolina                             <br>Household Income: $45,663",
          "State: South Dakota                             <br>Household Income: $53,796",
          "State: Tennessee                             <br>Household Income: $48,164",
          "State: Texas                             <br>Household Income: $55,874",
          "State: Utah                             <br>Household Income: $63,217",
          "State: Vermont                             <br>Household Income: $59,080",
          "State: Virginia                             <br>Household Income: $71,331",
          "State: Washington                             <br>Household Income: $64,763",
          "State: West Virginia                             <br>Household Income: $47,642",
          "State: Wisconsin                             <br>Household Income: $59,304",
          "State: Wyoming                             <br>Household Income: $62,096"
         ],
         "type": "choropleth",
         "z": [
          48518,
          65424,
          55388,
          47051,
          60795,
          66789,
          74520,
          62268,
          62941,
          51383,
          52372,
          67265,
          54064,
          57685,
          50631,
          57209,
          52570,
          45403,
          46317,
          56609,
          78462,
          72125,
          55682,
          65868,
          46809,
          52145,
          45883,
          63357,
          53591,
          75049,
          71014,
          47825,
          57684,
          51498,
          64205,
          50862,
          55199,
          58698,
          56857,
          55858,
          45663,
          53796,
          48164,
          55874,
          63217,
          59080,
          71331,
          64763,
          47642,
          59304,
          62096
         ],
         "zmax": 95572,
         "zmin": 35548
        },
        {
         "colorbar": {
          "title": {
           "text": "Household<br>Income"
          }
         },
         "colorscale": [
          [
           0,
           "rgb(158,1,66)"
          ],
          [
           0.1,
           "rgb(213,62,79)"
          ],
          [
           0.2,
           "rgb(244,109,67)"
          ],
          [
           0.3,
           "rgb(253,174,97)"
          ],
          [
           0.4,
           "rgb(254,224,139)"
          ],
          [
           0.5,
           "rgb(255,255,191)"
          ],
          [
           0.6,
           "rgb(230,245,152)"
          ],
          [
           0.7,
           "rgb(171,221,164)"
          ],
          [
           0.8,
           "rgb(102,194,165)"
          ],
          [
           0.9,
           "rgb(50,136,189)"
          ],
          [
           1,
           "rgb(94,79,162)"
          ]
         ],
         "hoverinfo": "text",
         "locationmode": "USA-states",
         "locations": [
          "AL",
          "AK",
          "AZ",
          "AR",
          "CA",
          "CO",
          "CT",
          "DE",
          "DC",
          "FL",
          "GA",
          "HI",
          "ID",
          "IL",
          "IN",
          "IA",
          "KS",
          "KY",
          "LA",
          "ME",
          "MD",
          "MA",
          "MI",
          "MN",
          "MS",
          "MO",
          "MT",
          "NE",
          "NV",
          "NH",
          "NJ",
          "NM",
          "NY",
          "NC",
          "ND",
          "OH",
          "OK",
          "OR",
          "PA",
          "RI",
          "SC",
          "SD",
          "TN",
          "TX",
          "UT",
          "VT",
          "VA",
          "WA",
          "WV",
          "WI",
          "WY"
         ],
         "text": [
          "State: Alabama                             <br>Household Income: $48,487",
          "State: Alaska                             <br>Household Income: $71,003",
          "State: Arizona                             <br>Household Income: $52,480",
          "State: Arkansas                             <br>Household Income: $43,527",
          "State: California                             <br>Household Income: $63,609",
          "State: Colorado                             <br>Household Income: $63,871",
          "State: Connecticut                             <br>Household Income: $71,671",
          "State: Delaware                             <br>Household Income: $54,631",
          "State: District of Columbia                             <br>Household Income: $72,786",
          "State: Florida                             <br>Household Income: $51,395",
          "State: Georgia                             <br>Household Income: $53,682",
          "State: Hawaii                             <br>Household Income: $62,765",
          "State: Idaho                             <br>Household Income: $53,460",
          "State: Illinois                             <br>Household Income: $57,717",
          "State: Indiana                             <br>Household Income: $51,492",
          "State: Iowa                             <br>Household Income: $59,618",
          "State: Kansas                             <br>Household Income: $55,781",
          "State: Kentucky                             <br>Household Income: $45,834",
          "State: Louisiana                             <br>Household Income: $43,601",
          "State: Maine                             <br>Household Income: $54,838",
          "State: Maryland                             <br>Household Income: $80,137",
          "State: Massachusetts                             <br>Household Income: $71,012",
          "State: Michigan                             <br>Household Income: $55,795",
          "State: Minnesota                             <br>Household Income: $68,936",
          "State: Mississippi                             <br>Household Income: $40,875",
          "State: Missouri                             <br>Household Income: $55,515",
          "State: Montana                             <br>Household Income: $50,298",
          "State: Nebraska                             <br>Household Income: $58,228",
          "State: Nevada                             <br>Household Income: $52,803",
          "State: New Hampshire                             <br>Household Income: $75,656",
          "State: New Jersey                             <br>Household Income: $74,399",
          "State: New Mexico                             <br>Household Income: $48,442",
          "State: New York                             <br>Household Income: $53,190",
          "State: North Carolina                             <br>Household Income: $46,355",
          "State: North Dakota                             <br>Household Income: $62,210",
          "State: Ohio                             <br>Household Income: $49,503",
          "State: Oklahoma                             <br>Household Income: $54,001",
          "State: Oregon                             <br>Household Income: $57,758",
          "State: Pennsylvania                             <br>Household Income: $57,902",
          "State: Rhode Island                             <br>Household Income: $62,544",
          "State: South Carolina                             <br>Household Income: $49,532",
          "State: South Dakota                             <br>Household Income: $55,125",
          "State: Tennessee                             <br>Household Income: $47,963",
          "State: Texas                             <br>Household Income: $57,926",
          "State: Utah                             <br>Household Income: $65,083",
          "State: Vermont                             <br>Household Income: $62,005",
          "State: Virginia                             <br>Household Income: $72,101",
          "State: Washington                             <br>Household Income: $69,373",
          "State: West Virginia                             <br>Household Income: $48,586",
          "State: Wisconsin                             <br>Household Income: $59,213",
          "State: Wyoming                             <br>Household Income: $64,158"
         ],
         "type": "choropleth",
         "z": [
          48487,
          71003,
          52480,
          43527,
          63609,
          63871,
          71671,
          54631,
          72786,
          51395,
          53682,
          62765,
          53460,
          57717,
          51492,
          59618,
          55781,
          45834,
          43601,
          54838,
          80137,
          71012,
          55795,
          68936,
          40875,
          55515,
          50298,
          58228,
          52803,
          75656,
          74399,
          48442,
          53190,
          46355,
          62210,
          49503,
          54001,
          57758,
          57902,
          62544,
          49532,
          55125,
          47963,
          57926,
          65083,
          62005,
          72101,
          69373,
          48586,
          59213,
          64158
         ],
         "zmax": 95572,
         "zmin": 35548
        },
        {
         "colorbar": {
          "title": {
           "text": "Household<br>Income"
          }
         },
         "colorscale": [
          [
           0,
           "rgb(158,1,66)"
          ],
          [
           0.1,
           "rgb(213,62,79)"
          ],
          [
           0.2,
           "rgb(244,109,67)"
          ],
          [
           0.3,
           "rgb(253,174,97)"
          ],
          [
           0.4,
           "rgb(254,224,139)"
          ],
          [
           0.5,
           "rgb(255,255,191)"
          ],
          [
           0.6,
           "rgb(230,245,152)"
          ],
          [
           0.7,
           "rgb(171,221,164)"
          ],
          [
           0.8,
           "rgb(102,194,165)"
          ],
          [
           0.9,
           "rgb(50,136,189)"
          ],
          [
           1,
           "rgb(94,79,162)"
          ]
         ],
         "hoverinfo": "text",
         "locationmode": "USA-states",
         "locations": [
          "AL",
          "AK",
          "AZ",
          "AR",
          "CA",
          "CO",
          "CT",
          "DE",
          "DC",
          "FL",
          "GA",
          "HI",
          "ID",
          "IL",
          "IN",
          "IA",
          "KS",
          "KY",
          "LA",
          "ME",
          "MD",
          "MA",
          "MI",
          "MN",
          "MS",
          "MO",
          "MT",
          "NE",
          "NV",
          "NH",
          "NJ",
          "NM",
          "NY",
          "NC",
          "ND",
          "OH",
          "OK",
          "OR",
          "PA",
          "RI",
          "SC",
          "SD",
          "TN",
          "TX",
          "UT",
          "VT",
          "VA",
          "WA",
          "WV",
          "WI",
          "WY"
         ],
         "text": [
          "State: Alabama                             <br>Household Income: $52,017",
          "State: Alaska                             <br>Household Income: $79,666",
          "State: Arizona                             <br>Household Income: $57,834",
          "State: Arkansas                             <br>Household Income: $43,285",
          "State: California                             <br>Household Income: $66,829",
          "State: Colorado                             <br>Household Income: $74,654",
          "State: Connecticut                             <br>Household Income: $76,170",
          "State: Delaware                             <br>Household Income: $59,461",
          "State: District of Columbia                             <br>Household Income: $66,019",
          "State: Florida                             <br>Household Income: $53,350",
          "State: Georgia                             <br>Household Income: $51,657",
          "State: Hawaii                             <br>Household Income: $70,612",
          "State: Idaho                             <br>Household Income: $53,278",
          "State: Illinois                             <br>Household Income: $59,291",
          "State: Indiana                             <br>Household Income: $54,364",
          "State: Iowa                             <br>Household Income: $66,128",
          "State: Kansas                             <br>Household Income: $52,567",
          "State: Kentucky                             <br>Household Income: $49,334",
          "State: Louisiana                             <br>Household Income: $51,034",
          "State: Maine                             <br>Household Income: $60,413",
          "State: Maryland                             <br>Household Income: $76,238",
          "State: Massachusetts                             <br>Household Income: $68,736",
          "State: Michigan                             <br>Household Income: $62,182",
          "State: Minnesota                             <br>Household Income: $70,709",
          "State: Mississippi                             <br>Household Income: $35,548",
          "State: Missouri                             <br>Household Income: $50,900",
          "State: Montana                             <br>Household Income: $47,490",
          "State: Nebraska                             <br>Household Income: $63,343",
          "State: Nevada                             <br>Household Income: $56,993",
          "State: New Hampshire                             <br>Household Income: $75,958",
          "State: New Jersey                             <br>Household Income: $70,083",
          "State: New Mexico                             <br>Household Income: $44,153",
          "State: New York                             <br>Household Income: $54,926",
          "State: North Carolina                             <br>Household Income: $50,937",
          "State: North Dakota                             <br>Household Income: $65,024",
          "State: Ohio                             <br>Household Income: $55,786",
          "State: Oklahoma                             <br>Household Income: $50,745",
          "State: Oregon                             <br>Household Income: $53,863",
          "State: Pennsylvania                             <br>Household Income: $60,631",
          "State: Rhode Island                             <br>Household Income: $61,914",
          "State: South Carolina                             <br>Household Income: $47,888",
          "State: South Dakota                             <br>Household Income: $58,715",
          "State: Tennessee                             <br>Household Income: $47,665",
          "State: Texas                             <br>Household Income: $56,509",
          "State: Utah                             <br>Household Income: $67,107",
          "State: Vermont                             <br>Household Income: $72,016",
          "State: Virginia                             <br>Household Income: $72,450",
          "State: Washington                             <br>Household Income: $70,268",
          "State: West Virginia                             <br>Household Income: $47,344",
          "State: Wisconsin                             <br>Household Income: $56,861",
          "State: Wyoming                             <br>Household Income: $74,136"
         ],
         "type": "choropleth",
         "z": [
          52017,
          79666,
          57834,
          43285,
          66829,
          74654,
          76170,
          59461,
          66019,
          53350,
          51657,
          70612,
          53278,
          59291,
          54364,
          66128,
          52567,
          49334,
          51034,
          60413,
          76238,
          68736,
          62182,
          70709,
          35548,
          50900,
          47490,
          63343,
          56993,
          75958,
          70083,
          44153,
          54926,
          50937,
          65024,
          55786,
          50745,
          53863,
          60631,
          61914,
          47888,
          58715,
          47665,
          56509,
          67107,
          72016,
          72450,
          70268,
          47344,
          56861,
          74136
         ],
         "zmax": 95572,
         "zmin": 35548
        },
        {
         "colorbar": {
          "title": {
           "text": "Household<br>Income"
          }
         },
         "colorscale": [
          [
           0,
           "rgb(158,1,66)"
          ],
          [
           0.1,
           "rgb(213,62,79)"
          ],
          [
           0.2,
           "rgb(244,109,67)"
          ],
          [
           0.3,
           "rgb(253,174,97)"
          ],
          [
           0.4,
           "rgb(254,224,139)"
          ],
          [
           0.5,
           "rgb(255,255,191)"
          ],
          [
           0.6,
           "rgb(230,245,152)"
          ],
          [
           0.7,
           "rgb(171,221,164)"
          ],
          [
           0.8,
           "rgb(102,194,165)"
          ],
          [
           0.9,
           "rgb(50,136,189)"
          ],
          [
           1,
           "rgb(94,79,162)"
          ]
         ],
         "hoverinfo": "text",
         "locationmode": "USA-states",
         "locations": [
          "AL",
          "AK",
          "AZ",
          "AR",
          "CA",
          "CO",
          "CT",
          "DE",
          "DC",
          "FL",
          "GA",
          "HI",
          "ID",
          "IL",
          "IN",
          "IA",
          "KS",
          "KY",
          "LA",
          "ME",
          "MD",
          "MA",
          "MI",
          "MN",
          "MS",
          "MO",
          "MT",
          "NE",
          "NV",
          "NH",
          "NJ",
          "NM",
          "NY",
          "NC",
          "ND",
          "OH",
          "OK",
          "OR",
          "PA",
          "RI",
          "SC",
          "SD",
          "TN",
          "TX",
          "UT",
          "VT",
          "VA",
          "WA",
          "WV",
          "WI",
          "WY"
         ],
         "text": [
          "State: Alabama                             <br>Household Income: $45,701",
          "State: Alaska                             <br>Household Income: $73,105",
          "State: Arizona                             <br>Household Income: $53,242",
          "State: Arkansas                             <br>Household Income: $48,559",
          "State: California                             <br>Household Income: $65,384",
          "State: Colorado                             <br>Household Income: $65,874",
          "State: Connecticut                             <br>Household Income: $75,842",
          "State: Delaware                             <br>Household Income: $62,179",
          "State: District of Columbia                             <br>Household Income: $73,805",
          "State: Florida                             <br>Household Income: $49,876",
          "State: Georgia                             <br>Household Income: $53,567",
          "State: Hawaii                             <br>Household Income: $76,990",
          "State: Idaho                             <br>Household Income: $57,765",
          "State: Illinois                             <br>Household Income: $59,362",
          "State: Indiana                             <br>Household Income: $51,951",
          "State: Iowa                             <br>Household Income: $62,491",
          "State: Kansas                             <br>Household Income: $57,771",
          "State: Kentucky                             <br>Household Income: $46,250",
          "State: Louisiana                             <br>Household Income: $45,839",
          "State: Maine                             <br>Household Income: $55,897",
          "State: Maryland                             <br>Household Income: $82,332",
          "State: Massachusetts                             <br>Household Income: $68,264",
          "State: Michigan                             <br>Household Income: $56,216",
          "State: Minnesota                             <br>Household Income: $72,688",
          "State: Mississippi                             <br>Household Income: $38,397",
          "State: Missouri                             <br>Household Income: $61,215",
          "State: Montana                             <br>Household Income: $55,239",
          "State: Nebraska                             <br>Household Income: $61,474",
          "State: Nevada                             <br>Household Income: $53,913",
          "State: New Hampshire                             <br>Household Income: $79,340",
          "State: New Jersey                             <br>Household Income: $70,525",
          "State: New Mexico                             <br>Household Income: $50,466",
          "State: New York                             <br>Household Income: $58,707",
          "State: North Carolina                             <br>Household Income: $50,572",
          "State: North Dakota                             <br>Household Income: $65,647",
          "State: Ohio                             <br>Household Income: $53,663",
          "State: Oklahoma                             <br>Household Income: $51,020",
          "State: Oregon                             <br>Household Income: $63,642",
          "State: Pennsylvania                             <br>Household Income: $59,640",
          "State: Rhode Island                             <br>Household Income: $63,380",
          "State: South Carolina                             <br>Household Income: $48,567",
          "State: South Dakota                             <br>Household Income: $57,348",
          "State: Tennessee                             <br>Household Income: $47,255",
          "State: Texas                             <br>Household Income: $58,237",
          "State: Utah                             <br>Household Income: $68,515",
          "State: Vermont                             <br>Household Income: $65,623",
          "State: Virginia                             <br>Household Income: $71,511",
          "State: Washington                             <br>Household Income: $63,850",
          "State: West Virginia                             <br>Household Income: $42,754",
          "State: Wisconsin                             <br>Household Income: $62,782",
          "State: Wyoming                             <br>Household Income: $60,199"
         ],
         "type": "choropleth",
         "z": [
          45701,
          73105,
          53242,
          48559,
          65384,
          65874,
          75842,
          62179,
          73805,
          49876,
          53567,
          76990,
          57765,
          59362,
          51951,
          62491,
          57771,
          46250,
          45839,
          55897,
          82332,
          68264,
          56216,
          72688,
          38397,
          61215,
          55239,
          61474,
          53913,
          79340,
          70525,
          50466,
          58707,
          50572,
          65647,
          53663,
          51020,
          63642,
          59640,
          63380,
          48567,
          57348,
          47255,
          58237,
          68515,
          65623,
          71511,
          63850,
          42754,
          62782,
          60199
         ],
         "zmax": 95572,
         "zmin": 35548
        },
        {
         "colorbar": {
          "title": {
           "text": "Household<br>Income"
          }
         },
         "colorscale": [
          [
           0,
           "rgb(158,1,66)"
          ],
          [
           0.1,
           "rgb(213,62,79)"
          ],
          [
           0.2,
           "rgb(244,109,67)"
          ],
          [
           0.3,
           "rgb(253,174,97)"
          ],
          [
           0.4,
           "rgb(254,224,139)"
          ],
          [
           0.5,
           "rgb(255,255,191)"
          ],
          [
           0.6,
           "rgb(230,245,152)"
          ],
          [
           0.7,
           "rgb(171,221,164)"
          ],
          [
           0.8,
           "rgb(102,194,165)"
          ],
          [
           0.9,
           "rgb(50,136,189)"
          ],
          [
           1,
           "rgb(94,79,162)"
          ]
         ],
         "hoverinfo": "text",
         "locationmode": "USA-states",
         "locations": [
          "AL",
          "AK",
          "AZ",
          "AR",
          "CA",
          "CO",
          "CT",
          "DE",
          "DC",
          "FL",
          "GA",
          "HI",
          "ID",
          "IL",
          "IN",
          "IA",
          "KS",
          "KY",
          "LA",
          "ME",
          "MD",
          "MA",
          "MI",
          "MN",
          "MS",
          "MO",
          "MT",
          "NE",
          "NV",
          "NH",
          "NJ",
          "NM",
          "NY",
          "NC",
          "ND",
          "OH",
          "OK",
          "OR",
          "PA",
          "RI",
          "SC",
          "SD",
          "TN",
          "TX",
          "UT",
          "VT",
          "VA",
          "WA",
          "WV",
          "WI",
          "WY"
         ],
         "text": [
          "State: Alabama                             <br>Household Income: $48,030",
          "State: Alaska                             <br>Household Income: $81,054",
          "State: Arizona                             <br>Household Income: $56,381",
          "State: Arkansas                             <br>Household Income: $46,184",
          "State: California                             <br>Household Income: $68,670",
          "State: Colorado                             <br>Household Income: $71,864",
          "State: Connecticut                             <br>Household Income: $78,655",
          "State: Delaware                             <br>Household Income: $62,325",
          "State: District of Columbia                             <br>Household Income: $75,614",
          "State: Florida                             <br>Household Income: $52,687",
          "State: Georgia                             <br>Household Income: $54,784",
          "State: Hawaii                             <br>Household Income: $69,617",
          "State: Idaho                             <br>Household Income: $55,708",
          "State: Illinois                             <br>Household Income: $65,192",
          "State: Indiana                             <br>Household Income: $56,095",
          "State: Iowa                             <br>Household Income: $65,669",
          "State: Kansas                             <br>Household Income: $59,205",
          "State: Kentucky                             <br>Household Income: $45,740",
          "State: Louisiana                             <br>Household Income: $49,555",
          "State: Maine                             <br>Household Income: $54,771",
          "State: Maryland                             <br>Household Income: $79,416",
          "State: Massachusetts                             <br>Household Income: $73,229",
          "State: Michigan                             <br>Household Income: $58,491",
          "State: Minnesota                             <br>Household Income: $74,167",
          "State: Mississippi                             <br>Household Income: $43,204",
          "State: Missouri                             <br>Household Income: $63,879",
          "State: Montana                             <br>Household Income: $55,461",
          "State: Nebraska                             <br>Household Income: $65,258",
          "State: Nevada                             <br>Household Income: $56,122",
          "State: New Hampshire                             <br>Household Income: $81,661",
          "State: New Jersey                             <br>Household Income: $73,764",
          "State: New Mexico                             <br>Household Income: $48,688",
          "State: New York                             <br>Household Income: $62,594",
          "State: North Carolina                             <br>Household Income: $54,815",
          "State: North Dakota                             <br>Household Income: $61,957",
          "State: Ohio                             <br>Household Income: $57,517",
          "State: Oklahoma                             <br>Household Income: $50,801",
          "State: Oregon                             <br>Household Income: $65,646",
          "State: Pennsylvania                             <br>Household Income: $65,166",
          "State: Rhode Island                             <br>Household Income: $60,107",
          "State: South Carolina                             <br>Household Income: $50,027",
          "State: South Dakota                             <br>Household Income: $59,421",
          "State: Tennessee                             <br>Household Income: $51,074",
          "State: Texas                             <br>Household Income: $60,940",
          "State: Utah                             <br>Household Income: $71,499",
          "State: Vermont                             <br>Household Income: $64,200",
          "State: Virginia                             <br>Household Income: $66,350",
          "State: Washington                             <br>Household Income: $72,562",
          "State: West Virginia                             <br>Household Income: $46,212",
          "State: Wisconsin                             <br>Household Income: $59,809",
          "State: Wyoming                             <br>Household Income: $65,745"
         ],
         "type": "choropleth",
         "z": [
          48030,
          81054,
          56381,
          46184,
          68670,
          71864,
          78655,
          62325,
          75614,
          52687,
          54784,
          69617,
          55708,
          65192,
          56095,
          65669,
          59205,
          45740,
          49555,
          54771,
          79416,
          73229,
          58491,
          74167,
          43204,
          63879,
          55461,
          65258,
          56122,
          81661,
          73764,
          48688,
          62594,
          54815,
          61957,
          57517,
          50801,
          65646,
          65166,
          60107,
          50027,
          59421,
          51074,
          60940,
          71499,
          64200,
          66350,
          72562,
          46212,
          59809,
          65745
         ],
         "zmax": 95572,
         "zmin": 35548
        },
        {
         "colorbar": {
          "title": {
           "text": "Household<br>Income"
          }
         },
         "colorscale": [
          [
           0,
           "rgb(158,1,66)"
          ],
          [
           0.1,
           "rgb(213,62,79)"
          ],
          [
           0.2,
           "rgb(244,109,67)"
          ],
          [
           0.3,
           "rgb(253,174,97)"
          ],
          [
           0.4,
           "rgb(254,224,139)"
          ],
          [
           0.5,
           "rgb(255,255,191)"
          ],
          [
           0.6,
           "rgb(230,245,152)"
          ],
          [
           0.7,
           "rgb(171,221,164)"
          ],
          [
           0.8,
           "rgb(102,194,165)"
          ],
          [
           0.9,
           "rgb(50,136,189)"
          ],
          [
           1,
           "rgb(94,79,162)"
          ]
         ],
         "hoverinfo": "text",
         "locationmode": "USA-states",
         "locations": [
          "AL",
          "AK",
          "AZ",
          "AR",
          "CA",
          "CO",
          "CT",
          "DE",
          "DC",
          "FL",
          "GA",
          "HI",
          "ID",
          "IL",
          "IN",
          "IA",
          "KS",
          "KY",
          "LA",
          "ME",
          "MD",
          "MA",
          "MI",
          "MN",
          "MS",
          "MO",
          "MT",
          "NE",
          "NV",
          "NH",
          "NJ",
          "NM",
          "NY",
          "NC",
          "ND",
          "OH",
          "OK",
          "OR",
          "PA",
          "RI",
          "SC",
          "SD",
          "TN",
          "TX",
          "UT",
          "VT",
          "VA",
          "WA",
          "WV",
          "WI",
          "WY"
         ],
         "text": [
          "State: Alabama                             <br>Household Income: $50,308",
          "State: Alaska                             <br>Household Income: $80,673",
          "State: Arizona                             <br>Household Income: $60,832",
          "State: Arkansas                             <br>Household Income: $48,908",
          "State: California                             <br>Household Income: $70,993",
          "State: Colorado                             <br>Household Income: $75,179",
          "State: Connecticut                             <br>Household Income: $80,886",
          "State: Delaware                             <br>Household Income: $61,840",
          "State: District of Columbia                             <br>Household Income: $75,622",
          "State: Florida                             <br>Household Income: $54,521",
          "State: Georgia                             <br>Household Income: $57,026",
          "State: Hawaii                             <br>Household Income: $76,848",
          "State: Idaho                             <br>Household Income: $60,261",
          "State: Illinois                             <br>Household Income: $65,398",
          "State: Indiana                             <br>Household Income: $59,761",
          "State: Iowa                             <br>Household Income: $62,957",
          "State: Kansas                             <br>Household Income: $60,523",
          "State: Kentucky                             <br>Household Income: $48,335",
          "State: Louisiana                             <br>Household Income: $44,954",
          "State: Maine                             <br>Household Income: $54,180",
          "State: Maryland                             <br>Household Income: $78,581",
          "State: Massachusetts                             <br>Household Income: $76,990",
          "State: Michigan                             <br>Household Income: $60,823",
          "State: Minnesota                             <br>Household Income: $74,808",
          "State: Mississippi                             <br>Household Income: $43,785",
          "State: Missouri                             <br>Household Income: $58,612",
          "State: Montana                             <br>Household Income: $60,806",
          "State: Nebraska                             <br>Household Income: $63,255",
          "State: Nevada                             <br>Household Income: $59,054",
          "State: New Hampshire                             <br>Household Income: $81,245",
          "State: New Jersey                             <br>Household Income: $72,943",
          "State: New Mexico                             <br>Household Income: $51,618",
          "State: New York                             <br>Household Income: $65,453",
          "State: North Carolina                             <br>Household Income: $57,278",
          "State: North Dakota                             <br>Household Income: $64,118",
          "State: Ohio                             <br>Household Income: $57,514",
          "State: Oklahoma                             <br>Household Income: $54,273",
          "State: Oregon                             <br>Household Income: $63,000",
          "State: Pennsylvania                             <br>Household Income: $64,965",
          "State: Rhode Island                             <br>Household Income: $65,550",
          "State: South Carolina                             <br>Household Income: $57,888",
          "State: South Dakota                             <br>Household Income: $61,205",
          "State: Tennessee                             <br>Household Income: $54,700",
          "State: Texas                             <br>Household Income: $61,947",
          "State: Utah                             <br>Household Income: $71,892",
          "State: Vermont                             <br>Household Income: $64,814",
          "State: Virginia                             <br>Household Income: $70,795",
          "State: Washington                             <br>Household Income: $74,906",
          "State: West Virginia                             <br>Household Income: $47,253",
          "State: Wisconsin                             <br>Household Income: $63,727",
          "State: Wyoming                             <br>Household Income: $61,609"
         ],
         "type": "choropleth",
         "z": [
          50308,
          80673,
          60832,
          48908,
          70993,
          75179,
          80886,
          61840,
          75622,
          54521,
          57026,
          76848,
          60261,
          65398,
          59761,
          62957,
          60523,
          48335,
          44954,
          54180,
          78581,
          76990,
          60823,
          74808,
          43785,
          58612,
          60806,
          63255,
          59054,
          81245,
          72943,
          51618,
          65453,
          57278,
          64118,
          57514,
          54273,
          63000,
          64965,
          65550,
          57888,
          61205,
          54700,
          61947,
          71892,
          64814,
          70795,
          74906,
          47253,
          63727,
          61609
         ],
         "zmax": 95572,
         "zmin": 35548
        },
        {
         "colorbar": {
          "title": {
           "text": "Household<br>Income"
          }
         },
         "colorscale": [
          [
           0,
           "rgb(158,1,66)"
          ],
          [
           0.1,
           "rgb(213,62,79)"
          ],
          [
           0.2,
           "rgb(244,109,67)"
          ],
          [
           0.3,
           "rgb(253,174,97)"
          ],
          [
           0.4,
           "rgb(254,224,139)"
          ],
          [
           0.5,
           "rgb(255,255,191)"
          ],
          [
           0.6,
           "rgb(230,245,152)"
          ],
          [
           0.7,
           "rgb(171,221,164)"
          ],
          [
           0.8,
           "rgb(102,194,165)"
          ],
          [
           0.9,
           "rgb(50,136,189)"
          ],
          [
           1,
           "rgb(94,79,162)"
          ]
         ],
         "hoverinfo": "text",
         "locationmode": "USA-states",
         "locations": [
          "AL",
          "AK",
          "AZ",
          "AR",
          "CA",
          "CO",
          "CT",
          "DE",
          "DC",
          "FL",
          "GA",
          "HI",
          "ID",
          "IL",
          "IN",
          "IA",
          "KS",
          "KY",
          "LA",
          "ME",
          "MD",
          "MA",
          "MI",
          "MN",
          "MS",
          "MO",
          "MT",
          "NE",
          "NV",
          "NH",
          "NJ",
          "NM",
          "NY",
          "NC",
          "ND",
          "OH",
          "OK",
          "OR",
          "PA",
          "RI",
          "SC",
          "SD",
          "TN",
          "TX",
          "UT",
          "VT",
          "VA",
          "WA",
          "WV",
          "WI",
          "WY"
         ],
         "text": [
          "State: Alabama                             <br>Household Income: $53,049",
          "State: Alaska                             <br>Household Income: $81,335",
          "State: Arizona                             <br>Household Income: $62,263",
          "State: Arkansas                             <br>Household Income: $51,887",
          "State: California                             <br>Household Income: $73,045",
          "State: Colorado                             <br>Household Income: $78,204",
          "State: Connecticut                             <br>Household Income: $77,494",
          "State: Delaware                             <br>Household Income: $67,750",
          "State: District of Columbia                             <br>Household Income: $84,772",
          "State: Florida                             <br>Household Income: $55,365",
          "State: Georgia                             <br>Household Income: $60,475",
          "State: Hawaii                             <br>Household Income: $76,759",
          "State: Idaho                             <br>Household Income: $62,052",
          "State: Illinois                             <br>Household Income: $68,801",
          "State: Indiana                             <br>Household Income: $61,290",
          "State: Iowa                             <br>Household Income: $66,192",
          "State: Kansas                             <br>Household Income: $59,343",
          "State: Kentucky                             <br>Household Income: $51,805",
          "State: Louisiana                             <br>Household Income: $45,436",
          "State: Maine                             <br>Household Income: $55,605",
          "State: Maryland                             <br>Household Income: $85,618",
          "State: Massachusetts                             <br>Household Income: $79,517",
          "State: Michigan                             <br>Household Income: $58,827",
          "State: Minnesota                             <br>Household Income: $72,979",
          "State: Mississippi                             <br>Household Income: $45,139",
          "State: Missouri                             <br>Household Income: $58,957",
          "State: Montana                             <br>Household Income: $59,872",
          "State: Nebraska                             <br>Household Income: $62,141",
          "State: Nevada                             <br>Household Income: $60,533",
          "State: New Hampshire                             <br>Household Income: $78,877",
          "State: New Jersey                             <br>Household Income: $74,299",
          "State: New Mexico                             <br>Household Income: $47,559",
          "State: New York                             <br>Household Income: $64,185",
          "State: North Carolina                             <br>Household Income: $51,674",
          "State: North Dakota                             <br>Household Income: $62,750",
          "State: Ohio                             <br>Household Income: $63,294",
          "State: Oklahoma                             <br>Household Income: $54,110",
          "State: Oregon                             <br>Household Income: $65,181",
          "State: Pennsylvania                             <br>Household Income: $63,916",
          "State: Rhode Island                             <br>Household Income: $68,209",
          "State: South Carolina                             <br>Household Income: $56,879",
          "State: South Dakota                             <br>Household Income: $59,358",
          "State: Tennessee                             <br>Household Income: $57,681",
          "State: Texas                             <br>Household Income: $62,672",
          "State: Utah                             <br>Household Income: $72,785",
          "State: Vermont                             <br>Household Income: $66,416",
          "State: Virginia                             <br>Household Income: $73,851",
          "State: Washington                             <br>Household Income: $74,612",
          "State: West Virginia                             <br>Household Income: $48,973",
          "State: Wisconsin                             <br>Household Income: $66,208",
          "State: Wyoming                             <br>Household Income: $62,092"
         ],
         "type": "choropleth",
         "z": [
          53049,
          81335,
          62263,
          51887,
          73045,
          78204,
          77494,
          67750,
          84772,
          55365,
          60475,
          76759,
          62052,
          68801,
          61290,
          66192,
          59343,
          51805,
          45436,
          55605,
          85618,
          79517,
          58827,
          72979,
          45139,
          58957,
          59872,
          62141,
          60533,
          78877,
          74299,
          47559,
          64185,
          51674,
          62750,
          63294,
          54110,
          65181,
          63916,
          68209,
          56879,
          59358,
          57681,
          62672,
          72785,
          66416,
          73851,
          74612,
          48973,
          66208,
          62092
         ],
         "zmax": 95572,
         "zmin": 35548
        },
        {
         "colorbar": {
          "title": {
           "text": "Household<br>Income"
          }
         },
         "colorscale": [
          [
           0,
           "rgb(158,1,66)"
          ],
          [
           0.1,
           "rgb(213,62,79)"
          ],
          [
           0.2,
           "rgb(244,109,67)"
          ],
          [
           0.3,
           "rgb(253,174,97)"
          ],
          [
           0.4,
           "rgb(254,224,139)"
          ],
          [
           0.5,
           "rgb(255,255,191)"
          ],
          [
           0.6,
           "rgb(230,245,152)"
          ],
          [
           0.7,
           "rgb(171,221,164)"
          ],
          [
           0.8,
           "rgb(102,194,165)"
          ],
          [
           0.9,
           "rgb(50,136,189)"
          ],
          [
           1,
           "rgb(94,79,162)"
          ]
         ],
         "hoverinfo": "text",
         "locationmode": "USA-states",
         "locations": [
          "AL",
          "AK",
          "AZ",
          "AR",
          "CA",
          "CO",
          "CT",
          "DE",
          "DC",
          "FL",
          "GA",
          "HI",
          "ID",
          "IL",
          "IN",
          "IA",
          "KS",
          "KY",
          "LA",
          "ME",
          "MD",
          "MA",
          "MI",
          "MN",
          "MS",
          "MO",
          "MT",
          "NE",
          "NV",
          "NH",
          "NJ",
          "NM",
          "NY",
          "NC",
          "ND",
          "OH",
          "OK",
          "OR",
          "PA",
          "RI",
          "SC",
          "SD",
          "TN",
          "TX",
          "UT",
          "VT",
          "VA",
          "WA",
          "WV",
          "WI",
          "WY"
         ],
         "text": [
          "State: Alabama                             <br>Household Income: $50,841",
          "State: Alaska                             <br>Household Income: $69,979",
          "State: Arizona                             <br>Household Income: $63,411",
          "State: Arkansas                             <br>Household Income: $50,683",
          "State: California                             <br>Household Income: $71,766",
          "State: Colorado                             <br>Household Income: $74,357",
          "State: Connecticut                             <br>Household Income: $74,131",
          "State: Delaware                             <br>Household Income: $66,190",
          "State: District of Columbia                             <br>Household Income: $87,304",
          "State: Florida                             <br>Household Income: $55,634",
          "State: Georgia                             <br>Household Income: $56,832",
          "State: Hawaii                             <br>Household Income: $81,559",
          "State: Idaho                             <br>Household Income: $59,792",
          "State: Illinois                             <br>Household Income: $71,416",
          "State: Indiana                             <br>Household Income: $60,977",
          "State: Iowa                             <br>Household Income: $69,963",
          "State: Kansas                             <br>Household Income: $65,096",
          "State: Kentucky                             <br>Household Income: $55,543",
          "State: Louisiana                             <br>Household Income: $50,878",
          "State: Maine                             <br>Household Income: $59,726",
          "State: Maryland                             <br>Household Income: $87,785",
          "State: Massachusetts                             <br>Household Income: $87,909",
          "State: Michigan                             <br>Household Income: $61,544",
          "State: Minnesota                             <br>Household Income: $73,118",
          "State: Mississippi                             <br>Household Income: $43,556",
          "State: Missouri                             <br>Household Income: $62,844",
          "State: Montana                             <br>Household Income: $58,724",
          "State: Nebraska                             <br>Household Income: $68,799",
          "State: Nevada                             <br>Household Income: $62,985",
          "State: New Hampshire                             <br>Household Income: $82,820",
          "State: New Jersey                             <br>Household Income: $75,520",
          "State: New Mexico                             <br>Household Income: $49,158",
          "State: New York                             <br>Household Income: $68,493",
          "State: North Carolina                             <br>Household Income: $54,336",
          "State: North Dakota                             <br>Household Income: $67,710",
          "State: Ohio                             <br>Household Income: $62,750",
          "State: Oklahoma                             <br>Household Income: $55,420",
          "State: Oregon                             <br>Household Income: $70,418",
          "State: Pennsylvania                             <br>Household Income: $65,693",
          "State: Rhode Island                             <br>Household Income: $63,394",
          "State: South Carolina                             <br>Household Income: $58,485",
          "State: South Dakota                             <br>Household Income: $60,540",
          "State: Tennessee                             <br>Household Income: $57,076",
          "State: Texas                             <br>Household Income: $60,868",
          "State: Utah                             <br>Household Income: $78,463",
          "State: Vermont                             <br>Household Income: $71,335",
          "State: Virginia                             <br>Household Income: $78,549",
          "State: Washington                             <br>Household Income: $81,170",
          "State: West Virginia                             <br>Household Income: $51,489",
          "State: Wisconsin                             <br>Household Income: $63,764",
          "State: Wyoming                             <br>Household Income: $63,672"
         ],
         "type": "choropleth",
         "z": [
          50841,
          69979,
          63411,
          50683,
          71766,
          74357,
          74131,
          66190,
          87304,
          55634,
          56832,
          81559,
          59792,
          71416,
          60977,
          69963,
          65096,
          55543,
          50878,
          59726,
          87785,
          87909,
          61544,
          73118,
          43556,
          62844,
          58724,
          68799,
          62985,
          82820,
          75520,
          49158,
          68493,
          54336,
          67710,
          62750,
          55420,
          70418,
          65693,
          63394,
          58485,
          60540,
          57076,
          60868,
          78463,
          71335,
          78549,
          81170,
          51489,
          63764,
          63672
         ],
         "zmax": 95572,
         "zmin": 35548
        },
        {
         "colorbar": {
          "title": {
           "text": "Household<br>Income"
          }
         },
         "colorscale": [
          [
           0,
           "rgb(158,1,66)"
          ],
          [
           0.1,
           "rgb(213,62,79)"
          ],
          [
           0.2,
           "rgb(244,109,67)"
          ],
          [
           0.3,
           "rgb(253,174,97)"
          ],
          [
           0.4,
           "rgb(254,224,139)"
          ],
          [
           0.5,
           "rgb(255,255,191)"
          ],
          [
           0.6,
           "rgb(230,245,152)"
          ],
          [
           0.7,
           "rgb(171,221,164)"
          ],
          [
           0.8,
           "rgb(102,194,165)"
          ],
          [
           0.9,
           "rgb(50,136,189)"
          ],
          [
           1,
           "rgb(94,79,162)"
          ]
         ],
         "hoverinfo": "text",
         "locationmode": "USA-states",
         "locations": [
          "AL",
          "AK",
          "AZ",
          "AR",
          "CA",
          "CO",
          "CT",
          "DE",
          "DC",
          "FL",
          "GA",
          "HI",
          "ID",
          "IL",
          "IN",
          "IA",
          "KS",
          "KY",
          "LA",
          "ME",
          "MD",
          "MA",
          "MI",
          "MN",
          "MS",
          "MO",
          "MT",
          "NE",
          "NV",
          "NH",
          "NJ",
          "NM",
          "NY",
          "NC",
          "ND",
          "OH",
          "OK",
          "OR",
          "PA",
          "RI",
          "SC",
          "SD",
          "TN",
          "TX",
          "UT",
          "VT",
          "VA",
          "WA",
          "WV",
          "WI",
          "WY"
         ],
         "text": [
          "State: Alabama                             <br>Household Income: $56,200",
          "State: Alaska                             <br>Household Income: $78,394",
          "State: Arizona                             <br>Household Income: $70,674",
          "State: Arkansas                             <br>Household Income: $54,539",
          "State: California                             <br>Household Income: $78,105",
          "State: Colorado                             <br>Household Income: $72,499",
          "State: Connecticut                             <br>Household Income: $87,291",
          "State: Delaware                             <br>Household Income: $74,194",
          "State: District of Columbia                             <br>Household Income: $93,111",
          "State: Florida                             <br>Household Income: $58,368",
          "State: Georgia                             <br>Household Income: $56,628",
          "State: Hawaii                             <br>Household Income: $88,006",
          "State: Idaho                             <br>Household Income: $65,988",
          "State: Illinois                             <br>Household Income: $74,399",
          "State: Indiana                             <br>Household Income: $66,693",
          "State: Iowa                             <br>Household Income: $66,054",
          "State: Kansas                             <br>Household Income: $73,151",
          "State: Kentucky                             <br>Household Income: $55,662",
          "State: Louisiana                             <br>Household Income: $51,707",
          "State: Maine                             <br>Household Income: $66,546",
          "State: Maryland                             <br>Household Income: $95,572",
          "State: Massachusetts                             <br>Household Income: $87,707",
          "State: Michigan                             <br>Household Income: $64,119",
          "State: Minnesota                             <br>Household Income: $81,426",
          "State: Mississippi                             <br>Household Income: $44,787",
          "State: Missouri                             <br>Household Income: $60,597",
          "State: Montana                             <br>Household Income: $60,195",
          "State: Nebraska                             <br>Household Income: $73,071",
          "State: Nevada                             <br>Household Income: $70,906",
          "State: New Hampshire                             <br>Household Income: $86,900",
          "State: New Jersey                             <br>Household Income: $87,726",
          "State: New Mexico                             <br>Household Income: $53,113",
          "State: New York                             <br>Household Income: $71,855",
          "State: North Carolina                             <br>Household Income: $61,159",
          "State: North Dakota                             <br>Household Income: $70,031",
          "State: Ohio                             <br>Household Income: $64,663",
          "State: Oklahoma                             <br>Household Income: $59,397",
          "State: Oregon                             <br>Household Income: $74,413",
          "State: Pennsylvania                             <br>Household Income: $70,582",
          "State: Rhode Island                             <br>Household Income: $70,151",
          "State: South Carolina                             <br>Household Income: $62,028",
          "State: South Dakota                             <br>Household Income: $64,255",
          "State: Tennessee                             <br>Household Income: $56,627",
          "State: Texas                             <br>Household Income: $67,444",
          "State: Utah                             <br>Household Income: $84,523",
          "State: Vermont                             <br>Household Income: $74,305",
          "State: Virginia                             <br>Household Income: $81,313",
          "State: Washington                             <br>Household Income: $82,454",
          "State: West Virginia                             <br>Household Income: $53,706",
          "State: Wisconsin                             <br>Household Income: $67,355",
          "State: Wyoming                             <br>Household Income: $65,134"
         ],
         "type": "choropleth",
         "z": [
          56200,
          78394,
          70674,
          54539,
          78105,
          72499,
          87291,
          74194,
          93111,
          58368,
          56628,
          88006,
          65988,
          74399,
          66693,
          66054,
          73151,
          55662,
          51707,
          66546,
          95572,
          87707,
          64119,
          81426,
          44787,
          60597,
          60195,
          73071,
          70906,
          86900,
          87726,
          53113,
          71855,
          61159,
          70031,
          64663,
          59397,
          74413,
          70582,
          70151,
          62028,
          64255,
          56627,
          67444,
          84523,
          74305,
          81313,
          82454,
          53706,
          67355,
          65134
         ],
         "zmax": 95572,
         "zmin": 35548
        }
       ],
       "layout": {
        "geo": {
         "projection": {
          "type": "albers usa"
         },
         "scope": "usa"
        },
        "sliders": [
         {
          "active": 9,
          "pad": {
           "t": 1
          },
          "steps": [
           {
            "args": [
             "visible",
             [
              true,
              false,
              false,
              false,
              false,
              false,
              false,
              false,
              false,
              false
             ]
            ],
            "label": "Year 2010",
            "method": "restyle"
           },
           {
            "args": [
             "visible",
             [
              false,
              true,
              false,
              false,
              false,
              false,
              false,
              false,
              false,
              false
             ]
            ],
            "label": "Year 2011",
            "method": "restyle"
           },
           {
            "args": [
             "visible",
             [
              false,
              false,
              true,
              false,
              false,
              false,
              false,
              false,
              false,
              false
             ]
            ],
            "label": "Year 2012",
            "method": "restyle"
           },
           {
            "args": [
             "visible",
             [
              false,
              false,
              false,
              true,
              false,
              false,
              false,
              false,
              false,
              false
             ]
            ],
            "label": "Year 2013",
            "method": "restyle"
           },
           {
            "args": [
             "visible",
             [
              false,
              false,
              false,
              false,
              true,
              false,
              false,
              false,
              false,
              false
             ]
            ],
            "label": "Year 2014",
            "method": "restyle"
           },
           {
            "args": [
             "visible",
             [
              false,
              false,
              false,
              false,
              false,
              true,
              false,
              false,
              false,
              false
             ]
            ],
            "label": "Year 2015",
            "method": "restyle"
           },
           {
            "args": [
             "visible",
             [
              false,
              false,
              false,
              false,
              false,
              false,
              true,
              false,
              false,
              false
             ]
            ],
            "label": "Year 2016",
            "method": "restyle"
           },
           {
            "args": [
             "visible",
             [
              false,
              false,
              false,
              false,
              false,
              false,
              false,
              true,
              false,
              false
             ]
            ],
            "label": "Year 2017",
            "method": "restyle"
           },
           {
            "args": [
             "visible",
             [
              false,
              false,
              false,
              false,
              false,
              false,
              false,
              false,
              true,
              false
             ]
            ],
            "label": "Year 2018",
            "method": "restyle"
           },
           {
            "args": [
             "visible",
             [
              false,
              false,
              false,
              false,
              false,
              false,
              false,
              false,
              false,
              true
             ]
            ],
            "label": "Year 2019",
            "method": "restyle"
           }
          ]
         }
        ],
        "template": {
         "data": {
          "bar": [
           {
            "error_x": {
             "color": "#2a3f5f"
            },
            "error_y": {
             "color": "#2a3f5f"
            },
            "marker": {
             "line": {
              "color": "#E5ECF6",
              "width": 0.5
             }
            },
            "type": "bar"
           }
          ],
          "barpolar": [
           {
            "marker": {
             "line": {
              "color": "#E5ECF6",
              "width": 0.5
             }
            },
            "type": "barpolar"
           }
          ],
          "carpet": [
           {
            "aaxis": {
             "endlinecolor": "#2a3f5f",
             "gridcolor": "white",
             "linecolor": "white",
             "minorgridcolor": "white",
             "startlinecolor": "#2a3f5f"
            },
            "baxis": {
             "endlinecolor": "#2a3f5f",
             "gridcolor": "white",
             "linecolor": "white",
             "minorgridcolor": "white",
             "startlinecolor": "#2a3f5f"
            },
            "type": "carpet"
           }
          ],
          "choropleth": [
           {
            "colorbar": {
             "outlinewidth": 0,
             "ticks": ""
            },
            "type": "choropleth"
           }
          ],
          "contour": [
           {
            "colorbar": {
             "outlinewidth": 0,
             "ticks": ""
            },
            "colorscale": [
             [
              0,
              "#0d0887"
             ],
             [
              0.1111111111111111,
              "#46039f"
             ],
             [
              0.2222222222222222,
              "#7201a8"
             ],
             [
              0.3333333333333333,
              "#9c179e"
             ],
             [
              0.4444444444444444,
              "#bd3786"
             ],
             [
              0.5555555555555556,
              "#d8576b"
             ],
             [
              0.6666666666666666,
              "#ed7953"
             ],
             [
              0.7777777777777778,
              "#fb9f3a"
             ],
             [
              0.8888888888888888,
              "#fdca26"
             ],
             [
              1,
              "#f0f921"
             ]
            ],
            "type": "contour"
           }
          ],
          "contourcarpet": [
           {
            "colorbar": {
             "outlinewidth": 0,
             "ticks": ""
            },
            "type": "contourcarpet"
           }
          ],
          "heatmap": [
           {
            "colorbar": {
             "outlinewidth": 0,
             "ticks": ""
            },
            "colorscale": [
             [
              0,
              "#0d0887"
             ],
             [
              0.1111111111111111,
              "#46039f"
             ],
             [
              0.2222222222222222,
              "#7201a8"
             ],
             [
              0.3333333333333333,
              "#9c179e"
             ],
             [
              0.4444444444444444,
              "#bd3786"
             ],
             [
              0.5555555555555556,
              "#d8576b"
             ],
             [
              0.6666666666666666,
              "#ed7953"
             ],
             [
              0.7777777777777778,
              "#fb9f3a"
             ],
             [
              0.8888888888888888,
              "#fdca26"
             ],
             [
              1,
              "#f0f921"
             ]
            ],
            "type": "heatmap"
           }
          ],
          "heatmapgl": [
           {
            "colorbar": {
             "outlinewidth": 0,
             "ticks": ""
            },
            "colorscale": [
             [
              0,
              "#0d0887"
             ],
             [
              0.1111111111111111,
              "#46039f"
             ],
             [
              0.2222222222222222,
              "#7201a8"
             ],
             [
              0.3333333333333333,
              "#9c179e"
             ],
             [
              0.4444444444444444,
              "#bd3786"
             ],
             [
              0.5555555555555556,
              "#d8576b"
             ],
             [
              0.6666666666666666,
              "#ed7953"
             ],
             [
              0.7777777777777778,
              "#fb9f3a"
             ],
             [
              0.8888888888888888,
              "#fdca26"
             ],
             [
              1,
              "#f0f921"
             ]
            ],
            "type": "heatmapgl"
           }
          ],
          "histogram": [
           {
            "marker": {
             "colorbar": {
              "outlinewidth": 0,
              "ticks": ""
             }
            },
            "type": "histogram"
           }
          ],
          "histogram2d": [
           {
            "colorbar": {
             "outlinewidth": 0,
             "ticks": ""
            },
            "colorscale": [
             [
              0,
              "#0d0887"
             ],
             [
              0.1111111111111111,
              "#46039f"
             ],
             [
              0.2222222222222222,
              "#7201a8"
             ],
             [
              0.3333333333333333,
              "#9c179e"
             ],
             [
              0.4444444444444444,
              "#bd3786"
             ],
             [
              0.5555555555555556,
              "#d8576b"
             ],
             [
              0.6666666666666666,
              "#ed7953"
             ],
             [
              0.7777777777777778,
              "#fb9f3a"
             ],
             [
              0.8888888888888888,
              "#fdca26"
             ],
             [
              1,
              "#f0f921"
             ]
            ],
            "type": "histogram2d"
           }
          ],
          "histogram2dcontour": [
           {
            "colorbar": {
             "outlinewidth": 0,
             "ticks": ""
            },
            "colorscale": [
             [
              0,
              "#0d0887"
             ],
             [
              0.1111111111111111,
              "#46039f"
             ],
             [
              0.2222222222222222,
              "#7201a8"
             ],
             [
              0.3333333333333333,
              "#9c179e"
             ],
             [
              0.4444444444444444,
              "#bd3786"
             ],
             [
              0.5555555555555556,
              "#d8576b"
             ],
             [
              0.6666666666666666,
              "#ed7953"
             ],
             [
              0.7777777777777778,
              "#fb9f3a"
             ],
             [
              0.8888888888888888,
              "#fdca26"
             ],
             [
              1,
              "#f0f921"
             ]
            ],
            "type": "histogram2dcontour"
           }
          ],
          "mesh3d": [
           {
            "colorbar": {
             "outlinewidth": 0,
             "ticks": ""
            },
            "type": "mesh3d"
           }
          ],
          "parcoords": [
           {
            "line": {
             "colorbar": {
              "outlinewidth": 0,
              "ticks": ""
             }
            },
            "type": "parcoords"
           }
          ],
          "pie": [
           {
            "automargin": true,
            "type": "pie"
           }
          ],
          "scatter": [
           {
            "marker": {
             "colorbar": {
              "outlinewidth": 0,
              "ticks": ""
             }
            },
            "type": "scatter"
           }
          ],
          "scatter3d": [
           {
            "line": {
             "colorbar": {
              "outlinewidth": 0,
              "ticks": ""
             }
            },
            "marker": {
             "colorbar": {
              "outlinewidth": 0,
              "ticks": ""
             }
            },
            "type": "scatter3d"
           }
          ],
          "scattercarpet": [
           {
            "marker": {
             "colorbar": {
              "outlinewidth": 0,
              "ticks": ""
             }
            },
            "type": "scattercarpet"
           }
          ],
          "scattergeo": [
           {
            "marker": {
             "colorbar": {
              "outlinewidth": 0,
              "ticks": ""
             }
            },
            "type": "scattergeo"
           }
          ],
          "scattergl": [
           {
            "marker": {
             "colorbar": {
              "outlinewidth": 0,
              "ticks": ""
             }
            },
            "type": "scattergl"
           }
          ],
          "scattermapbox": [
           {
            "marker": {
             "colorbar": {
              "outlinewidth": 0,
              "ticks": ""
             }
            },
            "type": "scattermapbox"
           }
          ],
          "scatterpolar": [
           {
            "marker": {
             "colorbar": {
              "outlinewidth": 0,
              "ticks": ""
             }
            },
            "type": "scatterpolar"
           }
          ],
          "scatterpolargl": [
           {
            "marker": {
             "colorbar": {
              "outlinewidth": 0,
              "ticks": ""
             }
            },
            "type": "scatterpolargl"
           }
          ],
          "scatterternary": [
           {
            "marker": {
             "colorbar": {
              "outlinewidth": 0,
              "ticks": ""
             }
            },
            "type": "scatterternary"
           }
          ],
          "surface": [
           {
            "colorbar": {
             "outlinewidth": 0,
             "ticks": ""
            },
            "colorscale": [
             [
              0,
              "#0d0887"
             ],
             [
              0.1111111111111111,
              "#46039f"
             ],
             [
              0.2222222222222222,
              "#7201a8"
             ],
             [
              0.3333333333333333,
              "#9c179e"
             ],
             [
              0.4444444444444444,
              "#bd3786"
             ],
             [
              0.5555555555555556,
              "#d8576b"
             ],
             [
              0.6666666666666666,
              "#ed7953"
             ],
             [
              0.7777777777777778,
              "#fb9f3a"
             ],
             [
              0.8888888888888888,
              "#fdca26"
             ],
             [
              1,
              "#f0f921"
             ]
            ],
            "type": "surface"
           }
          ],
          "table": [
           {
            "cells": {
             "fill": {
              "color": "#EBF0F8"
             },
             "line": {
              "color": "white"
             }
            },
            "header": {
             "fill": {
              "color": "#C8D4E3"
             },
             "line": {
              "color": "white"
             }
            },
            "type": "table"
           }
          ]
         },
         "layout": {
          "annotationdefaults": {
           "arrowcolor": "#2a3f5f",
           "arrowhead": 0,
           "arrowwidth": 1
          },
          "autotypenumbers": "strict",
          "coloraxis": {
           "colorbar": {
            "outlinewidth": 0,
            "ticks": ""
           }
          },
          "colorscale": {
           "diverging": [
            [
             0,
             "#8e0152"
            ],
            [
             0.1,
             "#c51b7d"
            ],
            [
             0.2,
             "#de77ae"
            ],
            [
             0.3,
             "#f1b6da"
            ],
            [
             0.4,
             "#fde0ef"
            ],
            [
             0.5,
             "#f7f7f7"
            ],
            [
             0.6,
             "#e6f5d0"
            ],
            [
             0.7,
             "#b8e186"
            ],
            [
             0.8,
             "#7fbc41"
            ],
            [
             0.9,
             "#4d9221"
            ],
            [
             1,
             "#276419"
            ]
           ],
           "sequential": [
            [
             0,
             "#0d0887"
            ],
            [
             0.1111111111111111,
             "#46039f"
            ],
            [
             0.2222222222222222,
             "#7201a8"
            ],
            [
             0.3333333333333333,
             "#9c179e"
            ],
            [
             0.4444444444444444,
             "#bd3786"
            ],
            [
             0.5555555555555556,
             "#d8576b"
            ],
            [
             0.6666666666666666,
             "#ed7953"
            ],
            [
             0.7777777777777778,
             "#fb9f3a"
            ],
            [
             0.8888888888888888,
             "#fdca26"
            ],
            [
             1,
             "#f0f921"
            ]
           ],
           "sequentialminus": [
            [
             0,
             "#0d0887"
            ],
            [
             0.1111111111111111,
             "#46039f"
            ],
            [
             0.2222222222222222,
             "#7201a8"
            ],
            [
             0.3333333333333333,
             "#9c179e"
            ],
            [
             0.4444444444444444,
             "#bd3786"
            ],
            [
             0.5555555555555556,
             "#d8576b"
            ],
            [
             0.6666666666666666,
             "#ed7953"
            ],
            [
             0.7777777777777778,
             "#fb9f3a"
            ],
            [
             0.8888888888888888,
             "#fdca26"
            ],
            [
             1,
             "#f0f921"
            ]
           ]
          },
          "colorway": [
           "#636efa",
           "#EF553B",
           "#00cc96",
           "#ab63fa",
           "#FFA15A",
           "#19d3f3",
           "#FF6692",
           "#B6E880",
           "#FF97FF",
           "#FECB52"
          ],
          "font": {
           "color": "#2a3f5f"
          },
          "geo": {
           "bgcolor": "white",
           "lakecolor": "white",
           "landcolor": "#E5ECF6",
           "showlakes": true,
           "showland": true,
           "subunitcolor": "white"
          },
          "hoverlabel": {
           "align": "left"
          },
          "hovermode": "closest",
          "mapbox": {
           "style": "light"
          },
          "paper_bgcolor": "white",
          "plot_bgcolor": "#E5ECF6",
          "polar": {
           "angularaxis": {
            "gridcolor": "white",
            "linecolor": "white",
            "ticks": ""
           },
           "bgcolor": "#E5ECF6",
           "radialaxis": {
            "gridcolor": "white",
            "linecolor": "white",
            "ticks": ""
           }
          },
          "scene": {
           "xaxis": {
            "backgroundcolor": "#E5ECF6",
            "gridcolor": "white",
            "gridwidth": 2,
            "linecolor": "white",
            "showbackground": true,
            "ticks": "",
            "zerolinecolor": "white"
           },
           "yaxis": {
            "backgroundcolor": "#E5ECF6",
            "gridcolor": "white",
            "gridwidth": 2,
            "linecolor": "white",
            "showbackground": true,
            "ticks": "",
            "zerolinecolor": "white"
           },
           "zaxis": {
            "backgroundcolor": "#E5ECF6",
            "gridcolor": "white",
            "gridwidth": 2,
            "linecolor": "white",
            "showbackground": true,
            "ticks": "",
            "zerolinecolor": "white"
           }
          },
          "shapedefaults": {
           "line": {
            "color": "#2a3f5f"
           }
          },
          "ternary": {
           "aaxis": {
            "gridcolor": "white",
            "linecolor": "white",
            "ticks": ""
           },
           "baxis": {
            "gridcolor": "white",
            "linecolor": "white",
            "ticks": ""
           },
           "bgcolor": "#E5ECF6",
           "caxis": {
            "gridcolor": "white",
            "linecolor": "white",
            "ticks": ""
           }
          },
          "title": {
           "x": 0.05
          },
          "xaxis": {
           "automargin": true,
           "gridcolor": "white",
           "linecolor": "white",
           "ticks": "",
           "title": {
            "standoff": 15
           },
           "zerolinecolor": "white",
           "zerolinewidth": 2
          },
          "yaxis": {
           "automargin": true,
           "gridcolor": "white",
           "linecolor": "white",
           "ticks": "",
           "title": {
            "standoff": 15
           },
           "zerolinecolor": "white",
           "zerolinewidth": 2
          }
         }
        },
        "title": {
         "text": "U.S. Real Median Household Income"
        }
       }
      }
     },
     "metadata": {},
     "output_type": "display_data"
    }
   ],
   "source": [
    "#!jupyter labextension install @jupyterlab/plotly-extension\n",
    "#plotly.offline.init_notebook_mode(connected=True)\n",
    "import plotly.io as pio\n",
    "pio.renderers.default = 'jupyterlab'\n",
    "\n",
    "# api key.  note: I intend to delete this key so if you copy this code please request a free key from the FRED site so that \n",
    "# your code will not suddenly stop working unexpectedly. \n",
    "data = dpf.data('39a76a8c8154c31e8243a777ce48430b')\n",
    "\n",
    "# first year of geo data\n",
    "start_year = 2010\n",
    "start_date = datetime.datetime.strptime(str(start_year), '%Y')\n",
    "\n",
    "# Real Median Household Income\n",
    "df = data.geo(series_id='MEHOINUSALA672N',start_date=start_date.date())\n",
    "\n",
    "# plotly built in state choropleth expects a location of a two character state code\n",
    "df['State']  = df.series_id.apply(lambda x: x[8:10])\n",
    "\n",
    "df = df.astype('str')\n",
    "\n",
    "# all fields are of datatype object, want the value field to be numeric so that plotly colouring is continuous\n",
    "df['value'] = pd.to_numeric(df['value'])\n",
    "\n",
    "z_max = df['value'].max()\n",
    "z_min = df['value'].min()\n",
    "\n",
    "data_slider = []\n",
    "for year in df['_date'].unique():\n",
    "    df_segmented =  df[(df['_date']== year)]\n",
    "\n",
    "\n",
    "    data_each_yr = dict(\n",
    "                        type='choropleth',\n",
    "                        locations = df_segmented['State'],\n",
    "                        z=df_segmented['value'].astype(float),\n",
    "                        zmax = z_max, \n",
    "                        zmin = z_min, \n",
    "                        locationmode='USA-states',\n",
    "                        colorscale = 'spectral',\n",
    "                        text=df_segmented.apply(lambda row: \"State: {} \\\n",
    "                            <br>Household Income: ${:,}\" .format(row['region'],int(row['value'])), axis=1),  \n",
    "                        hoverinfo=\"text\",\n",
    "                        colorbar= {'title':'Household<br>Income'}\n",
    "                    )\n",
    "\n",
    "    data_slider.append(data_each_yr)\n",
    "       \n",
    "steps = []\n",
    "for i in range(len(data_slider)):\n",
    "    step = dict(method='restyle',\n",
    "                args=['visible', [False] * len(data_slider)],\n",
    "                label='Year {}'.format(i + start_year))\n",
    "    step['args'][1][i] = True\n",
    "    steps.append(step)\n",
    "\n",
    "\n",
    "sliders = [dict(active=len(steps) - 1, pad={\"t\": 1}, steps=steps)]\n",
    "\n",
    "layout = dict(title ='U.S. Real Median Household Income', \n",
    "                geo=dict(scope='usa',projection={'type': 'albers usa'}),\n",
    "                sliders=sliders)\n",
    "\n",
    "fig = go.Figure(\n",
    "    data=data_slider,\n",
    "    layout=layout\n",
    ")\n",
    "\n",
    "fig.show()\n",
    "#plotly.offline.iplot(fig)"
   ]
  },
  {
   "cell_type": "markdown",
   "metadata": {},
   "source": [
    "### Inverted Yield Curve\n",
    "\n",
    "A yield curve shows the rates of a number of maturities for a given instrument. Rates for short-term maturities tend to be lower than rates for long-term maturities for the same instrument, as buyers of debt expect to be compensated for the increased risk and the scarifice of liquidity associated with committing funds for a longer term. An inverted yield curve describes a curve where the long-term rates are lower than the short-term rates. The difference in maturity rates is often represent as a spread.\n",
    "\n",
    "Risk-free instruments are preferred when using spreads as indicators, as they reduce the amount of noise that could affect rates, such as company credit rating or performance. Two popular Treasury spreads used in analysis are the 10-Year Treasury Constant Maturity Minus 3-Month Treasury Constant Maturity and 10-Year Treasury Constant Maturity Minus 2-Year Treasury Constant Maturity; below I analyse these two spreads, using the S&P 500 as a proxy for the overall market."
   ]
  },
  {
   "cell_type": "code",
   "execution_count": null,
   "metadata": {},
   "outputs": [],
   "source": [
    "# read in the time series from FRED\n",
    "start_date = datetime.datetime(2000, 1, 1)\n",
    "end_date = datetime.datetime(2021, 1, 1)\n",
    "\n",
    "# 10-Year Treasury Constant Maturity Minus 3-Month Treasury Constant Maturity (T10Y3M)\n",
    "# 10-Year Treasury Constant Maturity Minus 2-Year Treasury Constant Maturity (T10Y2Y)\n",
    "indices = ['T10Y3M','T10Y2Y'] \n",
    "df = pd.DataFrame(columns=indices, index = pd.date_range(start=start_date, end=end_date))\n",
    "for i in indices:\n",
    "    df[i] = web.DataReader(i, 'fred',start= start_date, end=end_date)[i]\n",
    "\n",
    "df['GSPC'] = web.DataReader('^GSPC','yahoo',start_date,end_date)['Adj Close']"
   ]
  },
  {
   "cell_type": "code",
   "execution_count": null,
   "metadata": {},
   "outputs": [],
   "source": [
    "def plot_two_series(series_rhs, series_rhs_desc, series_rhs_smooth=True\n",
    "                    ,series_lhs='GSPC', series_lhs_desc='S&P 500',series_lhs_smooth=True\n",
    "                    ,yeild_chart=False ):\n",
    "    '''\n",
    "    plot two time series on same figure\n",
    "    '''\n",
    "    fig, ax = plt.subplots(figsize = (9,5))\n",
    "    plt.grid()\n",
    "    \n",
    "    if series_lhs_smooth:\n",
    "        lhs_x = df[series_lhs].dropna().rolling(window=50, center=True).mean()\n",
    "    else:\n",
    "        lhs_x = df[series_lhs].dropna()\n",
    "    p1, = plt.plot(lhs_x, color = '#1897f2',label = series_lhs_desc)\n",
    "    ax.set_ylabel(series_lhs_desc, fontsize=10);\n",
    "    \n",
    "    ax2 = ax.twinx()\n",
    "    if series_rhs_smooth:\n",
    "        rhs_x = df[series_rhs].dropna().rolling(window=50, center=True).mean()\n",
    "    else:\n",
    "        rhs_x = df[series_rhs].dropna()\n",
    "    p2, = plt.plot(rhs_x,color = '#08d195',label = series_rhs_desc)\n",
    "    ax2.set_ylabel(series_rhs_desc, fontsize=10);\n",
    "    \n",
    "    fig.legend(handles=[p1, p2], bbox_to_anchor=(1, .75), loc='upper left', fontsize=10)\n",
    "\n",
    "    plt.title('{} Vs {}' .format(series_lhs_desc,series_rhs_desc), fontsize=12)\n",
    "    \n",
    "    if yeild_chart:\n",
    "        ax2.axhline(y=0, color=\"red\", alpha=0.5)  \n",
    "        \n",
    "        spread_df = pd.DataFrame()\n",
    "        spread_df['running'] = df[series_rhs].dropna().rolling(window=50, center=True).mean().dropna()\n",
    "        spread_df['next'] = spread_df['running'].shift(-1)\n",
    "        neg_spread = spread_df[ spread_df['running'] * spread_df['next'] < 0]\n",
    "\n",
    "        start_date = ''\n",
    "        end_date = ''\n",
    "        \n",
    "        for i in range(len(neg_spread)):\n",
    "            if neg_spread.iloc[i,0] >= 0:\n",
    "                start_date = neg_spread.index[i]\n",
    "            else:\n",
    "                end_date = neg_spread.index[i]\n",
    "    \n",
    "            if start_date and end_date:\n",
    "                ax.axvspan(start_date,end_date,color='lightgrey',alpha =0.4)\n",
    "                start_date = ''\n",
    "                end_date = ''\n",
    "        \n",
    "    plt.show()\n",
    "    \n",
    "\n",
    "plot_two_series('T10Y2Y','10YR - 2YR Treasury',yeild_chart=True)\n",
    "\n",
    "plot_two_series('T10Y3M','10YR - 3MTH Treasury',yeild_chart=True)"
   ]
  },
  {
   "cell_type": "markdown",
   "metadata": {},
   "source": [
    "The ten-year/two-year Treasury spread is considered one of the most accurate leading indicators of recessions. Since the Fed began publishing figures in 1976, each inversion of the ten-year/two-year Treasury spread has preceded a recession within the following year.<br><br>\n",
    "Using a rolling window of 50 working days, we see that the ten-year/three-month Treasury spread is slightly more sensitive than the ten-year/two-year, and perhaps a better indicator of the future trend of the S&P 500.  The spreads are leading indicators, however quite a few months can pass between the date the yield curve inverts and a recession, so action does not need to be taken immediately on an inversion; however,this insight can inform an investment managers strategy.<br><br>\n",
    "Looking at the charts it appears that when the ten-year/three-month reverts back to normal is a good indicator of an impending downturn in the S&P 500. We can compare the yield curve to other time series to see if there is any correlation, for instance you may expect a recession to affect the sale of luxury goods; to test this hypothesis I plot the ten-year/three-month Treasury spread against the Amundi S&P Global Luxury ETF-C EUR, which provides exposure to around 80 major luxury-related securities in the world. We can see that there is indeed a steep decline in the price following the ten-year/three-month Treasury spread reverting back to normal after a yield inversion; while inversions of the ten-year/three-month Treasury spread also seem a promising indicator of a potential decline in the  Amundi S&P Global Luxury ETF, we must be aware that this is based on a small sample of data and so should be considered with caution."
   ]
  },
  {
   "cell_type": "code",
   "execution_count": null,
   "metadata": {},
   "outputs": [],
   "source": [
    "# Amundi S&P Global Luxury ETF-C EUR\n",
    "df['GLUX'] = web.DataReader('GLUX.MI','yahoo',start_date,end_date)['Adj Close']\n",
    "\n",
    "plot_two_series('T10Y3M','10YR - 3MTH Treasury',\n",
    "                series_lhs='GLUX', series_lhs_desc='Amundi S&P Global Luxury',series_lhs_smooth=False,\n",
    "                yeild_chart=True)\n"
   ]
  },
  {
   "cell_type": "markdown",
   "metadata": {},
   "source": [
    "### Catboost Regression\n",
    "\n",
    "We can explore FRED data to see if any of the time series hold information that may help predict the direction of the S&P 500 over the next day. To perform this analysis we will use a Catboost regression model; CatBoost is a model for gradient boosting using decision trees. \n"
   ]
  },
  {
   "cell_type": "markdown",
   "metadata": {},
   "source": [
    "For input to the model I selected the following popular FRED time series:\n",
    "\n",
    "* ICE BofA US High Yield Index Option-Adjusted Spread (BAMLH0A0HYM2)\n",
    "* 3-Month London Interbank Offered Rate (LIBOR), based on U.S. Dollar (USD3MTD156N)\n",
    "* U.S. / Euro Foreign Exchange Rate (DEXUSEU)\n",
    "* 10-Year Treasury Constant Maturity Rate (DGS10)\n",
    "* Monetary Base; Total (BOGMBASE)\n",
    "* Consumer Price Index for All Urban Consumers: All Items in U.S. City Average (CPIAUCSL)\n",
    "* Industrial Production: Total Index (INDPRO)\n",
    "* Unemployment Rate (UNRATE)\n",
    "* Gross Domestic Product (GDP)\n",
    "* 3-Month Treasury Bill: Secondary Market Rate (TB3MS)\n",
    "* Velocity of M2 Money Stock (M2V)\n",
    "* Effective Federal Funds Rate (FEDFUNDS)\n",
    "* Manufacturers' New Orders: Durable Goods (DGORDER)"
   ]
  },
  {
   "cell_type": "code",
   "execution_count": null,
   "metadata": {
    "scrolled": true
   },
   "outputs": [],
   "source": [
    "time_series = ['BAMLH0A0HYM2','USD3MTD156N','DEXUSEU','DGS10','BOGMBASE','CPIAUCSL',\\\n",
    "               'INDPRO','UNRATE','GDP','TB3MS','M2V', 'FEDFUNDS','DGORDER']\n",
    "\n",
    "# only select to EOY 2019. The data in 2020 is two volitile to test a simple model\n",
    "df = pd.DataFrame(columns=time_series, index = pd.date_range(start=start_date, end='2019-12-31'))\n",
    "\n",
    "for i in time_series:\n",
    "    df[i] = web.DataReader(i, 'fred',start= start_date, end=end_date)[i]\n",
    "\n",
    "df['GSPC'] = web.DataReader('^GSPC','yahoo',start_date,end_date)['Adj Close']\n",
    "\n",
    "df.dropna(how='all',inplace = True)\n",
    "df.fillna(method='ffill', inplace=True)\n",
    "df.dropna(how='any',inplace = True)\n",
    "\n",
    "df"
   ]
  },
  {
   "cell_type": "markdown",
   "metadata": {},
   "source": [
    "### Exploratory Data Analysis\n",
    "The pandas_profiling package provides a good analysis to start exploring the data. In particular, the Interactions section - towards the bottom of the report - provides a visualisation of how the columns in the dataset interact with each other and can be used to get a quick feel as to how GSPC interacts with each FRED time series. The Correlation heatmap gives the correlation between the factors, and we can see that the S&P is positively correlated to DGORDER, INDPRO, GDP, CPIAUCSL and BOGMBASE, and negatively correlated to M2V.\n",
    "<br><br>\n",
    "In addition, hoving over the High Correlation warning shows the fields that the factor has a high correlation with. For example, hoving over the High Correlation warning for the FEDFUNDS field shows that it has a high correlation with the fields USD3MTD156N and TB3MS, which is to be expected given that all three are short term rates. If our model was sophisticated and had hundreds of factors, then if there is a group of highly correlated factors, to speed up the model we would consider retaining one factor to represent the group and removing the other factors."
   ]
  },
  {
   "cell_type": "code",
   "execution_count": null,
   "metadata": {
    "scrolled": true
   },
   "outputs": [],
   "source": [
    "pp.ProfileReport(df, title='Profiling Report', explorative=True)\n"
   ]
  },
  {
   "cell_type": "code",
   "execution_count": null,
   "metadata": {},
   "outputs": [],
   "source": [
    "# the target label is the next day price of the S&P 500\n",
    "df['y'] = df['GSPC'].shift(-1)\n",
    "\n",
    "# drop last row as this will be nan for y\n",
    "df.drop( df.iloc[-1:].index,inplace=True)\n",
    "\n",
    "# will test on the last 90 days\n",
    "df_train = df[:-90]\n",
    "df_test = df[-90:]\n",
    "\n",
    "X_train = df_train.iloc[:,:-2]\n",
    "y_train = df_train['y']\n",
    "\n",
    "X_test = df_test.iloc[:,:-2]\n",
    "y_test = df_test['y']"
   ]
  },
  {
   "cell_type": "code",
   "execution_count": null,
   "metadata": {},
   "outputs": [],
   "source": [
    "# build the model, use a GridSearchCV to tune the hyperparameters\n",
    "model = CatBoostRegressor(verbose=0)\n",
    "cv = RepeatedKFold(n_splits=10, n_repeats=3, random_state=8)\n",
    "\n",
    "parameters = {'depth'         : [4,8,10],\n",
    "              'learning_rate' : [0.05, 0.10],\n",
    "              'iterations'    : [ 50,100, 120]\n",
    "             }\n",
    "\n",
    "grid = GridSearchCV(estimator=model, param_grid = parameters, cv = cv, n_jobs=-1)\n",
    "grid.fit(X_train, y_train) \n",
    "\n",
    "print ('Parameters of the best estimator:', grid.best_params_)\n",
    "\n",
    "y_hat = grid.predict(X_test)"
   ]
  },
  {
   "cell_type": "code",
   "execution_count": null,
   "metadata": {},
   "outputs": [],
   "source": [
    "def compare_direction(y_test,y_hat,up_movement=True):\n",
    "    '''\n",
    "    test the similarity of the directon of y_test and y_hat\n",
    "    :param pandas.core.series.Series y_test: test movements  \n",
    "    :param numpy.ndarray y_hat: predicted movements\n",
    "    :param bool up_movement: True if comparison of up movements \n",
    "    '''\n",
    "    direction = pd.DataFrame()\n",
    "    direction['test'] = (y_test.iloc[:] < y_test.iloc[:].shift(-1)).values\n",
    "    direction['yhat'] =  ( pd.Series(y_hat).iloc[:] - pd.Series(y_hat).iloc[:].shift(-1) ) \n",
    "\n",
    "    # percentage of up (down) movements predicted\n",
    "    if up_movement:\n",
    "        direction = direction[(direction['yhat'] > 0) ]\n",
    "    else:\n",
    "        direction = direction[(direction['yhat'] < 0) ]\n",
    "   \n",
    "    return direction['test'].sum() / direction.shape[0]"
   ]
  },
  {
   "cell_type": "code",
   "execution_count": null,
   "metadata": {},
   "outputs": [],
   "source": [
    "print('Correctly predicted up movements: {:.1f}%' . format(compare_direction(y_test,y_hat) * 100))\n",
    "print('Correctly predicted down movements: {:.1f}%' . format(compare_direction(y_test,y_hat,up_movement=False) * 100))"
   ]
  },
  {
   "cell_type": "markdown",
   "metadata": {},
   "source": [
    "### Factor importance\n",
    "This simple model correctly predicted around 62% of up movements and 55% of down movements; this is only marginally better than a random walk but indicates that there is potential in using FRED time series in a more sophisticated model.<br><br>\n",
    "We can extract the factor importance from the model. Of the time series selected for the model, GDP and CPI are important macroeconomic factors in our model, which is intuititive; however we can see that the 3-Month USD LIBOR (USD3MTD156N) and the ICE BofA US High Yield OAS (BAMLH0A0HYM2) also appear to be potential factors in calculating a prediction, this is insight can be used to contribute to a more sophisticated model.<br><br>\n",
    "note: you can hover over each bar to view the details of that time series."
   ]
  },
  {
   "cell_type": "code",
   "execution_count": null,
   "metadata": {},
   "outputs": [],
   "source": [
    "features = pd.DataFrame()\n",
    "features['Time Series'] = time_series\n",
    "features['Importance'] = grid.best_estimator_.get_feature_importance()\n",
    "features.sort_values('Importance', ascending=False,inplace=True)\n",
    "\n",
    "\n",
    "fig = px.bar(features, x='Time Series', y='Importance',title='Feature Importance')\n",
    "\n",
    "fig.update_layout(hoverlabel=dict(bgcolor=\"#a7fae9\"))\n",
    "    \n",
    "fig.show()"
   ]
  }
 ],
 "metadata": {
  "kernelspec": {
   "display_name": "Python 3",
   "language": "python",
   "name": "python3"
  },
  "language_info": {
   "codemirror_mode": {
    "name": "ipython",
    "version": 3
   },
   "file_extension": ".py",
   "mimetype": "text/x-python",
   "name": "python",
   "nbconvert_exporter": "python",
   "pygments_lexer": "ipython3",
   "version": "3.6.12"
  }
 },
 "nbformat": 4,
 "nbformat_minor": 4
}
