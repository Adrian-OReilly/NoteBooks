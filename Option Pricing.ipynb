{
 "cells": [
  {
   "cell_type": "markdown",
   "metadata": {},
   "source": [
    "### Option Pricing\n",
    "\n",
    "In this notebook I provide three models that can be used to calculate a call or put stock option price: the Binomial model, the Black Scholes model, and the Monte Carlo model. I also briefly introduce the QuantLib python package, which can be used to calculate an option price."
   ]
  },
  {
   "cell_type": "code",
   "execution_count": 1,
   "metadata": {},
   "outputs": [],
   "source": [
    "# imports\n",
    "import numpy as np\n",
    "from enum import Enum\n",
    "import matplotlib.pyplot as plt\n",
    "from math import *\n",
    "from scipy.stats import norm\n",
    "import datetime\n",
    "import QuantLib as ql "
   ]
  },
  {
   "cell_type": "markdown",
   "metadata": {},
   "source": [
    "Set up the spot price, volatility, risk free rate, strike price, and time to maturity that will be used as parameters to the option pricing models"
   ]
  },
  {
   "cell_type": "code",
   "execution_count": 2,
   "metadata": {},
   "outputs": [
    {
     "name": "stdout",
     "output_type": "stream",
     "text": [
      "Number of days to maturity is 151\n"
     ]
    }
   ],
   "source": [
    "# spot price\n",
    "S = 50\n",
    "\n",
    "# volatility\n",
    "sigma = .40\n",
    "\n",
    "# risk free rate\n",
    "r = .10\n",
    "\n",
    "# strike price\n",
    "K= 50\n",
    "\n",
    "# T is time to maturity annulised\n",
    "calculationDate = datetime.datetime(2020, 1, 15)\n",
    "maturityDate = datetime.datetime(2020, 6, 14)\n",
    "daysToMaturity = (maturityDate - calculationDate).days\n",
    "T = daysToMaturity / 365\n",
    "print (\"Number of days to maturity is {}\" .format(daysToMaturity))\n",
    "\n",
    "# Enum for option type\n",
    "class OptionType(Enum):\n",
    "    Call = 1\n",
    "    Put = 2"
   ]
  },
  {
   "cell_type": "markdown",
   "metadata": {},
   "source": [
    "note: while the number of days to maturity is not used in the models presented in this notebook, the number of days can be used with online calculators such as http://www.option-price.com/index.phpm. This is the online calculator that I used to verify the option prices given by the models."
   ]
  },
  {
   "cell_type": "markdown",
   "metadata": {},
   "source": [
    "### Cox, Ross and Rubinstein (CRR) Binomial model\n",
    "\n",
    "The Binomial option pricing model is a risk-neutral model used to value path-independent options. Under the binomial model, the current value of an option equals the present value of the probability-weighted future payoffs from the options. The binomial model breaks down the time to expiration into intervals, which provides the opportunity to configure different rates and probabilities for each interval. This flexibility to reconfigure parameters at each time interval allows the binomial model to price path-independent options, such as American or Bermudian options.  "
   ]
  },
  {
   "cell_type": "code",
   "execution_count": 3,
   "metadata": {},
   "outputs": [
    {
     "name": "stdout",
     "output_type": "stream",
     "text": [
      "Price calculated using Cox, Ross and Rubinstein (CRR) Binomial model is 6.0865\n"
     ]
    }
   ],
   "source": [
    "def CRR(S,sigma,r,T,K,N,optionType = OptionType.Call,dividend=0):\n",
    "    # h is the length of each time interval\n",
    "    h = T/N\n",
    "\n",
    "    # u is size of up movement\n",
    "    u = exp(sigma * sqrt(h))\n",
    "    d = 1/u\n",
    "    a = exp((r-dividend) * h)\n",
    "\n",
    "    # p is probability of an up movmement\n",
    "    p = (a - d) / (u - d)\n",
    "\n",
    "    # matrix to hold expected value of option at each node in binomial tree\n",
    "    tree = np.zeros((N+1,N+1))\n",
    "\n",
    "    # get the expected value of the option for each node at time T\n",
    "    for j in range(N+1):\n",
    "        # get the value of S at time T \n",
    "        ST = S * (u**(N-j)) * (d**j)\n",
    "\n",
    "        if optionType == OptionType.Put:\n",
    "            tree[(j,N)] = max(K - ST,0)\n",
    "        else:\n",
    "            # default to call\n",
    "            tree[(j,N)] = max(ST - K,0)\n",
    "\n",
    "    # work backwards from expected value at T to get expected value of option at T0\n",
    "    for i in range(N-1,-1,-1):\n",
    "        for j in range(i+1):\n",
    "\n",
    "            # need to also discount average\n",
    "            tree[(j,i)] = exp(-r * h) * ( (p * tree[(j,i+1)]) + ((1 - p) * tree[(j+1,i+1)] ))\n",
    "\n",
    "    return tree[(0,0)]\n",
    "\n",
    "\n",
    "# N is number of intervals in Binomial tree\n",
    "N = 250\n",
    "CRRPrice = CRR(S,sigma,r,T,K,N,OptionType.Call)\n",
    "\n",
    "print (\"Price calculated using Cox, Ross and Rubinstein (CRR) Binomial model is {}\" .format(round(CRRPrice,4)))"
   ]
  },
  {
   "cell_type": "markdown",
   "metadata": {},
   "source": [
    "### Black Scholes model\n",
    "The Black Scholes model, also known as the Black Scholes Merton (BSM) model, is a closed-form formula that can be used to price European call and put options. The  Black Scholes Merton model is the most efficient model to use for valuing path-independent options, however, as the path is defined, the Black Scholes model can only be used to price European options; the model cannot be used to price  American-style options which can be exercised prior to the expiration date."
   ]
  },
  {
   "cell_type": "code",
   "execution_count": 4,
   "metadata": {},
   "outputs": [
    {
     "name": "stdout",
     "output_type": "stream",
     "text": [
      "Price calculated using Black Scholes model is 6.0916\n"
     ]
    }
   ],
   "source": [
    "def BlackScholesModel(S,sigma,r,T,K,optionType,dividend=0):\n",
    "    d1 = (log(S/K)+((r-dividend)+sigma*sigma/2.)*T)/(sigma*sqrt(T))\n",
    "    d2 = d1-sigma*sqrt(T)\n",
    "    if optionType==OptionType.Call:\n",
    "        return S*exp(-dividend*T)*norm.cdf(d1)-K*exp(-r*T)*norm.cdf(d2)\n",
    "    else:\n",
    "        return K*exp(-r*T)*norm.cdf(-d2)-S*exp(-dividend*T)*norm.cdf(-d1)\n",
    "\n",
    "bsmPrice = BlackScholesModel(S,sigma,r,T,K,OptionType.Call)\n",
    "\n",
    "print (\"Price calculated using Black Scholes model is {}\" .format(round(bsmPrice,4)))"
   ]
  },
  {
   "cell_type": "markdown",
   "metadata": {},
   "source": [
    "Although the original Black Scholes model of 1973 did not incorporate dividends, the calculation can easily be added to the model. "
   ]
  },
  {
   "cell_type": "code",
   "execution_count": 5,
   "metadata": {},
   "outputs": [
    {
     "name": "stdout",
     "output_type": "stream",
     "text": [
      "CRR price with dividend rate of 15.0% is 4.38\n",
      "BSM price with dividend rate of 15.0% is 4.38\n"
     ]
    }
   ],
   "source": [
    "dividend_rate = 0.15\n",
    "print(\"CRR price with dividend rate of {}% is {:.2f}\" \n",
    "      .format( dividend_rate * 100, CRR(S,sigma,r,T,K,N,OptionType.Call,dividend_rate)))\n",
    "print(\"BSM price with dividend rate of {}% is {:.2f}\" \n",
    "      .format( dividend_rate * 100, BlackScholesModel(S,sigma,r,T,K,OptionType.Call,dividend_rate)))\n",
    "\n",
    "# reset the dividend rate\n",
    "dividend_rate =  0.0"
   ]
  },
  {
   "cell_type": "markdown",
   "metadata": {},
   "source": [
    "### BSM as a special case of Binomial model\n",
    "The BSM is the a limiting case of the Binomial model. As the number of intervals in the Binomial model approaches infinity, the Binomial model price converges on the BSM price."
   ]
  },
  {
   "cell_type": "code",
   "execution_count": 6,
   "metadata": {},
   "outputs": [
    {
     "data": {
      "image/png": "[encoded data removed]",
      "text/plain": [
       "<Figure size 432x288 with 1 Axes>"
      ]
     },
     "metadata": {
      "needs_background": "light"
     },
     "output_type": "display_data"
    }
   ],
   "source": [
    "optionPrices = []\n",
    "for n in range(5,250):\n",
    "    optionPrices.insert(n, CRR(S,sigma,r,T,K,n,OptionType.Call))\n",
    "\n",
    "plt.title(\"Convergence of Binomial Tree option price to BSM price\")\n",
    "plt.xlabel(\"Number of runs\")\n",
    "plt.ylabel(\"Option Price\")\n",
    "plt.axhline(y=bsmPrice, color='r', linestyle='-',label=\"Black Scholes model Price {}\" .format(round( bsmPrice,2)))\n",
    "plt.plot(optionPrices,alpha=.6,label=\"Binomial Tree Price \" )\n",
    "plt.legend()\n",
    "\n",
    "plt.show()"
   ]
  },
  {
   "cell_type": "markdown",
   "metadata": {},
   "source": [
    "### Monte Carlo model\n",
    "\n",
    "As with the CRR and BSM models, the price of the option is its discounted expected value; The process behind the Monte Carlo method is to generate a large number of feasible random paths that the stock price can take, calculate the payoff at maturity date for each path, the option price is then the discounted average payoff. <br>Ito's Lemma process is used to generate the random price paths."
   ]
  },
  {
   "cell_type": "code",
   "execution_count": 7,
   "metadata": {},
   "outputs": [
    {
     "name": "stdout",
     "output_type": "stream",
     "text": [
      "Price calculated using Monte Carlo is 6.0881\n"
     ]
    }
   ],
   "source": [
    "def MonteCarlo(S,sigma,r,T,K,N,optionType = OptionType.Call):\n",
    "    # stochastic element of Ito's lemma process \n",
    "    W = np.random.normal(size=(N))\n",
    "\n",
    "    # array of expected prices of S at time T\n",
    "    expectedST = S * np.exp((r - 0.5 * sigma**2) * T + sigma * sqrt(T) * W)\n",
    "\n",
    "    if optionType == OptionType.Put:\n",
    "        payoffs = np.maximum(S - expectedST,0)\n",
    "    else:\n",
    "        # default to option type call\n",
    "        payoffs = np.maximum(expectedST - S,0)\n",
    "\n",
    "    # option price is present value of mean of expected payoffs\n",
    "    return np.mean(payoffs) * np.exp(-r*T)\n",
    "\n",
    "N= 10000000 # number of simulations\n",
    "\n",
    "ms_price = MonteCarlo(S,sigma,r,T,K,N,OptionType.Call)\n",
    "\n",
    "print (\"Price calculated using Monte Carlo is {}\" .format(round(ms_price,4)))\n"
   ]
  },
  {
   "cell_type": "markdown",
   "metadata": {},
   "source": [
    "### Convergence of Monte Carlo option price to BSM price\n",
    "The Monte Carlo method is computational expensive and the element of randomness introduced in the Monte Carlo method means that it does not converge on the BSM price as cleanly as the Binomial Tree/ BSM option price convergence.\n",
    "<br>An advantage of the Monte Carlo method is that the source of uncertainty can be changed. In the implementation above the source of uncertainty modelled is the Stock price S, however for a bond option the source of uncertainty may be the the interest rate, which can be applied using a Monte Carlo model. "
   ]
  },
  {
   "cell_type": "code",
   "execution_count": 8,
   "metadata": {},
   "outputs": [
    {
     "data": {
      "image/png": "[encoded data removed]",
      "text/plain": [
       "<Figure size 432x288 with 1 Axes>"
      ]
     },
     "metadata": {
      "needs_background": "light"
     },
     "output_type": "display_data"
    }
   ],
   "source": [
    "optionPrices = []\n",
    "step = 200000\n",
    "\n",
    "for n in range(step,N+1, step):\n",
    "    optionPrices.insert(n, MonteCarlo(S,sigma,r,T,K,n,OptionType.Call))\n",
    "\n",
    "plt.title(\"Convergence of Monte Carlo option price to BSM price\")\n",
    "plt.xlabel(\"Number of runs (by {})\" .format(step))\n",
    "plt.ylabel(\"Option Price\")\n",
    "plt.axhline(y=bsmPrice, color='r', linestyle='-',label=\"Black Scholes model Price {}\" .format(round( bsmPrice,2)))\n",
    "plt.plot(optionPrices,alpha=.6,label=\"Monte Carlo Tree Price\")\n",
    "plt.legend()\n",
    "\n",
    "plt.show()"
   ]
  },
  {
   "cell_type": "markdown",
   "metadata": {},
   "source": [
    "### QuantLib package\n",
    "QuantLib is an open-source library for quantitative finance, and the QuantLib python package provides models for pricing options. QuantLib provides an number of advantages over using the textbook implementations discussed so far:\n",
    "Real world implementations need to consider such things as Calendars and day count conventions used, which the QuantLib package can account for. The backend of QuantLib is written in C++ and so will be faster than a model written purely in Python. The QuantLib calculation also provides additional information such as the option greeks.<br>\n",
    "Below is the boilerplate code for calculating an option price of a European call using the QuantLib Black Scholes model."
   ]
  },
  {
   "cell_type": "code",
   "execution_count": 9,
   "metadata": {},
   "outputs": [
    {
     "name": "stdout",
     "output_type": "stream",
     "text": [
      "Price calculated using Quantlib is 6.0916\n",
      "Delta: 0.6139\n",
      "Gamma: 0.0297\n",
      "Theta: -8.4083\n",
      "Vega: 12.3036\n",
      "Rho: 10.1779\n"
     ]
    }
   ],
   "source": [
    "# option data\n",
    "option_type = ql.Option.Call\n",
    "day_count  = ql.Actual365Fixed() \n",
    "calendar =  ql.UnitedStates()\n",
    "\n",
    "qlCalculationDate = ql.Date(calculationDate.day,calculationDate.month,calculationDate.year)\n",
    "ql.Settings.instance().evaluationDate = qlCalculationDate\n",
    "\n",
    "# construct the European Option\n",
    "payoff = ql.PlainVanillaPayoff(option_type, K)\n",
    "\n",
    "qlMaturityDate =   ql.Date(maturityDate.day,maturityDate.month,maturityDate.year)\n",
    "exercise = ql.EuropeanExercise(qlMaturityDate)\n",
    "european_option = ql.VanillaOption(payoff, exercise)\n",
    "\n",
    "spot_handle = ql.QuoteHandle(\n",
    "    ql.SimpleQuote(S)\n",
    ")\n",
    "flat_ts = ql.YieldTermStructureHandle(\n",
    "    ql.FlatForward(qlCalculationDate, r, day_count)\n",
    ")\n",
    "dividend_yield = ql.YieldTermStructureHandle(\n",
    "    ql.FlatForward(qlCalculationDate, dividend_rate, day_count)\n",
    ")\n",
    "flat_vol_ts = ql.BlackVolTermStructureHandle(\n",
    "    ql.BlackConstantVol(qlCalculationDate, calendar, sigma, day_count)\n",
    ")\n",
    "bsm_process = ql.BlackScholesMertonProcess(spot_handle, \n",
    "                                           dividend_yield, \n",
    "                                           flat_ts, \n",
    "                                           flat_vol_ts)\n",
    "\n",
    "european_option.setPricingEngine(ql.AnalyticEuropeanEngine(bsm_process))\n",
    "bs_price = european_option.NPV()\n",
    "print (\"Price calculated using Quantlib is {}\" .format(round(bs_price,4)))\n",
    "\n",
    "print (\"Delta: {}\" .format(round(european_option.delta(),4)))\n",
    "print (\"Gamma: {}\" .format(round(european_option.gamma(),4)))\n",
    "print (\"Theta: {}\" .format(round(european_option.theta(),4)))\n",
    "print (\"Vega: {}\" .format(round(european_option.vega(),4)))\n",
    "print (\"Rho: {}\" .format(round(european_option.rho(),4)))"
   ]
  }
 ],
 "metadata": {
  "kernelspec": {
   "display_name": "Python 3",
   "language": "python",
   "name": "python3"
  },
  "language_info": {
   "codemirror_mode": {
    "name": "ipython",
    "version": 3
   },
   "file_extension": ".py",
   "mimetype": "text/x-python",
   "name": "python",
   "nbconvert_exporter": "python",
   "pygments_lexer": "ipython3",
   "version": "3.6.12"
  }
 },
 "nbformat": 4,
 "nbformat_minor": 4
}
