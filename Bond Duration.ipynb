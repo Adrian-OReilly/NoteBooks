{
 "cells": [
  {
   "cell_type": "markdown",
   "metadata": {},
   "source": [
    "### Bond Duration\n",
    "Macaulay duration is named after the economist Frederick Macaulay, who introduced the metric in 1938 as a way to measure the volatility of the price of a bond, or portfolio of bonds, to changes in interest rates. It is the weighted average time until the present value of the bond’s cash flows equals the current market price for the bond. Macaulay duration is measured in years and is often used by portfolio managers who implement bond immunization strategies. \n",
    "\n",
    "Modified duration was developed as a response to the sharp interest rate rises in the 1970s, as a method to assess a bonds sensitivity to interest rate changes. Modified duration 'modifies' Macaulay duration by multiplying it by 1 / (1 + (YTM / frequency).\n",
    "\n",
    "The purpose of this notebook is to demonstate the calculation of a bonds Macaulay and Modified duration. For this purpose I encapsulate the calculations in a Bond class. Calculations from the Bond class are validated against a similar bond created using the Quantlib library."
   ]
  },
  {
   "cell_type": "code",
   "execution_count": 1,
   "metadata": {},
   "outputs": [],
   "source": [
    "class Bond():\n",
    "    '''\n",
    "    Bond class to demonstate calculation of Macaulay and Modified duration\n",
    "    '''\n",
    "    \n",
    "    import numpy as np\n",
    "\n",
    "    def __init__(self,spot_rates,terms,coupon_rate,face_value=100,frequency=2):     \n",
    "        '''\n",
    "        Initilise an instance of a Bond\n",
    "        \n",
    "        :param list spot_rates: List of rates to discount each payment\n",
    "        :param list terms: List of terms before each payment is received, in years\n",
    "        :param float coupon_rate: Coupon rate\n",
    "        :param int face_value: Par value of the bond, defaults to 100\n",
    "        :param int frequency: Frequency of payments, defaults to 2 - semiannual\n",
    "        :return: void        \n",
    "        '''\n",
    "        \n",
    "        self.spot_rates = spot_rates\n",
    "        self.terms = terms\n",
    "        self.coupon_rate = coupon_rate\n",
    "        self.face_value = face_value\n",
    "        self.frequency = frequency\n",
    "        \n",
    "        self.n_payments = len(self.terms)\n",
    "        self.__set_spot_rates()\n",
    "        \n",
    "        \n",
    "    @property\n",
    "    def __discount_curve(self):\n",
    "        if not hasattr(self, 'discount_curve'):\n",
    "            self.discount_curve = []\n",
    "            for i,t in enumerate(self.terms):\n",
    "                self.discount_curve.append(1 / self.np.power( ( 1 + self.spot_rates[i]),t))\n",
    "            self.discount_curve = self.np.array(self.discount_curve)\n",
    "\n",
    "        return self.discount_curve\n",
    "    \n",
    "    \n",
    "    @property\n",
    "    def __cash_flow(self):\n",
    "        if not hasattr(self, 'cash_flow'):\n",
    "            self.cash_flow = []\n",
    "            \n",
    "            for i in range(self.n_payments):\n",
    "                self.cash_flow.append(0.5 * self.coupon_rate * self.face_value)\n",
    "\n",
    "                # add face to last payment\n",
    "                if (i == self.n_payments - 1):\n",
    "                    self.cash_flow[i] += self.face_value\n",
    "\n",
    "        return self.cash_flow\n",
    "    \n",
    "    \n",
    "    @property    \n",
    "    def NPV(self):\n",
    "        '''\n",
    "        Net present value of cash flows. Clean Price of the bond.       \n",
    "        '''\n",
    "        \n",
    "        if not hasattr(self, 'npv'):\n",
    "            self.npv = self.np.sum(self.__cash_flow * self.__discount_curve)\n",
    "            \n",
    "        return self.npv \n",
    "    \n",
    "    \n",
    "    @property\n",
    "    def macaulay_duration(self):\n",
    "        '''\n",
    "        Macaulay duration\n",
    "        '''\n",
    "        \n",
    "        if not hasattr(self, 'macaulay'):\n",
    "        \n",
    "            discounted_cf = self.__cash_flow * self.__discount_curve\n",
    "\n",
    "            # discounted cash flow weighted by term\n",
    "            weighted_dcf = [discounted_cf[i] * term  for i,term in enumerate(terms)]\n",
    "\n",
    "\n",
    "            self.macaulay = self.np.sum(weighted_dcf) / self.NPV\n",
    "\n",
    "        return self.macaulay\n",
    "    \n",
    "    \n",
    "    def modified_duration(self,ytm):\n",
    "        '''\n",
    "        Modified duration\n",
    "        '''    \n",
    "        \n",
    "        return self.macaulay_duration / (1 + (ytm / self.frequency))\n",
    "    \n",
    "    \n",
    "    def approx_ytm(self):\n",
    "        '''\n",
    "        Yeild to Maturity, approximated by ( Coupon + ((FV - PV ) /1 )) /( (FV + PV ) / Frequency)\n",
    "        '''\n",
    "\n",
    "        approx_ytm = ((self.coupon_rate * self.face_value) + ((self.face_value - self.NPV ) / 1 )) \\\n",
    "            / ((self.face_value + self.NPV ) / self.frequency)\n",
    "        \n",
    "        return round(approx_ytm, 4) \n",
    "\n",
    "\n",
    "    def __set_spot_rates(self):\n",
    "        self.n_payments = len(self.terms)\n",
    "\n",
    "        # spot_rates expects a list. if only one rate passed in then set all spot rates to that rate\n",
    "        if len(self.spot_rates) == 1:\n",
    "            for _ in range(1,n_payments):\n",
    "                self.spot_rates.append(self.spot_rates[0])       "
   ]
  },
  {
   "cell_type": "code",
   "execution_count": 2,
   "metadata": {},
   "outputs": [
    {
     "name": "stdout",
     "output_type": "stream",
     "text": [
      "NPV:  106.3722507923\n",
      "Macaulay Duration:  0.983597475\n",
      "Approximate YTM:  0.0061\n",
      "Modified Duration:  0.9806066248\n"
     ]
    }
   ],
   "source": [
    "# bond attributes\n",
    "spot_rates = [ 0.006, 0.006]\n",
    "terms = [ 0.5, 1.0]\n",
    "coupon_rate = .07\n",
    "\n",
    "bond = Bond(spot_rates,terms,coupon_rate)\n",
    "\n",
    "print ('NPV: ', round(bond.NPV,10))\n",
    "print ('Macaulay Duration: ', round(bond.macaulay_duration,10))\n",
    "print ('Approximate YTM: ', bond.approx_ytm())\n",
    "print ('Modified Duration: ', round(bond.modified_duration(bond.approx_ytm()),10))"
   ]
  },
  {
   "cell_type": "markdown",
   "metadata": {},
   "source": [
    "### Validate the Bond class calculations\n",
    "I validate the values returned from the Bond class by creating a fixed rate bond with the same attributes, using the Quantlib library.  I then compare the calculations from both the Bond class and the Quantlib library for NPV, Macaulay Duration, and Modified Duration. The following code is based on the Quantlib documentation."
   ]
  },
  {
   "cell_type": "code",
   "execution_count": 3,
   "metadata": {},
   "outputs": [],
   "source": [
    "# create an instance of bond using the Quantlib library\n",
    "import QuantLib as ql\n",
    "\n",
    "todaysDate = ql.Date(15, 1, 2015)\n",
    "ql.Settings.instance().evaluationDate = todaysDate\n",
    "spotDates = [ql.Date(15, 1, 2015), ql.Date(15, 7, 2015), ql.Date(15, 1, 2016)]\n",
    "spotRates = [0.06, 0.006, 0.006]\n",
    "\n",
    "dayCount = ql.Thirty360()\n",
    "calendar = ql.UnitedStates()\n",
    "interpolation = ql.Linear()\n",
    "compounding = ql.Compounded\n",
    "compoundingFrequency = ql.Annual\n",
    "\n",
    "spotCurve = ql.ZeroCurve(spotDates, spotRates, dayCount, calendar, interpolation,compounding, compoundingFrequency)\n",
    "spotCurveHandle = ql.YieldTermStructureHandle(spotCurve)\n",
    "\n",
    "\n",
    "# define the bond.\n",
    "issueDate = ql.Date(15, 1, 2015)\n",
    "maturityDate = ql.Date(15, 1, 2016)\n",
    "tenor = ql.Period(ql.Semiannual)\n",
    "calendar = ql.UnitedStates()\n",
    "businessConvention = ql.Unadjusted\n",
    "dateGeneration = ql.DateGeneration.Backward\n",
    "monthEnd = False\n",
    "schedule = ql.Schedule (issueDate, maturityDate, tenor, calendar, businessConvention, businessConvention, dateGeneration, monthEnd)\n",
    "\n",
    "\n",
    "# coupons\n",
    "dayCount = ql.Thirty360()\n",
    "couponRate = .07\n",
    "coupons = [couponRate]\n",
    "\n",
    "settlementDays = 0\n",
    "faceValue = 100\n",
    "fixedRateBond = ql.FixedRateBond(settlementDays, faceValue, schedule, coupons, dayCount)\n",
    "\n",
    "\n",
    "# create a bond engine with the term structure as input\n",
    "# set the bond to use this bond engine\n",
    "bondEngine = ql.DiscountingBondEngine(spotCurveHandle)\n",
    "fixedRateBond.setPricingEngine(bondEngine)"
   ]
  },
  {
   "cell_type": "code",
   "execution_count": 4,
   "metadata": {},
   "outputs": [
    {
     "name": "stdout",
     "output_type": "stream",
     "text": [
      "NPV:  106.3722507923\n"
     ]
    }
   ],
   "source": [
    "# get the NPV using the Quantlib class\n",
    "print('NPV: ', round(fixedRateBond.NPV(),10))"
   ]
  },
  {
   "cell_type": "markdown",
   "metadata": {},
   "source": [
    "The calculation of the Bond class NPV was:\n",
    "\n",
    "* NPV:  106.3722507923\n",
    "\n",
    "The NPV of the Bond class matches the NPV of the Quantlib Bond class."
   ]
  },
  {
   "cell_type": "code",
   "execution_count": 5,
   "metadata": {},
   "outputs": [
    {
     "name": "stdout",
     "output_type": "stream",
     "text": [
      "YTM:  0.0059910219\n",
      "Macaulay Duration:  0.983597475\n",
      "Modified Duration:  0.9806598975\n"
     ]
    }
   ],
   "source": [
    "#calculate yield\n",
    "targetPrice = fixedRateBond.cleanPrice()\n",
    "day_count = dayCount\n",
    "compounding = ql.Compounded\n",
    "frequency = 2\n",
    "\n",
    "ytm = fixedRateBond.bondYield(targetPrice, day_count, compounding, frequency)\n",
    "print('YTM: ', round(ytm,10))\n",
    "\n",
    "rate = ql.InterestRate(ytm, ql.Thirty360(), ql.Compounded, ql.Semiannual)\n",
    "\n",
    "# calculate duration\n",
    "macaulay_duration = ql.BondFunctions.duration(fixedRateBond,rate,ql.Duration.Macaulay)\n",
    "print('Macaulay Duration: ', round(macaulay_duration,10))\n",
    "\n",
    "modified_duration = ql.BondFunctions.duration(fixedRateBond,rate,ql.Duration.Modified)\n",
    "print('Modified Duration: ', round(modified_duration,10))"
   ]
  },
  {
   "cell_type": "markdown",
   "metadata": {},
   "source": [
    "The calculations of the Bond class were:\n",
    "\n",
    "* Approximate YTM:  0.0061\n",
    "* Macaulay Duration:  0.983597475\n",
    "* Modified Duration:  0.9806066248\n",
    "\n",
    "The Macaulay Duration is the same for both the Bond class and the Quantlib class. The Modified Duration matches the Quantlib value to 4 decimal places. It is not exact, as the approximate YTM was used in the Bond class calculation. Below I pass in the Quantlib YTM, and the Bond class Modified Duration matches the Quantlib value exactly."
   ]
  },
  {
   "cell_type": "code",
   "execution_count": 6,
   "metadata": {},
   "outputs": [
    {
     "name": "stdout",
     "output_type": "stream",
     "text": [
      "Modified Duration using Quantlib ytm:  0.9806598975\n"
     ]
    }
   ],
   "source": [
    "# pass in the yeild to maturity calculated by the Quantlib class \n",
    "print ('Modified Duration using Quantlib ytm: ', round(bond.modified_duration(ytm),10))"
   ]
  }
 ],
 "metadata": {
  "kernelspec": {
   "display_name": "Python 3",
   "language": "python",
   "name": "python3"
  },
  "language_info": {
   "codemirror_mode": {
    "name": "ipython",
    "version": 3
   },
   "file_extension": ".py",
   "mimetype": "text/x-python",
   "name": "python",
   "nbconvert_exporter": "python",
   "pygments_lexer": "ipython3",
   "version": "3.6.12"
  }
 },
 "nbformat": 4,
 "nbformat_minor": 4
}
