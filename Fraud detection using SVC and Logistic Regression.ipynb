{
 "cells": [
  {
   "cell_type": "markdown",
   "metadata": {},
   "source": [
    "### Fraud detection using SVC and Logistic Regression\n",
    "In this notebook I will demonstate the use of two models that can be used for fraud detection: Support Vector Classification (SVC) and Logistic Regression. These models are suitable for Fraud detection, as the problem can be considered a binary classification one; in the dataset used, the target variable, 'isFraud', is 0 for non-fraud and 1 for fraud transactions.\n",
    "I first evaluate a SCV model with default hyperparameters. I then evaluate a SVC model where the hyperparameters are set using the GridSearchCV class. Finally, I evaluate a Logistic Regression Model"
   ]
  },
  {
   "cell_type": "code",
   "execution_count": 1,
   "metadata": {},
   "outputs": [],
   "source": [
    "import numpy as np\n",
    "import matplotlib.pyplot as plt\n",
    "import pandas as pd\n",
    "from sklearn.svm import SVC  \n",
    "from sklearn.metrics import classification_report, confusion_matrix\n",
    "from sklearn.model_selection import GridSearchCV, train_test_split\n",
    "from sklearn.preprocessing import MinMaxScaler, OneHotEncoder,LabelEncoder\n",
    "from sklearn.linear_model import LogisticRegression\n",
    "from sklearn import metrics\n",
    "from sklearn.metrics import precision_score,auc,roc_auc_score,roc_curve,recall_score"
   ]
  },
  {
   "cell_type": "markdown",
   "metadata": {},
   "source": [
    "### Read the data"
   ]
  },
  {
   "cell_type": "code",
   "execution_count": 2,
   "metadata": {},
   "outputs": [
    {
     "data": {
      "text/html": [
       "<div>\n",
       "<style scoped>\n",
       "    .dataframe tbody tr th:only-of-type {\n",
       "        vertical-align: middle;\n",
       "    }\n",
       "\n",
       "    .dataframe tbody tr th {\n",
       "        vertical-align: top;\n",
       "    }\n",
       "\n",
       "    .dataframe thead th {\n",
       "        text-align: right;\n",
       "    }\n",
       "</style>\n",
       "<table border=\"1\" class=\"dataframe\">\n",
       "  <thead>\n",
       "    <tr style=\"text-align: right;\">\n",
       "      <th></th>\n",
       "      <th>step</th>\n",
       "      <th>type</th>\n",
       "      <th>amount</th>\n",
       "      <th>nameOrig</th>\n",
       "      <th>oldbalanceOrg</th>\n",
       "      <th>newbalanceOrig</th>\n",
       "      <th>nameDest</th>\n",
       "      <th>oldbalanceDest</th>\n",
       "      <th>newbalanceDest</th>\n",
       "      <th>isFraud</th>\n",
       "      <th>isFlaggedFraud</th>\n",
       "    </tr>\n",
       "  </thead>\n",
       "  <tbody>\n",
       "    <tr>\n",
       "      <th>0</th>\n",
       "      <td>1</td>\n",
       "      <td>PAYMENT</td>\n",
       "      <td>9839.64</td>\n",
       "      <td>C1231006815</td>\n",
       "      <td>170136.00</td>\n",
       "      <td>160296.36</td>\n",
       "      <td>M1979787155</td>\n",
       "      <td>0.00</td>\n",
       "      <td>0.00</td>\n",
       "      <td>0</td>\n",
       "      <td>0</td>\n",
       "    </tr>\n",
       "    <tr>\n",
       "      <th>1</th>\n",
       "      <td>1</td>\n",
       "      <td>PAYMENT</td>\n",
       "      <td>1864.28</td>\n",
       "      <td>C1666544295</td>\n",
       "      <td>21249.00</td>\n",
       "      <td>19384.72</td>\n",
       "      <td>M2044282225</td>\n",
       "      <td>0.00</td>\n",
       "      <td>0.00</td>\n",
       "      <td>0</td>\n",
       "      <td>0</td>\n",
       "    </tr>\n",
       "    <tr>\n",
       "      <th>2</th>\n",
       "      <td>1</td>\n",
       "      <td>TRANSFER</td>\n",
       "      <td>181.00</td>\n",
       "      <td>C1305486145</td>\n",
       "      <td>181.00</td>\n",
       "      <td>0.00</td>\n",
       "      <td>C553264065</td>\n",
       "      <td>0.00</td>\n",
       "      <td>0.00</td>\n",
       "      <td>1</td>\n",
       "      <td>0</td>\n",
       "    </tr>\n",
       "    <tr>\n",
       "      <th>3</th>\n",
       "      <td>1</td>\n",
       "      <td>CASH_OUT</td>\n",
       "      <td>181.00</td>\n",
       "      <td>C840083671</td>\n",
       "      <td>181.00</td>\n",
       "      <td>0.00</td>\n",
       "      <td>C38997010</td>\n",
       "      <td>21182.00</td>\n",
       "      <td>0.00</td>\n",
       "      <td>1</td>\n",
       "      <td>0</td>\n",
       "    </tr>\n",
       "    <tr>\n",
       "      <th>4</th>\n",
       "      <td>1</td>\n",
       "      <td>PAYMENT</td>\n",
       "      <td>11668.14</td>\n",
       "      <td>C2048537720</td>\n",
       "      <td>41554.00</td>\n",
       "      <td>29885.86</td>\n",
       "      <td>M1230701703</td>\n",
       "      <td>0.00</td>\n",
       "      <td>0.00</td>\n",
       "      <td>0</td>\n",
       "      <td>0</td>\n",
       "    </tr>\n",
       "    <tr>\n",
       "      <th>...</th>\n",
       "      <td>...</td>\n",
       "      <td>...</td>\n",
       "      <td>...</td>\n",
       "      <td>...</td>\n",
       "      <td>...</td>\n",
       "      <td>...</td>\n",
       "      <td>...</td>\n",
       "      <td>...</td>\n",
       "      <td>...</td>\n",
       "      <td>...</td>\n",
       "      <td>...</td>\n",
       "    </tr>\n",
       "    <tr>\n",
       "      <th>6362615</th>\n",
       "      <td>743</td>\n",
       "      <td>CASH_OUT</td>\n",
       "      <td>339682.13</td>\n",
       "      <td>C786484425</td>\n",
       "      <td>339682.13</td>\n",
       "      <td>0.00</td>\n",
       "      <td>C776919290</td>\n",
       "      <td>0.00</td>\n",
       "      <td>339682.13</td>\n",
       "      <td>1</td>\n",
       "      <td>0</td>\n",
       "    </tr>\n",
       "    <tr>\n",
       "      <th>6362616</th>\n",
       "      <td>743</td>\n",
       "      <td>TRANSFER</td>\n",
       "      <td>6311409.28</td>\n",
       "      <td>C1529008245</td>\n",
       "      <td>6311409.28</td>\n",
       "      <td>0.00</td>\n",
       "      <td>C1881841831</td>\n",
       "      <td>0.00</td>\n",
       "      <td>0.00</td>\n",
       "      <td>1</td>\n",
       "      <td>0</td>\n",
       "    </tr>\n",
       "    <tr>\n",
       "      <th>6362617</th>\n",
       "      <td>743</td>\n",
       "      <td>CASH_OUT</td>\n",
       "      <td>6311409.28</td>\n",
       "      <td>C1162922333</td>\n",
       "      <td>6311409.28</td>\n",
       "      <td>0.00</td>\n",
       "      <td>C1365125890</td>\n",
       "      <td>68488.84</td>\n",
       "      <td>6379898.11</td>\n",
       "      <td>1</td>\n",
       "      <td>0</td>\n",
       "    </tr>\n",
       "    <tr>\n",
       "      <th>6362618</th>\n",
       "      <td>743</td>\n",
       "      <td>TRANSFER</td>\n",
       "      <td>850002.52</td>\n",
       "      <td>C1685995037</td>\n",
       "      <td>850002.52</td>\n",
       "      <td>0.00</td>\n",
       "      <td>C2080388513</td>\n",
       "      <td>0.00</td>\n",
       "      <td>0.00</td>\n",
       "      <td>1</td>\n",
       "      <td>0</td>\n",
       "    </tr>\n",
       "    <tr>\n",
       "      <th>6362619</th>\n",
       "      <td>743</td>\n",
       "      <td>CASH_OUT</td>\n",
       "      <td>850002.52</td>\n",
       "      <td>C1280323807</td>\n",
       "      <td>850002.52</td>\n",
       "      <td>0.00</td>\n",
       "      <td>C873221189</td>\n",
       "      <td>6510099.11</td>\n",
       "      <td>7360101.63</td>\n",
       "      <td>1</td>\n",
       "      <td>0</td>\n",
       "    </tr>\n",
       "  </tbody>\n",
       "</table>\n",
       "<p>6362620 rows × 11 columns</p>\n",
       "</div>"
      ],
      "text/plain": [
       "         step      type      amount     nameOrig  oldbalanceOrg  \\\n",
       "0           1   PAYMENT     9839.64  C1231006815      170136.00   \n",
       "1           1   PAYMENT     1864.28  C1666544295       21249.00   \n",
       "2           1  TRANSFER      181.00  C1305486145         181.00   \n",
       "3           1  CASH_OUT      181.00   C840083671         181.00   \n",
       "4           1   PAYMENT    11668.14  C2048537720       41554.00   \n",
       "...       ...       ...         ...          ...            ...   \n",
       "6362615   743  CASH_OUT   339682.13   C786484425      339682.13   \n",
       "6362616   743  TRANSFER  6311409.28  C1529008245     6311409.28   \n",
       "6362617   743  CASH_OUT  6311409.28  C1162922333     6311409.28   \n",
       "6362618   743  TRANSFER   850002.52  C1685995037      850002.52   \n",
       "6362619   743  CASH_OUT   850002.52  C1280323807      850002.52   \n",
       "\n",
       "         newbalanceOrig     nameDest  oldbalanceDest  newbalanceDest  isFraud  \\\n",
       "0             160296.36  M1979787155            0.00            0.00        0   \n",
       "1              19384.72  M2044282225            0.00            0.00        0   \n",
       "2                  0.00   C553264065            0.00            0.00        1   \n",
       "3                  0.00    C38997010        21182.00            0.00        1   \n",
       "4              29885.86  M1230701703            0.00            0.00        0   \n",
       "...                 ...          ...             ...             ...      ...   \n",
       "6362615            0.00   C776919290            0.00       339682.13        1   \n",
       "6362616            0.00  C1881841831            0.00            0.00        1   \n",
       "6362617            0.00  C1365125890        68488.84      6379898.11        1   \n",
       "6362618            0.00  C2080388513            0.00            0.00        1   \n",
       "6362619            0.00   C873221189      6510099.11      7360101.63        1   \n",
       "\n",
       "         isFlaggedFraud  \n",
       "0                     0  \n",
       "1                     0  \n",
       "2                     0  \n",
       "3                     0  \n",
       "4                     0  \n",
       "...                 ...  \n",
       "6362615               0  \n",
       "6362616               0  \n",
       "6362617               0  \n",
       "6362618               0  \n",
       "6362619               0  \n",
       "\n",
       "[6362620 rows x 11 columns]"
      ]
     },
     "execution_count": 2,
     "metadata": {},
     "output_type": "execute_result"
    }
   ],
   "source": [
    "# Import the dataset\n",
    "# note: the dataset is a Kaggle dataset, Synthetic Financial Datasets For Fraud Detection (TESTIMON@NTNU)\n",
    "df = pd.read_csv('PS_20174392719_1491204439457_log.csv')\n",
    "df"
   ]
  },
  {
   "cell_type": "markdown",
   "metadata": {},
   "source": [
    "Drop features that will not add value in predicting if an observation is fraudulent. \n",
    "note: step is the freq that the account is used"
   ]
  },
  {
   "cell_type": "code",
   "execution_count": 3,
   "metadata": {},
   "outputs": [],
   "source": [
    "df.drop('nameOrig', axis=1, inplace=True)\n",
    "df.drop('nameDest', axis=1, inplace=True)\n",
    "df.drop('isFlaggedFraud', axis=1, inplace=True)"
   ]
  },
  {
   "cell_type": "markdown",
   "metadata": {},
   "source": [
    "Get a sample, limitations of home PC in processing the large dataset  \n",
    "sample should be balanced"
   ]
  },
  {
   "cell_type": "code",
   "execution_count": 4,
   "metadata": {},
   "outputs": [
    {
     "name": "stdout",
     "output_type": "stream",
     "text": [
      "(8213, 8) (41065, 8)\n"
     ]
    }
   ],
   "source": [
    "n_frauds = df['isFraud'].value_counts()[1]\n",
    "n_non_frauds = df['isFraud'].value_counts()[0]\n",
    "\n",
    "# keep all the fraud records for our sample\n",
    "fraud_recs = df[df['isFraud'] == 1]\n",
    "\n",
    "# get a shuffled sample of non-fraud records, 5 times the size of the fraud records\n",
    "non_fraud_recs = df[df['isFraud'] == 0].sample(frac=(n_frauds * 5) / n_non_frauds)\n",
    "\n",
    "print(fraud_recs.shape, non_fraud_recs.shape)"
   ]
  },
  {
   "cell_type": "code",
   "execution_count": 5,
   "metadata": {},
   "outputs": [
    {
     "data": {
      "text/html": [
       "<div>\n",
       "<style scoped>\n",
       "    .dataframe tbody tr th:only-of-type {\n",
       "        vertical-align: middle;\n",
       "    }\n",
       "\n",
       "    .dataframe tbody tr th {\n",
       "        vertical-align: top;\n",
       "    }\n",
       "\n",
       "    .dataframe thead th {\n",
       "        text-align: right;\n",
       "    }\n",
       "</style>\n",
       "<table border=\"1\" class=\"dataframe\">\n",
       "  <thead>\n",
       "    <tr style=\"text-align: right;\">\n",
       "      <th></th>\n",
       "      <th>step</th>\n",
       "      <th>type</th>\n",
       "      <th>amount</th>\n",
       "      <th>oldbalanceOrg</th>\n",
       "      <th>newbalanceOrig</th>\n",
       "      <th>oldbalanceDest</th>\n",
       "      <th>newbalanceDest</th>\n",
       "      <th>isFraud</th>\n",
       "    </tr>\n",
       "  </thead>\n",
       "  <tbody>\n",
       "    <tr>\n",
       "      <th>2744077</th>\n",
       "      <td>212</td>\n",
       "      <td>CASH_OUT</td>\n",
       "      <td>94357.83</td>\n",
       "      <td>0.00</td>\n",
       "      <td>0.00</td>\n",
       "      <td>210098.05</td>\n",
       "      <td>304455.88</td>\n",
       "      <td>0</td>\n",
       "    </tr>\n",
       "    <tr>\n",
       "      <th>5727827</th>\n",
       "      <td>399</td>\n",
       "      <td>CASH_OUT</td>\n",
       "      <td>1442075.90</td>\n",
       "      <td>1442075.90</td>\n",
       "      <td>0.00</td>\n",
       "      <td>168728.60</td>\n",
       "      <td>1610804.50</td>\n",
       "      <td>1</td>\n",
       "    </tr>\n",
       "    <tr>\n",
       "      <th>1595392</th>\n",
       "      <td>156</td>\n",
       "      <td>CASH_OUT</td>\n",
       "      <td>569942.69</td>\n",
       "      <td>316825.00</td>\n",
       "      <td>0.00</td>\n",
       "      <td>0.00</td>\n",
       "      <td>569942.69</td>\n",
       "      <td>0</td>\n",
       "    </tr>\n",
       "    <tr>\n",
       "      <th>3485111</th>\n",
       "      <td>258</td>\n",
       "      <td>PAYMENT</td>\n",
       "      <td>3053.94</td>\n",
       "      <td>94004.08</td>\n",
       "      <td>90950.14</td>\n",
       "      <td>0.00</td>\n",
       "      <td>0.00</td>\n",
       "      <td>0</td>\n",
       "    </tr>\n",
       "    <tr>\n",
       "      <th>6157374</th>\n",
       "      <td>548</td>\n",
       "      <td>PAYMENT</td>\n",
       "      <td>3750.96</td>\n",
       "      <td>0.00</td>\n",
       "      <td>0.00</td>\n",
       "      <td>0.00</td>\n",
       "      <td>0.00</td>\n",
       "      <td>0</td>\n",
       "    </tr>\n",
       "    <tr>\n",
       "      <th>...</th>\n",
       "      <td>...</td>\n",
       "      <td>...</td>\n",
       "      <td>...</td>\n",
       "      <td>...</td>\n",
       "      <td>...</td>\n",
       "      <td>...</td>\n",
       "      <td>...</td>\n",
       "      <td>...</td>\n",
       "    </tr>\n",
       "    <tr>\n",
       "      <th>275287</th>\n",
       "      <td>15</td>\n",
       "      <td>TRANSFER</td>\n",
       "      <td>394056.10</td>\n",
       "      <td>0.00</td>\n",
       "      <td>0.00</td>\n",
       "      <td>451486.32</td>\n",
       "      <td>1046707.13</td>\n",
       "      <td>0</td>\n",
       "    </tr>\n",
       "    <tr>\n",
       "      <th>22593</th>\n",
       "      <td>8</td>\n",
       "      <td>CASH_OUT</td>\n",
       "      <td>222947.46</td>\n",
       "      <td>6190.00</td>\n",
       "      <td>0.00</td>\n",
       "      <td>117954.28</td>\n",
       "      <td>542692.36</td>\n",
       "      <td>0</td>\n",
       "    </tr>\n",
       "    <tr>\n",
       "      <th>4603332</th>\n",
       "      <td>329</td>\n",
       "      <td>CASH_OUT</td>\n",
       "      <td>77941.72</td>\n",
       "      <td>0.00</td>\n",
       "      <td>0.00</td>\n",
       "      <td>294431.39</td>\n",
       "      <td>372373.11</td>\n",
       "      <td>0</td>\n",
       "    </tr>\n",
       "    <tr>\n",
       "      <th>5670248</th>\n",
       "      <td>397</td>\n",
       "      <td>CASH_IN</td>\n",
       "      <td>75662.95</td>\n",
       "      <td>21569.00</td>\n",
       "      <td>97231.95</td>\n",
       "      <td>397653.75</td>\n",
       "      <td>321990.80</td>\n",
       "      <td>0</td>\n",
       "    </tr>\n",
       "    <tr>\n",
       "      <th>4738908</th>\n",
       "      <td>332</td>\n",
       "      <td>PAYMENT</td>\n",
       "      <td>2693.07</td>\n",
       "      <td>0.00</td>\n",
       "      <td>0.00</td>\n",
       "      <td>0.00</td>\n",
       "      <td>0.00</td>\n",
       "      <td>0</td>\n",
       "    </tr>\n",
       "  </tbody>\n",
       "</table>\n",
       "<p>49278 rows × 8 columns</p>\n",
       "</div>"
      ],
      "text/plain": [
       "         step      type      amount  oldbalanceOrg  newbalanceOrig  \\\n",
       "2744077   212  CASH_OUT    94357.83           0.00            0.00   \n",
       "5727827   399  CASH_OUT  1442075.90     1442075.90            0.00   \n",
       "1595392   156  CASH_OUT   569942.69      316825.00            0.00   \n",
       "3485111   258   PAYMENT     3053.94       94004.08        90950.14   \n",
       "6157374   548   PAYMENT     3750.96           0.00            0.00   \n",
       "...       ...       ...         ...            ...             ...   \n",
       "275287     15  TRANSFER   394056.10           0.00            0.00   \n",
       "22593       8  CASH_OUT   222947.46        6190.00            0.00   \n",
       "4603332   329  CASH_OUT    77941.72           0.00            0.00   \n",
       "5670248   397   CASH_IN    75662.95       21569.00        97231.95   \n",
       "4738908   332   PAYMENT     2693.07           0.00            0.00   \n",
       "\n",
       "         oldbalanceDest  newbalanceDest  isFraud  \n",
       "2744077       210098.05       304455.88        0  \n",
       "5727827       168728.60      1610804.50        1  \n",
       "1595392            0.00       569942.69        0  \n",
       "3485111            0.00            0.00        0  \n",
       "6157374            0.00            0.00        0  \n",
       "...                 ...             ...      ...  \n",
       "275287        451486.32      1046707.13        0  \n",
       "22593         117954.28       542692.36        0  \n",
       "4603332       294431.39       372373.11        0  \n",
       "5670248       397653.75       321990.80        0  \n",
       "4738908            0.00            0.00        0  \n",
       "\n",
       "[49278 rows x 8 columns]"
      ]
     },
     "execution_count": 5,
     "metadata": {},
     "output_type": "execute_result"
    }
   ],
   "source": [
    "# join the two sub samples and shuffle\n",
    "sample_data = non_fraud_recs.append(fraud_recs)\n",
    "sample_data = sample_data.sample(frac=1)\n",
    "sample_data"
   ]
  },
  {
   "cell_type": "markdown",
   "metadata": {},
   "source": [
    "### Preprocess\n",
    "Although you would normally perform detailed Exploratory Data Analysis,  as the purpose of this notebook is to describe how Python can be used to predict fraudulant records I will go straight into modelling the data"
   ]
  },
  {
   "cell_type": "code",
   "execution_count": 6,
   "metadata": {},
   "outputs": [
    {
     "data": {
      "text/plain": [
       "step              0\n",
       "type              0\n",
       "amount            0\n",
       "oldbalanceOrg     0\n",
       "newbalanceOrig    0\n",
       "oldbalanceDest    0\n",
       "newbalanceDest    0\n",
       "isFraud           0\n",
       "dtype: int64"
      ]
     },
     "execution_count": 6,
     "metadata": {},
     "output_type": "execute_result"
    }
   ],
   "source": [
    "# check for NANs \n",
    "sample_data.isnull().sum()"
   ]
  },
  {
   "cell_type": "code",
   "execution_count": 7,
   "metadata": {},
   "outputs": [],
   "source": [
    "# get feature matrix and target matrix\n",
    "X = sample_data.drop('isFraud',axis=1).values\n",
    "y = sample_data['isFraud'].values\n",
    "\n",
    "# Split the data into the Training set and Test set\n",
    "X_train, X_test, y_train, y_test = train_test_split(X, y, test_size=0.20, random_state=124)\n"
   ]
  },
  {
   "cell_type": "code",
   "execution_count": 8,
   "metadata": {},
   "outputs": [],
   "source": [
    "# one hot encode a column in an array\n",
    "# note: this function is needed as to one hot encode the whole array led to memory issues on PC\n",
    "def ohe(arr,pos):\n",
    "    enc = OneHotEncoder(handle_unknown='ignore')\n",
    "    ohe_col = arr[:,pos]\n",
    "    ohe_col = np.reshape(ohe_col,(len(ohe_col),1))\n",
    "\n",
    "    enc.fit(ohe_col)\n",
    "    ohe_vals = enc.transform(ohe_col).toarray()\n",
    "\n",
    "    # remove the original category column from array\n",
    "    arr_new = np.delete(arr, pos, axis=1)\n",
    "    \n",
    "    # append the one hot encoded values to array\n",
    "    arr_new = np.hstack((arr_new,ohe_vals))\n",
    "\n",
    "    return arr_new"
   ]
  },
  {
   "cell_type": "code",
   "execution_count": 9,
   "metadata": {},
   "outputs": [
    {
     "name": "stdout",
     "output_type": "stream",
     "text": [
      "\n",
      "X_Train before OHE: \n",
      " [[235 'CASH_IN' 97500.46 ... 8824315.78 890036.92 821705.09]\n",
      " [374 'TRANSFER' 177790.67 ... 0.0 4306022.56 4483813.23]\n",
      " [40 'CASH_OUT' 244171.15 ... 66294.85 0.0 726591.17]\n",
      " ...\n",
      " [332 'CASH_OUT' 141900.65 ... 0.0 599320.98 741221.64]\n",
      " [38 'CASH_OUT' 3372.0 ... 0.0 456659.44 460031.44]\n",
      " [212 'PAYMENT' 7046.49 ... 0.0 0.0 0.0]]\n",
      "\n",
      "\n",
      "X_Train after OHE: \n",
      " [[235 97500.46 8726815.32 ... 0.0 0.0 0.0]\n",
      " [374 177790.67 99189.27 ... 0.0 0.0 1.0]\n",
      " [40 244171.15 310466.0 ... 0.0 0.0 0.0]\n",
      " ...\n",
      " [332 141900.65 0.0 ... 0.0 0.0 0.0]\n",
      " [38 3372.0 3372.0 ... 0.0 0.0 0.0]\n",
      " [212 7046.49 6904.0 ... 0.0 1.0 0.0]]\n"
     ]
    }
   ],
   "source": [
    "# transaction type column, col 1, is categorical, one hot encode\n",
    "print('\\nX_Train before OHE: \\n',X_train)\n",
    "\n",
    "X_train = ohe(X_train,1)\n",
    "print('\\n\\nX_Train after OHE: \\n',X_train)"
   ]
  },
  {
   "cell_type": "code",
   "execution_count": 10,
   "metadata": {},
   "outputs": [],
   "source": [
    "# scale the features\n",
    "sc = MinMaxScaler()\n",
    "\n",
    "X_train = sc.fit_transform(X_train)"
   ]
  },
  {
   "cell_type": "markdown",
   "metadata": {},
   "source": [
    "### Evaluation metrics\n",
    "Often a base test is created to provide a base accuracy score. I set the base test data to all zeros to simulate how accurate a model that just reports every transaction as non-fraud would be. In this case the accuracy is 83%. \n",
    "Accuracy measures how many predictions were correct, and considers both predictions of fraud and non-fraud cases. However, our main concern is predicting fraud cases and so we need to focus on the Recall metric. In the base model, the Recall metric for the fraud class (class 1) is 0.00, indicating that we would flag no transactions as fraudulent. "
   ]
  },
  {
   "cell_type": "code",
   "execution_count": 12,
   "metadata": {},
   "outputs": [
    {
     "name": "stdout",
     "output_type": "stream",
     "text": [
      "\n",
      "Base test accuracy: 0.833502435064935\n",
      "\n",
      "Base test Classification Report:\n",
      "              precision    recall  f1-score   support\n",
      "\n",
      "           0       0.83      1.00      0.91      8215\n",
      "           1       0.00      0.00      0.00      1641\n",
      "\n",
      "    accuracy                           0.83      9856\n",
      "   macro avg       0.42      0.50      0.45      9856\n",
      "weighted avg       0.69      0.83      0.76      9856\n",
      "\n"
     ]
    }
   ],
   "source": [
    "# base test\n",
    "base_test = np.zeros_like(y_test)\n",
    "\n",
    "print(\"\\nBase test accuracy:\",metrics.accuracy_score(y_test, base_test))\n",
    "print (\"\\nBase test Classification Report:\")\n",
    "print (metrics.classification_report(y_test, base_test))"
   ]
  },
  {
   "cell_type": "markdown",
   "metadata": {},
   "source": [
    "### SVM model\n",
    "The first model I will evaluate is Support Vector Classification, using the default hyperparameters. \n"
   ]
  },
  {
   "cell_type": "code",
   "execution_count": 13,
   "metadata": {},
   "outputs": [],
   "source": [
    "# preprocess X_test\n",
    "X_test = ohe(X_test,1)\n",
    "X_test = sc.fit_transform(X_test)"
   ]
  },
  {
   "cell_type": "code",
   "execution_count": 32,
   "metadata": {},
   "outputs": [],
   "source": [
    "# Create a svm Classifier\n",
    "svc_clf = SVC(class_weight={0:1/6})\n",
    "\n",
    "# Train the model using the training sets\n",
    "svc_clf.fit(X_train, y_train.ravel())\n",
    "\n",
    "# Predict the response for test dataset\n",
    "y_hat_svc = svc_clf.predict(X_test)"
   ]
  },
  {
   "cell_type": "code",
   "execution_count": 33,
   "metadata": {},
   "outputs": [
    {
     "name": "stdout",
     "output_type": "stream",
     "text": [
      "\n",
      "Default SVM Accuracy: 0.8582589285714286\n",
      "\n",
      "Default SVM Classification Report:\n",
      "              precision    recall  f1-score   support\n",
      "\n",
      "           0       0.96      0.86      0.91      8215\n",
      "           1       0.55      0.83      0.66      1641\n",
      "\n",
      "    accuracy                           0.86      9856\n",
      "   macro avg       0.76      0.85      0.79      9856\n",
      "weighted avg       0.89      0.86      0.87      9856\n",
      "\n"
     ]
    }
   ],
   "source": [
    "# evaluating the default SVC model\n",
    "print(\"\\nDefault SVM Accuracy:\",metrics.accuracy_score(y_test, y_hat_svc))\n",
    "print (\"\\nDefault SVM Classification Report:\")\n",
    "print (metrics.classification_report(y_test, y_hat_svc))"
   ]
  },
  {
   "cell_type": "markdown",
   "metadata": {},
   "source": [
    "While the accuracy of the SVC model is an improvement over the base model, 86% compared to 83%, the figure to note is the Recall for fraud cases, 83%, meaning that the model will predict 83% of actual fraudulent cases.\n",
    "\n",
    "The above model uses the default hyperparameters, it is possible to fine tune a SVC model by configuring the hyperparameters. The scikit learn package provides the GridSearchCV class to facilitate the selection of hyperparameter values by running the model for each combination of values in a parameter grid."
   ]
  },
  {
   "cell_type": "code",
   "execution_count": 34,
   "metadata": {},
   "outputs": [
    {
     "name": "stdout",
     "output_type": "stream",
     "text": [
      "Fitting 5 folds for each of 14 candidates, totalling 70 fits\n",
      "[CV] C=1, gamma=0.001, kernel=rbf ....................................\n"
     ]
    },
    {
     "name": "stderr",
     "output_type": "stream",
     "text": [
      "[Parallel(n_jobs=1)]: Using backend SequentialBackend with 1 concurrent workers.\n"
     ]
    },
    {
     "name": "stdout",
     "output_type": "stream",
     "text": [
      "[CV] ..................... C=1, gamma=0.001, kernel=rbf, total=  27.2s\n",
      "[CV] C=1, gamma=0.001, kernel=rbf ....................................\n"
     ]
    },
    {
     "name": "stderr",
     "output_type": "stream",
     "text": [
      "[Parallel(n_jobs=1)]: Done   1 out of   1 | elapsed:   27.1s remaining:    0.0s\n"
     ]
    },
    {
     "name": "stdout",
     "output_type": "stream",
     "text": [
      "[CV] ..................... C=1, gamma=0.001, kernel=rbf, total=  26.7s\n",
      "[CV] C=1, gamma=0.001, kernel=rbf ....................................\n",
      "[CV] ..................... C=1, gamma=0.001, kernel=rbf, total=  26.7s\n",
      "[CV] C=1, gamma=0.001, kernel=rbf ....................................\n",
      "[CV] ..................... C=1, gamma=0.001, kernel=rbf, total=  26.6s\n",
      "[CV] C=1, gamma=0.001, kernel=rbf ....................................\n",
      "[CV] ..................... C=1, gamma=0.001, kernel=rbf, total=  25.9s\n",
      "[CV] C=1, gamma=0.0001, kernel=rbf ...................................\n",
      "[CV] .................... C=1, gamma=0.0001, kernel=rbf, total=  36.8s\n",
      "[CV] C=1, gamma=0.0001, kernel=rbf ...................................\n",
      "[CV] .................... C=1, gamma=0.0001, kernel=rbf, total=  37.2s\n",
      "[CV] C=1, gamma=0.0001, kernel=rbf ...................................\n",
      "[CV] .................... C=1, gamma=0.0001, kernel=rbf, total=  36.7s\n",
      "[CV] C=1, gamma=0.0001, kernel=rbf ...................................\n",
      "[CV] .................... C=1, gamma=0.0001, kernel=rbf, total=  38.2s\n",
      "[CV] C=1, gamma=0.0001, kernel=rbf ...................................\n",
      "[CV] .................... C=1, gamma=0.0001, kernel=rbf, total=  36.6s\n",
      "[CV] C=10, gamma=0.001, kernel=rbf ...................................\n",
      "[CV] .................... C=10, gamma=0.001, kernel=rbf, total=  18.9s\n",
      "[CV] C=10, gamma=0.001, kernel=rbf ...................................\n",
      "[CV] .................... C=10, gamma=0.001, kernel=rbf, total=  18.8s\n",
      "[CV] C=10, gamma=0.001, kernel=rbf ...................................\n",
      "[CV] .................... C=10, gamma=0.001, kernel=rbf, total=  18.8s\n",
      "[CV] C=10, gamma=0.001, kernel=rbf ...................................\n",
      "[CV] .................... C=10, gamma=0.001, kernel=rbf, total=  19.1s\n",
      "[CV] C=10, gamma=0.001, kernel=rbf ...................................\n",
      "[CV] .................... C=10, gamma=0.001, kernel=rbf, total=  18.6s\n",
      "[CV] C=10, gamma=0.0001, kernel=rbf ..................................\n",
      "[CV] ................... C=10, gamma=0.0001, kernel=rbf, total=  26.2s\n",
      "[CV] C=10, gamma=0.0001, kernel=rbf ..................................\n",
      "[CV] ................... C=10, gamma=0.0001, kernel=rbf, total=  26.3s\n",
      "[CV] C=10, gamma=0.0001, kernel=rbf ..................................\n",
      "[CV] ................... C=10, gamma=0.0001, kernel=rbf, total=  27.0s\n",
      "[CV] C=10, gamma=0.0001, kernel=rbf ..................................\n",
      "[CV] ................... C=10, gamma=0.0001, kernel=rbf, total=  26.9s\n",
      "[CV] C=10, gamma=0.0001, kernel=rbf ..................................\n",
      "[CV] ................... C=10, gamma=0.0001, kernel=rbf, total=  26.7s\n",
      "[CV] C=100, gamma=0.001, kernel=rbf ..................................\n",
      "[CV] ................... C=100, gamma=0.001, kernel=rbf, total=  18.1s\n",
      "[CV] C=100, gamma=0.001, kernel=rbf ..................................\n",
      "[CV] ................... C=100, gamma=0.001, kernel=rbf, total=  18.1s\n",
      "[CV] C=100, gamma=0.001, kernel=rbf ..................................\n",
      "[CV] ................... C=100, gamma=0.001, kernel=rbf, total=  19.0s\n",
      "[CV] C=100, gamma=0.001, kernel=rbf ..................................\n",
      "[CV] ................... C=100, gamma=0.001, kernel=rbf, total=  18.9s\n",
      "[CV] C=100, gamma=0.001, kernel=rbf ..................................\n",
      "[CV] ................... C=100, gamma=0.001, kernel=rbf, total=  18.2s\n",
      "[CV] C=100, gamma=0.0001, kernel=rbf .................................\n",
      "[CV] .................. C=100, gamma=0.0001, kernel=rbf, total=  19.1s\n",
      "[CV] C=100, gamma=0.0001, kernel=rbf .................................\n",
      "[CV] .................. C=100, gamma=0.0001, kernel=rbf, total=  19.0s\n",
      "[CV] C=100, gamma=0.0001, kernel=rbf .................................\n",
      "[CV] .................. C=100, gamma=0.0001, kernel=rbf, total=  19.1s\n",
      "[CV] C=100, gamma=0.0001, kernel=rbf .................................\n",
      "[CV] .................. C=100, gamma=0.0001, kernel=rbf, total=  18.9s\n",
      "[CV] C=100, gamma=0.0001, kernel=rbf .................................\n",
      "[CV] .................. C=100, gamma=0.0001, kernel=rbf, total=  18.9s\n",
      "[CV] C=1000, gamma=0.001, kernel=rbf .................................\n",
      "[CV] .................. C=1000, gamma=0.001, kernel=rbf, total=  18.7s\n",
      "[CV] C=1000, gamma=0.001, kernel=rbf .................................\n",
      "[CV] .................. C=1000, gamma=0.001, kernel=rbf, total=  19.2s\n",
      "[CV] C=1000, gamma=0.001, kernel=rbf .................................\n",
      "[CV] .................. C=1000, gamma=0.001, kernel=rbf, total=  18.9s\n",
      "[CV] C=1000, gamma=0.001, kernel=rbf .................................\n",
      "[CV] .................. C=1000, gamma=0.001, kernel=rbf, total=  19.2s\n",
      "[CV] C=1000, gamma=0.001, kernel=rbf .................................\n",
      "[CV] .................. C=1000, gamma=0.001, kernel=rbf, total=  18.8s\n",
      "[CV] C=1000, gamma=0.0001, kernel=rbf ................................\n",
      "[CV] ................. C=1000, gamma=0.0001, kernel=rbf, total=  18.5s\n",
      "[CV] C=1000, gamma=0.0001, kernel=rbf ................................\n",
      "[CV] ................. C=1000, gamma=0.0001, kernel=rbf, total=  18.3s\n",
      "[CV] C=1000, gamma=0.0001, kernel=rbf ................................\n",
      "[CV] ................. C=1000, gamma=0.0001, kernel=rbf, total=  18.3s\n",
      "[CV] C=1000, gamma=0.0001, kernel=rbf ................................\n",
      "[CV] ................. C=1000, gamma=0.0001, kernel=rbf, total=  18.0s\n",
      "[CV] C=1000, gamma=0.0001, kernel=rbf ................................\n",
      "[CV] ................. C=1000, gamma=0.0001, kernel=rbf, total=  18.6s\n",
      "[CV] C=1, kernel=linear ..............................................\n",
      "[CV] ............................... C=1, kernel=linear, total=  10.0s\n",
      "[CV] C=1, kernel=linear ..............................................\n",
      "[CV] ............................... C=1, kernel=linear, total=  10.3s\n",
      "[CV] C=1, kernel=linear ..............................................\n",
      "[CV] ............................... C=1, kernel=linear, total=  10.3s\n",
      "[CV] C=1, kernel=linear ..............................................\n",
      "[CV] ............................... C=1, kernel=linear, total=  10.1s\n",
      "[CV] C=1, kernel=linear ..............................................\n",
      "[CV] ............................... C=1, kernel=linear, total=  10.3s\n",
      "[CV] C=10, kernel=linear .............................................\n",
      "[CV] .............................. C=10, kernel=linear, total=  10.4s\n",
      "[CV] C=10, kernel=linear .............................................\n",
      "[CV] .............................. C=10, kernel=linear, total=  10.6s\n",
      "[CV] C=10, kernel=linear .............................................\n",
      "[CV] .............................. C=10, kernel=linear, total=  10.3s\n",
      "[CV] C=10, kernel=linear .............................................\n",
      "[CV] .............................. C=10, kernel=linear, total=  10.1s\n",
      "[CV] C=10, kernel=linear .............................................\n",
      "[CV] .............................. C=10, kernel=linear, total=  10.3s\n",
      "[CV] C=100, kernel=linear ............................................\n",
      "[CV] ............................. C=100, kernel=linear, total=  10.5s\n",
      "[CV] C=100, kernel=linear ............................................\n",
      "[CV] ............................. C=100, kernel=linear, total=   9.7s\n",
      "[CV] C=100, kernel=linear ............................................\n",
      "[CV] ............................. C=100, kernel=linear, total=  10.5s\n",
      "[CV] C=100, kernel=linear ............................................\n",
      "[CV] ............................. C=100, kernel=linear, total=  10.4s\n",
      "[CV] C=100, kernel=linear ............................................\n",
      "[CV] ............................. C=100, kernel=linear, total=  10.2s\n",
      "[CV] C=1000.0, kernel=linear .........................................\n",
      "[CV] .......................... C=1000.0, kernel=linear, total=  10.1s\n",
      "[CV] C=1000.0, kernel=linear .........................................\n",
      "[CV] .......................... C=1000.0, kernel=linear, total=  10.6s\n",
      "[CV] C=1000.0, kernel=linear .........................................\n",
      "[CV] .......................... C=1000.0, kernel=linear, total=   9.1s\n",
      "[CV] C=1000.0, kernel=linear .........................................\n",
      "[CV] .......................... C=1000.0, kernel=linear, total=   9.7s\n",
      "[CV] C=1000.0, kernel=linear .........................................\n"
     ]
    },
    {
     "name": "stdout",
     "output_type": "stream",
     "text": [
      "[CV] .......................... C=1000.0, kernel=linear, total=   9.0s\n",
      "[CV] C=10000.0, kernel=linear ........................................\n",
      "[CV] ......................... C=10000.0, kernel=linear, total=  18.8s\n",
      "[CV] C=10000.0, kernel=linear ........................................\n",
      "[CV] ......................... C=10000.0, kernel=linear, total=  17.2s\n",
      "[CV] C=10000.0, kernel=linear ........................................\n",
      "[CV] ......................... C=10000.0, kernel=linear, total=  18.9s\n",
      "[CV] C=10000.0, kernel=linear ........................................\n",
      "[CV] ......................... C=10000.0, kernel=linear, total=  18.9s\n",
      "[CV] C=10000.0, kernel=linear ........................................\n",
      "[CV] ......................... C=10000.0, kernel=linear, total=  16.5s\n",
      "[CV] C=100000.0, kernel=linear .......................................\n",
      "[CV] ........................ C=100000.0, kernel=linear, total= 1.3min\n",
      "[CV] C=100000.0, kernel=linear .......................................\n",
      "[CV] ........................ C=100000.0, kernel=linear, total= 1.2min\n",
      "[CV] C=100000.0, kernel=linear .......................................\n",
      "[CV] ........................ C=100000.0, kernel=linear, total= 1.4min\n",
      "[CV] C=100000.0, kernel=linear .......................................\n",
      "[CV] ........................ C=100000.0, kernel=linear, total= 1.3min\n",
      "[CV] C=100000.0, kernel=linear .......................................\n",
      "[CV] ........................ C=100000.0, kernel=linear, total= 1.2min\n"
     ]
    },
    {
     "name": "stderr",
     "output_type": "stream",
     "text": [
      "[Parallel(n_jobs=1)]: Done  70 out of  70 | elapsed: 26.6min finished\n"
     ]
    },
    {
     "data": {
      "text/plain": [
       "GridSearchCV(estimator=SVC(class_weight={0: 0.16666666666666666}),\n",
       "             param_grid=[{'C': [1, 10, 100, 1000], 'gamma': [0.001, 0.0001],\n",
       "                          'kernel': ['rbf']},\n",
       "                         {'C': [1, 10, 100, 1000.0, 10000.0, 100000.0],\n",
       "                          'kernel': ['linear']}],\n",
       "             verbose=2)"
      ]
     },
     "execution_count": 34,
     "metadata": {},
     "output_type": "execute_result"
    }
   ],
   "source": [
    "param_grid = [{'kernel': ['rbf'], 'gamma': [1e-3, 1e-4],\n",
    "                     'C': [1, 10, 100, 1000]},\n",
    "                    {'kernel': ['linear'], 'C': [1, 10, 100, 1e3,1e4,1e5]}]\n",
    "\n",
    "grid = GridSearchCV(SVC(class_weight={0:1/6}),param_grid,refit=True,verbose=2)\n",
    "grid.fit(X_train,y_train.ravel())"
   ]
  },
  {
   "cell_type": "code",
   "execution_count": 35,
   "metadata": {},
   "outputs": [
    {
     "name": "stdout",
     "output_type": "stream",
     "text": [
      "\n",
      "Hyperparameters for best estimator:  SVC(C=100000.0, class_weight={0: 0.16666666666666666}, kernel='linear')\n",
      "\n",
      "Grid SVM Accuracy: 0.9387175324675324\n",
      "\n",
      "Grid SVM Classification Report:\n",
      "              precision    recall  f1-score   support\n",
      "\n",
      "           0       0.99      0.93      0.96      8215\n",
      "           1       0.74      0.97      0.84      1641\n",
      "\n",
      "    accuracy                           0.94      9856\n",
      "   macro avg       0.87      0.95      0.90      9856\n",
      "weighted avg       0.95      0.94      0.94      9856\n",
      "\n"
     ]
    }
   ],
   "source": [
    "# evaluate the grid SVC model\n",
    "y_hat_grid = grid.predict(X_test)\n",
    "\n",
    "print('\\nHyperparameters for best estimator: ',grid.best_estimator_)\n",
    "\n",
    "print(\"\\nGrid SVM Accuracy:\",metrics.accuracy_score(y_test, y_hat_grid))\n",
    "\n",
    "print (\"\\nGrid SVM Classification Report:\")\n",
    "print(classification_report(y_test,y_hat_grid))"
   ]
  },
  {
   "cell_type": "markdown",
   "metadata": {},
   "source": [
    "By selecting hyperparameters of C=100000 and kernel=linear we can improve the accuracy of the SVC model to 94%, and, more importantly, improve the Recall metric for fraudulent transactions to 97%."
   ]
  },
  {
   "cell_type": "markdown",
   "metadata": {},
   "source": [
    "### Receiver Operating Characteristic\n",
    "Binary classification models can be compared using receiver operating characteristic (ROC) curves.\n",
    "Below I show how to get details of the confusion matrix and plot the ROC curve."
   ]
  },
  {
   "cell_type": "code",
   "execution_count": 36,
   "metadata": {},
   "outputs": [
    {
     "name": "stdout",
     "output_type": "stream",
     "text": [
      "\n",
      "Grid SVM Accuracy: 0.9387175324675324\n",
      "\n",
      "Grid SVM Precision: 0.7412750116333178\n",
      "\n",
      "Grid SVM Recall: 0.9707495429616088\n",
      "\n",
      "Grid SVM Confusion Matrix\n",
      " [[7659  556]\n",
      " [  48 1593]]\n"
     ]
    }
   ],
   "source": [
    "print(\"\\nGrid SVM Accuracy:\", metrics.accuracy_score(y_test, y_hat_grid))\n",
    "print(\"\\nGrid SVM Precision:\", metrics.precision_score(y_test, y_hat_grid))\n",
    "print(\"\\nGrid SVM Recall:\", metrics.recall_score(y_test, y_hat_grid))\n",
    "\n",
    "confusion_mtx = metrics.confusion_matrix(y_test, y_hat_grid)\n",
    "print(\"\\nGrid SVM Confusion Matrix\\n\",confusion_mtx)"
   ]
  },
  {
   "cell_type": "code",
   "execution_count": 37,
   "metadata": {},
   "outputs": [
    {
     "data": {
      "image/png": "[encoded data removed]",
      "text/plain": [
       "<Figure size 576x432 with 2 Axes>"
      ]
     },
     "metadata": {
      "needs_background": "light"
     },
     "output_type": "display_data"
    }
   ],
   "source": [
    "# the following function, from http://scikit-learn.org/stable/auto_examples/model_selection/plot_confusion_matrix.html\n",
    "# provides a more informative confusion matrix\n",
    "def plot_confusion_matrix(cm,\n",
    "                          target_names,\n",
    "                          title='Confusion matrix',\n",
    "                          cmap=None,\n",
    "                          normalize=True):\n",
    "\n",
    "    import matplotlib.pyplot as plt\n",
    "    import numpy as np\n",
    "    import itertools\n",
    "\n",
    "    accuracy = np.trace(cm) / float(np.sum(cm))\n",
    "    misclass = 1 - accuracy\n",
    "\n",
    "    if cmap is None:\n",
    "        cmap = plt.get_cmap('Blues')\n",
    "\n",
    "    plt.figure(figsize=(8, 6))\n",
    "    plt.imshow(cm, interpolation='nearest', cmap=cmap)\n",
    "    plt.title(title)\n",
    "    plt.colorbar()\n",
    "\n",
    "    if target_names is not None:\n",
    "        tick_marks = np.arange(len(target_names))\n",
    "        plt.xticks(tick_marks, target_names, rotation=45)\n",
    "        plt.yticks(tick_marks, target_names)\n",
    "\n",
    "    if normalize:\n",
    "        cm = cm.astype('float') / cm.sum(axis=1)[:, np.newaxis]\n",
    "\n",
    "\n",
    "    thresh = cm.max() / 1.5 if normalize else cm.max() / 2\n",
    "    for i, j in itertools.product(range(cm.shape[0]), range(cm.shape[1])):\n",
    "        if normalize:\n",
    "            plt.text(j, i, \"{:0.4f}\".format(cm[i, j]),\n",
    "                     horizontalalignment=\"center\",\n",
    "                     color=\"white\" if cm[i, j] > thresh else \"black\")\n",
    "        else:\n",
    "            plt.text(j, i, \"{:,}\".format(cm[i, j]),\n",
    "                     horizontalalignment=\"center\",\n",
    "                     color=\"white\" if cm[i, j] > thresh else \"black\")\n",
    "\n",
    "\n",
    "    plt.tight_layout()\n",
    "    plt.ylabel('True label')\n",
    "    plt.xlabel('Predicted label\\naccuracy={:0.4f}; misclass={:0.4f}'.format(accuracy, misclass))\n",
    "    plt.show()\n",
    "\n",
    "\n",
    "plot_confusion_matrix(confusion_mtx, \n",
    "                     normalize    = False,\n",
    "                     target_names = ['non-fraud', 'fraud'],\n",
    "                     title        = \"Grid SVM Confusion Matrix\")"
   ]
  },
  {
   "cell_type": "markdown",
   "metadata": {},
   "source": [
    "This confusion matrix indicates that of the 1,641 total True fraud transactions, the model predicted 48 as non-fraud and 1,593 as fraud. Recall is 0.970749, or 1,593 predicted fraud out of the 1,641 true cases."
   ]
  },
  {
   "cell_type": "code",
   "execution_count": 38,
   "metadata": {},
   "outputs": [
    {
     "data": {
      "image/png": "[encoded data removed]",
      "text/plain": [
       "<Figure size 432x288 with 1 Axes>"
      ]
     },
     "metadata": {
      "needs_background": "light"
     },
     "output_type": "display_data"
    }
   ],
   "source": [
    "# Plot the ROC curve\n",
    "roc = metrics.roc_auc_score(y_test, y_hat_grid) \n",
    "fpr, tpr, thresholds = metrics.roc_curve(y_test, y_hat_grid) \n",
    "roc_auc = auc(fpr,tpr)\n",
    "\n",
    "plt.title('SVM Receiver Operating Characteristic')\n",
    "plt.plot(fpr, tpr, 'b',label='AUC = %0.2f'% roc_auc)\n",
    "plt.legend(loc='lower right')\n",
    "plt.plot([0,1],[0,1],'r--')\n",
    "plt.xlim([-0.1,1.0])\n",
    "plt.ylim([-0.1,1.01])\n",
    "plt.ylabel('True Positive Rate')\n",
    "plt.xlabel('False Positive Rate')\n",
    "plt.show()"
   ]
  },
  {
   "cell_type": "markdown",
   "metadata": {},
   "source": [
    "### Logistic Regression \n",
    "Logistic regression is another popular model for binary classification. Again I will use a parameter grid and GridSearchCV to optimise the hyperparameters"
   ]
  },
  {
   "cell_type": "code",
   "execution_count": 39,
   "metadata": {},
   "outputs": [
    {
     "name": "stdout",
     "output_type": "stream",
     "text": [
      "Fitting 5 folds for each of 54 candidates, totalling 270 fits\n",
      "[CV] C=1, penalty=l2, solver=newton-cg ...............................\n",
      "[CV] ................ C=1, penalty=l2, solver=newton-cg, total=   0.1s\n",
      "[CV] C=1, penalty=l2, solver=newton-cg ...............................\n"
     ]
    },
    {
     "name": "stderr",
     "output_type": "stream",
     "text": [
      "[Parallel(n_jobs=1)]: Using backend SequentialBackend with 1 concurrent workers.\n",
      "[Parallel(n_jobs=1)]: Done   1 out of   1 | elapsed:    0.0s remaining:    0.0s\n"
     ]
    },
    {
     "name": "stdout",
     "output_type": "stream",
     "text": [
      "[CV] ................ C=1, penalty=l2, solver=newton-cg, total=   0.1s\n",
      "[CV] C=1, penalty=l2, solver=newton-cg ...............................\n",
      "[CV] ................ C=1, penalty=l2, solver=newton-cg, total=   0.1s\n",
      "[CV] C=1, penalty=l2, solver=newton-cg ...............................\n",
      "[CV] ................ C=1, penalty=l2, solver=newton-cg, total=   0.1s\n",
      "[CV] C=1, penalty=l2, solver=newton-cg ...............................\n",
      "[CV] ................ C=1, penalty=l2, solver=newton-cg, total=   0.1s\n",
      "[CV] C=1, penalty=l2, solver=lbfgs ...................................\n",
      "[CV] .................... C=1, penalty=l2, solver=lbfgs, total=   0.1s\n",
      "[CV] C=1, penalty=l2, solver=lbfgs ...................................\n",
      "[CV] .................... C=1, penalty=l2, solver=lbfgs, total=   0.1s\n",
      "[CV] C=1, penalty=l2, solver=lbfgs ...................................\n",
      "[CV] .................... C=1, penalty=l2, solver=lbfgs, total=   0.1s\n",
      "[CV] C=1, penalty=l2, solver=lbfgs ...................................\n",
      "[CV] .................... C=1, penalty=l2, solver=lbfgs, total=   0.1s\n",
      "[CV] C=1, penalty=l2, solver=lbfgs ...................................\n",
      "[CV] .................... C=1, penalty=l2, solver=lbfgs, total=   0.2s\n",
      "[CV] C=1, penalty=l2, solver=sag .....................................\n",
      "[CV] ...................... C=1, penalty=l2, solver=sag, total=   0.1s\n",
      "[CV] C=1, penalty=l2, solver=sag .....................................\n",
      "[CV] ...................... C=1, penalty=l2, solver=sag, total=   0.1s\n",
      "[CV] C=1, penalty=l2, solver=sag .....................................\n",
      "[CV] ...................... C=1, penalty=l2, solver=sag, total=   0.1s\n",
      "[CV] C=1, penalty=l2, solver=sag .....................................\n",
      "[CV] ...................... C=1, penalty=l2, solver=sag, total=   0.1s\n",
      "[CV] C=1, penalty=l2, solver=sag .....................................\n",
      "[CV] ...................... C=1, penalty=l2, solver=sag, total=   0.1s\n",
      "[CV] C=10, penalty=l2, solver=newton-cg ..............................\n",
      "[CV] ............... C=10, penalty=l2, solver=newton-cg, total=   0.2s\n",
      "[CV] C=10, penalty=l2, solver=newton-cg ..............................\n",
      "[CV] ............... C=10, penalty=l2, solver=newton-cg, total=   0.1s\n",
      "[CV] C=10, penalty=l2, solver=newton-cg ..............................\n",
      "[CV] ............... C=10, penalty=l2, solver=newton-cg, total=   0.2s\n",
      "[CV] C=10, penalty=l2, solver=newton-cg ..............................\n",
      "[CV] ............... C=10, penalty=l2, solver=newton-cg, total=   0.2s\n",
      "[CV] C=10, penalty=l2, solver=newton-cg ..............................\n",
      "[CV] ............... C=10, penalty=l2, solver=newton-cg, total=   0.2s\n",
      "[CV] C=10, penalty=l2, solver=lbfgs ..................................\n",
      "[CV] ................... C=10, penalty=l2, solver=lbfgs, total=   0.2s\n",
      "[CV] C=10, penalty=l2, solver=lbfgs ..................................\n",
      "[CV] ................... C=10, penalty=l2, solver=lbfgs, total=   0.2s\n",
      "[CV] C=10, penalty=l2, solver=lbfgs ..................................\n",
      "[CV] ................... C=10, penalty=l2, solver=lbfgs, total=   0.1s\n",
      "[CV] C=10, penalty=l2, solver=lbfgs ..................................\n",
      "[CV] ................... C=10, penalty=l2, solver=lbfgs, total=   0.2s\n",
      "[CV] C=10, penalty=l2, solver=lbfgs ..................................\n",
      "[CV] ................... C=10, penalty=l2, solver=lbfgs, total=   0.2s\n",
      "[CV] C=10, penalty=l2, solver=sag ....................................\n",
      "[CV] ..................... C=10, penalty=l2, solver=sag, total=   0.4s\n",
      "[CV] C=10, penalty=l2, solver=sag ....................................\n",
      "[CV] ..................... C=10, penalty=l2, solver=sag, total=   0.3s\n",
      "[CV] C=10, penalty=l2, solver=sag ....................................\n",
      "[CV] ..................... C=10, penalty=l2, solver=sag, total=   0.3s\n",
      "[CV] C=10, penalty=l2, solver=sag ....................................\n",
      "[CV] ..................... C=10, penalty=l2, solver=sag, total=   0.3s\n",
      "[CV] C=10, penalty=l2, solver=sag ....................................\n",
      "[CV] ..................... C=10, penalty=l2, solver=sag, total=   0.3s\n",
      "[CV] C=100, penalty=l2, solver=newton-cg .............................\n",
      "[CV] .............. C=100, penalty=l2, solver=newton-cg, total=   0.2s\n",
      "[CV] C=100, penalty=l2, solver=newton-cg .............................\n",
      "[CV] .............. C=100, penalty=l2, solver=newton-cg, total=   0.2s\n",
      "[CV] C=100, penalty=l2, solver=newton-cg .............................\n",
      "[CV] .............. C=100, penalty=l2, solver=newton-cg, total=   0.2s\n",
      "[CV] C=100, penalty=l2, solver=newton-cg .............................\n",
      "[CV] .............. C=100, penalty=l2, solver=newton-cg, total=   0.2s\n",
      "[CV] C=100, penalty=l2, solver=newton-cg .............................\n",
      "[CV] .............. C=100, penalty=l2, solver=newton-cg, total=   0.2s\n",
      "[CV] C=100, penalty=l2, solver=lbfgs .................................\n",
      "[CV] .................. C=100, penalty=l2, solver=lbfgs, total=   0.2s\n",
      "[CV] C=100, penalty=l2, solver=lbfgs .................................\n",
      "[CV] .................. C=100, penalty=l2, solver=lbfgs, total=   0.2s\n",
      "[CV] C=100, penalty=l2, solver=lbfgs .................................\n",
      "[CV] .................. C=100, penalty=l2, solver=lbfgs, total=   0.3s\n",
      "[CV] C=100, penalty=l2, solver=lbfgs .................................\n",
      "[CV] .................. C=100, penalty=l2, solver=lbfgs, total=   0.4s\n",
      "[CV] C=100, penalty=l2, solver=lbfgs .................................\n",
      "[CV] .................. C=100, penalty=l2, solver=lbfgs, total=   0.3s\n",
      "[CV] C=100, penalty=l2, solver=sag ...................................\n",
      "[CV] .................... C=100, penalty=l2, solver=sag, total=   1.7s\n",
      "[CV] C=100, penalty=l2, solver=sag ...................................\n",
      "[CV] .................... C=100, penalty=l2, solver=sag, total=   1.6s\n",
      "[CV] C=100, penalty=l2, solver=sag ...................................\n",
      "[CV] .................... C=100, penalty=l2, solver=sag, total=   1.9s\n",
      "[CV] C=100, penalty=l2, solver=sag ...................................\n",
      "[CV] .................... C=100, penalty=l2, solver=sag, total=   1.7s\n",
      "[CV] C=100, penalty=l2, solver=sag ...................................\n",
      "[CV] .................... C=100, penalty=l2, solver=sag, total=   1.7s\n",
      "[CV] C=1000.0, penalty=l2, solver=newton-cg ..........................\n",
      "[CV] ........... C=1000.0, penalty=l2, solver=newton-cg, total=   0.3s\n",
      "[CV] C=1000.0, penalty=l2, solver=newton-cg ..........................\n",
      "[CV] ........... C=1000.0, penalty=l2, solver=newton-cg, total=   0.3s\n",
      "[CV] C=1000.0, penalty=l2, solver=newton-cg ..........................\n",
      "[CV] ........... C=1000.0, penalty=l2, solver=newton-cg, total=   0.3s\n",
      "[CV] C=1000.0, penalty=l2, solver=newton-cg ..........................\n",
      "[CV] ........... C=1000.0, penalty=l2, solver=newton-cg, total=   0.3s\n",
      "[CV] C=1000.0, penalty=l2, solver=newton-cg ..........................\n",
      "[CV] ........... C=1000.0, penalty=l2, solver=newton-cg, total=   0.3s\n",
      "[CV] C=1000.0, penalty=l2, solver=lbfgs ..............................\n",
      "[CV] ............... C=1000.0, penalty=l2, solver=lbfgs, total=   0.4s\n",
      "[CV] C=1000.0, penalty=l2, solver=lbfgs ..............................\n",
      "[CV] ............... C=1000.0, penalty=l2, solver=lbfgs, total=   0.4s\n",
      "[CV] C=1000.0, penalty=l2, solver=lbfgs ..............................\n",
      "[CV] ............... C=1000.0, penalty=l2, solver=lbfgs, total=   0.6s\n",
      "[CV] C=1000.0, penalty=l2, solver=lbfgs ..............................\n",
      "[CV] ............... C=1000.0, penalty=l2, solver=lbfgs, total=   0.5s\n",
      "[CV] C=1000.0, penalty=l2, solver=lbfgs ..............................\n",
      "[CV] ............... C=1000.0, penalty=l2, solver=lbfgs, total=   0.5s\n",
      "[CV] C=1000.0, penalty=l2, solver=sag ................................\n"
     ]
    },
    {
     "name": "stderr",
     "output_type": "stream",
     "text": [
      "C:\\Users\\adria\\anaconda3\\envs\\tensorflow_env\\lib\\site-packages\\sklearn\\linear_model\\_sag.py:330: ConvergenceWarning: The max_iter was reached which means the coef_ did not converge\n",
      "  \"the coef_ did not converge\", ConvergenceWarning)\n"
     ]
    },
    {
     "name": "stdout",
     "output_type": "stream",
     "text": [
      "[CV] ................. C=1000.0, penalty=l2, solver=sag, total=   2.1s\n",
      "[CV] C=1000.0, penalty=l2, solver=sag ................................\n"
     ]
    },
    {
     "name": "stderr",
     "output_type": "stream",
     "text": [
      "C:\\Users\\adria\\anaconda3\\envs\\tensorflow_env\\lib\\site-packages\\sklearn\\linear_model\\_sag.py:330: ConvergenceWarning: The max_iter was reached which means the coef_ did not converge\n",
      "  \"the coef_ did not converge\", ConvergenceWarning)\n"
     ]
    },
    {
     "name": "stdout",
     "output_type": "stream",
     "text": [
      "[CV] ................. C=1000.0, penalty=l2, solver=sag, total=   2.1s\n",
      "[CV] C=1000.0, penalty=l2, solver=sag ................................\n"
     ]
    },
    {
     "name": "stderr",
     "output_type": "stream",
     "text": [
      "C:\\Users\\adria\\anaconda3\\envs\\tensorflow_env\\lib\\site-packages\\sklearn\\linear_model\\_sag.py:330: ConvergenceWarning: The max_iter was reached which means the coef_ did not converge\n",
      "  \"the coef_ did not converge\", ConvergenceWarning)\n"
     ]
    },
    {
     "name": "stdout",
     "output_type": "stream",
     "text": [
      "[CV] ................. C=1000.0, penalty=l2, solver=sag, total=   2.1s\n",
      "[CV] C=1000.0, penalty=l2, solver=sag ................................\n"
     ]
    },
    {
     "name": "stderr",
     "output_type": "stream",
     "text": [
      "C:\\Users\\adria\\anaconda3\\envs\\tensorflow_env\\lib\\site-packages\\sklearn\\linear_model\\_sag.py:330: ConvergenceWarning: The max_iter was reached which means the coef_ did not converge\n",
      "  \"the coef_ did not converge\", ConvergenceWarning)\n"
     ]
    },
    {
     "name": "stdout",
     "output_type": "stream",
     "text": [
      "[CV] ................. C=1000.0, penalty=l2, solver=sag, total=   2.3s\n",
      "[CV] C=1000.0, penalty=l2, solver=sag ................................\n",
      "[CV] ................. C=1000.0, penalty=l2, solver=sag, total=   2.1s\n",
      "[CV] C=10000.0, penalty=l2, solver=newton-cg .........................\n"
     ]
    },
    {
     "name": "stderr",
     "output_type": "stream",
     "text": [
      "C:\\Users\\adria\\anaconda3\\envs\\tensorflow_env\\lib\\site-packages\\sklearn\\linear_model\\_sag.py:330: ConvergenceWarning: The max_iter was reached which means the coef_ did not converge\n",
      "  \"the coef_ did not converge\", ConvergenceWarning)\n"
     ]
    },
    {
     "name": "stdout",
     "output_type": "stream",
     "text": [
      "[CV] .......... C=10000.0, penalty=l2, solver=newton-cg, total=   0.4s\n",
      "[CV] C=10000.0, penalty=l2, solver=newton-cg .........................\n",
      "[CV] .......... C=10000.0, penalty=l2, solver=newton-cg, total=   0.5s\n",
      "[CV] C=10000.0, penalty=l2, solver=newton-cg .........................\n",
      "[CV] .......... C=10000.0, penalty=l2, solver=newton-cg, total=   0.5s\n",
      "[CV] C=10000.0, penalty=l2, solver=newton-cg .........................\n",
      "[CV] .......... C=10000.0, penalty=l2, solver=newton-cg, total=   0.5s\n",
      "[CV] C=10000.0, penalty=l2, solver=newton-cg .........................\n",
      "[CV] .......... C=10000.0, penalty=l2, solver=newton-cg, total=   0.4s\n",
      "[CV] C=10000.0, penalty=l2, solver=lbfgs .............................\n",
      "[CV] .............. C=10000.0, penalty=l2, solver=lbfgs, total=   0.5s\n",
      "[CV] C=10000.0, penalty=l2, solver=lbfgs .............................\n",
      "[CV] .............. C=10000.0, penalty=l2, solver=lbfgs, total=   0.7s\n",
      "[CV] C=10000.0, penalty=l2, solver=lbfgs .............................\n",
      "[CV] .............. C=10000.0, penalty=l2, solver=lbfgs, total=   0.6s\n",
      "[CV] C=10000.0, penalty=l2, solver=lbfgs .............................\n"
     ]
    },
    {
     "name": "stderr",
     "output_type": "stream",
     "text": [
      "C:\\Users\\adria\\anaconda3\\envs\\tensorflow_env\\lib\\site-packages\\sklearn\\linear_model\\_logistic.py:764: ConvergenceWarning: lbfgs failed to converge (status=1):\n",
      "STOP: TOTAL NO. of ITERATIONS REACHED LIMIT.\n",
      "\n",
      "Increase the number of iterations (max_iter) or scale the data as shown in:\n",
      "    https://scikit-learn.org/stable/modules/preprocessing.html\n",
      "Please also refer to the documentation for alternative solver options:\n",
      "    https://scikit-learn.org/stable/modules/linear_model.html#logistic-regression\n",
      "  extra_warning_msg=_LOGISTIC_SOLVER_CONVERGENCE_MSG)\n"
     ]
    },
    {
     "name": "stdout",
     "output_type": "stream",
     "text": [
      "[CV] .............. C=10000.0, penalty=l2, solver=lbfgs, total=   0.8s\n",
      "[CV] C=10000.0, penalty=l2, solver=lbfgs .............................\n",
      "[CV] .............. C=10000.0, penalty=l2, solver=lbfgs, total=   0.6s\n",
      "[CV] C=10000.0, penalty=l2, solver=sag ...............................\n"
     ]
    },
    {
     "name": "stderr",
     "output_type": "stream",
     "text": [
      "C:\\Users\\adria\\anaconda3\\envs\\tensorflow_env\\lib\\site-packages\\sklearn\\linear_model\\_sag.py:330: ConvergenceWarning: The max_iter was reached which means the coef_ did not converge\n",
      "  \"the coef_ did not converge\", ConvergenceWarning)\n"
     ]
    },
    {
     "name": "stdout",
     "output_type": "stream",
     "text": [
      "[CV] ................ C=10000.0, penalty=l2, solver=sag, total=   2.1s\n",
      "[CV] C=10000.0, penalty=l2, solver=sag ...............................\n"
     ]
    },
    {
     "name": "stderr",
     "output_type": "stream",
     "text": [
      "C:\\Users\\adria\\anaconda3\\envs\\tensorflow_env\\lib\\site-packages\\sklearn\\linear_model\\_sag.py:330: ConvergenceWarning: The max_iter was reached which means the coef_ did not converge\n",
      "  \"the coef_ did not converge\", ConvergenceWarning)\n"
     ]
    },
    {
     "name": "stdout",
     "output_type": "stream",
     "text": [
      "[CV] ................ C=10000.0, penalty=l2, solver=sag, total=   2.1s\n",
      "[CV] C=10000.0, penalty=l2, solver=sag ...............................\n"
     ]
    },
    {
     "name": "stderr",
     "output_type": "stream",
     "text": [
      "C:\\Users\\adria\\anaconda3\\envs\\tensorflow_env\\lib\\site-packages\\sklearn\\linear_model\\_sag.py:330: ConvergenceWarning: The max_iter was reached which means the coef_ did not converge\n",
      "  \"the coef_ did not converge\", ConvergenceWarning)\n"
     ]
    },
    {
     "name": "stdout",
     "output_type": "stream",
     "text": [
      "[CV] ................ C=10000.0, penalty=l2, solver=sag, total=   2.6s\n",
      "[CV] C=10000.0, penalty=l2, solver=sag ...............................\n"
     ]
    },
    {
     "name": "stderr",
     "output_type": "stream",
     "text": [
      "C:\\Users\\adria\\anaconda3\\envs\\tensorflow_env\\lib\\site-packages\\sklearn\\linear_model\\_sag.py:330: ConvergenceWarning: The max_iter was reached which means the coef_ did not converge\n",
      "  \"the coef_ did not converge\", ConvergenceWarning)\n"
     ]
    },
    {
     "name": "stdout",
     "output_type": "stream",
     "text": [
      "[CV] ................ C=10000.0, penalty=l2, solver=sag, total=   2.3s\n",
      "[CV] C=10000.0, penalty=l2, solver=sag ...............................\n"
     ]
    },
    {
     "name": "stderr",
     "output_type": "stream",
     "text": [
      "C:\\Users\\adria\\anaconda3\\envs\\tensorflow_env\\lib\\site-packages\\sklearn\\linear_model\\_sag.py:330: ConvergenceWarning: The max_iter was reached which means the coef_ did not converge\n",
      "  \"the coef_ did not converge\", ConvergenceWarning)\n"
     ]
    },
    {
     "name": "stdout",
     "output_type": "stream",
     "text": [
      "[CV] ................ C=10000.0, penalty=l2, solver=sag, total=   2.1s\n",
      "[CV] C=100000.0, penalty=l2, solver=newton-cg ........................\n",
      "[CV] ......... C=100000.0, penalty=l2, solver=newton-cg, total=   0.5s\n",
      "[CV] C=100000.0, penalty=l2, solver=newton-cg ........................\n",
      "[CV] ......... C=100000.0, penalty=l2, solver=newton-cg, total=   0.6s\n",
      "[CV] C=100000.0, penalty=l2, solver=newton-cg ........................\n",
      "[CV] ......... C=100000.0, penalty=l2, solver=newton-cg, total=   0.7s\n",
      "[CV] C=100000.0, penalty=l2, solver=newton-cg ........................\n",
      "[CV] ......... C=100000.0, penalty=l2, solver=newton-cg, total=   0.7s\n",
      "[CV] C=100000.0, penalty=l2, solver=newton-cg ........................\n",
      "[CV] ......... C=100000.0, penalty=l2, solver=newton-cg, total=   0.7s\n",
      "[CV] C=100000.0, penalty=l2, solver=lbfgs ............................\n",
      "[CV] ............. C=100000.0, penalty=l2, solver=lbfgs, total=   0.5s\n",
      "[CV] C=100000.0, penalty=l2, solver=lbfgs ............................\n",
      "[CV] ............. C=100000.0, penalty=l2, solver=lbfgs, total=   0.7s\n",
      "[CV] C=100000.0, penalty=l2, solver=lbfgs ............................\n",
      "[CV] ............. C=100000.0, penalty=l2, solver=lbfgs, total=   0.4s\n",
      "[CV] C=100000.0, penalty=l2, solver=lbfgs ............................\n",
      "[CV] ............. C=100000.0, penalty=l2, solver=lbfgs, total=   0.6s\n",
      "[CV] C=100000.0, penalty=l2, solver=lbfgs ............................\n",
      "[CV] ............. C=100000.0, penalty=l2, solver=lbfgs, total=   0.4s\n",
      "[CV] C=100000.0, penalty=l2, solver=sag ..............................\n"
     ]
    },
    {
     "name": "stderr",
     "output_type": "stream",
     "text": [
      "C:\\Users\\adria\\anaconda3\\envs\\tensorflow_env\\lib\\site-packages\\sklearn\\linear_model\\_sag.py:330: ConvergenceWarning: The max_iter was reached which means the coef_ did not converge\n",
      "  \"the coef_ did not converge\", ConvergenceWarning)\n"
     ]
    },
    {
     "name": "stdout",
     "output_type": "stream",
     "text": [
      "[CV] ............... C=100000.0, penalty=l2, solver=sag, total=   2.1s\n",
      "[CV] C=100000.0, penalty=l2, solver=sag ..............................\n"
     ]
    },
    {
     "name": "stderr",
     "output_type": "stream",
     "text": [
      "C:\\Users\\adria\\anaconda3\\envs\\tensorflow_env\\lib\\site-packages\\sklearn\\linear_model\\_sag.py:330: ConvergenceWarning: The max_iter was reached which means the coef_ did not converge\n",
      "  \"the coef_ did not converge\", ConvergenceWarning)\n"
     ]
    },
    {
     "name": "stdout",
     "output_type": "stream",
     "text": [
      "[CV] ............... C=100000.0, penalty=l2, solver=sag, total=   2.0s\n",
      "[CV] C=100000.0, penalty=l2, solver=sag ..............................\n"
     ]
    },
    {
     "name": "stderr",
     "output_type": "stream",
     "text": [
      "C:\\Users\\adria\\anaconda3\\envs\\tensorflow_env\\lib\\site-packages\\sklearn\\linear_model\\_sag.py:330: ConvergenceWarning: The max_iter was reached which means the coef_ did not converge\n",
      "  \"the coef_ did not converge\", ConvergenceWarning)\n"
     ]
    },
    {
     "name": "stdout",
     "output_type": "stream",
     "text": [
      "[CV] ............... C=100000.0, penalty=l2, solver=sag, total=   2.2s\n",
      "[CV] C=100000.0, penalty=l2, solver=sag ..............................\n"
     ]
    },
    {
     "name": "stderr",
     "output_type": "stream",
     "text": [
      "C:\\Users\\adria\\anaconda3\\envs\\tensorflow_env\\lib\\site-packages\\sklearn\\linear_model\\_sag.py:330: ConvergenceWarning: The max_iter was reached which means the coef_ did not converge\n",
      "  \"the coef_ did not converge\", ConvergenceWarning)\n"
     ]
    },
    {
     "name": "stdout",
     "output_type": "stream",
     "text": [
      "[CV] ............... C=100000.0, penalty=l2, solver=sag, total=   2.1s\n",
      "[CV] C=100000.0, penalty=l2, solver=sag ..............................\n"
     ]
    },
    {
     "name": "stderr",
     "output_type": "stream",
     "text": [
      "C:\\Users\\adria\\anaconda3\\envs\\tensorflow_env\\lib\\site-packages\\sklearn\\linear_model\\_sag.py:330: ConvergenceWarning: The max_iter was reached which means the coef_ did not converge\n",
      "  \"the coef_ did not converge\", ConvergenceWarning)\n"
     ]
    },
    {
     "name": "stdout",
     "output_type": "stream",
     "text": [
      "[CV] ............... C=100000.0, penalty=l2, solver=sag, total=   2.1s\n",
      "[CV] C=1, penalty=l1, solver=liblinear ...............................\n",
      "[CV] ................ C=1, penalty=l1, solver=liblinear, total=   0.1s\n",
      "[CV] C=1, penalty=l1, solver=liblinear ...............................\n",
      "[CV] ................ C=1, penalty=l1, solver=liblinear, total=   0.1s\n",
      "[CV] C=1, penalty=l1, solver=liblinear ...............................\n",
      "[CV] ................ C=1, penalty=l1, solver=liblinear, total=   0.2s\n",
      "[CV] C=1, penalty=l1, solver=liblinear ...............................\n",
      "[CV] ................ C=1, penalty=l1, solver=liblinear, total=   0.1s\n",
      "[CV] C=1, penalty=l1, solver=liblinear ...............................\n",
      "[CV] ................ C=1, penalty=l1, solver=liblinear, total=   0.1s\n",
      "[CV] C=1, penalty=l2, solver=liblinear ...............................\n",
      "[CV] ................ C=1, penalty=l2, solver=liblinear, total=   0.1s\n",
      "[CV] C=1, penalty=l2, solver=liblinear ...............................\n",
      "[CV] ................ C=1, penalty=l2, solver=liblinear, total=   0.1s\n",
      "[CV] C=1, penalty=l2, solver=liblinear ...............................\n",
      "[CV] ................ C=1, penalty=l2, solver=liblinear, total=   0.1s\n",
      "[CV] C=1, penalty=l2, solver=liblinear ...............................\n",
      "[CV] ................ C=1, penalty=l2, solver=liblinear, total=   0.1s\n",
      "[CV] C=1, penalty=l2, solver=liblinear ...............................\n",
      "[CV] ................ C=1, penalty=l2, solver=liblinear, total=   0.1s\n",
      "[CV] C=10, penalty=l1, solver=liblinear ..............................\n",
      "[CV] ............... C=10, penalty=l1, solver=liblinear, total=   0.8s\n",
      "[CV] C=10, penalty=l1, solver=liblinear ..............................\n",
      "[CV] ............... C=10, penalty=l1, solver=liblinear, total=   0.4s\n",
      "[CV] C=10, penalty=l1, solver=liblinear ..............................\n",
      "[CV] ............... C=10, penalty=l1, solver=liblinear, total=   1.0s\n",
      "[CV] C=10, penalty=l1, solver=liblinear ..............................\n",
      "[CV] ............... C=10, penalty=l1, solver=liblinear, total=   0.2s\n",
      "[CV] C=10, penalty=l1, solver=liblinear ..............................\n",
      "[CV] ............... C=10, penalty=l1, solver=liblinear, total=   0.3s\n",
      "[CV] C=10, penalty=l2, solver=liblinear ..............................\n",
      "[CV] ............... C=10, penalty=l2, solver=liblinear, total=   0.1s\n",
      "[CV] C=10, penalty=l2, solver=liblinear ..............................\n",
      "[CV] ............... C=10, penalty=l2, solver=liblinear, total=   0.1s\n",
      "[CV] C=10, penalty=l2, solver=liblinear ..............................\n",
      "[CV] ............... C=10, penalty=l2, solver=liblinear, total=   0.1s\n",
      "[CV] C=10, penalty=l2, solver=liblinear ..............................\n",
      "[CV] ............... C=10, penalty=l2, solver=liblinear, total=   0.1s\n",
      "[CV] C=10, penalty=l2, solver=liblinear ..............................\n",
      "[CV] ............... C=10, penalty=l2, solver=liblinear, total=   0.1s\n",
      "[CV] C=100, penalty=l1, solver=liblinear .............................\n",
      "[CV] .............. C=100, penalty=l1, solver=liblinear, total=   4.0s\n",
      "[CV] C=100, penalty=l1, solver=liblinear .............................\n",
      "[CV] .............. C=100, penalty=l1, solver=liblinear, total=   1.6s\n",
      "[CV] C=100, penalty=l1, solver=liblinear .............................\n",
      "[CV] .............. C=100, penalty=l1, solver=liblinear, total=   3.9s\n",
      "[CV] C=100, penalty=l1, solver=liblinear .............................\n",
      "[CV] .............. C=100, penalty=l1, solver=liblinear, total=   3.0s\n",
      "[CV] C=100, penalty=l1, solver=liblinear .............................\n",
      "[CV] .............. C=100, penalty=l1, solver=liblinear, total=   3.0s\n",
      "[CV] C=100, penalty=l2, solver=liblinear .............................\n",
      "[CV] .............. C=100, penalty=l2, solver=liblinear, total=   0.1s\n",
      "[CV] C=100, penalty=l2, solver=liblinear .............................\n",
      "[CV] .............. C=100, penalty=l2, solver=liblinear, total=   0.1s\n",
      "[CV] C=100, penalty=l2, solver=liblinear .............................\n",
      "[CV] .............. C=100, penalty=l2, solver=liblinear, total=   0.1s\n",
      "[CV] C=100, penalty=l2, solver=liblinear .............................\n",
      "[CV] .............. C=100, penalty=l2, solver=liblinear, total=   0.1s\n",
      "[CV] C=100, penalty=l2, solver=liblinear .............................\n",
      "[CV] .............. C=100, penalty=l2, solver=liblinear, total=   0.1s\n",
      "[CV] C=1000.0, penalty=l1, solver=liblinear ..........................\n",
      "[CV] ........... C=1000.0, penalty=l1, solver=liblinear, total=   3.4s\n",
      "[CV] C=1000.0, penalty=l1, solver=liblinear ..........................\n",
      "[CV] ........... C=1000.0, penalty=l1, solver=liblinear, total=   1.6s\n",
      "[CV] C=1000.0, penalty=l1, solver=liblinear ..........................\n",
      "[CV] ........... C=1000.0, penalty=l1, solver=liblinear, total=   4.2s\n",
      "[CV] C=1000.0, penalty=l1, solver=liblinear ..........................\n",
      "[CV] ........... C=1000.0, penalty=l1, solver=liblinear, total=   0.8s\n",
      "[CV] C=1000.0, penalty=l1, solver=liblinear ..........................\n",
      "[CV] ........... C=1000.0, penalty=l1, solver=liblinear, total=   3.4s\n",
      "[CV] C=1000.0, penalty=l2, solver=liblinear ..........................\n",
      "[CV] ........... C=1000.0, penalty=l2, solver=liblinear, total=   0.1s\n",
      "[CV] C=1000.0, penalty=l2, solver=liblinear ..........................\n",
      "[CV] ........... C=1000.0, penalty=l2, solver=liblinear, total=   0.1s\n",
      "[CV] C=1000.0, penalty=l2, solver=liblinear ..........................\n",
      "[CV] ........... C=1000.0, penalty=l2, solver=liblinear, total=   0.2s\n",
      "[CV] C=1000.0, penalty=l2, solver=liblinear ..........................\n",
      "[CV] ........... C=1000.0, penalty=l2, solver=liblinear, total=   0.2s\n",
      "[CV] C=1000.0, penalty=l2, solver=liblinear ..........................\n",
      "[CV] ........... C=1000.0, penalty=l2, solver=liblinear, total=   0.2s\n",
      "[CV] C=10000.0, penalty=l1, solver=liblinear .........................\n",
      "[CV] .......... C=10000.0, penalty=l1, solver=liblinear, total=   3.3s\n",
      "[CV] C=10000.0, penalty=l1, solver=liblinear .........................\n",
      "[CV] .......... C=10000.0, penalty=l1, solver=liblinear, total=   1.6s\n",
      "[CV] C=10000.0, penalty=l1, solver=liblinear .........................\n",
      "[CV] .......... C=10000.0, penalty=l1, solver=liblinear, total=   4.0s\n",
      "[CV] C=10000.0, penalty=l1, solver=liblinear .........................\n",
      "[CV] .......... C=10000.0, penalty=l1, solver=liblinear, total=   2.5s\n",
      "[CV] C=10000.0, penalty=l1, solver=liblinear .........................\n",
      "[CV] .......... C=10000.0, penalty=l1, solver=liblinear, total=   2.4s\n",
      "[CV] C=10000.0, penalty=l2, solver=liblinear .........................\n",
      "[CV] .......... C=10000.0, penalty=l2, solver=liblinear, total=   0.3s\n",
      "[CV] C=10000.0, penalty=l2, solver=liblinear .........................\n",
      "[CV] .......... C=10000.0, penalty=l2, solver=liblinear, total=   0.1s\n",
      "[CV] C=10000.0, penalty=l2, solver=liblinear .........................\n",
      "[CV] .......... C=10000.0, penalty=l2, solver=liblinear, total=   0.4s\n",
      "[CV] C=10000.0, penalty=l2, solver=liblinear .........................\n",
      "[CV] .......... C=10000.0, penalty=l2, solver=liblinear, total=   0.3s\n",
      "[CV] C=10000.0, penalty=l2, solver=liblinear .........................\n",
      "[CV] .......... C=10000.0, penalty=l2, solver=liblinear, total=   0.3s\n",
      "[CV] C=100000.0, penalty=l1, solver=liblinear ........................\n",
      "[CV] ......... C=100000.0, penalty=l1, solver=liblinear, total=   3.1s\n",
      "[CV] C=100000.0, penalty=l1, solver=liblinear ........................\n",
      "[CV] ......... C=100000.0, penalty=l1, solver=liblinear, total=   1.8s\n",
      "[CV] C=100000.0, penalty=l1, solver=liblinear ........................\n",
      "[CV] ......... C=100000.0, penalty=l1, solver=liblinear, total=   4.5s\n",
      "[CV] C=100000.0, penalty=l1, solver=liblinear ........................\n",
      "[CV] ......... C=100000.0, penalty=l1, solver=liblinear, total=   1.9s\n",
      "[CV] C=100000.0, penalty=l1, solver=liblinear ........................\n",
      "[CV] ......... C=100000.0, penalty=l1, solver=liblinear, total=   2.9s\n",
      "[CV] C=100000.0, penalty=l2, solver=liblinear ........................\n",
      "[CV] ......... C=100000.0, penalty=l2, solver=liblinear, total=   0.3s\n",
      "[CV] C=100000.0, penalty=l2, solver=liblinear ........................\n",
      "[CV] ......... C=100000.0, penalty=l2, solver=liblinear, total=   0.2s\n",
      "[CV] C=100000.0, penalty=l2, solver=liblinear ........................\n"
     ]
    },
    {
     "name": "stdout",
     "output_type": "stream",
     "text": [
      "[CV] ......... C=100000.0, penalty=l2, solver=liblinear, total=   0.2s\n",
      "[CV] C=100000.0, penalty=l2, solver=liblinear ........................\n",
      "[CV] ......... C=100000.0, penalty=l2, solver=liblinear, total=   0.3s\n",
      "[CV] C=100000.0, penalty=l2, solver=liblinear ........................\n",
      "[CV] ......... C=100000.0, penalty=l2, solver=liblinear, total=   0.3s\n",
      "[CV] C=1, penalty=l1, solver=saga ....................................\n"
     ]
    },
    {
     "name": "stderr",
     "output_type": "stream",
     "text": [
      "C:\\Users\\adria\\anaconda3\\envs\\tensorflow_env\\lib\\site-packages\\sklearn\\linear_model\\_sag.py:330: ConvergenceWarning: The max_iter was reached which means the coef_ did not converge\n",
      "  \"the coef_ did not converge\", ConvergenceWarning)\n"
     ]
    },
    {
     "name": "stdout",
     "output_type": "stream",
     "text": [
      "[CV] ..................... C=1, penalty=l1, solver=saga, total=   2.7s\n",
      "[CV] C=1, penalty=l1, solver=saga ....................................\n"
     ]
    },
    {
     "name": "stderr",
     "output_type": "stream",
     "text": [
      "C:\\Users\\adria\\anaconda3\\envs\\tensorflow_env\\lib\\site-packages\\sklearn\\linear_model\\_sag.py:330: ConvergenceWarning: The max_iter was reached which means the coef_ did not converge\n",
      "  \"the coef_ did not converge\", ConvergenceWarning)\n"
     ]
    },
    {
     "name": "stdout",
     "output_type": "stream",
     "text": [
      "[CV] ..................... C=1, penalty=l1, solver=saga, total=   2.6s\n",
      "[CV] C=1, penalty=l1, solver=saga ....................................\n"
     ]
    },
    {
     "name": "stderr",
     "output_type": "stream",
     "text": [
      "C:\\Users\\adria\\anaconda3\\envs\\tensorflow_env\\lib\\site-packages\\sklearn\\linear_model\\_sag.py:330: ConvergenceWarning: The max_iter was reached which means the coef_ did not converge\n",
      "  \"the coef_ did not converge\", ConvergenceWarning)\n"
     ]
    },
    {
     "name": "stdout",
     "output_type": "stream",
     "text": [
      "[CV] ..................... C=1, penalty=l1, solver=saga, total=   2.7s\n",
      "[CV] C=1, penalty=l1, solver=saga ....................................\n"
     ]
    },
    {
     "name": "stderr",
     "output_type": "stream",
     "text": [
      "C:\\Users\\adria\\anaconda3\\envs\\tensorflow_env\\lib\\site-packages\\sklearn\\linear_model\\_sag.py:330: ConvergenceWarning: The max_iter was reached which means the coef_ did not converge\n",
      "  \"the coef_ did not converge\", ConvergenceWarning)\n"
     ]
    },
    {
     "name": "stdout",
     "output_type": "stream",
     "text": [
      "[CV] ..................... C=1, penalty=l1, solver=saga, total=   2.9s\n",
      "[CV] C=1, penalty=l1, solver=saga ....................................\n"
     ]
    },
    {
     "name": "stderr",
     "output_type": "stream",
     "text": [
      "C:\\Users\\adria\\anaconda3\\envs\\tensorflow_env\\lib\\site-packages\\sklearn\\linear_model\\_sag.py:330: ConvergenceWarning: The max_iter was reached which means the coef_ did not converge\n",
      "  \"the coef_ did not converge\", ConvergenceWarning)\n"
     ]
    },
    {
     "name": "stdout",
     "output_type": "stream",
     "text": [
      "[CV] ..................... C=1, penalty=l1, solver=saga, total=   2.7s\n",
      "[CV] C=1, penalty=l2, solver=saga ....................................\n",
      "[CV] ..................... C=1, penalty=l2, solver=saga, total=   0.2s\n",
      "[CV] C=1, penalty=l2, solver=saga ....................................\n",
      "[CV] ..................... C=1, penalty=l2, solver=saga, total=   0.2s\n",
      "[CV] C=1, penalty=l2, solver=saga ....................................\n",
      "[CV] ..................... C=1, penalty=l2, solver=saga, total=   0.2s\n",
      "[CV] C=1, penalty=l2, solver=saga ....................................\n",
      "[CV] ..................... C=1, penalty=l2, solver=saga, total=   0.2s\n",
      "[CV] C=1, penalty=l2, solver=saga ....................................\n",
      "[CV] ..................... C=1, penalty=l2, solver=saga, total=   0.2s\n",
      "[CV] C=1, penalty=elasticnet, solver=saga ............................\n",
      "[CV] ............. C=1, penalty=elasticnet, solver=saga, total=   0.0s\n",
      "[CV] C=1, penalty=elasticnet, solver=saga ............................\n",
      "[CV] ............. C=1, penalty=elasticnet, solver=saga, total=   0.0s\n",
      "[CV] C=1, penalty=elasticnet, solver=saga ............................\n",
      "[CV] ............. C=1, penalty=elasticnet, solver=saga, total=   0.0s\n",
      "[CV] C=1, penalty=elasticnet, solver=saga ............................\n",
      "[CV] ............. C=1, penalty=elasticnet, solver=saga, total=   0.0s\n",
      "[CV] C=1, penalty=elasticnet, solver=saga ............................\n",
      "[CV] ............. C=1, penalty=elasticnet, solver=saga, total=   0.0s\n",
      "[CV] C=1, penalty=none, solver=saga ..................................\n"
     ]
    },
    {
     "name": "stderr",
     "output_type": "stream",
     "text": [
      "C:\\Users\\adria\\anaconda3\\envs\\tensorflow_env\\lib\\site-packages\\sklearn\\model_selection\\_validation.py:552: FitFailedWarning: Estimator fit failed. The score on this train-test partition for these parameters will be set to nan. Details: \n",
      "Traceback (most recent call last):\n",
      "  File \"C:\\Users\\adria\\anaconda3\\envs\\tensorflow_env\\lib\\site-packages\\sklearn\\model_selection\\_validation.py\", line 531, in _fit_and_score\n",
      "    estimator.fit(X_train, y_train, **fit_params)\n",
      "  File \"C:\\Users\\adria\\anaconda3\\envs\\tensorflow_env\\lib\\site-packages\\sklearn\\linear_model\\_logistic.py\", line 1313, in fit\n",
      "    \" got (l1_ratio=%r)\" % self.l1_ratio)\n",
      "ValueError: l1_ratio must be between 0 and 1; got (l1_ratio=None)\n",
      "\n",
      "  FitFailedWarning)\n",
      "C:\\Users\\adria\\anaconda3\\envs\\tensorflow_env\\lib\\site-packages\\sklearn\\linear_model\\_sag.py:330: ConvergenceWarning: The max_iter was reached which means the coef_ did not converge\n",
      "  \"the coef_ did not converge\", ConvergenceWarning)\n"
     ]
    },
    {
     "name": "stdout",
     "output_type": "stream",
     "text": [
      "[CV] ................... C=1, penalty=none, solver=saga, total=   2.3s\n",
      "[CV] C=1, penalty=none, solver=saga ..................................\n"
     ]
    },
    {
     "name": "stderr",
     "output_type": "stream",
     "text": [
      "C:\\Users\\adria\\anaconda3\\envs\\tensorflow_env\\lib\\site-packages\\sklearn\\linear_model\\_sag.py:330: ConvergenceWarning: The max_iter was reached which means the coef_ did not converge\n",
      "  \"the coef_ did not converge\", ConvergenceWarning)\n"
     ]
    },
    {
     "name": "stdout",
     "output_type": "stream",
     "text": [
      "[CV] ................... C=1, penalty=none, solver=saga, total=   2.3s\n",
      "[CV] C=1, penalty=none, solver=saga ..................................\n"
     ]
    },
    {
     "name": "stderr",
     "output_type": "stream",
     "text": [
      "C:\\Users\\adria\\anaconda3\\envs\\tensorflow_env\\lib\\site-packages\\sklearn\\linear_model\\_sag.py:330: ConvergenceWarning: The max_iter was reached which means the coef_ did not converge\n",
      "  \"the coef_ did not converge\", ConvergenceWarning)\n"
     ]
    },
    {
     "name": "stdout",
     "output_type": "stream",
     "text": [
      "[CV] ................... C=1, penalty=none, solver=saga, total=   2.3s\n",
      "[CV] C=1, penalty=none, solver=saga ..................................\n"
     ]
    },
    {
     "name": "stderr",
     "output_type": "stream",
     "text": [
      "C:\\Users\\adria\\anaconda3\\envs\\tensorflow_env\\lib\\site-packages\\sklearn\\linear_model\\_sag.py:330: ConvergenceWarning: The max_iter was reached which means the coef_ did not converge\n",
      "  \"the coef_ did not converge\", ConvergenceWarning)\n"
     ]
    },
    {
     "name": "stdout",
     "output_type": "stream",
     "text": [
      "[CV] ................... C=1, penalty=none, solver=saga, total=   2.4s\n",
      "[CV] C=1, penalty=none, solver=saga ..................................\n"
     ]
    },
    {
     "name": "stderr",
     "output_type": "stream",
     "text": [
      "C:\\Users\\adria\\anaconda3\\envs\\tensorflow_env\\lib\\site-packages\\sklearn\\linear_model\\_sag.py:330: ConvergenceWarning: The max_iter was reached which means the coef_ did not converge\n",
      "  \"the coef_ did not converge\", ConvergenceWarning)\n"
     ]
    },
    {
     "name": "stdout",
     "output_type": "stream",
     "text": [
      "[CV] ................... C=1, penalty=none, solver=saga, total=   2.5s\n",
      "[CV] C=10, penalty=l1, solver=saga ...................................\n"
     ]
    },
    {
     "name": "stderr",
     "output_type": "stream",
     "text": [
      "C:\\Users\\adria\\anaconda3\\envs\\tensorflow_env\\lib\\site-packages\\sklearn\\linear_model\\_sag.py:330: ConvergenceWarning: The max_iter was reached which means the coef_ did not converge\n",
      "  \"the coef_ did not converge\", ConvergenceWarning)\n"
     ]
    },
    {
     "name": "stdout",
     "output_type": "stream",
     "text": [
      "[CV] .................... C=10, penalty=l1, solver=saga, total=   2.7s\n",
      "[CV] C=10, penalty=l1, solver=saga ...................................\n"
     ]
    },
    {
     "name": "stderr",
     "output_type": "stream",
     "text": [
      "C:\\Users\\adria\\anaconda3\\envs\\tensorflow_env\\lib\\site-packages\\sklearn\\linear_model\\_sag.py:330: ConvergenceWarning: The max_iter was reached which means the coef_ did not converge\n",
      "  \"the coef_ did not converge\", ConvergenceWarning)\n"
     ]
    },
    {
     "name": "stdout",
     "output_type": "stream",
     "text": [
      "[CV] .................... C=10, penalty=l1, solver=saga, total=   2.7s\n",
      "[CV] C=10, penalty=l1, solver=saga ...................................\n"
     ]
    },
    {
     "name": "stderr",
     "output_type": "stream",
     "text": [
      "C:\\Users\\adria\\anaconda3\\envs\\tensorflow_env\\lib\\site-packages\\sklearn\\linear_model\\_sag.py:330: ConvergenceWarning: The max_iter was reached which means the coef_ did not converge\n",
      "  \"the coef_ did not converge\", ConvergenceWarning)\n"
     ]
    },
    {
     "name": "stdout",
     "output_type": "stream",
     "text": [
      "[CV] .................... C=10, penalty=l1, solver=saga, total=   2.7s\n",
      "[CV] C=10, penalty=l1, solver=saga ...................................\n"
     ]
    },
    {
     "name": "stderr",
     "output_type": "stream",
     "text": [
      "C:\\Users\\adria\\anaconda3\\envs\\tensorflow_env\\lib\\site-packages\\sklearn\\linear_model\\_sag.py:330: ConvergenceWarning: The max_iter was reached which means the coef_ did not converge\n",
      "  \"the coef_ did not converge\", ConvergenceWarning)\n"
     ]
    },
    {
     "name": "stdout",
     "output_type": "stream",
     "text": [
      "[CV] .................... C=10, penalty=l1, solver=saga, total=   2.7s\n",
      "[CV] C=10, penalty=l1, solver=saga ...................................\n"
     ]
    },
    {
     "name": "stderr",
     "output_type": "stream",
     "text": [
      "C:\\Users\\adria\\anaconda3\\envs\\tensorflow_env\\lib\\site-packages\\sklearn\\linear_model\\_sag.py:330: ConvergenceWarning: The max_iter was reached which means the coef_ did not converge\n",
      "  \"the coef_ did not converge\", ConvergenceWarning)\n"
     ]
    },
    {
     "name": "stdout",
     "output_type": "stream",
     "text": [
      "[CV] .................... C=10, penalty=l1, solver=saga, total=   3.5s\n",
      "[CV] C=10, penalty=l2, solver=saga ...................................\n",
      "[CV] .................... C=10, penalty=l2, solver=saga, total=   1.0s\n",
      "[CV] C=10, penalty=l2, solver=saga ...................................\n",
      "[CV] .................... C=10, penalty=l2, solver=saga, total=   1.0s\n",
      "[CV] C=10, penalty=l2, solver=saga ...................................\n",
      "[CV] .................... C=10, penalty=l2, solver=saga, total=   0.7s\n",
      "[CV] C=10, penalty=l2, solver=saga ...................................\n",
      "[CV] .................... C=10, penalty=l2, solver=saga, total=   0.7s\n",
      "[CV] C=10, penalty=l2, solver=saga ...................................\n",
      "[CV] .................... C=10, penalty=l2, solver=saga, total=   0.7s\n",
      "[CV] C=10, penalty=elasticnet, solver=saga ...........................\n",
      "[CV] ............ C=10, penalty=elasticnet, solver=saga, total=   0.0s\n",
      "[CV] C=10, penalty=elasticnet, solver=saga ...........................\n",
      "[CV] ............ C=10, penalty=elasticnet, solver=saga, total=   0.0s\n",
      "[CV] C=10, penalty=elasticnet, solver=saga ...........................\n",
      "[CV] ............ C=10, penalty=elasticnet, solver=saga, total=   0.0s\n",
      "[CV] C=10, penalty=elasticnet, solver=saga ...........................\n",
      "[CV] ............ C=10, penalty=elasticnet, solver=saga, total=   0.0s\n",
      "[CV] C=10, penalty=elasticnet, solver=saga ...........................\n",
      "[CV] ............ C=10, penalty=elasticnet, solver=saga, total=   0.0s\n",
      "[CV] C=10, penalty=none, solver=saga .................................\n"
     ]
    },
    {
     "name": "stderr",
     "output_type": "stream",
     "text": [
      "C:\\Users\\adria\\anaconda3\\envs\\tensorflow_env\\lib\\site-packages\\sklearn\\model_selection\\_validation.py:552: FitFailedWarning: Estimator fit failed. The score on this train-test partition for these parameters will be set to nan. Details: \n",
      "Traceback (most recent call last):\n",
      "  File \"C:\\Users\\adria\\anaconda3\\envs\\tensorflow_env\\lib\\site-packages\\sklearn\\model_selection\\_validation.py\", line 531, in _fit_and_score\n",
      "    estimator.fit(X_train, y_train, **fit_params)\n",
      "  File \"C:\\Users\\adria\\anaconda3\\envs\\tensorflow_env\\lib\\site-packages\\sklearn\\linear_model\\_logistic.py\", line 1313, in fit\n",
      "    \" got (l1_ratio=%r)\" % self.l1_ratio)\n",
      "ValueError: l1_ratio must be between 0 and 1; got (l1_ratio=None)\n",
      "\n",
      "  FitFailedWarning)\n",
      "C:\\Users\\adria\\anaconda3\\envs\\tensorflow_env\\lib\\site-packages\\sklearn\\linear_model\\_logistic.py:1321: UserWarning: Setting penalty='none' will ignore the C and l1_ratio parameters\n",
      "  \"Setting penalty='none' will ignore the C and l1_ratio \"\n",
      "C:\\Users\\adria\\anaconda3\\envs\\tensorflow_env\\lib\\site-packages\\sklearn\\linear_model\\_sag.py:330: ConvergenceWarning: The max_iter was reached which means the coef_ did not converge\n",
      "  \"the coef_ did not converge\", ConvergenceWarning)\n",
      "C:\\Users\\adria\\anaconda3\\envs\\tensorflow_env\\lib\\site-packages\\sklearn\\linear_model\\_logistic.py:1321: UserWarning: Setting penalty='none' will ignore the C and l1_ratio parameters\n",
      "  \"Setting penalty='none' will ignore the C and l1_ratio \"\n"
     ]
    },
    {
     "name": "stdout",
     "output_type": "stream",
     "text": [
      "[CV] .................. C=10, penalty=none, solver=saga, total=   2.3s\n",
      "[CV] C=10, penalty=none, solver=saga .................................\n"
     ]
    },
    {
     "name": "stderr",
     "output_type": "stream",
     "text": [
      "C:\\Users\\adria\\anaconda3\\envs\\tensorflow_env\\lib\\site-packages\\sklearn\\linear_model\\_sag.py:330: ConvergenceWarning: The max_iter was reached which means the coef_ did not converge\n",
      "  \"the coef_ did not converge\", ConvergenceWarning)\n",
      "C:\\Users\\adria\\anaconda3\\envs\\tensorflow_env\\lib\\site-packages\\sklearn\\linear_model\\_logistic.py:1321: UserWarning: Setting penalty='none' will ignore the C and l1_ratio parameters\n",
      "  \"Setting penalty='none' will ignore the C and l1_ratio \"\n"
     ]
    },
    {
     "name": "stdout",
     "output_type": "stream",
     "text": [
      "[CV] .................. C=10, penalty=none, solver=saga, total=   2.3s\n",
      "[CV] C=10, penalty=none, solver=saga .................................\n"
     ]
    },
    {
     "name": "stderr",
     "output_type": "stream",
     "text": [
      "C:\\Users\\adria\\anaconda3\\envs\\tensorflow_env\\lib\\site-packages\\sklearn\\linear_model\\_sag.py:330: ConvergenceWarning: The max_iter was reached which means the coef_ did not converge\n",
      "  \"the coef_ did not converge\", ConvergenceWarning)\n",
      "C:\\Users\\adria\\anaconda3\\envs\\tensorflow_env\\lib\\site-packages\\sklearn\\linear_model\\_logistic.py:1321: UserWarning: Setting penalty='none' will ignore the C and l1_ratio parameters\n",
      "  \"Setting penalty='none' will ignore the C and l1_ratio \"\n"
     ]
    },
    {
     "name": "stdout",
     "output_type": "stream",
     "text": [
      "[CV] .................. C=10, penalty=none, solver=saga, total=   2.3s\n",
      "[CV] C=10, penalty=none, solver=saga .................................\n"
     ]
    },
    {
     "name": "stderr",
     "output_type": "stream",
     "text": [
      "C:\\Users\\adria\\anaconda3\\envs\\tensorflow_env\\lib\\site-packages\\sklearn\\linear_model\\_sag.py:330: ConvergenceWarning: The max_iter was reached which means the coef_ did not converge\n",
      "  \"the coef_ did not converge\", ConvergenceWarning)\n",
      "C:\\Users\\adria\\anaconda3\\envs\\tensorflow_env\\lib\\site-packages\\sklearn\\linear_model\\_logistic.py:1321: UserWarning: Setting penalty='none' will ignore the C and l1_ratio parameters\n",
      "  \"Setting penalty='none' will ignore the C and l1_ratio \"\n"
     ]
    },
    {
     "name": "stdout",
     "output_type": "stream",
     "text": [
      "[CV] .................. C=10, penalty=none, solver=saga, total=   2.3s\n",
      "[CV] C=10, penalty=none, solver=saga .................................\n"
     ]
    },
    {
     "name": "stderr",
     "output_type": "stream",
     "text": [
      "C:\\Users\\adria\\anaconda3\\envs\\tensorflow_env\\lib\\site-packages\\sklearn\\linear_model\\_sag.py:330: ConvergenceWarning: The max_iter was reached which means the coef_ did not converge\n",
      "  \"the coef_ did not converge\", ConvergenceWarning)\n"
     ]
    },
    {
     "name": "stdout",
     "output_type": "stream",
     "text": [
      "[CV] .................. C=10, penalty=none, solver=saga, total=   2.4s\n",
      "[CV] C=100, penalty=l1, solver=saga ..................................\n"
     ]
    },
    {
     "name": "stderr",
     "output_type": "stream",
     "text": [
      "C:\\Users\\adria\\anaconda3\\envs\\tensorflow_env\\lib\\site-packages\\sklearn\\linear_model\\_sag.py:330: ConvergenceWarning: The max_iter was reached which means the coef_ did not converge\n",
      "  \"the coef_ did not converge\", ConvergenceWarning)\n"
     ]
    },
    {
     "name": "stdout",
     "output_type": "stream",
     "text": [
      "[CV] ................... C=100, penalty=l1, solver=saga, total=   2.9s\n",
      "[CV] C=100, penalty=l1, solver=saga ..................................\n"
     ]
    },
    {
     "name": "stderr",
     "output_type": "stream",
     "text": [
      "C:\\Users\\adria\\anaconda3\\envs\\tensorflow_env\\lib\\site-packages\\sklearn\\linear_model\\_sag.py:330: ConvergenceWarning: The max_iter was reached which means the coef_ did not converge\n",
      "  \"the coef_ did not converge\", ConvergenceWarning)\n"
     ]
    },
    {
     "name": "stdout",
     "output_type": "stream",
     "text": [
      "[CV] ................... C=100, penalty=l1, solver=saga, total=   2.7s\n",
      "[CV] C=100, penalty=l1, solver=saga ..................................\n"
     ]
    },
    {
     "name": "stderr",
     "output_type": "stream",
     "text": [
      "C:\\Users\\adria\\anaconda3\\envs\\tensorflow_env\\lib\\site-packages\\sklearn\\linear_model\\_sag.py:330: ConvergenceWarning: The max_iter was reached which means the coef_ did not converge\n",
      "  \"the coef_ did not converge\", ConvergenceWarning)\n"
     ]
    },
    {
     "name": "stdout",
     "output_type": "stream",
     "text": [
      "[CV] ................... C=100, penalty=l1, solver=saga, total=   2.8s\n",
      "[CV] C=100, penalty=l1, solver=saga ..................................\n"
     ]
    },
    {
     "name": "stderr",
     "output_type": "stream",
     "text": [
      "C:\\Users\\adria\\anaconda3\\envs\\tensorflow_env\\lib\\site-packages\\sklearn\\linear_model\\_sag.py:330: ConvergenceWarning: The max_iter was reached which means the coef_ did not converge\n",
      "  \"the coef_ did not converge\", ConvergenceWarning)\n"
     ]
    },
    {
     "name": "stdout",
     "output_type": "stream",
     "text": [
      "[CV] ................... C=100, penalty=l1, solver=saga, total=   2.7s\n",
      "[CV] C=100, penalty=l1, solver=saga ..................................\n"
     ]
    },
    {
     "name": "stderr",
     "output_type": "stream",
     "text": [
      "C:\\Users\\adria\\anaconda3\\envs\\tensorflow_env\\lib\\site-packages\\sklearn\\linear_model\\_sag.py:330: ConvergenceWarning: The max_iter was reached which means the coef_ did not converge\n",
      "  \"the coef_ did not converge\", ConvergenceWarning)\n"
     ]
    },
    {
     "name": "stdout",
     "output_type": "stream",
     "text": [
      "[CV] ................... C=100, penalty=l1, solver=saga, total=   2.7s\n",
      "[CV] C=100, penalty=l2, solver=saga ..................................\n"
     ]
    },
    {
     "name": "stderr",
     "output_type": "stream",
     "text": [
      "C:\\Users\\adria\\anaconda3\\envs\\tensorflow_env\\lib\\site-packages\\sklearn\\linear_model\\_sag.py:330: ConvergenceWarning: The max_iter was reached which means the coef_ did not converge\n",
      "  \"the coef_ did not converge\", ConvergenceWarning)\n"
     ]
    },
    {
     "name": "stdout",
     "output_type": "stream",
     "text": [
      "[CV] ................... C=100, penalty=l2, solver=saga, total=   2.3s\n",
      "[CV] C=100, penalty=l2, solver=saga ..................................\n"
     ]
    },
    {
     "name": "stderr",
     "output_type": "stream",
     "text": [
      "C:\\Users\\adria\\anaconda3\\envs\\tensorflow_env\\lib\\site-packages\\sklearn\\linear_model\\_sag.py:330: ConvergenceWarning: The max_iter was reached which means the coef_ did not converge\n",
      "  \"the coef_ did not converge\", ConvergenceWarning)\n"
     ]
    },
    {
     "name": "stdout",
     "output_type": "stream",
     "text": [
      "[CV] ................... C=100, penalty=l2, solver=saga, total=   2.5s\n",
      "[CV] C=100, penalty=l2, solver=saga ..................................\n"
     ]
    },
    {
     "name": "stderr",
     "output_type": "stream",
     "text": [
      "C:\\Users\\adria\\anaconda3\\envs\\tensorflow_env\\lib\\site-packages\\sklearn\\linear_model\\_sag.py:330: ConvergenceWarning: The max_iter was reached which means the coef_ did not converge\n",
      "  \"the coef_ did not converge\", ConvergenceWarning)\n"
     ]
    },
    {
     "name": "stdout",
     "output_type": "stream",
     "text": [
      "[CV] ................... C=100, penalty=l2, solver=saga, total=   2.3s\n",
      "[CV] C=100, penalty=l2, solver=saga ..................................\n"
     ]
    },
    {
     "name": "stderr",
     "output_type": "stream",
     "text": [
      "C:\\Users\\adria\\anaconda3\\envs\\tensorflow_env\\lib\\site-packages\\sklearn\\linear_model\\_sag.py:330: ConvergenceWarning: The max_iter was reached which means the coef_ did not converge\n",
      "  \"the coef_ did not converge\", ConvergenceWarning)\n"
     ]
    },
    {
     "name": "stdout",
     "output_type": "stream",
     "text": [
      "[CV] ................... C=100, penalty=l2, solver=saga, total=   2.3s\n",
      "[CV] C=100, penalty=l2, solver=saga ..................................\n"
     ]
    },
    {
     "name": "stderr",
     "output_type": "stream",
     "text": [
      "C:\\Users\\adria\\anaconda3\\envs\\tensorflow_env\\lib\\site-packages\\sklearn\\linear_model\\_sag.py:330: ConvergenceWarning: The max_iter was reached which means the coef_ did not converge\n",
      "  \"the coef_ did not converge\", ConvergenceWarning)\n",
      "C:\\Users\\adria\\anaconda3\\envs\\tensorflow_env\\lib\\site-packages\\sklearn\\model_selection\\_validation.py:552: FitFailedWarning: Estimator fit failed. The score on this train-test partition for these parameters will be set to nan. Details: \n",
      "Traceback (most recent call last):\n",
      "  File \"C:\\Users\\adria\\anaconda3\\envs\\tensorflow_env\\lib\\site-packages\\sklearn\\model_selection\\_validation.py\", line 531, in _fit_and_score\n",
      "    estimator.fit(X_train, y_train, **fit_params)\n",
      "  File \"C:\\Users\\adria\\anaconda3\\envs\\tensorflow_env\\lib\\site-packages\\sklearn\\linear_model\\_logistic.py\", line 1313, in fit\n",
      "    \" got (l1_ratio=%r)\" % self.l1_ratio)\n",
      "ValueError: l1_ratio must be between 0 and 1; got (l1_ratio=None)\n",
      "\n",
      "  FitFailedWarning)\n",
      "C:\\Users\\adria\\anaconda3\\envs\\tensorflow_env\\lib\\site-packages\\sklearn\\linear_model\\_logistic.py:1321: UserWarning: Setting penalty='none' will ignore the C and l1_ratio parameters\n",
      "  \"Setting penalty='none' will ignore the C and l1_ratio \"\n"
     ]
    },
    {
     "name": "stdout",
     "output_type": "stream",
     "text": [
      "[CV] ................... C=100, penalty=l2, solver=saga, total=   2.3s\n",
      "[CV] C=100, penalty=elasticnet, solver=saga ..........................\n",
      "[CV] ........... C=100, penalty=elasticnet, solver=saga, total=   0.0s\n",
      "[CV] C=100, penalty=elasticnet, solver=saga ..........................\n",
      "[CV] ........... C=100, penalty=elasticnet, solver=saga, total=   0.0s\n",
      "[CV] C=100, penalty=elasticnet, solver=saga ..........................\n",
      "[CV] ........... C=100, penalty=elasticnet, solver=saga, total=   0.0s\n",
      "[CV] C=100, penalty=elasticnet, solver=saga ..........................\n",
      "[CV] ........... C=100, penalty=elasticnet, solver=saga, total=   0.0s\n",
      "[CV] C=100, penalty=elasticnet, solver=saga ..........................\n",
      "[CV] ........... C=100, penalty=elasticnet, solver=saga, total=   0.0s\n",
      "[CV] C=100, penalty=none, solver=saga ................................\n"
     ]
    },
    {
     "name": "stderr",
     "output_type": "stream",
     "text": [
      "C:\\Users\\adria\\anaconda3\\envs\\tensorflow_env\\lib\\site-packages\\sklearn\\linear_model\\_sag.py:330: ConvergenceWarning: The max_iter was reached which means the coef_ did not converge\n",
      "  \"the coef_ did not converge\", ConvergenceWarning)\n",
      "C:\\Users\\adria\\anaconda3\\envs\\tensorflow_env\\lib\\site-packages\\sklearn\\linear_model\\_logistic.py:1321: UserWarning: Setting penalty='none' will ignore the C and l1_ratio parameters\n",
      "  \"Setting penalty='none' will ignore the C and l1_ratio \"\n"
     ]
    },
    {
     "name": "stdout",
     "output_type": "stream",
     "text": [
      "[CV] ................. C=100, penalty=none, solver=saga, total=   2.3s\n",
      "[CV] C=100, penalty=none, solver=saga ................................\n"
     ]
    },
    {
     "name": "stderr",
     "output_type": "stream",
     "text": [
      "C:\\Users\\adria\\anaconda3\\envs\\tensorflow_env\\lib\\site-packages\\sklearn\\linear_model\\_sag.py:330: ConvergenceWarning: The max_iter was reached which means the coef_ did not converge\n",
      "  \"the coef_ did not converge\", ConvergenceWarning)\n",
      "C:\\Users\\adria\\anaconda3\\envs\\tensorflow_env\\lib\\site-packages\\sklearn\\linear_model\\_logistic.py:1321: UserWarning: Setting penalty='none' will ignore the C and l1_ratio parameters\n",
      "  \"Setting penalty='none' will ignore the C and l1_ratio \"\n"
     ]
    },
    {
     "name": "stdout",
     "output_type": "stream",
     "text": [
      "[CV] ................. C=100, penalty=none, solver=saga, total=   2.3s\n",
      "[CV] C=100, penalty=none, solver=saga ................................\n"
     ]
    },
    {
     "name": "stderr",
     "output_type": "stream",
     "text": [
      "C:\\Users\\adria\\anaconda3\\envs\\tensorflow_env\\lib\\site-packages\\sklearn\\linear_model\\_sag.py:330: ConvergenceWarning: The max_iter was reached which means the coef_ did not converge\n",
      "  \"the coef_ did not converge\", ConvergenceWarning)\n",
      "C:\\Users\\adria\\anaconda3\\envs\\tensorflow_env\\lib\\site-packages\\sklearn\\linear_model\\_logistic.py:1321: UserWarning: Setting penalty='none' will ignore the C and l1_ratio parameters\n",
      "  \"Setting penalty='none' will ignore the C and l1_ratio \"\n"
     ]
    },
    {
     "name": "stdout",
     "output_type": "stream",
     "text": [
      "[CV] ................. C=100, penalty=none, solver=saga, total=   2.3s\n",
      "[CV] C=100, penalty=none, solver=saga ................................\n"
     ]
    },
    {
     "name": "stderr",
     "output_type": "stream",
     "text": [
      "C:\\Users\\adria\\anaconda3\\envs\\tensorflow_env\\lib\\site-packages\\sklearn\\linear_model\\_sag.py:330: ConvergenceWarning: The max_iter was reached which means the coef_ did not converge\n",
      "  \"the coef_ did not converge\", ConvergenceWarning)\n",
      "C:\\Users\\adria\\anaconda3\\envs\\tensorflow_env\\lib\\site-packages\\sklearn\\linear_model\\_logistic.py:1321: UserWarning: Setting penalty='none' will ignore the C and l1_ratio parameters\n",
      "  \"Setting penalty='none' will ignore the C and l1_ratio \"\n"
     ]
    },
    {
     "name": "stdout",
     "output_type": "stream",
     "text": [
      "[CV] ................. C=100, penalty=none, solver=saga, total=   2.5s\n",
      "[CV] C=100, penalty=none, solver=saga ................................\n"
     ]
    },
    {
     "name": "stderr",
     "output_type": "stream",
     "text": [
      "C:\\Users\\adria\\anaconda3\\envs\\tensorflow_env\\lib\\site-packages\\sklearn\\linear_model\\_sag.py:330: ConvergenceWarning: The max_iter was reached which means the coef_ did not converge\n",
      "  \"the coef_ did not converge\", ConvergenceWarning)\n"
     ]
    },
    {
     "name": "stdout",
     "output_type": "stream",
     "text": [
      "[CV] ................. C=100, penalty=none, solver=saga, total=   2.3s\n",
      "[CV] C=1000.0, penalty=l1, solver=saga ...............................\n"
     ]
    },
    {
     "name": "stderr",
     "output_type": "stream",
     "text": [
      "C:\\Users\\adria\\anaconda3\\envs\\tensorflow_env\\lib\\site-packages\\sklearn\\linear_model\\_sag.py:330: ConvergenceWarning: The max_iter was reached which means the coef_ did not converge\n",
      "  \"the coef_ did not converge\", ConvergenceWarning)\n"
     ]
    },
    {
     "name": "stdout",
     "output_type": "stream",
     "text": [
      "[CV] ................ C=1000.0, penalty=l1, solver=saga, total=   2.7s\n",
      "[CV] C=1000.0, penalty=l1, solver=saga ...............................\n"
     ]
    },
    {
     "name": "stderr",
     "output_type": "stream",
     "text": [
      "C:\\Users\\adria\\anaconda3\\envs\\tensorflow_env\\lib\\site-packages\\sklearn\\linear_model\\_sag.py:330: ConvergenceWarning: The max_iter was reached which means the coef_ did not converge\n",
      "  \"the coef_ did not converge\", ConvergenceWarning)\n"
     ]
    },
    {
     "name": "stdout",
     "output_type": "stream",
     "text": [
      "[CV] ................ C=1000.0, penalty=l1, solver=saga, total=   2.8s\n",
      "[CV] C=1000.0, penalty=l1, solver=saga ...............................\n"
     ]
    },
    {
     "name": "stderr",
     "output_type": "stream",
     "text": [
      "C:\\Users\\adria\\anaconda3\\envs\\tensorflow_env\\lib\\site-packages\\sklearn\\linear_model\\_sag.py:330: ConvergenceWarning: The max_iter was reached which means the coef_ did not converge\n",
      "  \"the coef_ did not converge\", ConvergenceWarning)\n"
     ]
    },
    {
     "name": "stdout",
     "output_type": "stream",
     "text": [
      "[CV] ................ C=1000.0, penalty=l1, solver=saga, total=   2.8s\n",
      "[CV] C=1000.0, penalty=l1, solver=saga ...............................\n"
     ]
    },
    {
     "name": "stderr",
     "output_type": "stream",
     "text": [
      "C:\\Users\\adria\\anaconda3\\envs\\tensorflow_env\\lib\\site-packages\\sklearn\\linear_model\\_sag.py:330: ConvergenceWarning: The max_iter was reached which means the coef_ did not converge\n",
      "  \"the coef_ did not converge\", ConvergenceWarning)\n"
     ]
    },
    {
     "name": "stdout",
     "output_type": "stream",
     "text": [
      "[CV] ................ C=1000.0, penalty=l1, solver=saga, total=   2.8s\n",
      "[CV] C=1000.0, penalty=l1, solver=saga ...............................\n"
     ]
    },
    {
     "name": "stderr",
     "output_type": "stream",
     "text": [
      "C:\\Users\\adria\\anaconda3\\envs\\tensorflow_env\\lib\\site-packages\\sklearn\\linear_model\\_sag.py:330: ConvergenceWarning: The max_iter was reached which means the coef_ did not converge\n",
      "  \"the coef_ did not converge\", ConvergenceWarning)\n"
     ]
    },
    {
     "name": "stdout",
     "output_type": "stream",
     "text": [
      "[CV] ................ C=1000.0, penalty=l1, solver=saga, total=   3.2s\n",
      "[CV] C=1000.0, penalty=l2, solver=saga ...............................\n"
     ]
    },
    {
     "name": "stderr",
     "output_type": "stream",
     "text": [
      "C:\\Users\\adria\\anaconda3\\envs\\tensorflow_env\\lib\\site-packages\\sklearn\\linear_model\\_sag.py:330: ConvergenceWarning: The max_iter was reached which means the coef_ did not converge\n",
      "  \"the coef_ did not converge\", ConvergenceWarning)\n"
     ]
    },
    {
     "name": "stdout",
     "output_type": "stream",
     "text": [
      "[CV] ................ C=1000.0, penalty=l2, solver=saga, total=   2.5s\n",
      "[CV] C=1000.0, penalty=l2, solver=saga ...............................\n"
     ]
    },
    {
     "name": "stderr",
     "output_type": "stream",
     "text": [
      "C:\\Users\\adria\\anaconda3\\envs\\tensorflow_env\\lib\\site-packages\\sklearn\\linear_model\\_sag.py:330: ConvergenceWarning: The max_iter was reached which means the coef_ did not converge\n",
      "  \"the coef_ did not converge\", ConvergenceWarning)\n"
     ]
    },
    {
     "name": "stdout",
     "output_type": "stream",
     "text": [
      "[CV] ................ C=1000.0, penalty=l2, solver=saga, total=   3.3s\n",
      "[CV] C=1000.0, penalty=l2, solver=saga ...............................\n"
     ]
    },
    {
     "name": "stderr",
     "output_type": "stream",
     "text": [
      "C:\\Users\\adria\\anaconda3\\envs\\tensorflow_env\\lib\\site-packages\\sklearn\\linear_model\\_sag.py:330: ConvergenceWarning: The max_iter was reached which means the coef_ did not converge\n",
      "  \"the coef_ did not converge\", ConvergenceWarning)\n"
     ]
    },
    {
     "name": "stdout",
     "output_type": "stream",
     "text": [
      "[CV] ................ C=1000.0, penalty=l2, solver=saga, total=   2.5s\n",
      "[CV] C=1000.0, penalty=l2, solver=saga ...............................\n"
     ]
    },
    {
     "name": "stderr",
     "output_type": "stream",
     "text": [
      "C:\\Users\\adria\\anaconda3\\envs\\tensorflow_env\\lib\\site-packages\\sklearn\\linear_model\\_sag.py:330: ConvergenceWarning: The max_iter was reached which means the coef_ did not converge\n",
      "  \"the coef_ did not converge\", ConvergenceWarning)\n"
     ]
    },
    {
     "name": "stdout",
     "output_type": "stream",
     "text": [
      "[CV] ................ C=1000.0, penalty=l2, solver=saga, total=   2.3s\n",
      "[CV] C=1000.0, penalty=l2, solver=saga ...............................\n"
     ]
    },
    {
     "name": "stderr",
     "output_type": "stream",
     "text": [
      "C:\\Users\\adria\\anaconda3\\envs\\tensorflow_env\\lib\\site-packages\\sklearn\\linear_model\\_sag.py:330: ConvergenceWarning: The max_iter was reached which means the coef_ did not converge\n",
      "  \"the coef_ did not converge\", ConvergenceWarning)\n",
      "C:\\Users\\adria\\anaconda3\\envs\\tensorflow_env\\lib\\site-packages\\sklearn\\model_selection\\_validation.py:552: FitFailedWarning: Estimator fit failed. The score on this train-test partition for these parameters will be set to nan. Details: \n",
      "Traceback (most recent call last):\n",
      "  File \"C:\\Users\\adria\\anaconda3\\envs\\tensorflow_env\\lib\\site-packages\\sklearn\\model_selection\\_validation.py\", line 531, in _fit_and_score\n",
      "    estimator.fit(X_train, y_train, **fit_params)\n",
      "  File \"C:\\Users\\adria\\anaconda3\\envs\\tensorflow_env\\lib\\site-packages\\sklearn\\linear_model\\_logistic.py\", line 1313, in fit\n",
      "    \" got (l1_ratio=%r)\" % self.l1_ratio)\n",
      "ValueError: l1_ratio must be between 0 and 1; got (l1_ratio=None)\n",
      "\n",
      "  FitFailedWarning)\n",
      "C:\\Users\\adria\\anaconda3\\envs\\tensorflow_env\\lib\\site-packages\\sklearn\\linear_model\\_logistic.py:1321: UserWarning: Setting penalty='none' will ignore the C and l1_ratio parameters\n",
      "  \"Setting penalty='none' will ignore the C and l1_ratio \"\n"
     ]
    },
    {
     "name": "stdout",
     "output_type": "stream",
     "text": [
      "[CV] ................ C=1000.0, penalty=l2, solver=saga, total=   2.4s\n",
      "[CV] C=1000.0, penalty=elasticnet, solver=saga .......................\n",
      "[CV] ........ C=1000.0, penalty=elasticnet, solver=saga, total=   0.0s\n",
      "[CV] C=1000.0, penalty=elasticnet, solver=saga .......................\n",
      "[CV] ........ C=1000.0, penalty=elasticnet, solver=saga, total=   0.0s\n",
      "[CV] C=1000.0, penalty=elasticnet, solver=saga .......................\n",
      "[CV] ........ C=1000.0, penalty=elasticnet, solver=saga, total=   0.0s\n",
      "[CV] C=1000.0, penalty=elasticnet, solver=saga .......................\n",
      "[CV] ........ C=1000.0, penalty=elasticnet, solver=saga, total=   0.0s\n",
      "[CV] C=1000.0, penalty=elasticnet, solver=saga .......................\n",
      "[CV] ........ C=1000.0, penalty=elasticnet, solver=saga, total=   0.0s\n",
      "[CV] C=1000.0, penalty=none, solver=saga .............................\n"
     ]
    },
    {
     "name": "stderr",
     "output_type": "stream",
     "text": [
      "C:\\Users\\adria\\anaconda3\\envs\\tensorflow_env\\lib\\site-packages\\sklearn\\linear_model\\_sag.py:330: ConvergenceWarning: The max_iter was reached which means the coef_ did not converge\n",
      "  \"the coef_ did not converge\", ConvergenceWarning)\n",
      "C:\\Users\\adria\\anaconda3\\envs\\tensorflow_env\\lib\\site-packages\\sklearn\\linear_model\\_logistic.py:1321: UserWarning: Setting penalty='none' will ignore the C and l1_ratio parameters\n",
      "  \"Setting penalty='none' will ignore the C and l1_ratio \"\n"
     ]
    },
    {
     "name": "stdout",
     "output_type": "stream",
     "text": [
      "[CV] .............. C=1000.0, penalty=none, solver=saga, total=   2.6s\n",
      "[CV] C=1000.0, penalty=none, solver=saga .............................\n"
     ]
    },
    {
     "name": "stderr",
     "output_type": "stream",
     "text": [
      "C:\\Users\\adria\\anaconda3\\envs\\tensorflow_env\\lib\\site-packages\\sklearn\\linear_model\\_sag.py:330: ConvergenceWarning: The max_iter was reached which means the coef_ did not converge\n",
      "  \"the coef_ did not converge\", ConvergenceWarning)\n",
      "C:\\Users\\adria\\anaconda3\\envs\\tensorflow_env\\lib\\site-packages\\sklearn\\linear_model\\_logistic.py:1321: UserWarning: Setting penalty='none' will ignore the C and l1_ratio parameters\n",
      "  \"Setting penalty='none' will ignore the C and l1_ratio \"\n"
     ]
    },
    {
     "name": "stdout",
     "output_type": "stream",
     "text": [
      "[CV] .............. C=1000.0, penalty=none, solver=saga, total=   2.3s\n",
      "[CV] C=1000.0, penalty=none, solver=saga .............................\n"
     ]
    },
    {
     "name": "stderr",
     "output_type": "stream",
     "text": [
      "C:\\Users\\adria\\anaconda3\\envs\\tensorflow_env\\lib\\site-packages\\sklearn\\linear_model\\_sag.py:330: ConvergenceWarning: The max_iter was reached which means the coef_ did not converge\n",
      "  \"the coef_ did not converge\", ConvergenceWarning)\n",
      "C:\\Users\\adria\\anaconda3\\envs\\tensorflow_env\\lib\\site-packages\\sklearn\\linear_model\\_logistic.py:1321: UserWarning: Setting penalty='none' will ignore the C and l1_ratio parameters\n",
      "  \"Setting penalty='none' will ignore the C and l1_ratio \"\n"
     ]
    },
    {
     "name": "stdout",
     "output_type": "stream",
     "text": [
      "[CV] .............. C=1000.0, penalty=none, solver=saga, total=   2.3s\n",
      "[CV] C=1000.0, penalty=none, solver=saga .............................\n"
     ]
    },
    {
     "name": "stderr",
     "output_type": "stream",
     "text": [
      "C:\\Users\\adria\\anaconda3\\envs\\tensorflow_env\\lib\\site-packages\\sklearn\\linear_model\\_sag.py:330: ConvergenceWarning: The max_iter was reached which means the coef_ did not converge\n",
      "  \"the coef_ did not converge\", ConvergenceWarning)\n",
      "C:\\Users\\adria\\anaconda3\\envs\\tensorflow_env\\lib\\site-packages\\sklearn\\linear_model\\_logistic.py:1321: UserWarning: Setting penalty='none' will ignore the C and l1_ratio parameters\n",
      "  \"Setting penalty='none' will ignore the C and l1_ratio \"\n"
     ]
    },
    {
     "name": "stdout",
     "output_type": "stream",
     "text": [
      "[CV] .............. C=1000.0, penalty=none, solver=saga, total=   2.3s\n",
      "[CV] C=1000.0, penalty=none, solver=saga .............................\n"
     ]
    },
    {
     "name": "stderr",
     "output_type": "stream",
     "text": [
      "C:\\Users\\adria\\anaconda3\\envs\\tensorflow_env\\lib\\site-packages\\sklearn\\linear_model\\_sag.py:330: ConvergenceWarning: The max_iter was reached which means the coef_ did not converge\n",
      "  \"the coef_ did not converge\", ConvergenceWarning)\n"
     ]
    },
    {
     "name": "stdout",
     "output_type": "stream",
     "text": [
      "[CV] .............. C=1000.0, penalty=none, solver=saga, total=   2.3s\n",
      "[CV] C=10000.0, penalty=l1, solver=saga ..............................\n"
     ]
    },
    {
     "name": "stderr",
     "output_type": "stream",
     "text": [
      "C:\\Users\\adria\\anaconda3\\envs\\tensorflow_env\\lib\\site-packages\\sklearn\\linear_model\\_sag.py:330: ConvergenceWarning: The max_iter was reached which means the coef_ did not converge\n",
      "  \"the coef_ did not converge\", ConvergenceWarning)\n"
     ]
    },
    {
     "name": "stdout",
     "output_type": "stream",
     "text": [
      "[CV] ............... C=10000.0, penalty=l1, solver=saga, total=   2.8s\n",
      "[CV] C=10000.0, penalty=l1, solver=saga ..............................\n"
     ]
    },
    {
     "name": "stderr",
     "output_type": "stream",
     "text": [
      "C:\\Users\\adria\\anaconda3\\envs\\tensorflow_env\\lib\\site-packages\\sklearn\\linear_model\\_sag.py:330: ConvergenceWarning: The max_iter was reached which means the coef_ did not converge\n",
      "  \"the coef_ did not converge\", ConvergenceWarning)\n"
     ]
    },
    {
     "name": "stdout",
     "output_type": "stream",
     "text": [
      "[CV] ............... C=10000.0, penalty=l1, solver=saga, total=   3.0s\n",
      "[CV] C=10000.0, penalty=l1, solver=saga ..............................\n"
     ]
    },
    {
     "name": "stderr",
     "output_type": "stream",
     "text": [
      "C:\\Users\\adria\\anaconda3\\envs\\tensorflow_env\\lib\\site-packages\\sklearn\\linear_model\\_sag.py:330: ConvergenceWarning: The max_iter was reached which means the coef_ did not converge\n",
      "  \"the coef_ did not converge\", ConvergenceWarning)\n"
     ]
    },
    {
     "name": "stdout",
     "output_type": "stream",
     "text": [
      "[CV] ............... C=10000.0, penalty=l1, solver=saga, total=   2.8s\n",
      "[CV] C=10000.0, penalty=l1, solver=saga ..............................\n"
     ]
    },
    {
     "name": "stderr",
     "output_type": "stream",
     "text": [
      "C:\\Users\\adria\\anaconda3\\envs\\tensorflow_env\\lib\\site-packages\\sklearn\\linear_model\\_sag.py:330: ConvergenceWarning: The max_iter was reached which means the coef_ did not converge\n",
      "  \"the coef_ did not converge\", ConvergenceWarning)\n"
     ]
    },
    {
     "name": "stdout",
     "output_type": "stream",
     "text": [
      "[CV] ............... C=10000.0, penalty=l1, solver=saga, total=   3.0s\n",
      "[CV] C=10000.0, penalty=l1, solver=saga ..............................\n"
     ]
    },
    {
     "name": "stderr",
     "output_type": "stream",
     "text": [
      "C:\\Users\\adria\\anaconda3\\envs\\tensorflow_env\\lib\\site-packages\\sklearn\\linear_model\\_sag.py:330: ConvergenceWarning: The max_iter was reached which means the coef_ did not converge\n",
      "  \"the coef_ did not converge\", ConvergenceWarning)\n"
     ]
    },
    {
     "name": "stdout",
     "output_type": "stream",
     "text": [
      "[CV] ............... C=10000.0, penalty=l1, solver=saga, total=   2.8s\n",
      "[CV] C=10000.0, penalty=l2, solver=saga ..............................\n"
     ]
    },
    {
     "name": "stderr",
     "output_type": "stream",
     "text": [
      "C:\\Users\\adria\\anaconda3\\envs\\tensorflow_env\\lib\\site-packages\\sklearn\\linear_model\\_sag.py:330: ConvergenceWarning: The max_iter was reached which means the coef_ did not converge\n",
      "  \"the coef_ did not converge\", ConvergenceWarning)\n"
     ]
    },
    {
     "name": "stdout",
     "output_type": "stream",
     "text": [
      "[CV] ............... C=10000.0, penalty=l2, solver=saga, total=   2.3s\n",
      "[CV] C=10000.0, penalty=l2, solver=saga ..............................\n"
     ]
    },
    {
     "name": "stderr",
     "output_type": "stream",
     "text": [
      "C:\\Users\\adria\\anaconda3\\envs\\tensorflow_env\\lib\\site-packages\\sklearn\\linear_model\\_sag.py:330: ConvergenceWarning: The max_iter was reached which means the coef_ did not converge\n",
      "  \"the coef_ did not converge\", ConvergenceWarning)\n"
     ]
    },
    {
     "name": "stdout",
     "output_type": "stream",
     "text": [
      "[CV] ............... C=10000.0, penalty=l2, solver=saga, total=   2.4s\n",
      "[CV] C=10000.0, penalty=l2, solver=saga ..............................\n"
     ]
    },
    {
     "name": "stderr",
     "output_type": "stream",
     "text": [
      "C:\\Users\\adria\\anaconda3\\envs\\tensorflow_env\\lib\\site-packages\\sklearn\\linear_model\\_sag.py:330: ConvergenceWarning: The max_iter was reached which means the coef_ did not converge\n",
      "  \"the coef_ did not converge\", ConvergenceWarning)\n"
     ]
    },
    {
     "name": "stdout",
     "output_type": "stream",
     "text": [
      "[CV] ............... C=10000.0, penalty=l2, solver=saga, total=   2.6s\n",
      "[CV] C=10000.0, penalty=l2, solver=saga ..............................\n"
     ]
    },
    {
     "name": "stderr",
     "output_type": "stream",
     "text": [
      "C:\\Users\\adria\\anaconda3\\envs\\tensorflow_env\\lib\\site-packages\\sklearn\\linear_model\\_sag.py:330: ConvergenceWarning: The max_iter was reached which means the coef_ did not converge\n",
      "  \"the coef_ did not converge\", ConvergenceWarning)\n"
     ]
    },
    {
     "name": "stdout",
     "output_type": "stream",
     "text": [
      "[CV] ............... C=10000.0, penalty=l2, solver=saga, total=   2.3s\n",
      "[CV] C=10000.0, penalty=l2, solver=saga ..............................\n"
     ]
    },
    {
     "name": "stderr",
     "output_type": "stream",
     "text": [
      "C:\\Users\\adria\\anaconda3\\envs\\tensorflow_env\\lib\\site-packages\\sklearn\\linear_model\\_sag.py:330: ConvergenceWarning: The max_iter was reached which means the coef_ did not converge\n",
      "  \"the coef_ did not converge\", ConvergenceWarning)\n",
      "C:\\Users\\adria\\anaconda3\\envs\\tensorflow_env\\lib\\site-packages\\sklearn\\model_selection\\_validation.py:552: FitFailedWarning: Estimator fit failed. The score on this train-test partition for these parameters will be set to nan. Details: \n",
      "Traceback (most recent call last):\n",
      "  File \"C:\\Users\\adria\\anaconda3\\envs\\tensorflow_env\\lib\\site-packages\\sklearn\\model_selection\\_validation.py\", line 531, in _fit_and_score\n",
      "    estimator.fit(X_train, y_train, **fit_params)\n",
      "  File \"C:\\Users\\adria\\anaconda3\\envs\\tensorflow_env\\lib\\site-packages\\sklearn\\linear_model\\_logistic.py\", line 1313, in fit\n",
      "    \" got (l1_ratio=%r)\" % self.l1_ratio)\n",
      "ValueError: l1_ratio must be between 0 and 1; got (l1_ratio=None)\n",
      "\n",
      "  FitFailedWarning)\n",
      "C:\\Users\\adria\\anaconda3\\envs\\tensorflow_env\\lib\\site-packages\\sklearn\\linear_model\\_logistic.py:1321: UserWarning: Setting penalty='none' will ignore the C and l1_ratio parameters\n",
      "  \"Setting penalty='none' will ignore the C and l1_ratio \"\n"
     ]
    },
    {
     "name": "stdout",
     "output_type": "stream",
     "text": [
      "[CV] ............... C=10000.0, penalty=l2, solver=saga, total=   2.3s\n",
      "[CV] C=10000.0, penalty=elasticnet, solver=saga ......................\n",
      "[CV] ....... C=10000.0, penalty=elasticnet, solver=saga, total=   0.0s\n",
      "[CV] C=10000.0, penalty=elasticnet, solver=saga ......................\n",
      "[CV] ....... C=10000.0, penalty=elasticnet, solver=saga, total=   0.0s\n",
      "[CV] C=10000.0, penalty=elasticnet, solver=saga ......................\n",
      "[CV] ....... C=10000.0, penalty=elasticnet, solver=saga, total=   0.0s\n",
      "[CV] C=10000.0, penalty=elasticnet, solver=saga ......................\n",
      "[CV] ....... C=10000.0, penalty=elasticnet, solver=saga, total=   0.0s\n",
      "[CV] C=10000.0, penalty=elasticnet, solver=saga ......................\n",
      "[CV] ....... C=10000.0, penalty=elasticnet, solver=saga, total=   0.0s\n",
      "[CV] C=10000.0, penalty=none, solver=saga ............................\n"
     ]
    },
    {
     "name": "stderr",
     "output_type": "stream",
     "text": [
      "C:\\Users\\adria\\anaconda3\\envs\\tensorflow_env\\lib\\site-packages\\sklearn\\linear_model\\_sag.py:330: ConvergenceWarning: The max_iter was reached which means the coef_ did not converge\n",
      "  \"the coef_ did not converge\", ConvergenceWarning)\n",
      "C:\\Users\\adria\\anaconda3\\envs\\tensorflow_env\\lib\\site-packages\\sklearn\\linear_model\\_logistic.py:1321: UserWarning: Setting penalty='none' will ignore the C and l1_ratio parameters\n",
      "  \"Setting penalty='none' will ignore the C and l1_ratio \"\n"
     ]
    },
    {
     "name": "stdout",
     "output_type": "stream",
     "text": [
      "[CV] ............. C=10000.0, penalty=none, solver=saga, total=   2.3s\n",
      "[CV] C=10000.0, penalty=none, solver=saga ............................\n"
     ]
    },
    {
     "name": "stderr",
     "output_type": "stream",
     "text": [
      "C:\\Users\\adria\\anaconda3\\envs\\tensorflow_env\\lib\\site-packages\\sklearn\\linear_model\\_sag.py:330: ConvergenceWarning: The max_iter was reached which means the coef_ did not converge\n",
      "  \"the coef_ did not converge\", ConvergenceWarning)\n",
      "C:\\Users\\adria\\anaconda3\\envs\\tensorflow_env\\lib\\site-packages\\sklearn\\linear_model\\_logistic.py:1321: UserWarning: Setting penalty='none' will ignore the C and l1_ratio parameters\n",
      "  \"Setting penalty='none' will ignore the C and l1_ratio \"\n"
     ]
    },
    {
     "name": "stdout",
     "output_type": "stream",
     "text": [
      "[CV] ............. C=10000.0, penalty=none, solver=saga, total=   2.3s\n",
      "[CV] C=10000.0, penalty=none, solver=saga ............................\n"
     ]
    },
    {
     "name": "stderr",
     "output_type": "stream",
     "text": [
      "C:\\Users\\adria\\anaconda3\\envs\\tensorflow_env\\lib\\site-packages\\sklearn\\linear_model\\_sag.py:330: ConvergenceWarning: The max_iter was reached which means the coef_ did not converge\n",
      "  \"the coef_ did not converge\", ConvergenceWarning)\n",
      "C:\\Users\\adria\\anaconda3\\envs\\tensorflow_env\\lib\\site-packages\\sklearn\\linear_model\\_logistic.py:1321: UserWarning: Setting penalty='none' will ignore the C and l1_ratio parameters\n",
      "  \"Setting penalty='none' will ignore the C and l1_ratio \"\n"
     ]
    },
    {
     "name": "stdout",
     "output_type": "stream",
     "text": [
      "[CV] ............. C=10000.0, penalty=none, solver=saga, total=   2.3s\n",
      "[CV] C=10000.0, penalty=none, solver=saga ............................\n"
     ]
    },
    {
     "name": "stderr",
     "output_type": "stream",
     "text": [
      "C:\\Users\\adria\\anaconda3\\envs\\tensorflow_env\\lib\\site-packages\\sklearn\\linear_model\\_sag.py:330: ConvergenceWarning: The max_iter was reached which means the coef_ did not converge\n",
      "  \"the coef_ did not converge\", ConvergenceWarning)\n",
      "C:\\Users\\adria\\anaconda3\\envs\\tensorflow_env\\lib\\site-packages\\sklearn\\linear_model\\_logistic.py:1321: UserWarning: Setting penalty='none' will ignore the C and l1_ratio parameters\n",
      "  \"Setting penalty='none' will ignore the C and l1_ratio \"\n"
     ]
    },
    {
     "name": "stdout",
     "output_type": "stream",
     "text": [
      "[CV] ............. C=10000.0, penalty=none, solver=saga, total=   2.7s\n",
      "[CV] C=10000.0, penalty=none, solver=saga ............................\n"
     ]
    },
    {
     "name": "stderr",
     "output_type": "stream",
     "text": [
      "C:\\Users\\adria\\anaconda3\\envs\\tensorflow_env\\lib\\site-packages\\sklearn\\linear_model\\_sag.py:330: ConvergenceWarning: The max_iter was reached which means the coef_ did not converge\n",
      "  \"the coef_ did not converge\", ConvergenceWarning)\n"
     ]
    },
    {
     "name": "stdout",
     "output_type": "stream",
     "text": [
      "[CV] ............. C=10000.0, penalty=none, solver=saga, total=   2.5s\n",
      "[CV] C=100000.0, penalty=l1, solver=saga .............................\n"
     ]
    },
    {
     "name": "stderr",
     "output_type": "stream",
     "text": [
      "C:\\Users\\adria\\anaconda3\\envs\\tensorflow_env\\lib\\site-packages\\sklearn\\linear_model\\_sag.py:330: ConvergenceWarning: The max_iter was reached which means the coef_ did not converge\n",
      "  \"the coef_ did not converge\", ConvergenceWarning)\n"
     ]
    },
    {
     "name": "stdout",
     "output_type": "stream",
     "text": [
      "[CV] .............. C=100000.0, penalty=l1, solver=saga, total=   2.8s\n",
      "[CV] C=100000.0, penalty=l1, solver=saga .............................\n"
     ]
    },
    {
     "name": "stderr",
     "output_type": "stream",
     "text": [
      "C:\\Users\\adria\\anaconda3\\envs\\tensorflow_env\\lib\\site-packages\\sklearn\\linear_model\\_sag.py:330: ConvergenceWarning: The max_iter was reached which means the coef_ did not converge\n",
      "  \"the coef_ did not converge\", ConvergenceWarning)\n"
     ]
    },
    {
     "name": "stdout",
     "output_type": "stream",
     "text": [
      "[CV] .............. C=100000.0, penalty=l1, solver=saga, total=   2.8s\n",
      "[CV] C=100000.0, penalty=l1, solver=saga .............................\n"
     ]
    },
    {
     "name": "stderr",
     "output_type": "stream",
     "text": [
      "C:\\Users\\adria\\anaconda3\\envs\\tensorflow_env\\lib\\site-packages\\sklearn\\linear_model\\_sag.py:330: ConvergenceWarning: The max_iter was reached which means the coef_ did not converge\n",
      "  \"the coef_ did not converge\", ConvergenceWarning)\n"
     ]
    },
    {
     "name": "stdout",
     "output_type": "stream",
     "text": [
      "[CV] .............. C=100000.0, penalty=l1, solver=saga, total=   2.8s\n",
      "[CV] C=100000.0, penalty=l1, solver=saga .............................\n"
     ]
    },
    {
     "name": "stderr",
     "output_type": "stream",
     "text": [
      "C:\\Users\\adria\\anaconda3\\envs\\tensorflow_env\\lib\\site-packages\\sklearn\\linear_model\\_sag.py:330: ConvergenceWarning: The max_iter was reached which means the coef_ did not converge\n",
      "  \"the coef_ did not converge\", ConvergenceWarning)\n"
     ]
    },
    {
     "name": "stdout",
     "output_type": "stream",
     "text": [
      "[CV] .............. C=100000.0, penalty=l1, solver=saga, total=   2.8s\n",
      "[CV] C=100000.0, penalty=l1, solver=saga .............................\n"
     ]
    },
    {
     "name": "stderr",
     "output_type": "stream",
     "text": [
      "C:\\Users\\adria\\anaconda3\\envs\\tensorflow_env\\lib\\site-packages\\sklearn\\linear_model\\_sag.py:330: ConvergenceWarning: The max_iter was reached which means the coef_ did not converge\n",
      "  \"the coef_ did not converge\", ConvergenceWarning)\n"
     ]
    },
    {
     "name": "stdout",
     "output_type": "stream",
     "text": [
      "[CV] .............. C=100000.0, penalty=l1, solver=saga, total=   2.8s\n",
      "[CV] C=100000.0, penalty=l2, solver=saga .............................\n"
     ]
    },
    {
     "name": "stderr",
     "output_type": "stream",
     "text": [
      "C:\\Users\\adria\\anaconda3\\envs\\tensorflow_env\\lib\\site-packages\\sklearn\\linear_model\\_sag.py:330: ConvergenceWarning: The max_iter was reached which means the coef_ did not converge\n",
      "  \"the coef_ did not converge\", ConvergenceWarning)\n"
     ]
    },
    {
     "name": "stdout",
     "output_type": "stream",
     "text": [
      "[CV] .............. C=100000.0, penalty=l2, solver=saga, total=   2.5s\n",
      "[CV] C=100000.0, penalty=l2, solver=saga .............................\n"
     ]
    },
    {
     "name": "stderr",
     "output_type": "stream",
     "text": [
      "C:\\Users\\adria\\anaconda3\\envs\\tensorflow_env\\lib\\site-packages\\sklearn\\linear_model\\_sag.py:330: ConvergenceWarning: The max_iter was reached which means the coef_ did not converge\n",
      "  \"the coef_ did not converge\", ConvergenceWarning)\n"
     ]
    },
    {
     "name": "stdout",
     "output_type": "stream",
     "text": [
      "[CV] .............. C=100000.0, penalty=l2, solver=saga, total=   2.4s\n",
      "[CV] C=100000.0, penalty=l2, solver=saga .............................\n"
     ]
    },
    {
     "name": "stderr",
     "output_type": "stream",
     "text": [
      "C:\\Users\\adria\\anaconda3\\envs\\tensorflow_env\\lib\\site-packages\\sklearn\\linear_model\\_sag.py:330: ConvergenceWarning: The max_iter was reached which means the coef_ did not converge\n",
      "  \"the coef_ did not converge\", ConvergenceWarning)\n"
     ]
    },
    {
     "name": "stdout",
     "output_type": "stream",
     "text": [
      "[CV] .............. C=100000.0, penalty=l2, solver=saga, total=   2.4s\n",
      "[CV] C=100000.0, penalty=l2, solver=saga .............................\n"
     ]
    },
    {
     "name": "stderr",
     "output_type": "stream",
     "text": [
      "C:\\Users\\adria\\anaconda3\\envs\\tensorflow_env\\lib\\site-packages\\sklearn\\linear_model\\_sag.py:330: ConvergenceWarning: The max_iter was reached which means the coef_ did not converge\n",
      "  \"the coef_ did not converge\", ConvergenceWarning)\n"
     ]
    },
    {
     "name": "stdout",
     "output_type": "stream",
     "text": [
      "[CV] .............. C=100000.0, penalty=l2, solver=saga, total=   2.3s\n",
      "[CV] C=100000.0, penalty=l2, solver=saga .............................\n"
     ]
    },
    {
     "name": "stderr",
     "output_type": "stream",
     "text": [
      "C:\\Users\\adria\\anaconda3\\envs\\tensorflow_env\\lib\\site-packages\\sklearn\\linear_model\\_sag.py:330: ConvergenceWarning: The max_iter was reached which means the coef_ did not converge\n",
      "  \"the coef_ did not converge\", ConvergenceWarning)\n",
      "C:\\Users\\adria\\anaconda3\\envs\\tensorflow_env\\lib\\site-packages\\sklearn\\model_selection\\_validation.py:552: FitFailedWarning: Estimator fit failed. The score on this train-test partition for these parameters will be set to nan. Details: \n",
      "Traceback (most recent call last):\n",
      "  File \"C:\\Users\\adria\\anaconda3\\envs\\tensorflow_env\\lib\\site-packages\\sklearn\\model_selection\\_validation.py\", line 531, in _fit_and_score\n",
      "    estimator.fit(X_train, y_train, **fit_params)\n",
      "  File \"C:\\Users\\adria\\anaconda3\\envs\\tensorflow_env\\lib\\site-packages\\sklearn\\linear_model\\_logistic.py\", line 1313, in fit\n",
      "    \" got (l1_ratio=%r)\" % self.l1_ratio)\n",
      "ValueError: l1_ratio must be between 0 and 1; got (l1_ratio=None)\n",
      "\n",
      "  FitFailedWarning)\n",
      "C:\\Users\\adria\\anaconda3\\envs\\tensorflow_env\\lib\\site-packages\\sklearn\\linear_model\\_logistic.py:1321: UserWarning: Setting penalty='none' will ignore the C and l1_ratio parameters\n",
      "  \"Setting penalty='none' will ignore the C and l1_ratio \"\n"
     ]
    },
    {
     "name": "stdout",
     "output_type": "stream",
     "text": [
      "[CV] .............. C=100000.0, penalty=l2, solver=saga, total=   2.3s\n",
      "[CV] C=100000.0, penalty=elasticnet, solver=saga .....................\n",
      "[CV] ...... C=100000.0, penalty=elasticnet, solver=saga, total=   0.0s\n",
      "[CV] C=100000.0, penalty=elasticnet, solver=saga .....................\n",
      "[CV] ...... C=100000.0, penalty=elasticnet, solver=saga, total=   0.0s\n",
      "[CV] C=100000.0, penalty=elasticnet, solver=saga .....................\n",
      "[CV] ...... C=100000.0, penalty=elasticnet, solver=saga, total=   0.0s\n",
      "[CV] C=100000.0, penalty=elasticnet, solver=saga .....................\n",
      "[CV] ...... C=100000.0, penalty=elasticnet, solver=saga, total=   0.0s\n",
      "[CV] C=100000.0, penalty=elasticnet, solver=saga .....................\n",
      "[CV] ...... C=100000.0, penalty=elasticnet, solver=saga, total=   0.0s\n",
      "[CV] C=100000.0, penalty=none, solver=saga ...........................\n"
     ]
    },
    {
     "name": "stderr",
     "output_type": "stream",
     "text": [
      "C:\\Users\\adria\\anaconda3\\envs\\tensorflow_env\\lib\\site-packages\\sklearn\\linear_model\\_sag.py:330: ConvergenceWarning: The max_iter was reached which means the coef_ did not converge\n",
      "  \"the coef_ did not converge\", ConvergenceWarning)\n",
      "C:\\Users\\adria\\anaconda3\\envs\\tensorflow_env\\lib\\site-packages\\sklearn\\linear_model\\_logistic.py:1321: UserWarning: Setting penalty='none' will ignore the C and l1_ratio parameters\n",
      "  \"Setting penalty='none' will ignore the C and l1_ratio \"\n"
     ]
    },
    {
     "name": "stdout",
     "output_type": "stream",
     "text": [
      "[CV] ............ C=100000.0, penalty=none, solver=saga, total=   2.4s\n",
      "[CV] C=100000.0, penalty=none, solver=saga ...........................\n"
     ]
    },
    {
     "name": "stderr",
     "output_type": "stream",
     "text": [
      "C:\\Users\\adria\\anaconda3\\envs\\tensorflow_env\\lib\\site-packages\\sklearn\\linear_model\\_sag.py:330: ConvergenceWarning: The max_iter was reached which means the coef_ did not converge\n",
      "  \"the coef_ did not converge\", ConvergenceWarning)\n",
      "C:\\Users\\adria\\anaconda3\\envs\\tensorflow_env\\lib\\site-packages\\sklearn\\linear_model\\_logistic.py:1321: UserWarning: Setting penalty='none' will ignore the C and l1_ratio parameters\n",
      "  \"Setting penalty='none' will ignore the C and l1_ratio \"\n"
     ]
    },
    {
     "name": "stdout",
     "output_type": "stream",
     "text": [
      "[CV] ............ C=100000.0, penalty=none, solver=saga, total=   2.6s\n",
      "[CV] C=100000.0, penalty=none, solver=saga ...........................\n"
     ]
    },
    {
     "name": "stderr",
     "output_type": "stream",
     "text": [
      "C:\\Users\\adria\\anaconda3\\envs\\tensorflow_env\\lib\\site-packages\\sklearn\\linear_model\\_sag.py:330: ConvergenceWarning: The max_iter was reached which means the coef_ did not converge\n",
      "  \"the coef_ did not converge\", ConvergenceWarning)\n",
      "C:\\Users\\adria\\anaconda3\\envs\\tensorflow_env\\lib\\site-packages\\sklearn\\linear_model\\_logistic.py:1321: UserWarning: Setting penalty='none' will ignore the C and l1_ratio parameters\n",
      "  \"Setting penalty='none' will ignore the C and l1_ratio \"\n"
     ]
    },
    {
     "name": "stdout",
     "output_type": "stream",
     "text": [
      "[CV] ............ C=100000.0, penalty=none, solver=saga, total=   2.4s\n",
      "[CV] C=100000.0, penalty=none, solver=saga ...........................\n"
     ]
    },
    {
     "name": "stderr",
     "output_type": "stream",
     "text": [
      "C:\\Users\\adria\\anaconda3\\envs\\tensorflow_env\\lib\\site-packages\\sklearn\\linear_model\\_sag.py:330: ConvergenceWarning: The max_iter was reached which means the coef_ did not converge\n",
      "  \"the coef_ did not converge\", ConvergenceWarning)\n",
      "C:\\Users\\adria\\anaconda3\\envs\\tensorflow_env\\lib\\site-packages\\sklearn\\linear_model\\_logistic.py:1321: UserWarning: Setting penalty='none' will ignore the C and l1_ratio parameters\n",
      "  \"Setting penalty='none' will ignore the C and l1_ratio \"\n"
     ]
    },
    {
     "name": "stdout",
     "output_type": "stream",
     "text": [
      "[CV] ............ C=100000.0, penalty=none, solver=saga, total=   2.4s\n",
      "[CV] C=100000.0, penalty=none, solver=saga ...........................\n"
     ]
    },
    {
     "name": "stderr",
     "output_type": "stream",
     "text": [
      "C:\\Users\\adria\\anaconda3\\envs\\tensorflow_env\\lib\\site-packages\\sklearn\\linear_model\\_sag.py:330: ConvergenceWarning: The max_iter was reached which means the coef_ did not converge\n",
      "  \"the coef_ did not converge\", ConvergenceWarning)\n",
      "[Parallel(n_jobs=1)]: Done 270 out of 270 | elapsed:  5.6min finished\n"
     ]
    },
    {
     "name": "stdout",
     "output_type": "stream",
     "text": [
      "[CV] ............ C=100000.0, penalty=none, solver=saga, total=   2.3s\n"
     ]
    },
    {
     "data": {
      "text/plain": [
       "GridSearchCV(estimator=LogisticRegression(class_weight={0: 0.16666666666666666},\n",
       "                                          max_iter=400),\n",
       "             param_grid=[{'C': [1, 10, 100, 1000.0, 10000.0, 100000.0],\n",
       "                          'penalty': ['l2'],\n",
       "                          'solver': ['newton-cg', 'lbfgs', 'sag']},\n",
       "                         {'C': [1, 10, 100, 1000.0, 10000.0, 100000.0],\n",
       "                          'penalty': ['l1', 'l2'], 'solver': ['liblinear']},\n",
       "                         {'C': [1, 10, 100, 1000.0, 10000.0, 100000.0],\n",
       "                          'penalty': ['l1', 'l2', 'elasticnet', 'none'],\n",
       "                          'solver': ['saga']}],\n",
       "             scoring='recall', verbose=2)"
      ]
     },
     "execution_count": 39,
     "metadata": {},
     "output_type": "execute_result"
    }
   ],
   "source": [
    "param_grid = [\n",
    "                {'solver': [ 'newton-cg', 'lbfgs',  'sag'],\n",
    "                     'penalty': [ 'l2'], \n",
    "                     'C': [1, 10, 100, 1e3,1e4,1e5]},\n",
    "                {'solver': ['liblinear'], \n",
    "                     'C': [1, 10, 100, 1e3,1e4,1e5], \n",
    "                     'penalty': [ 'l1', 'l2']},\n",
    "                {'solver': ['saga'], \n",
    "                     'C': [1, 10, 100, 1e3,1e4,1e5], \n",
    "                     'penalty': [ 'l1', 'l2','elasticnet','none']} \n",
    "             ]\n",
    "\n",
    "grid = GridSearchCV(LogisticRegression(max_iter =400,class_weight={0:1/6} ),param_grid,scoring='recall',refit=True,verbose=2)\n",
    "grid.fit(X_train,y_train.ravel())"
   ]
  },
  {
   "cell_type": "code",
   "execution_count": 40,
   "metadata": {},
   "outputs": [
    {
     "name": "stdout",
     "output_type": "stream",
     "text": [
      "\n",
      "Hyperparameters for best estimator:  LogisticRegression(C=10000.0, class_weight={0: 0.16666666666666666},\n",
      "                   max_iter=400, penalty='l1', solver='liblinear')\n",
      "\n",
      "Logistic Regression Accuracy: 0.9386160714285714\n",
      "\n",
      "Logistic Regression  Classification Report:\n",
      "              precision    recall  f1-score   support\n",
      "\n",
      "           0       0.99      0.93      0.96      8215\n",
      "           1       0.74      0.97      0.84      1641\n",
      "\n",
      "    accuracy                           0.94      9856\n",
      "   macro avg       0.87      0.95      0.90      9856\n",
      "weighted avg       0.95      0.94      0.94      9856\n",
      "\n"
     ]
    }
   ],
   "source": [
    "y_hat = grid.predict(X_test)\n",
    "\n",
    "print('\\nHyperparameters for best estimator: ',grid.best_estimator_)\n",
    "print(\"\\nLogistic Regression Accuracy:\",metrics.accuracy_score(y_test, y_hat))\n",
    "print (\"\\nLogistic Regression  Classification Report:\")\n",
    "print(metrics.classification_report(y_test,y_hat))"
   ]
  },
  {
   "cell_type": "code",
   "execution_count": 42,
   "metadata": {},
   "outputs": [
    {
     "data": {
      "image/png": "[encoded data removed]",
      "text/plain": [
       "<Figure size 432x288 with 1 Axes>"
      ]
     },
     "metadata": {
      "needs_background": "light"
     },
     "output_type": "display_data"
    }
   ],
   "source": [
    "# plot Logistic Regression ROC curve\n",
    "roc = metrics.roc_auc_score(y_test, y_hat) \n",
    "fpr, tpr, thresholds = metrics.roc_curve(y_test, y_hat) \n",
    "roc_auc = auc(fpr,tpr)\n",
    "\n",
    "plt.title('Logistic Regression Receiver Operating Characteristic')\n",
    "plt.plot(fpr, tpr, 'b',label='AUC = %0.2f'% roc_auc)\n",
    "plt.legend(loc='lower right')\n",
    "plt.plot([0,1],[0,1],'r--')\n",
    "plt.xlim([-0.1,1.0])\n",
    "plt.ylim([-0.1,1.01])\n",
    "plt.ylabel('True Positive Rate')\n",
    "plt.xlabel('False Positive Rate')\n",
    "plt.show()"
   ]
  },
  {
   "cell_type": "markdown",
   "metadata": {},
   "source": [
    "The Logistic Regression model and SVC model both have a high Recall metric of 97%. Both models have an AUC of 0.95. Given the potential high cost of fraud, one recommendation would be to use an ensemble of both models, and consider the transaction a fraud if either model predicts a fraud."
   ]
  }
 ],
 "metadata": {
  "kernelspec": {
   "display_name": "Python 3",
   "language": "python",
   "name": "python3"
  },
  "language_info": {
   "codemirror_mode": {
    "name": "ipython",
    "version": 3
   },
   "file_extension": ".py",
   "mimetype": "text/x-python",
   "name": "python",
   "nbconvert_exporter": "python",
   "pygments_lexer": "ipython3",
   "version": "3.6.12"
  }
 },
 "nbformat": 4,
 "nbformat_minor": 4
}
